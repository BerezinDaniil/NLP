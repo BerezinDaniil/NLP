{
  "nbformat": 4,
  "nbformat_minor": 0,
  "metadata": {
    "colab": {
      "provenance": []
    },
    "kernelspec": {
      "name": "python3",
      "display_name": "Python 3"
    },
    "language_info": {
      "name": "python"
    },
    "gpuClass": "standard",
    "accelerator": "GPU"
  },
  "cells": [
    {
      "cell_type": "code",
      "execution_count": 1,
      "metadata": {
        "colab": {
          "base_uri": "https://localhost:8080/"
        },
        "id": "1E4UvR-eIuCb",
        "outputId": "2598c373-f98c-4ede-c807-9c109b3b7d09"
      },
      "outputs": [
        {
          "output_type": "stream",
          "name": "stdout",
          "text": [
            "Looking in indexes: https://pypi.org/simple, https://us-python.pkg.dev/colab-wheels/public/simple/\n",
            "Collecting pymorphy2\n",
            "  Downloading pymorphy2-0.9.1-py3-none-any.whl (55 kB)\n",
            "\u001b[2K     \u001b[90m━━━━━━━━━━━━━━━━━━━━━━━━━━━━━━━━━━━━━━━━\u001b[0m \u001b[32m55.5/55.5 KB\u001b[0m \u001b[31m4.6 MB/s\u001b[0m eta \u001b[36m0:00:00\u001b[0m\n",
            "\u001b[?25hCollecting dawg-python>=0.7.1\n",
            "  Downloading DAWG_Python-0.7.2-py2.py3-none-any.whl (11 kB)\n",
            "Collecting docopt>=0.6\n",
            "  Downloading docopt-0.6.2.tar.gz (25 kB)\n",
            "  Preparing metadata (setup.py) ... \u001b[?25l\u001b[?25hdone\n",
            "Collecting pymorphy2-dicts-ru<3.0,>=2.4\n",
            "  Downloading pymorphy2_dicts_ru-2.4.417127.4579844-py2.py3-none-any.whl (8.2 MB)\n",
            "\u001b[2K     \u001b[90m━━━━━━━━━━━━━━━━━━━━━━━━━━━━━━━━━━━━━━━━\u001b[0m \u001b[32m8.2/8.2 MB\u001b[0m \u001b[31m93.2 MB/s\u001b[0m eta \u001b[36m0:00:00\u001b[0m\n",
            "\u001b[?25hBuilding wheels for collected packages: docopt\n",
            "  Building wheel for docopt (setup.py) ... \u001b[?25l\u001b[?25hdone\n",
            "  Created wheel for docopt: filename=docopt-0.6.2-py2.py3-none-any.whl size=13723 sha256=955561473eeda20aa668f979a4e4ca0ca3d6d46453b184997cabc39caf404314\n",
            "  Stored in directory: /root/.cache/pip/wheels/70/4a/46/1309fc853b8d395e60bafaf1b6df7845bdd82c95fd59dd8d2b\n",
            "Successfully built docopt\n",
            "Installing collected packages: pymorphy2-dicts-ru, docopt, dawg-python, pymorphy2\n",
            "Successfully installed dawg-python-0.7.2 docopt-0.6.2 pymorphy2-0.9.1 pymorphy2-dicts-ru-2.4.417127.4579844\n"
          ]
        },
        {
          "output_type": "stream",
          "name": "stderr",
          "text": [
            "[nltk_data] Downloading package stopwords to /root/nltk_data...\n",
            "[nltk_data]   Unzipping corpora/stopwords.zip.\n"
          ]
        }
      ],
      "source": [
        "import pandas as pd\n",
        "import numpy as np\n",
        "import random\n",
        "import seaborn as sns\n",
        "import matplotlib.pyplot as plt\n",
        "%matplotlib inline\n",
        "\n",
        "!pip install pymorphy2\n",
        "import re\n",
        "from pymorphy2 import MorphAnalyzer\n",
        "from functools import lru_cache\n",
        "from nltk.corpus import stopwords\n",
        "\n",
        "from multiprocessing import Pool\n",
        "from tqdm import tqdm\n",
        "\n",
        "import nltk\n",
        "nltk.download('stopwords')\n",
        "\n",
        "np.random.seed(42)\n",
        "random.seed(42)"
      ]
    },
    {
      "cell_type": "code",
      "source": [
        "import warnings\n",
        "warnings.filterwarnings('ignore')"
      ],
      "metadata": {
        "id": "vSUK8Qs53JpK"
      },
      "execution_count": 2,
      "outputs": []
    },
    {
      "cell_type": "markdown",
      "source": [
        "# Работа с данными"
      ],
      "metadata": {
        "id": "bDLIOEPNI6tl"
      }
    },
    {
      "cell_type": "code",
      "source": [
        "#train\n",
        "train = pd.read_csv('/content/B_train.csv')\n",
        "#val\n",
        "val = pd.read_csv('/content/B_val.csv')\n",
        "#test\n",
        "test = pd.read_csv('/content/B_test.csv')"
      ],
      "metadata": {
        "id": "knJcUrVYI36r"
      },
      "execution_count": 4,
      "outputs": []
    },
    {
      "cell_type": "code",
      "source": [
        "test"
      ],
      "metadata": {
        "colab": {
          "base_uri": "https://localhost:8080/",
          "height": 424
        },
        "id": "pncpOfZlJQfD",
        "outputId": "c1149f92-ee2e-46c8-fdb4-ff456a2e9c19"
      },
      "execution_count": 5,
      "outputs": [
        {
          "output_type": "execute_result",
          "data": {
            "text/plain": [
              "                                                 title  \\\n",
              "0    Mexican Army Raids Cartel Military Bunker Righ...   \n",
              "1    Bernie Sanders Doubles Down on Defense of Cuba...   \n",
              "2    Projection Surprise: Democrats Are the Villain...   \n",
              "3    Behind the Scenes: Democrat Party in Total Pan...   \n",
              "4    CBS Reporter Lara Logan Blows the Lid Off Libe...   \n",
              "..                                                 ...   \n",
              "916  Donald Trump’s Mother Accused Him Of Having Do...   \n",
              "917  New Questions About Mike Pence’s Health After ...   \n",
              "918  Devastating New Campaign Ad Portrays Trump As ...   \n",
              "919  25th Amendment? Don Jr. Tells His Siblings The...   \n",
              "920  Up Next For Sean Hannity: Obstruction Of Justi...   \n",
              "\n",
              "                                               content  label  \n",
              "0    Mexico is a failed narco-state. The country’s ...  right  \n",
              "1    In a 60 Minutes interview Anderson Cooper aske...  right  \n",
              "2    New York Governor Andrew Cuomo (D-Obviously) h...  right  \n",
              "3    Behind the Scenes: Democrat Party in Total Pan...  right  \n",
              "4    South African news correspondent and investiga...  right  \n",
              "..                                                 ...    ...  \n",
              "916  It’s no stretch to call Donald Trump the bigge...   left  \n",
              "917  On Wednesday evening, we’ll get to witness the...   left  \n",
              "918  Donald Trump’s massive incompetence and failur...   left  \n",
              "919  The bizarre joyride Donald Trump took on Sunda...   left  \n",
              "920  Fox News host Sean Hannity is in quite a mess ...   left  \n",
              "\n",
              "[921 rows x 3 columns]"
            ],
            "text/html": [
              "\n",
              "  <div id=\"df-3ba8e98a-e46c-4a34-bbb8-3a063f0a3479\">\n",
              "    <div class=\"colab-df-container\">\n",
              "      <div>\n",
              "<style scoped>\n",
              "    .dataframe tbody tr th:only-of-type {\n",
              "        vertical-align: middle;\n",
              "    }\n",
              "\n",
              "    .dataframe tbody tr th {\n",
              "        vertical-align: top;\n",
              "    }\n",
              "\n",
              "    .dataframe thead th {\n",
              "        text-align: right;\n",
              "    }\n",
              "</style>\n",
              "<table border=\"1\" class=\"dataframe\">\n",
              "  <thead>\n",
              "    <tr style=\"text-align: right;\">\n",
              "      <th></th>\n",
              "      <th>title</th>\n",
              "      <th>content</th>\n",
              "      <th>label</th>\n",
              "    </tr>\n",
              "  </thead>\n",
              "  <tbody>\n",
              "    <tr>\n",
              "      <th>0</th>\n",
              "      <td>Mexican Army Raids Cartel Military Bunker Righ...</td>\n",
              "      <td>Mexico is a failed narco-state. The country’s ...</td>\n",
              "      <td>right</td>\n",
              "    </tr>\n",
              "    <tr>\n",
              "      <th>1</th>\n",
              "      <td>Bernie Sanders Doubles Down on Defense of Cuba...</td>\n",
              "      <td>In a 60 Minutes interview Anderson Cooper aske...</td>\n",
              "      <td>right</td>\n",
              "    </tr>\n",
              "    <tr>\n",
              "      <th>2</th>\n",
              "      <td>Projection Surprise: Democrats Are the Villain...</td>\n",
              "      <td>New York Governor Andrew Cuomo (D-Obviously) h...</td>\n",
              "      <td>right</td>\n",
              "    </tr>\n",
              "    <tr>\n",
              "      <th>3</th>\n",
              "      <td>Behind the Scenes: Democrat Party in Total Pan...</td>\n",
              "      <td>Behind the Scenes: Democrat Party in Total Pan...</td>\n",
              "      <td>right</td>\n",
              "    </tr>\n",
              "    <tr>\n",
              "      <th>4</th>\n",
              "      <td>CBS Reporter Lara Logan Blows the Lid Off Libe...</td>\n",
              "      <td>South African news correspondent and investiga...</td>\n",
              "      <td>right</td>\n",
              "    </tr>\n",
              "    <tr>\n",
              "      <th>...</th>\n",
              "      <td>...</td>\n",
              "      <td>...</td>\n",
              "      <td>...</td>\n",
              "    </tr>\n",
              "    <tr>\n",
              "      <th>916</th>\n",
              "      <td>Donald Trump’s Mother Accused Him Of Having Do...</td>\n",
              "      <td>It’s no stretch to call Donald Trump the bigge...</td>\n",
              "      <td>left</td>\n",
              "    </tr>\n",
              "    <tr>\n",
              "      <th>917</th>\n",
              "      <td>New Questions About Mike Pence’s Health After ...</td>\n",
              "      <td>On Wednesday evening, we’ll get to witness the...</td>\n",
              "      <td>left</td>\n",
              "    </tr>\n",
              "    <tr>\n",
              "      <th>918</th>\n",
              "      <td>Devastating New Campaign Ad Portrays Trump As ...</td>\n",
              "      <td>Donald Trump’s massive incompetence and failur...</td>\n",
              "      <td>left</td>\n",
              "    </tr>\n",
              "    <tr>\n",
              "      <th>919</th>\n",
              "      <td>25th Amendment? Don Jr. Tells His Siblings The...</td>\n",
              "      <td>The bizarre joyride Donald Trump took on Sunda...</td>\n",
              "      <td>left</td>\n",
              "    </tr>\n",
              "    <tr>\n",
              "      <th>920</th>\n",
              "      <td>Up Next For Sean Hannity: Obstruction Of Justi...</td>\n",
              "      <td>Fox News host Sean Hannity is in quite a mess ...</td>\n",
              "      <td>left</td>\n",
              "    </tr>\n",
              "  </tbody>\n",
              "</table>\n",
              "<p>921 rows × 3 columns</p>\n",
              "</div>\n",
              "      <button class=\"colab-df-convert\" onclick=\"convertToInteractive('df-3ba8e98a-e46c-4a34-bbb8-3a063f0a3479')\"\n",
              "              title=\"Convert this dataframe to an interactive table.\"\n",
              "              style=\"display:none;\">\n",
              "        \n",
              "  <svg xmlns=\"http://www.w3.org/2000/svg\" height=\"24px\"viewBox=\"0 0 24 24\"\n",
              "       width=\"24px\">\n",
              "    <path d=\"M0 0h24v24H0V0z\" fill=\"none\"/>\n",
              "    <path d=\"M18.56 5.44l.94 2.06.94-2.06 2.06-.94-2.06-.94-.94-2.06-.94 2.06-2.06.94zm-11 1L8.5 8.5l.94-2.06 2.06-.94-2.06-.94L8.5 2.5l-.94 2.06-2.06.94zm10 10l.94 2.06.94-2.06 2.06-.94-2.06-.94-.94-2.06-.94 2.06-2.06.94z\"/><path d=\"M17.41 7.96l-1.37-1.37c-.4-.4-.92-.59-1.43-.59-.52 0-1.04.2-1.43.59L10.3 9.45l-7.72 7.72c-.78.78-.78 2.05 0 2.83L4 21.41c.39.39.9.59 1.41.59.51 0 1.02-.2 1.41-.59l7.78-7.78 2.81-2.81c.8-.78.8-2.07 0-2.86zM5.41 20L4 18.59l7.72-7.72 1.47 1.35L5.41 20z\"/>\n",
              "  </svg>\n",
              "      </button>\n",
              "      \n",
              "  <style>\n",
              "    .colab-df-container {\n",
              "      display:flex;\n",
              "      flex-wrap:wrap;\n",
              "      gap: 12px;\n",
              "    }\n",
              "\n",
              "    .colab-df-convert {\n",
              "      background-color: #E8F0FE;\n",
              "      border: none;\n",
              "      border-radius: 50%;\n",
              "      cursor: pointer;\n",
              "      display: none;\n",
              "      fill: #1967D2;\n",
              "      height: 32px;\n",
              "      padding: 0 0 0 0;\n",
              "      width: 32px;\n",
              "    }\n",
              "\n",
              "    .colab-df-convert:hover {\n",
              "      background-color: #E2EBFA;\n",
              "      box-shadow: 0px 1px 2px rgba(60, 64, 67, 0.3), 0px 1px 3px 1px rgba(60, 64, 67, 0.15);\n",
              "      fill: #174EA6;\n",
              "    }\n",
              "\n",
              "    [theme=dark] .colab-df-convert {\n",
              "      background-color: #3B4455;\n",
              "      fill: #D2E3FC;\n",
              "    }\n",
              "\n",
              "    [theme=dark] .colab-df-convert:hover {\n",
              "      background-color: #434B5C;\n",
              "      box-shadow: 0px 1px 3px 1px rgba(0, 0, 0, 0.15);\n",
              "      filter: drop-shadow(0px 1px 2px rgba(0, 0, 0, 0.3));\n",
              "      fill: #FFFFFF;\n",
              "    }\n",
              "  </style>\n",
              "\n",
              "      <script>\n",
              "        const buttonEl =\n",
              "          document.querySelector('#df-3ba8e98a-e46c-4a34-bbb8-3a063f0a3479 button.colab-df-convert');\n",
              "        buttonEl.style.display =\n",
              "          google.colab.kernel.accessAllowed ? 'block' : 'none';\n",
              "\n",
              "        async function convertToInteractive(key) {\n",
              "          const element = document.querySelector('#df-3ba8e98a-e46c-4a34-bbb8-3a063f0a3479');\n",
              "          const dataTable =\n",
              "            await google.colab.kernel.invokeFunction('convertToInteractive',\n",
              "                                                     [key], {});\n",
              "          if (!dataTable) return;\n",
              "\n",
              "          const docLinkHtml = 'Like what you see? Visit the ' +\n",
              "            '<a target=\"_blank\" href=https://colab.research.google.com/notebooks/data_table.ipynb>data table notebook</a>'\n",
              "            + ' to learn more about interactive tables.';\n",
              "          element.innerHTML = '';\n",
              "          dataTable['output_type'] = 'display_data';\n",
              "          await google.colab.output.renderOutput(dataTable, element);\n",
              "          const docLink = document.createElement('div');\n",
              "          docLink.innerHTML = docLinkHtml;\n",
              "          element.appendChild(docLink);\n",
              "        }\n",
              "      </script>\n",
              "    </div>\n",
              "  </div>\n",
              "  "
            ]
          },
          "metadata": {},
          "execution_count": 5
        }
      ]
    },
    {
      "cell_type": "code",
      "source": [
        "data = train.append(val)\n",
        "data = data.append(test)\n",
        "data.shape"
      ],
      "metadata": {
        "colab": {
          "base_uri": "https://localhost:8080/"
        },
        "id": "lV-dEPcLzlJO",
        "outputId": "7924f5ec-940c-4d85-8133-eeedfa8bcdd7"
      },
      "execution_count": 6,
      "outputs": [
        {
          "output_type": "execute_result",
          "data": {
            "text/plain": [
              "(9139, 3)"
            ]
          },
          "metadata": {},
          "execution_count": 6
        }
      ]
    },
    {
      "cell_type": "code",
      "source": [
        "data"
      ],
      "metadata": {
        "colab": {
          "base_uri": "https://localhost:8080/",
          "height": 424
        },
        "id": "awWx3Ph9zs0T",
        "outputId": "9d53bdbc-9ab2-4488-8e34-5f2e68688c06"
      },
      "execution_count": 7,
      "outputs": [
        {
          "output_type": "execute_result",
          "data": {
            "text/plain": [
              "                                                 title  \\\n",
              "0                                   Election Integrity   \n",
              "1                   It's Time to Junk \"Junk Insurance\"   \n",
              "2    Republicans Want to Steal This Election for Tr...   \n",
              "3    Mitch McConnell’s True Colors May Finally Sink...   \n",
              "4    Trump Gone, But the Right-Wing Leadership Inst...   \n",
              "..                                                 ...   \n",
              "916  Donald Trump’s Mother Accused Him Of Having Do...   \n",
              "917  New Questions About Mike Pence’s Health After ...   \n",
              "918  Devastating New Campaign Ad Portrays Trump As ...   \n",
              "919  25th Amendment? Don Jr. Tells His Siblings The...   \n",
              "920  Up Next For Sean Hannity: Obstruction Of Justi...   \n",
              "\n",
              "                                               content label  \n",
              "0    Some academics and pundits have been postulati...  left  \n",
              "1    About four years ago, I was a 40 year old heal...  left  \n",
              "2    — from Salon\\n\\nDonald Trump is still trying t...  left  \n",
              "3    If you’re listening to politicians, you hear t...  left  \n",
              "4    We’re familiar with Fox, the TV propaganda arm...  left  \n",
              "..                                                 ...   ...  \n",
              "916  It’s no stretch to call Donald Trump the bigge...  left  \n",
              "917  On Wednesday evening, we’ll get to witness the...  left  \n",
              "918  Donald Trump’s massive incompetence and failur...  left  \n",
              "919  The bizarre joyride Donald Trump took on Sunda...  left  \n",
              "920  Fox News host Sean Hannity is in quite a mess ...  left  \n",
              "\n",
              "[9139 rows x 3 columns]"
            ],
            "text/html": [
              "\n",
              "  <div id=\"df-57930d57-51b6-45ac-a366-ec070fdaa769\">\n",
              "    <div class=\"colab-df-container\">\n",
              "      <div>\n",
              "<style scoped>\n",
              "    .dataframe tbody tr th:only-of-type {\n",
              "        vertical-align: middle;\n",
              "    }\n",
              "\n",
              "    .dataframe tbody tr th {\n",
              "        vertical-align: top;\n",
              "    }\n",
              "\n",
              "    .dataframe thead th {\n",
              "        text-align: right;\n",
              "    }\n",
              "</style>\n",
              "<table border=\"1\" class=\"dataframe\">\n",
              "  <thead>\n",
              "    <tr style=\"text-align: right;\">\n",
              "      <th></th>\n",
              "      <th>title</th>\n",
              "      <th>content</th>\n",
              "      <th>label</th>\n",
              "    </tr>\n",
              "  </thead>\n",
              "  <tbody>\n",
              "    <tr>\n",
              "      <th>0</th>\n",
              "      <td>Election Integrity</td>\n",
              "      <td>Some academics and pundits have been postulati...</td>\n",
              "      <td>left</td>\n",
              "    </tr>\n",
              "    <tr>\n",
              "      <th>1</th>\n",
              "      <td>It's Time to Junk \"Junk Insurance\"</td>\n",
              "      <td>About four years ago, I was a 40 year old heal...</td>\n",
              "      <td>left</td>\n",
              "    </tr>\n",
              "    <tr>\n",
              "      <th>2</th>\n",
              "      <td>Republicans Want to Steal This Election for Tr...</td>\n",
              "      <td>— from Salon\\n\\nDonald Trump is still trying t...</td>\n",
              "      <td>left</td>\n",
              "    </tr>\n",
              "    <tr>\n",
              "      <th>3</th>\n",
              "      <td>Mitch McConnell’s True Colors May Finally Sink...</td>\n",
              "      <td>If you’re listening to politicians, you hear t...</td>\n",
              "      <td>left</td>\n",
              "    </tr>\n",
              "    <tr>\n",
              "      <th>4</th>\n",
              "      <td>Trump Gone, But the Right-Wing Leadership Inst...</td>\n",
              "      <td>We’re familiar with Fox, the TV propaganda arm...</td>\n",
              "      <td>left</td>\n",
              "    </tr>\n",
              "    <tr>\n",
              "      <th>...</th>\n",
              "      <td>...</td>\n",
              "      <td>...</td>\n",
              "      <td>...</td>\n",
              "    </tr>\n",
              "    <tr>\n",
              "      <th>916</th>\n",
              "      <td>Donald Trump’s Mother Accused Him Of Having Do...</td>\n",
              "      <td>It’s no stretch to call Donald Trump the bigge...</td>\n",
              "      <td>left</td>\n",
              "    </tr>\n",
              "    <tr>\n",
              "      <th>917</th>\n",
              "      <td>New Questions About Mike Pence’s Health After ...</td>\n",
              "      <td>On Wednesday evening, we’ll get to witness the...</td>\n",
              "      <td>left</td>\n",
              "    </tr>\n",
              "    <tr>\n",
              "      <th>918</th>\n",
              "      <td>Devastating New Campaign Ad Portrays Trump As ...</td>\n",
              "      <td>Donald Trump’s massive incompetence and failur...</td>\n",
              "      <td>left</td>\n",
              "    </tr>\n",
              "    <tr>\n",
              "      <th>919</th>\n",
              "      <td>25th Amendment? Don Jr. Tells His Siblings The...</td>\n",
              "      <td>The bizarre joyride Donald Trump took on Sunda...</td>\n",
              "      <td>left</td>\n",
              "    </tr>\n",
              "    <tr>\n",
              "      <th>920</th>\n",
              "      <td>Up Next For Sean Hannity: Obstruction Of Justi...</td>\n",
              "      <td>Fox News host Sean Hannity is in quite a mess ...</td>\n",
              "      <td>left</td>\n",
              "    </tr>\n",
              "  </tbody>\n",
              "</table>\n",
              "<p>9139 rows × 3 columns</p>\n",
              "</div>\n",
              "      <button class=\"colab-df-convert\" onclick=\"convertToInteractive('df-57930d57-51b6-45ac-a366-ec070fdaa769')\"\n",
              "              title=\"Convert this dataframe to an interactive table.\"\n",
              "              style=\"display:none;\">\n",
              "        \n",
              "  <svg xmlns=\"http://www.w3.org/2000/svg\" height=\"24px\"viewBox=\"0 0 24 24\"\n",
              "       width=\"24px\">\n",
              "    <path d=\"M0 0h24v24H0V0z\" fill=\"none\"/>\n",
              "    <path d=\"M18.56 5.44l.94 2.06.94-2.06 2.06-.94-2.06-.94-.94-2.06-.94 2.06-2.06.94zm-11 1L8.5 8.5l.94-2.06 2.06-.94-2.06-.94L8.5 2.5l-.94 2.06-2.06.94zm10 10l.94 2.06.94-2.06 2.06-.94-2.06-.94-.94-2.06-.94 2.06-2.06.94z\"/><path d=\"M17.41 7.96l-1.37-1.37c-.4-.4-.92-.59-1.43-.59-.52 0-1.04.2-1.43.59L10.3 9.45l-7.72 7.72c-.78.78-.78 2.05 0 2.83L4 21.41c.39.39.9.59 1.41.59.51 0 1.02-.2 1.41-.59l7.78-7.78 2.81-2.81c.8-.78.8-2.07 0-2.86zM5.41 20L4 18.59l7.72-7.72 1.47 1.35L5.41 20z\"/>\n",
              "  </svg>\n",
              "      </button>\n",
              "      \n",
              "  <style>\n",
              "    .colab-df-container {\n",
              "      display:flex;\n",
              "      flex-wrap:wrap;\n",
              "      gap: 12px;\n",
              "    }\n",
              "\n",
              "    .colab-df-convert {\n",
              "      background-color: #E8F0FE;\n",
              "      border: none;\n",
              "      border-radius: 50%;\n",
              "      cursor: pointer;\n",
              "      display: none;\n",
              "      fill: #1967D2;\n",
              "      height: 32px;\n",
              "      padding: 0 0 0 0;\n",
              "      width: 32px;\n",
              "    }\n",
              "\n",
              "    .colab-df-convert:hover {\n",
              "      background-color: #E2EBFA;\n",
              "      box-shadow: 0px 1px 2px rgba(60, 64, 67, 0.3), 0px 1px 3px 1px rgba(60, 64, 67, 0.15);\n",
              "      fill: #174EA6;\n",
              "    }\n",
              "\n",
              "    [theme=dark] .colab-df-convert {\n",
              "      background-color: #3B4455;\n",
              "      fill: #D2E3FC;\n",
              "    }\n",
              "\n",
              "    [theme=dark] .colab-df-convert:hover {\n",
              "      background-color: #434B5C;\n",
              "      box-shadow: 0px 1px 3px 1px rgba(0, 0, 0, 0.15);\n",
              "      filter: drop-shadow(0px 1px 2px rgba(0, 0, 0, 0.3));\n",
              "      fill: #FFFFFF;\n",
              "    }\n",
              "  </style>\n",
              "\n",
              "      <script>\n",
              "        const buttonEl =\n",
              "          document.querySelector('#df-57930d57-51b6-45ac-a366-ec070fdaa769 button.colab-df-convert');\n",
              "        buttonEl.style.display =\n",
              "          google.colab.kernel.accessAllowed ? 'block' : 'none';\n",
              "\n",
              "        async function convertToInteractive(key) {\n",
              "          const element = document.querySelector('#df-57930d57-51b6-45ac-a366-ec070fdaa769');\n",
              "          const dataTable =\n",
              "            await google.colab.kernel.invokeFunction('convertToInteractive',\n",
              "                                                     [key], {});\n",
              "          if (!dataTable) return;\n",
              "\n",
              "          const docLinkHtml = 'Like what you see? Visit the ' +\n",
              "            '<a target=\"_blank\" href=https://colab.research.google.com/notebooks/data_table.ipynb>data table notebook</a>'\n",
              "            + ' to learn more about interactive tables.';\n",
              "          element.innerHTML = '';\n",
              "          dataTable['output_type'] = 'display_data';\n",
              "          await google.colab.output.renderOutput(dataTable, element);\n",
              "          const docLink = document.createElement('div');\n",
              "          docLink.innerHTML = docLinkHtml;\n",
              "          element.appendChild(docLink);\n",
              "        }\n",
              "      </script>\n",
              "    </div>\n",
              "  </div>\n",
              "  "
            ]
          },
          "metadata": {},
          "execution_count": 7
        }
      ]
    },
    {
      "cell_type": "markdown",
      "source": [
        "Удаление NaN"
      ],
      "metadata": {
        "id": "uBWrJk7c3NNs"
      }
    },
    {
      "cell_type": "code",
      "source": [
        "train = train.dropna()\n",
        "val = val.dropna()\n",
        "test = test.dropna()\n",
        "data = data.dropna()"
      ],
      "metadata": {
        "id": "eR7D_N_01kH3"
      },
      "execution_count": 7,
      "outputs": []
    },
    {
      "cell_type": "code",
      "source": [
        "data"
      ],
      "metadata": {
        "colab": {
          "base_uri": "https://localhost:8080/",
          "height": 424
        },
        "id": "Td8qb0W51qdQ",
        "outputId": "a3e8c05a-2747-4df0-a1c1-35864b8acfe7"
      },
      "execution_count": 8,
      "outputs": [
        {
          "output_type": "execute_result",
          "data": {
            "text/plain": [
              "                                                 title  \\\n",
              "0                                   Election Integrity   \n",
              "1                   It's Time to Junk \"Junk Insurance\"   \n",
              "2    Republicans Want to Steal This Election for Tr...   \n",
              "3    Mitch McConnell’s True Colors May Finally Sink...   \n",
              "4    Trump Gone, But the Right-Wing Leadership Inst...   \n",
              "..                                                 ...   \n",
              "916  Donald Trump’s Mother Accused Him Of Having Do...   \n",
              "917  New Questions About Mike Pence’s Health After ...   \n",
              "918  Devastating New Campaign Ad Portrays Trump As ...   \n",
              "919  25th Amendment? Don Jr. Tells His Siblings The...   \n",
              "920  Up Next For Sean Hannity: Obstruction Of Justi...   \n",
              "\n",
              "                                               content label  \n",
              "0    Some academics and pundits have been postulati...  left  \n",
              "1    About four years ago, I was a 40 year old heal...  left  \n",
              "2    — from Salon\\n\\nDonald Trump is still trying t...  left  \n",
              "3    If you’re listening to politicians, you hear t...  left  \n",
              "4    We’re familiar with Fox, the TV propaganda arm...  left  \n",
              "..                                                 ...   ...  \n",
              "916  It’s no stretch to call Donald Trump the bigge...  left  \n",
              "917  On Wednesday evening, we’ll get to witness the...  left  \n",
              "918  Donald Trump’s massive incompetence and failur...  left  \n",
              "919  The bizarre joyride Donald Trump took on Sunda...  left  \n",
              "920  Fox News host Sean Hannity is in quite a mess ...  left  \n",
              "\n",
              "[9139 rows x 3 columns]"
            ],
            "text/html": [
              "\n",
              "  <div id=\"df-bf1dc63e-41ee-47a8-a514-857fb4f12108\">\n",
              "    <div class=\"colab-df-container\">\n",
              "      <div>\n",
              "<style scoped>\n",
              "    .dataframe tbody tr th:only-of-type {\n",
              "        vertical-align: middle;\n",
              "    }\n",
              "\n",
              "    .dataframe tbody tr th {\n",
              "        vertical-align: top;\n",
              "    }\n",
              "\n",
              "    .dataframe thead th {\n",
              "        text-align: right;\n",
              "    }\n",
              "</style>\n",
              "<table border=\"1\" class=\"dataframe\">\n",
              "  <thead>\n",
              "    <tr style=\"text-align: right;\">\n",
              "      <th></th>\n",
              "      <th>title</th>\n",
              "      <th>content</th>\n",
              "      <th>label</th>\n",
              "    </tr>\n",
              "  </thead>\n",
              "  <tbody>\n",
              "    <tr>\n",
              "      <th>0</th>\n",
              "      <td>Election Integrity</td>\n",
              "      <td>Some academics and pundits have been postulati...</td>\n",
              "      <td>left</td>\n",
              "    </tr>\n",
              "    <tr>\n",
              "      <th>1</th>\n",
              "      <td>It's Time to Junk \"Junk Insurance\"</td>\n",
              "      <td>About four years ago, I was a 40 year old heal...</td>\n",
              "      <td>left</td>\n",
              "    </tr>\n",
              "    <tr>\n",
              "      <th>2</th>\n",
              "      <td>Republicans Want to Steal This Election for Tr...</td>\n",
              "      <td>— from Salon\\n\\nDonald Trump is still trying t...</td>\n",
              "      <td>left</td>\n",
              "    </tr>\n",
              "    <tr>\n",
              "      <th>3</th>\n",
              "      <td>Mitch McConnell’s True Colors May Finally Sink...</td>\n",
              "      <td>If you’re listening to politicians, you hear t...</td>\n",
              "      <td>left</td>\n",
              "    </tr>\n",
              "    <tr>\n",
              "      <th>4</th>\n",
              "      <td>Trump Gone, But the Right-Wing Leadership Inst...</td>\n",
              "      <td>We’re familiar with Fox, the TV propaganda arm...</td>\n",
              "      <td>left</td>\n",
              "    </tr>\n",
              "    <tr>\n",
              "      <th>...</th>\n",
              "      <td>...</td>\n",
              "      <td>...</td>\n",
              "      <td>...</td>\n",
              "    </tr>\n",
              "    <tr>\n",
              "      <th>916</th>\n",
              "      <td>Donald Trump’s Mother Accused Him Of Having Do...</td>\n",
              "      <td>It’s no stretch to call Donald Trump the bigge...</td>\n",
              "      <td>left</td>\n",
              "    </tr>\n",
              "    <tr>\n",
              "      <th>917</th>\n",
              "      <td>New Questions About Mike Pence’s Health After ...</td>\n",
              "      <td>On Wednesday evening, we’ll get to witness the...</td>\n",
              "      <td>left</td>\n",
              "    </tr>\n",
              "    <tr>\n",
              "      <th>918</th>\n",
              "      <td>Devastating New Campaign Ad Portrays Trump As ...</td>\n",
              "      <td>Donald Trump’s massive incompetence and failur...</td>\n",
              "      <td>left</td>\n",
              "    </tr>\n",
              "    <tr>\n",
              "      <th>919</th>\n",
              "      <td>25th Amendment? Don Jr. Tells His Siblings The...</td>\n",
              "      <td>The bizarre joyride Donald Trump took on Sunda...</td>\n",
              "      <td>left</td>\n",
              "    </tr>\n",
              "    <tr>\n",
              "      <th>920</th>\n",
              "      <td>Up Next For Sean Hannity: Obstruction Of Justi...</td>\n",
              "      <td>Fox News host Sean Hannity is in quite a mess ...</td>\n",
              "      <td>left</td>\n",
              "    </tr>\n",
              "  </tbody>\n",
              "</table>\n",
              "<p>9139 rows × 3 columns</p>\n",
              "</div>\n",
              "      <button class=\"colab-df-convert\" onclick=\"convertToInteractive('df-bf1dc63e-41ee-47a8-a514-857fb4f12108')\"\n",
              "              title=\"Convert this dataframe to an interactive table.\"\n",
              "              style=\"display:none;\">\n",
              "        \n",
              "  <svg xmlns=\"http://www.w3.org/2000/svg\" height=\"24px\"viewBox=\"0 0 24 24\"\n",
              "       width=\"24px\">\n",
              "    <path d=\"M0 0h24v24H0V0z\" fill=\"none\"/>\n",
              "    <path d=\"M18.56 5.44l.94 2.06.94-2.06 2.06-.94-2.06-.94-.94-2.06-.94 2.06-2.06.94zm-11 1L8.5 8.5l.94-2.06 2.06-.94-2.06-.94L8.5 2.5l-.94 2.06-2.06.94zm10 10l.94 2.06.94-2.06 2.06-.94-2.06-.94-.94-2.06-.94 2.06-2.06.94z\"/><path d=\"M17.41 7.96l-1.37-1.37c-.4-.4-.92-.59-1.43-.59-.52 0-1.04.2-1.43.59L10.3 9.45l-7.72 7.72c-.78.78-.78 2.05 0 2.83L4 21.41c.39.39.9.59 1.41.59.51 0 1.02-.2 1.41-.59l7.78-7.78 2.81-2.81c.8-.78.8-2.07 0-2.86zM5.41 20L4 18.59l7.72-7.72 1.47 1.35L5.41 20z\"/>\n",
              "  </svg>\n",
              "      </button>\n",
              "      \n",
              "  <style>\n",
              "    .colab-df-container {\n",
              "      display:flex;\n",
              "      flex-wrap:wrap;\n",
              "      gap: 12px;\n",
              "    }\n",
              "\n",
              "    .colab-df-convert {\n",
              "      background-color: #E8F0FE;\n",
              "      border: none;\n",
              "      border-radius: 50%;\n",
              "      cursor: pointer;\n",
              "      display: none;\n",
              "      fill: #1967D2;\n",
              "      height: 32px;\n",
              "      padding: 0 0 0 0;\n",
              "      width: 32px;\n",
              "    }\n",
              "\n",
              "    .colab-df-convert:hover {\n",
              "      background-color: #E2EBFA;\n",
              "      box-shadow: 0px 1px 2px rgba(60, 64, 67, 0.3), 0px 1px 3px 1px rgba(60, 64, 67, 0.15);\n",
              "      fill: #174EA6;\n",
              "    }\n",
              "\n",
              "    [theme=dark] .colab-df-convert {\n",
              "      background-color: #3B4455;\n",
              "      fill: #D2E3FC;\n",
              "    }\n",
              "\n",
              "    [theme=dark] .colab-df-convert:hover {\n",
              "      background-color: #434B5C;\n",
              "      box-shadow: 0px 1px 3px 1px rgba(0, 0, 0, 0.15);\n",
              "      filter: drop-shadow(0px 1px 2px rgba(0, 0, 0, 0.3));\n",
              "      fill: #FFFFFF;\n",
              "    }\n",
              "  </style>\n",
              "\n",
              "      <script>\n",
              "        const buttonEl =\n",
              "          document.querySelector('#df-bf1dc63e-41ee-47a8-a514-857fb4f12108 button.colab-df-convert');\n",
              "        buttonEl.style.display =\n",
              "          google.colab.kernel.accessAllowed ? 'block' : 'none';\n",
              "\n",
              "        async function convertToInteractive(key) {\n",
              "          const element = document.querySelector('#df-bf1dc63e-41ee-47a8-a514-857fb4f12108');\n",
              "          const dataTable =\n",
              "            await google.colab.kernel.invokeFunction('convertToInteractive',\n",
              "                                                     [key], {});\n",
              "          if (!dataTable) return;\n",
              "\n",
              "          const docLinkHtml = 'Like what you see? Visit the ' +\n",
              "            '<a target=\"_blank\" href=https://colab.research.google.com/notebooks/data_table.ipynb>data table notebook</a>'\n",
              "            + ' to learn more about interactive tables.';\n",
              "          element.innerHTML = '';\n",
              "          dataTable['output_type'] = 'display_data';\n",
              "          await google.colab.output.renderOutput(dataTable, element);\n",
              "          const docLink = document.createElement('div');\n",
              "          docLink.innerHTML = docLinkHtml;\n",
              "          element.appendChild(docLink);\n",
              "        }\n",
              "      </script>\n",
              "    </div>\n",
              "  </div>\n",
              "  "
            ]
          },
          "metadata": {},
          "execution_count": 8
        }
      ]
    },
    {
      "cell_type": "markdown",
      "source": [
        "Взглянем на распределение по классам на всех данных"
      ],
      "metadata": {
        "id": "2ydSNyHaI9fF"
      }
    },
    {
      "cell_type": "code",
      "source": [
        "sns.factorplot('label',data = data,kind='count')\n",
        "plt.grid()\n",
        "plt.title(\"Class distribution in the data\");"
      ],
      "metadata": {
        "colab": {
          "base_uri": "https://localhost:8080/",
          "height": 385
        },
        "id": "IwAe3sg9JMsW",
        "outputId": "2940f918-f6ec-49c0-cbc1-156e10cc41f8"
      },
      "execution_count": 9,
      "outputs": [
        {
          "output_type": "display_data",
          "data": {
            "text/plain": [
              "<Figure size 360x360 with 1 Axes>"
            ],
            "image/png": "[encoded data removed]"
          },
          "metadata": {
            "needs_background": "light"
          }
        }
      ]
    },
    {
      "cell_type": "markdown",
      "source": [
        "Создание новой фичи"
      ],
      "metadata": {
        "id": "viqKksOBMr1y"
      }
    },
    {
      "cell_type": "code",
      "source": [
        "train['all_text'] = train['title']+train['content']\n",
        "val['all_text'] = val['title']+val['content']\n",
        "test['all_text'] = test['title']+test['content']"
      ],
      "metadata": {
        "id": "G5Xq6cwNM2sd"
      },
      "execution_count": 10,
      "outputs": []
    },
    {
      "cell_type": "markdown",
      "source": [
        "#Лемматизация"
      ],
      "metadata": {
        "id": "8EFQV1TiM5hQ"
      }
    },
    {
      "cell_type": "code",
      "source": [
        "m = MorphAnalyzer()\n",
        "regex = re.compile(\"[A-Za-z]+\")\n",
        "\n",
        "def words_only(text, regex=regex):\n",
        "    try:\n",
        "        return regex.findall(text.lower())\n",
        "    except:\n",
        "        return []\n",
        "\n",
        "@lru_cache(maxsize=128)\n",
        "def lemmatize_word(token, pymorphy=m):\n",
        "    return pymorphy.parse(token)[0].normal_form\n",
        "\n",
        "def lemmatize_text(text):\n",
        "    return [lemmatize_word(w) for w in text]\n",
        "\n",
        "\n",
        "mystopwords = stopwords.words('english') \n",
        "def remove_stopwords(lemmas, stopwords = mystopwords):\n",
        "    return [w for w in lemmas if not w in stopwords and len(w) > 3]\n",
        "\n",
        "def clean_text(text):\n",
        "    tokens = words_only(text)\n",
        "    lemmas = lemmatize_text(tokens)\n",
        "    \n",
        "    return ' '.join(remove_stopwords(lemmas))"
      ],
      "metadata": {
        "id": "dCEiAgc7M53n"
      },
      "execution_count": 13,
      "outputs": []
    },
    {
      "cell_type": "code",
      "source": [
        "from multiprocessing import Pool as PoolSklearn\n",
        "#train\n",
        "with PoolSklearn(4) as p:\n",
        "    lemmas = list(tqdm(p.imap(clean_text, train['all_text']), total=len(train)))\n",
        "    \n",
        "train['lemmas'] = lemmas\n",
        "train.sample(5)\n",
        "\n",
        "#val\n",
        "with PoolSklearn(4) as p:\n",
        "    lemmas = list(tqdm(p.imap(clean_text, val['all_text']), total=len(val)))  \n",
        "val['lemmas'] = lemmas\n",
        "val.sample(5)\n",
        "\n",
        "#test \n",
        "with PoolSklearn(4) as p:\n",
        "    lemmas = list(tqdm(p.imap(clean_text, test['all_text']), total=len(test)))\n",
        "    \n",
        "test['lemmas'] = lemmas\n",
        "test.sample(5)"
      ],
      "metadata": {
        "colab": {
          "base_uri": "https://localhost:8080/",
          "height": 372
        },
        "id": "rVYs2AK1NCCU",
        "outputId": "576ead44-fd6b-4cd4-e030-d7144fcf4816"
      },
      "execution_count": 14,
      "outputs": [
        {
          "output_type": "stream",
          "name": "stderr",
          "text": [
            "100%|██████████| 7332/7332 [01:10<00:00, 104.50it/s]\n",
            "100%|██████████| 886/886 [00:10<00:00, 86.75it/s]\n",
            "100%|██████████| 921/921 [00:06<00:00, 136.32it/s]\n"
          ]
        },
        {
          "output_type": "execute_result",
          "data": {
            "text/plain": [
              "                                                 title  \\\n",
              "317  Facebook and Twitter suspend Russian propagand...   \n",
              "893                   Ancient City Discovered In Egypt   \n",
              "192    Abolishing the filibuster is unlikely to happen   \n",
              "870  Promises Don't Feed Hungry People: World Food ...   \n",
              "608                                Intro Page: Ad Apex   \n",
              "\n",
              "                                               content   label  \\\n",
              "317  Source: ZDNet\\n\\nFacebook and Twitter said on ...  center   \n",
              "893                                                NaN  center   \n",
              "192  Op-Ed\\n\\nCould abolishing the filibuster to en...   right   \n",
              "870  Our world produces enough food for every man, ...    left   \n",
              "608  Custom Content Ratings Services\\n\\nOur team of...  center   \n",
              "\n",
              "                                              all_text  label_enc  \\\n",
              "317  Facebook and Twitter suspend Russian propagand...          0   \n",
              "893                                                NaN          0   \n",
              "192  Abolishing the filibuster is unlikely to happe...          2   \n",
              "870  Promises Don't Feed Hungry People: World Food ...          1   \n",
              "608  Intro Page: Ad ApexCustom Content Ratings Serv...          0   \n",
              "\n",
              "                                                lemmas  \n",
              "317  facebook twitter suspend russian propaganda ac...  \n",
              "893                                                     \n",
              "192  abolishing filibuster unlikely happenop could ...  \n",
              "870  promises feed hungry people world food world p...  \n",
              "608  intro page apexcustom content ratings services...  "
            ],
            "text/html": [
              "\n",
              "  <div id=\"df-bceb90be-9848-40b8-a309-638828718ce6\">\n",
              "    <div class=\"colab-df-container\">\n",
              "      <div>\n",
              "<style scoped>\n",
              "    .dataframe tbody tr th:only-of-type {\n",
              "        vertical-align: middle;\n",
              "    }\n",
              "\n",
              "    .dataframe tbody tr th {\n",
              "        vertical-align: top;\n",
              "    }\n",
              "\n",
              "    .dataframe thead th {\n",
              "        text-align: right;\n",
              "    }\n",
              "</style>\n",
              "<table border=\"1\" class=\"dataframe\">\n",
              "  <thead>\n",
              "    <tr style=\"text-align: right;\">\n",
              "      <th></th>\n",
              "      <th>title</th>\n",
              "      <th>content</th>\n",
              "      <th>label</th>\n",
              "      <th>all_text</th>\n",
              "      <th>label_enc</th>\n",
              "      <th>lemmas</th>\n",
              "    </tr>\n",
              "  </thead>\n",
              "  <tbody>\n",
              "    <tr>\n",
              "      <th>317</th>\n",
              "      <td>Facebook and Twitter suspend Russian propagand...</td>\n",
              "      <td>Source: ZDNet\\n\\nFacebook and Twitter said on ...</td>\n",
              "      <td>center</td>\n",
              "      <td>Facebook and Twitter suspend Russian propagand...</td>\n",
              "      <td>0</td>\n",
              "      <td>facebook twitter suspend russian propaganda ac...</td>\n",
              "    </tr>\n",
              "    <tr>\n",
              "      <th>893</th>\n",
              "      <td>Ancient City Discovered In Egypt</td>\n",
              "      <td>NaN</td>\n",
              "      <td>center</td>\n",
              "      <td>NaN</td>\n",
              "      <td>0</td>\n",
              "      <td></td>\n",
              "    </tr>\n",
              "    <tr>\n",
              "      <th>192</th>\n",
              "      <td>Abolishing the filibuster is unlikely to happen</td>\n",
              "      <td>Op-Ed\\n\\nCould abolishing the filibuster to en...</td>\n",
              "      <td>right</td>\n",
              "      <td>Abolishing the filibuster is unlikely to happe...</td>\n",
              "      <td>2</td>\n",
              "      <td>abolishing filibuster unlikely happenop could ...</td>\n",
              "    </tr>\n",
              "    <tr>\n",
              "      <th>870</th>\n",
              "      <td>Promises Don't Feed Hungry People: World Food ...</td>\n",
              "      <td>Our world produces enough food for every man, ...</td>\n",
              "      <td>left</td>\n",
              "      <td>Promises Don't Feed Hungry People: World Food ...</td>\n",
              "      <td>1</td>\n",
              "      <td>promises feed hungry people world food world p...</td>\n",
              "    </tr>\n",
              "    <tr>\n",
              "      <th>608</th>\n",
              "      <td>Intro Page: Ad Apex</td>\n",
              "      <td>Custom Content Ratings Services\\n\\nOur team of...</td>\n",
              "      <td>center</td>\n",
              "      <td>Intro Page: Ad ApexCustom Content Ratings Serv...</td>\n",
              "      <td>0</td>\n",
              "      <td>intro page apexcustom content ratings services...</td>\n",
              "    </tr>\n",
              "  </tbody>\n",
              "</table>\n",
              "</div>\n",
              "      <button class=\"colab-df-convert\" onclick=\"convertToInteractive('df-bceb90be-9848-40b8-a309-638828718ce6')\"\n",
              "              title=\"Convert this dataframe to an interactive table.\"\n",
              "              style=\"display:none;\">\n",
              "        \n",
              "  <svg xmlns=\"http://www.w3.org/2000/svg\" height=\"24px\"viewBox=\"0 0 24 24\"\n",
              "       width=\"24px\">\n",
              "    <path d=\"M0 0h24v24H0V0z\" fill=\"none\"/>\n",
              "    <path d=\"M18.56 5.44l.94 2.06.94-2.06 2.06-.94-2.06-.94-.94-2.06-.94 2.06-2.06.94zm-11 1L8.5 8.5l.94-2.06 2.06-.94-2.06-.94L8.5 2.5l-.94 2.06-2.06.94zm10 10l.94 2.06.94-2.06 2.06-.94-2.06-.94-.94-2.06-.94 2.06-2.06.94z\"/><path d=\"M17.41 7.96l-1.37-1.37c-.4-.4-.92-.59-1.43-.59-.52 0-1.04.2-1.43.59L10.3 9.45l-7.72 7.72c-.78.78-.78 2.05 0 2.83L4 21.41c.39.39.9.59 1.41.59.51 0 1.02-.2 1.41-.59l7.78-7.78 2.81-2.81c.8-.78.8-2.07 0-2.86zM5.41 20L4 18.59l7.72-7.72 1.47 1.35L5.41 20z\"/>\n",
              "  </svg>\n",
              "      </button>\n",
              "      \n",
              "  <style>\n",
              "    .colab-df-container {\n",
              "      display:flex;\n",
              "      flex-wrap:wrap;\n",
              "      gap: 12px;\n",
              "    }\n",
              "\n",
              "    .colab-df-convert {\n",
              "      background-color: #E8F0FE;\n",
              "      border: none;\n",
              "      border-radius: 50%;\n",
              "      cursor: pointer;\n",
              "      display: none;\n",
              "      fill: #1967D2;\n",
              "      height: 32px;\n",
              "      padding: 0 0 0 0;\n",
              "      width: 32px;\n",
              "    }\n",
              "\n",
              "    .colab-df-convert:hover {\n",
              "      background-color: #E2EBFA;\n",
              "      box-shadow: 0px 1px 2px rgba(60, 64, 67, 0.3), 0px 1px 3px 1px rgba(60, 64, 67, 0.15);\n",
              "      fill: #174EA6;\n",
              "    }\n",
              "\n",
              "    [theme=dark] .colab-df-convert {\n",
              "      background-color: #3B4455;\n",
              "      fill: #D2E3FC;\n",
              "    }\n",
              "\n",
              "    [theme=dark] .colab-df-convert:hover {\n",
              "      background-color: #434B5C;\n",
              "      box-shadow: 0px 1px 3px 1px rgba(0, 0, 0, 0.15);\n",
              "      filter: drop-shadow(0px 1px 2px rgba(0, 0, 0, 0.3));\n",
              "      fill: #FFFFFF;\n",
              "    }\n",
              "  </style>\n",
              "\n",
              "      <script>\n",
              "        const buttonEl =\n",
              "          document.querySelector('#df-bceb90be-9848-40b8-a309-638828718ce6 button.colab-df-convert');\n",
              "        buttonEl.style.display =\n",
              "          google.colab.kernel.accessAllowed ? 'block' : 'none';\n",
              "\n",
              "        async function convertToInteractive(key) {\n",
              "          const element = document.querySelector('#df-bceb90be-9848-40b8-a309-638828718ce6');\n",
              "          const dataTable =\n",
              "            await google.colab.kernel.invokeFunction('convertToInteractive',\n",
              "                                                     [key], {});\n",
              "          if (!dataTable) return;\n",
              "\n",
              "          const docLinkHtml = 'Like what you see? Visit the ' +\n",
              "            '<a target=\"_blank\" href=https://colab.research.google.com/notebooks/data_table.ipynb>data table notebook</a>'\n",
              "            + ' to learn more about interactive tables.';\n",
              "          element.innerHTML = '';\n",
              "          dataTable['output_type'] = 'display_data';\n",
              "          await google.colab.output.renderOutput(dataTable, element);\n",
              "          const docLink = document.createElement('div');\n",
              "          docLink.innerHTML = docLinkHtml;\n",
              "          element.appendChild(docLink);\n",
              "        }\n",
              "      </script>\n",
              "    </div>\n",
              "  </div>\n",
              "  "
            ]
          },
          "metadata": {},
          "execution_count": 14
        }
      ]
    },
    {
      "cell_type": "code",
      "source": [
        "from sklearn.preprocessing import LabelEncoder\n",
        "labelencoder = LabelEncoder()\n",
        "train['label_enc'] = labelencoder.fit_transform(train['label'])\n",
        "val['label_enc'] = labelencoder.transform(val['label'])\n",
        "test['label_enc'] = labelencoder.transform(test['label'])\n",
        "train"
      ],
      "metadata": {
        "colab": {
          "base_uri": "https://localhost:8080/",
          "height": 641
        },
        "id": "hMfBR6XRNqJ_",
        "outputId": "55340474-6a85-4866-affd-0e9e5e63e3db"
      },
      "execution_count": 15,
      "outputs": [
        {
          "output_type": "execute_result",
          "data": {
            "text/plain": [
              "                                                  title  \\\n",
              "0                                    Election Integrity   \n",
              "1                    It's Time to Junk \"Junk Insurance\"   \n",
              "2     Republicans Want to Steal This Election for Tr...   \n",
              "3     Mitch McConnell’s True Colors May Finally Sink...   \n",
              "4     Trump Gone, But the Right-Wing Leadership Inst...   \n",
              "...                                                 ...   \n",
              "7327  10 Best Snack Subscription Boxes 2021 — Monthl...   \n",
              "7328  Stylist Says Justin Timberlake Set Up Janet Ja...   \n",
              "7329  47 Luxury Gift Ideas — Expensive and Designer ...   \n",
              "7330  50 Famous Actors You Probably Forgot Were on G...   \n",
              "7331  Best playsuits: 27 women's playsuits to shop f...   \n",
              "\n",
              "                                                content label  \\\n",
              "0     Some academics and pundits have been postulati...  left   \n",
              "1     About four years ago, I was a 40 year old heal...  left   \n",
              "2     — from Salon\\n\\nDonald Trump is still trying t...  left   \n",
              "3     If you’re listening to politicians, you hear t...  left   \n",
              "4     We’re familiar with Fox, the TV propaganda arm...  left   \n",
              "...                                                 ...   ...   \n",
              "7327  Where do I begin? Snacks are amazing. How does...  left   \n",
              "7328  Update:\\n\\nFYI: A source close to Justin Timbe...  left   \n",
              "7329  Sure, there are gifts under $5, under $20, and...  left   \n",
              "7330  Jennifer Westfeldt\\n\\nAfter accidentally runni...  left   \n",
              "7331  You heard it here first: playsuits are making ...  left   \n",
              "\n",
              "                                               all_text  label_enc  \\\n",
              "0     Election IntegritySome academics and pundits h...          1   \n",
              "1     It's Time to Junk \"Junk Insurance\"About four y...          1   \n",
              "2     Republicans Want to Steal This Election for Tr...          1   \n",
              "3     Mitch McConnell’s True Colors May Finally Sink...          1   \n",
              "4     Trump Gone, But the Right-Wing Leadership Inst...          1   \n",
              "...                                                 ...        ...   \n",
              "7327  10 Best Snack Subscription Boxes 2021 — Monthl...          1   \n",
              "7328  Stylist Says Justin Timberlake Set Up Janet Ja...          1   \n",
              "7329  47 Luxury Gift Ideas — Expensive and Designer ...          1   \n",
              "7330  50 Famous Actors You Probably Forgot Were on G...          1   \n",
              "7331  Best playsuits: 27 women's playsuits to shop f...          1   \n",
              "\n",
              "                                                 lemmas  \n",
              "0     election integritysome academics pundits postu...  \n",
              "1     time junk junk insurance four years year healt...  \n",
              "2     republicans want steal election trump know sal...  \n",
              "3     mitch mcconnell true colors finally sink himif...  \n",
              "4     trump gone right wing leadership institute pro...  \n",
              "...                                                 ...  \n",
              "7327  best snack subscription boxes monthly food dri...  \n",
              "7328  stylist says justin timberlake janet jackson w...  \n",
              "7329  luxury gift ideas expensive designer gifts sur...  \n",
              "7330  famous actors probably forgot grey anatomyjenn...  \n",
              "7331  best playsuits women playsuits shop summeryou ...  \n",
              "\n",
              "[7332 rows x 6 columns]"
            ],
            "text/html": [
              "\n",
              "  <div id=\"df-3dd04ba4-7854-4fb3-84b7-3e7db7f95638\">\n",
              "    <div class=\"colab-df-container\">\n",
              "      <div>\n",
              "<style scoped>\n",
              "    .dataframe tbody tr th:only-of-type {\n",
              "        vertical-align: middle;\n",
              "    }\n",
              "\n",
              "    .dataframe tbody tr th {\n",
              "        vertical-align: top;\n",
              "    }\n",
              "\n",
              "    .dataframe thead th {\n",
              "        text-align: right;\n",
              "    }\n",
              "</style>\n",
              "<table border=\"1\" class=\"dataframe\">\n",
              "  <thead>\n",
              "    <tr style=\"text-align: right;\">\n",
              "      <th></th>\n",
              "      <th>title</th>\n",
              "      <th>content</th>\n",
              "      <th>label</th>\n",
              "      <th>all_text</th>\n",
              "      <th>label_enc</th>\n",
              "      <th>lemmas</th>\n",
              "    </tr>\n",
              "  </thead>\n",
              "  <tbody>\n",
              "    <tr>\n",
              "      <th>0</th>\n",
              "      <td>Election Integrity</td>\n",
              "      <td>Some academics and pundits have been postulati...</td>\n",
              "      <td>left</td>\n",
              "      <td>Election IntegritySome academics and pundits h...</td>\n",
              "      <td>1</td>\n",
              "      <td>election integritysome academics pundits postu...</td>\n",
              "    </tr>\n",
              "    <tr>\n",
              "      <th>1</th>\n",
              "      <td>It's Time to Junk \"Junk Insurance\"</td>\n",
              "      <td>About four years ago, I was a 40 year old heal...</td>\n",
              "      <td>left</td>\n",
              "      <td>It's Time to Junk \"Junk Insurance\"About four y...</td>\n",
              "      <td>1</td>\n",
              "      <td>time junk junk insurance four years year healt...</td>\n",
              "    </tr>\n",
              "    <tr>\n",
              "      <th>2</th>\n",
              "      <td>Republicans Want to Steal This Election for Tr...</td>\n",
              "      <td>— from Salon\\n\\nDonald Trump is still trying t...</td>\n",
              "      <td>left</td>\n",
              "      <td>Republicans Want to Steal This Election for Tr...</td>\n",
              "      <td>1</td>\n",
              "      <td>republicans want steal election trump know sal...</td>\n",
              "    </tr>\n",
              "    <tr>\n",
              "      <th>3</th>\n",
              "      <td>Mitch McConnell’s True Colors May Finally Sink...</td>\n",
              "      <td>If you’re listening to politicians, you hear t...</td>\n",
              "      <td>left</td>\n",
              "      <td>Mitch McConnell’s True Colors May Finally Sink...</td>\n",
              "      <td>1</td>\n",
              "      <td>mitch mcconnell true colors finally sink himif...</td>\n",
              "    </tr>\n",
              "    <tr>\n",
              "      <th>4</th>\n",
              "      <td>Trump Gone, But the Right-Wing Leadership Inst...</td>\n",
              "      <td>We’re familiar with Fox, the TV propaganda arm...</td>\n",
              "      <td>left</td>\n",
              "      <td>Trump Gone, But the Right-Wing Leadership Inst...</td>\n",
              "      <td>1</td>\n",
              "      <td>trump gone right wing leadership institute pro...</td>\n",
              "    </tr>\n",
              "    <tr>\n",
              "      <th>...</th>\n",
              "      <td>...</td>\n",
              "      <td>...</td>\n",
              "      <td>...</td>\n",
              "      <td>...</td>\n",
              "      <td>...</td>\n",
              "      <td>...</td>\n",
              "    </tr>\n",
              "    <tr>\n",
              "      <th>7327</th>\n",
              "      <td>10 Best Snack Subscription Boxes 2021 — Monthl...</td>\n",
              "      <td>Where do I begin? Snacks are amazing. How does...</td>\n",
              "      <td>left</td>\n",
              "      <td>10 Best Snack Subscription Boxes 2021 — Monthl...</td>\n",
              "      <td>1</td>\n",
              "      <td>best snack subscription boxes monthly food dri...</td>\n",
              "    </tr>\n",
              "    <tr>\n",
              "      <th>7328</th>\n",
              "      <td>Stylist Says Justin Timberlake Set Up Janet Ja...</td>\n",
              "      <td>Update:\\n\\nFYI: A source close to Justin Timbe...</td>\n",
              "      <td>left</td>\n",
              "      <td>Stylist Says Justin Timberlake Set Up Janet Ja...</td>\n",
              "      <td>1</td>\n",
              "      <td>stylist says justin timberlake janet jackson w...</td>\n",
              "    </tr>\n",
              "    <tr>\n",
              "      <th>7329</th>\n",
              "      <td>47 Luxury Gift Ideas — Expensive and Designer ...</td>\n",
              "      <td>Sure, there are gifts under $5, under $20, and...</td>\n",
              "      <td>left</td>\n",
              "      <td>47 Luxury Gift Ideas — Expensive and Designer ...</td>\n",
              "      <td>1</td>\n",
              "      <td>luxury gift ideas expensive designer gifts sur...</td>\n",
              "    </tr>\n",
              "    <tr>\n",
              "      <th>7330</th>\n",
              "      <td>50 Famous Actors You Probably Forgot Were on G...</td>\n",
              "      <td>Jennifer Westfeldt\\n\\nAfter accidentally runni...</td>\n",
              "      <td>left</td>\n",
              "      <td>50 Famous Actors You Probably Forgot Were on G...</td>\n",
              "      <td>1</td>\n",
              "      <td>famous actors probably forgot grey anatomyjenn...</td>\n",
              "    </tr>\n",
              "    <tr>\n",
              "      <th>7331</th>\n",
              "      <td>Best playsuits: 27 women's playsuits to shop f...</td>\n",
              "      <td>You heard it here first: playsuits are making ...</td>\n",
              "      <td>left</td>\n",
              "      <td>Best playsuits: 27 women's playsuits to shop f...</td>\n",
              "      <td>1</td>\n",
              "      <td>best playsuits women playsuits shop summeryou ...</td>\n",
              "    </tr>\n",
              "  </tbody>\n",
              "</table>\n",
              "<p>7332 rows × 6 columns</p>\n",
              "</div>\n",
              "      <button class=\"colab-df-convert\" onclick=\"convertToInteractive('df-3dd04ba4-7854-4fb3-84b7-3e7db7f95638')\"\n",
              "              title=\"Convert this dataframe to an interactive table.\"\n",
              "              style=\"display:none;\">\n",
              "        \n",
              "  <svg xmlns=\"http://www.w3.org/2000/svg\" height=\"24px\"viewBox=\"0 0 24 24\"\n",
              "       width=\"24px\">\n",
              "    <path d=\"M0 0h24v24H0V0z\" fill=\"none\"/>\n",
              "    <path d=\"M18.56 5.44l.94 2.06.94-2.06 2.06-.94-2.06-.94-.94-2.06-.94 2.06-2.06.94zm-11 1L8.5 8.5l.94-2.06 2.06-.94-2.06-.94L8.5 2.5l-.94 2.06-2.06.94zm10 10l.94 2.06.94-2.06 2.06-.94-2.06-.94-.94-2.06-.94 2.06-2.06.94z\"/><path d=\"M17.41 7.96l-1.37-1.37c-.4-.4-.92-.59-1.43-.59-.52 0-1.04.2-1.43.59L10.3 9.45l-7.72 7.72c-.78.78-.78 2.05 0 2.83L4 21.41c.39.39.9.59 1.41.59.51 0 1.02-.2 1.41-.59l7.78-7.78 2.81-2.81c.8-.78.8-2.07 0-2.86zM5.41 20L4 18.59l7.72-7.72 1.47 1.35L5.41 20z\"/>\n",
              "  </svg>\n",
              "      </button>\n",
              "      \n",
              "  <style>\n",
              "    .colab-df-container {\n",
              "      display:flex;\n",
              "      flex-wrap:wrap;\n",
              "      gap: 12px;\n",
              "    }\n",
              "\n",
              "    .colab-df-convert {\n",
              "      background-color: #E8F0FE;\n",
              "      border: none;\n",
              "      border-radius: 50%;\n",
              "      cursor: pointer;\n",
              "      display: none;\n",
              "      fill: #1967D2;\n",
              "      height: 32px;\n",
              "      padding: 0 0 0 0;\n",
              "      width: 32px;\n",
              "    }\n",
              "\n",
              "    .colab-df-convert:hover {\n",
              "      background-color: #E2EBFA;\n",
              "      box-shadow: 0px 1px 2px rgba(60, 64, 67, 0.3), 0px 1px 3px 1px rgba(60, 64, 67, 0.15);\n",
              "      fill: #174EA6;\n",
              "    }\n",
              "\n",
              "    [theme=dark] .colab-df-convert {\n",
              "      background-color: #3B4455;\n",
              "      fill: #D2E3FC;\n",
              "    }\n",
              "\n",
              "    [theme=dark] .colab-df-convert:hover {\n",
              "      background-color: #434B5C;\n",
              "      box-shadow: 0px 1px 3px 1px rgba(0, 0, 0, 0.15);\n",
              "      filter: drop-shadow(0px 1px 2px rgba(0, 0, 0, 0.3));\n",
              "      fill: #FFFFFF;\n",
              "    }\n",
              "  </style>\n",
              "\n",
              "      <script>\n",
              "        const buttonEl =\n",
              "          document.querySelector('#df-3dd04ba4-7854-4fb3-84b7-3e7db7f95638 button.colab-df-convert');\n",
              "        buttonEl.style.display =\n",
              "          google.colab.kernel.accessAllowed ? 'block' : 'none';\n",
              "\n",
              "        async function convertToInteractive(key) {\n",
              "          const element = document.querySelector('#df-3dd04ba4-7854-4fb3-84b7-3e7db7f95638');\n",
              "          const dataTable =\n",
              "            await google.colab.kernel.invokeFunction('convertToInteractive',\n",
              "                                                     [key], {});\n",
              "          if (!dataTable) return;\n",
              "\n",
              "          const docLinkHtml = 'Like what you see? Visit the ' +\n",
              "            '<a target=\"_blank\" href=https://colab.research.google.com/notebooks/data_table.ipynb>data table notebook</a>'\n",
              "            + ' to learn more about interactive tables.';\n",
              "          element.innerHTML = '';\n",
              "          dataTable['output_type'] = 'display_data';\n",
              "          await google.colab.output.renderOutput(dataTable, element);\n",
              "          const docLink = document.createElement('div');\n",
              "          docLink.innerHTML = docLinkHtml;\n",
              "          element.appendChild(docLink);\n",
              "        }\n",
              "      </script>\n",
              "    </div>\n",
              "  </div>\n",
              "  "
            ]
          },
          "metadata": {},
          "execution_count": 15
        }
      ]
    },
    {
      "cell_type": "code",
      "source": [
        "data = train.append(val)\n",
        "data = data.append(test)\n",
        "data.shape"
      ],
      "metadata": {
        "colab": {
          "base_uri": "https://localhost:8080/"
        },
        "id": "Eb6Lk6fjyXTn",
        "outputId": "6763cf9b-a84b-4bbc-e731-5ed9a066f41f"
      },
      "execution_count": 16,
      "outputs": [
        {
          "output_type": "execute_result",
          "data": {
            "text/plain": [
              "(9139, 6)"
            ]
          },
          "metadata": {},
          "execution_count": 16
        }
      ]
    },
    {
      "cell_type": "markdown",
      "source": [
        "# Tf-Idf для кластеризации"
      ],
      "metadata": {
        "id": "faaTXtZCyetc"
      }
    },
    {
      "cell_type": "code",
      "source": [
        "from sklearn.feature_extraction.text import TfidfVectorizer\n",
        "vec = TfidfVectorizer(ngram_range=(1, 2))\n",
        "data_vec = vec.fit_transform(data['lemmas'])\n"
      ],
      "metadata": {
        "id": "Cn7eEUSzyj90"
      },
      "execution_count": null,
      "outputs": []
    },
    {
      "cell_type": "code",
      "source": [
        "data_vec.shape"
      ],
      "metadata": {
        "colab": {
          "base_uri": "https://localhost:8080/"
        },
        "id": "64eJDnoyEwRZ",
        "outputId": "5ebd00e6-f011-4124-d1e9-8b516fd50146"
      },
      "execution_count": null,
      "outputs": [
        {
          "output_type": "execute_result",
          "data": {
            "text/plain": [
              "(8765, 2385696)"
            ]
          },
          "metadata": {},
          "execution_count": 17
        }
      ]
    },
    {
      "cell_type": "markdown",
      "source": [
        "# Tf-Idf"
      ],
      "metadata": {
        "id": "5Of9qaVXNaqK"
      }
    },
    {
      "cell_type": "code",
      "source": [
        "from sklearn.feature_extraction.text import TfidfVectorizer"
      ],
      "metadata": {
        "id": "gkyapNbTNjyu"
      },
      "execution_count": 17,
      "outputs": []
    },
    {
      "cell_type": "code",
      "source": [
        "vec = TfidfVectorizer(ngram_range=(1, 3))\n",
        "train_vec = vec.fit_transform(train['lemmas'])\n",
        "test_vec = vec.transform(test['lemmas'])\n",
        "val_vec = vec.transform(val['lemmas'])"
      ],
      "metadata": {
        "id": "cSlRkD8TNj1f"
      },
      "execution_count": 18,
      "outputs": []
    },
    {
      "cell_type": "code",
      "source": [
        "y_train = train['label_enc']\n",
        "y_test = test['label_enc']\n",
        "y_val = val['label_enc']"
      ],
      "metadata": {
        "id": "VK0cY_CINj4X"
      },
      "execution_count": 19,
      "outputs": []
    },
    {
      "cell_type": "markdown",
      "source": [
        "# Кластеризация"
      ],
      "metadata": {
        "id": "uGvVpMXxpSF9"
      }
    },
    {
      "cell_type": "markdown",
      "source": [
        "Метод к-средних - KMeans"
      ],
      "metadata": {
        "id": "-EWyxYsZph6t"
      }
    },
    {
      "cell_type": "code",
      "source": [
        "num_clusters = 5\n",
        "from sklearn.cluster import KMeans\n",
        "\n",
        "km = KMeans(n_clusters=num_clusters)\n",
        "idx = km.fit(data_vec)"
      ],
      "metadata": {
        "id": "9OoM3Z7ypRaJ"
      },
      "execution_count": null,
      "outputs": []
    },
    {
      "cell_type": "code",
      "source": [
        "clusterkm  = km.labels_.tolist()"
      ],
      "metadata": {
        "id": "FlCcst3DrDFJ"
      },
      "execution_count": null,
      "outputs": []
    },
    {
      "cell_type": "code",
      "source": [
        "clusterkm = km.labels_.tolist()\n",
        "out = { 'title': data['title'].tolist(), 'cluster': clusterkm, 'text': data['content'].tolist() }\n",
        "frame1 = pd.DataFrame(out, index = np.arange(len(clusterkm)), columns = ['title', 'cluster','text'])"
      ],
      "metadata": {
        "id": "tc17CFzyrUVy"
      },
      "execution_count": null,
      "outputs": []
    },
    {
      "cell_type": "code",
      "source": [
        "frame1['cluster'].value_counts()"
      ],
      "metadata": {
        "colab": {
          "base_uri": "https://localhost:8080/"
        },
        "id": "pcxNcRuVrlT0",
        "outputId": "da9512fe-44a1-44f1-e3d3-13d924ec8358"
      },
      "execution_count": null,
      "outputs": [
        {
          "output_type": "execute_result",
          "data": {
            "text/plain": [
              "3    4739\n",
              "2    2030\n",
              "4     962\n",
              "1     596\n",
              "0     438\n",
              "Name: cluster, dtype: int64"
            ]
          },
          "metadata": {},
          "execution_count": 21
        }
      ]
    },
    {
      "cell_type": "markdown",
      "source": [
        "Применим PCA для возможности отобразить результату кластеризации"
      ],
      "metadata": {
        "id": "_xtyFAo4bGNc"
      }
    },
    {
      "cell_type": "code",
      "source": [
        "from sklearn.decomposition import TruncatedSVD\n",
        "pca = TruncatedSVD(n_components=2)"
      ],
      "metadata": {
        "id": "c3zcwIXNOk3s"
      },
      "execution_count": null,
      "outputs": []
    },
    {
      "cell_type": "code",
      "source": [
        "pca.fit(data_vec)"
      ],
      "metadata": {
        "colab": {
          "base_uri": "https://localhost:8080/",
          "height": 75
        },
        "id": "WLj9p69_ThAK",
        "outputId": "10c3c2d7-7da3-4c87-c56c-1cdca7dd0b0f"
      },
      "execution_count": null,
      "outputs": [
        {
          "output_type": "execute_result",
          "data": {
            "text/plain": [
              "TruncatedSVD()"
            ],
            "text/html": [
              "<style>#sk-container-id-1 {color: black;background-color: white;}#sk-container-id-1 pre{padding: 0;}#sk-container-id-1 div.sk-toggleable {background-color: white;}#sk-container-id-1 label.sk-toggleable__label {cursor: pointer;display: block;width: 100%;margin-bottom: 0;padding: 0.3em;box-sizing: border-box;text-align: center;}#sk-container-id-1 label.sk-toggleable__label-arrow:before {content: \"▸\";float: left;margin-right: 0.25em;color: #696969;}#sk-container-id-1 label.sk-toggleable__label-arrow:hover:before {color: black;}#sk-container-id-1 div.sk-estimator:hover label.sk-toggleable__label-arrow:before {color: black;}#sk-container-id-1 div.sk-toggleable__content {max-height: 0;max-width: 0;overflow: hidden;text-align: left;background-color: #f0f8ff;}#sk-container-id-1 div.sk-toggleable__content pre {margin: 0.2em;color: black;border-radius: 0.25em;background-color: #f0f8ff;}#sk-container-id-1 input.sk-toggleable__control:checked~div.sk-toggleable__content {max-height: 200px;max-width: 100%;overflow: auto;}#sk-container-id-1 input.sk-toggleable__control:checked~label.sk-toggleable__label-arrow:before {content: \"▾\";}#sk-container-id-1 div.sk-estimator input.sk-toggleable__control:checked~label.sk-toggleable__label {background-color: #d4ebff;}#sk-container-id-1 div.sk-label input.sk-toggleable__control:checked~label.sk-toggleable__label {background-color: #d4ebff;}#sk-container-id-1 input.sk-hidden--visually {border: 0;clip: rect(1px 1px 1px 1px);clip: rect(1px, 1px, 1px, 1px);height: 1px;margin: -1px;overflow: hidden;padding: 0;position: absolute;width: 1px;}#sk-container-id-1 div.sk-estimator {font-family: monospace;background-color: #f0f8ff;border: 1px dotted black;border-radius: 0.25em;box-sizing: border-box;margin-bottom: 0.5em;}#sk-container-id-1 div.sk-estimator:hover {background-color: #d4ebff;}#sk-container-id-1 div.sk-parallel-item::after {content: \"\";width: 100%;border-bottom: 1px solid gray;flex-grow: 1;}#sk-container-id-1 div.sk-label:hover label.sk-toggleable__label {background-color: #d4ebff;}#sk-container-id-1 div.sk-serial::before {content: \"\";position: absolute;border-left: 1px solid gray;box-sizing: border-box;top: 0;bottom: 0;left: 50%;z-index: 0;}#sk-container-id-1 div.sk-serial {display: flex;flex-direction: column;align-items: center;background-color: white;padding-right: 0.2em;padding-left: 0.2em;position: relative;}#sk-container-id-1 div.sk-item {position: relative;z-index: 1;}#sk-container-id-1 div.sk-parallel {display: flex;align-items: stretch;justify-content: center;background-color: white;position: relative;}#sk-container-id-1 div.sk-item::before, #sk-container-id-1 div.sk-parallel-item::before {content: \"\";position: absolute;border-left: 1px solid gray;box-sizing: border-box;top: 0;bottom: 0;left: 50%;z-index: -1;}#sk-container-id-1 div.sk-parallel-item {display: flex;flex-direction: column;z-index: 1;position: relative;background-color: white;}#sk-container-id-1 div.sk-parallel-item:first-child::after {align-self: flex-end;width: 50%;}#sk-container-id-1 div.sk-parallel-item:last-child::after {align-self: flex-start;width: 50%;}#sk-container-id-1 div.sk-parallel-item:only-child::after {width: 0;}#sk-container-id-1 div.sk-dashed-wrapped {border: 1px dashed gray;margin: 0 0.4em 0.5em 0.4em;box-sizing: border-box;padding-bottom: 0.4em;background-color: white;}#sk-container-id-1 div.sk-label label {font-family: monospace;font-weight: bold;display: inline-block;line-height: 1.2em;}#sk-container-id-1 div.sk-label-container {text-align: center;}#sk-container-id-1 div.sk-container {/* jupyter's `normalize.less` sets `[hidden] { display: none; }` but bootstrap.min.css set `[hidden] { display: none !important; }` so we also need the `!important` here to be able to override the default hidden behavior on the sphinx rendered scikit-learn.org. See: https://github.com/scikit-learn/scikit-learn/issues/21755 */display: inline-block !important;position: relative;}#sk-container-id-1 div.sk-text-repr-fallback {display: none;}</style><div id=\"sk-container-id-1\" class=\"sk-top-container\"><div class=\"sk-text-repr-fallback\"><pre>TruncatedSVD()</pre><b>In a Jupyter environment, please rerun this cell to show the HTML representation or trust the notebook. <br />On GitHub, the HTML representation is unable to render, please try loading this page with nbviewer.org.</b></div><div class=\"sk-container\" hidden><div class=\"sk-item\"><div class=\"sk-estimator sk-toggleable\"><input class=\"sk-toggleable__control sk-hidden--visually\" id=\"sk-estimator-id-1\" type=\"checkbox\" checked><label for=\"sk-estimator-id-1\" class=\"sk-toggleable__label sk-toggleable__label-arrow\">TruncatedSVD</label><div class=\"sk-toggleable__content\"><pre>TruncatedSVD()</pre></div></div></div></div></div>"
            ]
          },
          "metadata": {},
          "execution_count": 23
        }
      ]
    },
    {
      "cell_type": "code",
      "source": [
        "data_2  = pca.transform(data_vec)"
      ],
      "metadata": {
        "id": "CdG2JcAyOuGL"
      },
      "execution_count": null,
      "outputs": []
    },
    {
      "cell_type": "code",
      "source": [
        "#создаем data frame, который содержит координаты (из PCA) + номера кластеров и сами запросы\n",
        "df = pd.DataFrame(dict(x=data_2[:,0], y=data_2[:,1], label=clusterkm, title=data['title'].tolist())) \n",
        "#группируем по кластерам\n",
        "groups = df.groupby('label',sort=False)"
      ],
      "metadata": {
        "id": "fSUUpHY9Oxnc"
      },
      "execution_count": null,
      "outputs": []
    },
    {
      "cell_type": "code",
      "source": [
        "cluster_colors = {0: 'red',1: '#FFA812', 2: 'green',  3: 'magenta', 4: 'blue'}\n",
        "cluster_names = {0: 'Criminalistics', 1: 'COVID-19', 2: 'Recommendations',  3: 'Culture', 4: 'Policy'}"
      ],
      "metadata": {
        "id": "IrvEN9OCO1pH"
      },
      "execution_count": null,
      "outputs": []
    },
    {
      "cell_type": "code",
      "source": [
        "fig, ax = plt.subplots(figsize=(12,8))\n",
        "for name, group in groups:\n",
        "    ax.plot(group.x, group.y, marker='o', linestyle='', ms=4, label=cluster_names[name], color=cluster_colors[name], mec='none')\n",
        "    ax.set_aspect('auto')\n",
        "    ax.tick_params(        axis= 'x',          \n",
        "        which='both',      \n",
        "        bottom='off',      \n",
        "        top='off',         \n",
        "        labelbottom='off')\n",
        "    ax.tick_params(        axis= 'y',         \n",
        "        which='both',     \n",
        "        left='off',      \n",
        "        top='off',       \n",
        "        labelleft='off')\n",
        "    \n",
        "ax.legend(numpoints=1)\n",
        "plt.show() "
      ],
      "metadata": {
        "colab": {
          "base_uri": "https://localhost:8080/",
          "height": 491
        },
        "id": "zDSQstZuO40b",
        "outputId": "6dc316e1-37da-4c17-a899-83573df010f6"
      },
      "execution_count": null,
      "outputs": [
        {
          "output_type": "display_data",
          "data": {
            "text/plain": [
              "<Figure size 864x576 with 1 Axes>"
            ],
            "image/png": "[encoded data removed]"
          },
          "metadata": {}
        }
      ]
    },
    {
      "cell_type": "code",
      "source": [
        "def alert(row):\n",
        "  if row['cluster'] == 0:\n",
        "    return 'Criminalistics'\n",
        "  elif row['cluster'] == 1:\n",
        "    return 'COVID-19'\n",
        "  elif row['cluster'] == 2:\n",
        "    return 'Recommendations'\n",
        "  elif row['cluster'] == 3:\n",
        "    return 'Culture'\n",
        "  else:\n",
        "    return 'Policy'\n",
        "\n",
        "\n",
        "frame1['news_cluster'] = frame1.apply(alert, axis=1)"
      ],
      "metadata": {
        "id": "lgGhbqf60GsN"
      },
      "execution_count": null,
      "outputs": []
    },
    {
      "cell_type": "markdown",
      "source": [
        "Взглянем на распределение тем в новостях"
      ],
      "metadata": {
        "id": "oST4Yvy20xBI"
      }
    },
    {
      "cell_type": "code",
      "source": [
        "sns.factorplot('news_cluster',data = frame1,kind='count', size=4, aspect=2)\n",
        "plt.grid(which='both')\n",
        "plt.title(\"Splitting by topic\");"
      ],
      "metadata": {
        "colab": {
          "base_uri": "https://localhost:8080/",
          "height": 309
        },
        "id": "P0aNlnr8zfnE",
        "outputId": "37f8ee9e-256d-46ad-c0c5-c5e94104c8d8"
      },
      "execution_count": null,
      "outputs": [
        {
          "output_type": "display_data",
          "data": {
            "text/plain": [
              "<Figure size 576x288 with 1 Axes>"
            ],
            "image/png": "[encoded data removed]"
          },
          "metadata": {}
        }
      ]
    },
    {
      "cell_type": "markdown",
      "source": [
        "# Классификация"
      ],
      "metadata": {
        "id": "Dq5EV9kqXGcg"
      }
    },
    {
      "cell_type": "markdown",
      "source": [
        "## Baseline"
      ],
      "metadata": {
        "id": "uh-n-5PCS-cM"
      }
    },
    {
      "cell_type": "code",
      "source": [
        "from sklearn.svm import LinearSVC\n",
        "clf_1 = LinearSVC()\n",
        "clf_1.fit(train_vec, y_train)"
      ],
      "metadata": {
        "id": "602tV02LTFii",
        "colab": {
          "base_uri": "https://localhost:8080/",
          "height": 75
        },
        "outputId": "48619cf2-2ef9-4eff-a603-178e5b3e9798"
      },
      "execution_count": 20,
      "outputs": [
        {
          "output_type": "execute_result",
          "data": {
            "text/plain": [
              "LinearSVC()"
            ],
            "text/html": [
              "<style>#sk-container-id-1 {color: black;background-color: white;}#sk-container-id-1 pre{padding: 0;}#sk-container-id-1 div.sk-toggleable {background-color: white;}#sk-container-id-1 label.sk-toggleable__label {cursor: pointer;display: block;width: 100%;margin-bottom: 0;padding: 0.3em;box-sizing: border-box;text-align: center;}#sk-container-id-1 label.sk-toggleable__label-arrow:before {content: \"▸\";float: left;margin-right: 0.25em;color: #696969;}#sk-container-id-1 label.sk-toggleable__label-arrow:hover:before {color: black;}#sk-container-id-1 div.sk-estimator:hover label.sk-toggleable__label-arrow:before {color: black;}#sk-container-id-1 div.sk-toggleable__content {max-height: 0;max-width: 0;overflow: hidden;text-align: left;background-color: #f0f8ff;}#sk-container-id-1 div.sk-toggleable__content pre {margin: 0.2em;color: black;border-radius: 0.25em;background-color: #f0f8ff;}#sk-container-id-1 input.sk-toggleable__control:checked~div.sk-toggleable__content {max-height: 200px;max-width: 100%;overflow: auto;}#sk-container-id-1 input.sk-toggleable__control:checked~label.sk-toggleable__label-arrow:before {content: \"▾\";}#sk-container-id-1 div.sk-estimator input.sk-toggleable__control:checked~label.sk-toggleable__label {background-color: #d4ebff;}#sk-container-id-1 div.sk-label input.sk-toggleable__control:checked~label.sk-toggleable__label {background-color: #d4ebff;}#sk-container-id-1 input.sk-hidden--visually {border: 0;clip: rect(1px 1px 1px 1px);clip: rect(1px, 1px, 1px, 1px);height: 1px;margin: -1px;overflow: hidden;padding: 0;position: absolute;width: 1px;}#sk-container-id-1 div.sk-estimator {font-family: monospace;background-color: #f0f8ff;border: 1px dotted black;border-radius: 0.25em;box-sizing: border-box;margin-bottom: 0.5em;}#sk-container-id-1 div.sk-estimator:hover {background-color: #d4ebff;}#sk-container-id-1 div.sk-parallel-item::after {content: \"\";width: 100%;border-bottom: 1px solid gray;flex-grow: 1;}#sk-container-id-1 div.sk-label:hover label.sk-toggleable__label {background-color: #d4ebff;}#sk-container-id-1 div.sk-serial::before {content: \"\";position: absolute;border-left: 1px solid gray;box-sizing: border-box;top: 0;bottom: 0;left: 50%;z-index: 0;}#sk-container-id-1 div.sk-serial {display: flex;flex-direction: column;align-items: center;background-color: white;padding-right: 0.2em;padding-left: 0.2em;position: relative;}#sk-container-id-1 div.sk-item {position: relative;z-index: 1;}#sk-container-id-1 div.sk-parallel {display: flex;align-items: stretch;justify-content: center;background-color: white;position: relative;}#sk-container-id-1 div.sk-item::before, #sk-container-id-1 div.sk-parallel-item::before {content: \"\";position: absolute;border-left: 1px solid gray;box-sizing: border-box;top: 0;bottom: 0;left: 50%;z-index: -1;}#sk-container-id-1 div.sk-parallel-item {display: flex;flex-direction: column;z-index: 1;position: relative;background-color: white;}#sk-container-id-1 div.sk-parallel-item:first-child::after {align-self: flex-end;width: 50%;}#sk-container-id-1 div.sk-parallel-item:last-child::after {align-self: flex-start;width: 50%;}#sk-container-id-1 div.sk-parallel-item:only-child::after {width: 0;}#sk-container-id-1 div.sk-dashed-wrapped {border: 1px dashed gray;margin: 0 0.4em 0.5em 0.4em;box-sizing: border-box;padding-bottom: 0.4em;background-color: white;}#sk-container-id-1 div.sk-label label {font-family: monospace;font-weight: bold;display: inline-block;line-height: 1.2em;}#sk-container-id-1 div.sk-label-container {text-align: center;}#sk-container-id-1 div.sk-container {/* jupyter's `normalize.less` sets `[hidden] { display: none; }` but bootstrap.min.css set `[hidden] { display: none !important; }` so we also need the `!important` here to be able to override the default hidden behavior on the sphinx rendered scikit-learn.org. See: https://github.com/scikit-learn/scikit-learn/issues/21755 */display: inline-block !important;position: relative;}#sk-container-id-1 div.sk-text-repr-fallback {display: none;}</style><div id=\"sk-container-id-1\" class=\"sk-top-container\"><div class=\"sk-text-repr-fallback\"><pre>LinearSVC()</pre><b>In a Jupyter environment, please rerun this cell to show the HTML representation or trust the notebook. <br />On GitHub, the HTML representation is unable to render, please try loading this page with nbviewer.org.</b></div><div class=\"sk-container\" hidden><div class=\"sk-item\"><div class=\"sk-estimator sk-toggleable\"><input class=\"sk-toggleable__control sk-hidden--visually\" id=\"sk-estimator-id-1\" type=\"checkbox\" checked><label for=\"sk-estimator-id-1\" class=\"sk-toggleable__label sk-toggleable__label-arrow\">LinearSVC</label><div class=\"sk-toggleable__content\"><pre>LinearSVC()</pre></div></div></div></div></div>"
            ]
          },
          "metadata": {},
          "execution_count": 20
        }
      ]
    },
    {
      "cell_type": "code",
      "source": [
        "scores_F1 ={}\n",
        "scores_MAE ={}\n",
        "scores_Accuracy = {}"
      ],
      "metadata": {
        "id": "vmmEeFAsTlAH"
      },
      "execution_count": 21,
      "outputs": []
    },
    {
      "cell_type": "code",
      "source": [
        "import tensorflow as tf\n",
        "\n",
        "y_pred = clf_1.predict(test_vec)\n",
        "test_y = tf.keras.utils.to_categorical(\n",
        "    test['label_enc'], num_classes=3)\n",
        "y_proba_cb = clf_1._predict_proba_lr(test_vec)"
      ],
      "metadata": {
        "id": "7ADMc1mOTqLO"
      },
      "execution_count": 22,
      "outputs": []
    },
    {
      "cell_type": "code",
      "source": [
        "from sklearn.metrics import f1_score ,mean_absolute_error, accuracy_score\n",
        "\n",
        "print('F1:',f1_score(y_pred, y_test, average='macro'))\n",
        "scores_F1['Baseline'] = f1_score(y_pred, y_test, average='macro')\n",
        "print('Accuracy:',accuracy_score(y_pred, y_test))\n",
        "scores_Accuracy['Baseline'] = accuracy_score(y_pred, y_test)\n",
        "print('MAE:',mean_absolute_error(y_proba_cb, test_y))\n",
        "scores_MAE['Baseline'] = mean_absolute_error(y_proba_cb,test_y)"
      ],
      "metadata": {
        "id": "NBbpjzL4TtY5",
        "colab": {
          "base_uri": "https://localhost:8080/"
        },
        "outputId": "235d10ca-62e2-40e2-f983-0e03932925a4"
      },
      "execution_count": 23,
      "outputs": [
        {
          "output_type": "stream",
          "name": "stdout",
          "text": [
            "F1: 0.6389236256710515\n",
            "Accuracy: 0.6416938110749185\n",
            "MAE: 0.39721592570879455\n"
          ]
        }
      ]
    },
    {
      "cell_type": "markdown",
      "source": [
        "## LightGBM"
      ],
      "metadata": {
        "id": "LMv7IiMVOKEP"
      }
    },
    {
      "cell_type": "code",
      "source": [
        "import lightgbm as lgb\n",
        "clf = lgb.LGBMClassifier()"
      ],
      "metadata": {
        "id": "jlPouxfINj62"
      },
      "execution_count": 24,
      "outputs": []
    },
    {
      "cell_type": "code",
      "source": [
        "clf.fit(train_vec, y_train)"
      ],
      "metadata": {
        "colab": {
          "base_uri": "https://localhost:8080/",
          "height": 75
        },
        "id": "rof6AfNaNj9O",
        "outputId": "3feea460-b309-44fb-fc7a-513e3cd6df59"
      },
      "execution_count": 25,
      "outputs": [
        {
          "output_type": "execute_result",
          "data": {
            "text/plain": [
              "LGBMClassifier()"
            ],
            "text/html": [
              "<style>#sk-container-id-2 {color: black;background-color: white;}#sk-container-id-2 pre{padding: 0;}#sk-container-id-2 div.sk-toggleable {background-color: white;}#sk-container-id-2 label.sk-toggleable__label {cursor: pointer;display: block;width: 100%;margin-bottom: 0;padding: 0.3em;box-sizing: border-box;text-align: center;}#sk-container-id-2 label.sk-toggleable__label-arrow:before {content: \"▸\";float: left;margin-right: 0.25em;color: #696969;}#sk-container-id-2 label.sk-toggleable__label-arrow:hover:before {color: black;}#sk-container-id-2 div.sk-estimator:hover label.sk-toggleable__label-arrow:before {color: black;}#sk-container-id-2 div.sk-toggleable__content {max-height: 0;max-width: 0;overflow: hidden;text-align: left;background-color: #f0f8ff;}#sk-container-id-2 div.sk-toggleable__content pre {margin: 0.2em;color: black;border-radius: 0.25em;background-color: #f0f8ff;}#sk-container-id-2 input.sk-toggleable__control:checked~div.sk-toggleable__content {max-height: 200px;max-width: 100%;overflow: auto;}#sk-container-id-2 input.sk-toggleable__control:checked~label.sk-toggleable__label-arrow:before {content: \"▾\";}#sk-container-id-2 div.sk-estimator input.sk-toggleable__control:checked~label.sk-toggleable__label {background-color: #d4ebff;}#sk-container-id-2 div.sk-label input.sk-toggleable__control:checked~label.sk-toggleable__label {background-color: #d4ebff;}#sk-container-id-2 input.sk-hidden--visually {border: 0;clip: rect(1px 1px 1px 1px);clip: rect(1px, 1px, 1px, 1px);height: 1px;margin: -1px;overflow: hidden;padding: 0;position: absolute;width: 1px;}#sk-container-id-2 div.sk-estimator {font-family: monospace;background-color: #f0f8ff;border: 1px dotted black;border-radius: 0.25em;box-sizing: border-box;margin-bottom: 0.5em;}#sk-container-id-2 div.sk-estimator:hover {background-color: #d4ebff;}#sk-container-id-2 div.sk-parallel-item::after {content: \"\";width: 100%;border-bottom: 1px solid gray;flex-grow: 1;}#sk-container-id-2 div.sk-label:hover label.sk-toggleable__label {background-color: #d4ebff;}#sk-container-id-2 div.sk-serial::before {content: \"\";position: absolute;border-left: 1px solid gray;box-sizing: border-box;top: 0;bottom: 0;left: 50%;z-index: 0;}#sk-container-id-2 div.sk-serial {display: flex;flex-direction: column;align-items: center;background-color: white;padding-right: 0.2em;padding-left: 0.2em;position: relative;}#sk-container-id-2 div.sk-item {position: relative;z-index: 1;}#sk-container-id-2 div.sk-parallel {display: flex;align-items: stretch;justify-content: center;background-color: white;position: relative;}#sk-container-id-2 div.sk-item::before, #sk-container-id-2 div.sk-parallel-item::before {content: \"\";position: absolute;border-left: 1px solid gray;box-sizing: border-box;top: 0;bottom: 0;left: 50%;z-index: -1;}#sk-container-id-2 div.sk-parallel-item {display: flex;flex-direction: column;z-index: 1;position: relative;background-color: white;}#sk-container-id-2 div.sk-parallel-item:first-child::after {align-self: flex-end;width: 50%;}#sk-container-id-2 div.sk-parallel-item:last-child::after {align-self: flex-start;width: 50%;}#sk-container-id-2 div.sk-parallel-item:only-child::after {width: 0;}#sk-container-id-2 div.sk-dashed-wrapped {border: 1px dashed gray;margin: 0 0.4em 0.5em 0.4em;box-sizing: border-box;padding-bottom: 0.4em;background-color: white;}#sk-container-id-2 div.sk-label label {font-family: monospace;font-weight: bold;display: inline-block;line-height: 1.2em;}#sk-container-id-2 div.sk-label-container {text-align: center;}#sk-container-id-2 div.sk-container {/* jupyter's `normalize.less` sets `[hidden] { display: none; }` but bootstrap.min.css set `[hidden] { display: none !important; }` so we also need the `!important` here to be able to override the default hidden behavior on the sphinx rendered scikit-learn.org. See: https://github.com/scikit-learn/scikit-learn/issues/21755 */display: inline-block !important;position: relative;}#sk-container-id-2 div.sk-text-repr-fallback {display: none;}</style><div id=\"sk-container-id-2\" class=\"sk-top-container\"><div class=\"sk-text-repr-fallback\"><pre>LGBMClassifier()</pre><b>In a Jupyter environment, please rerun this cell to show the HTML representation or trust the notebook. <br />On GitHub, the HTML representation is unable to render, please try loading this page with nbviewer.org.</b></div><div class=\"sk-container\" hidden><div class=\"sk-item\"><div class=\"sk-estimator sk-toggleable\"><input class=\"sk-toggleable__control sk-hidden--visually\" id=\"sk-estimator-id-2\" type=\"checkbox\" checked><label for=\"sk-estimator-id-2\" class=\"sk-toggleable__label sk-toggleable__label-arrow\">LGBMClassifier</label><div class=\"sk-toggleable__content\"><pre>LGBMClassifier()</pre></div></div></div></div></div>"
            ]
          },
          "metadata": {},
          "execution_count": 25
        }
      ]
    },
    {
      "cell_type": "code",
      "source": [
        "import tensorflow as tf\n",
        "\n",
        "y_pred = clf.predict(test_vec)\n",
        "test_y = tf.keras.utils.to_categorical(\n",
        "    test['label_enc'], num_classes=3)\n",
        "y_proba_cb = clf.predict_proba(test_vec)"
      ],
      "metadata": {
        "id": "F3Jt-QDgNw6N"
      },
      "execution_count": 26,
      "outputs": []
    },
    {
      "cell_type": "code",
      "source": [
        "from sklearn.metrics import f1_score ,mean_absolute_error, accuracy_score\n",
        "\n",
        "print('F1:',f1_score(y_pred, y_test, average='macro'))\n",
        "scores_F1['LightGBM'] = f1_score(y_pred, y_test, average='macro')\n",
        "print('Accuracy:',accuracy_score(y_pred, y_test))\n",
        "scores_Accuracy['LightGBM'] = accuracy_score(y_pred, y_test)\n",
        "print('MAE:',mean_absolute_error(y_proba_cb, test_y))\n",
        "scores_MAE['LightGBM'] = mean_absolute_error(y_proba_cb,test_y)"
      ],
      "metadata": {
        "colab": {
          "base_uri": "https://localhost:8080/"
        },
        "id": "rlySMRPQNw8o",
        "outputId": "bedb518f-44d1-4049-acb4-8ee8a0f05251"
      },
      "execution_count": 27,
      "outputs": [
        {
          "output_type": "stream",
          "name": "stdout",
          "text": [
            "F1: 0.5990831610412967\n",
            "Accuracy: 0.6026058631921825\n",
            "MAE: 0.32581870049241646\n"
          ]
        }
      ]
    },
    {
      "cell_type": "markdown",
      "source": [
        "## BERT"
      ],
      "metadata": {
        "id": "MVVtJtrvPuO4"
      }
    },
    {
      "cell_type": "code",
      "source": [
        "train.loc[train[\"lemmas\"] == \"\", \"lemmas\"] = np.nan\n",
        "test.loc[test[\"lemmas\"] == \"\", \"lemmas\"] = np.nan\n",
        "val.loc[val[\"lemmas\"] == \"\", \"lemmas\"] = np.nan"
      ],
      "metadata": {
        "id": "40dEeO6FcjCN"
      },
      "execution_count": 28,
      "outputs": []
    },
    {
      "cell_type": "code",
      "source": [
        "train.info()"
      ],
      "metadata": {
        "colab": {
          "base_uri": "https://localhost:8080/"
        },
        "id": "fhJk-nWOdk1k",
        "outputId": "ec3c8fd6-a968-4575-ef1c-b95373f063f6"
      },
      "execution_count": 29,
      "outputs": [
        {
          "output_type": "stream",
          "name": "stdout",
          "text": [
            "<class 'pandas.core.frame.DataFrame'>\n",
            "RangeIndex: 7332 entries, 0 to 7331\n",
            "Data columns (total 6 columns):\n",
            " #   Column     Non-Null Count  Dtype \n",
            "---  ------     --------------  ----- \n",
            " 0   title      7332 non-null   object\n",
            " 1   content    7043 non-null   object\n",
            " 2   label      7332 non-null   object\n",
            " 3   all_text   7043 non-null   object\n",
            " 4   label_enc  7332 non-null   int64 \n",
            " 5   lemmas     7029 non-null   object\n",
            "dtypes: int64(1), object(5)\n",
            "memory usage: 343.8+ KB\n"
          ]
        }
      ]
    },
    {
      "cell_type": "code",
      "source": [
        "train = train.dropna()\n",
        "val = val.dropna()\n",
        "test = test.dropna()"
      ],
      "metadata": {
        "id": "QXMyLDrbBpfp"
      },
      "execution_count": 37,
      "outputs": []
    },
    {
      "cell_type": "code",
      "source": [
        "train.info()"
      ],
      "metadata": {
        "colab": {
          "base_uri": "https://localhost:8080/"
        },
        "id": "4Xslj0cFBrbu",
        "outputId": "5bef2bb2-f366-4654-c867-b34441b0b1e2"
      },
      "execution_count": 38,
      "outputs": [
        {
          "output_type": "stream",
          "name": "stdout",
          "text": [
            "<class 'pandas.core.frame.DataFrame'>\n",
            "Int64Index: 7029 entries, 0 to 7331\n",
            "Data columns (total 6 columns):\n",
            " #   Column     Non-Null Count  Dtype \n",
            "---  ------     --------------  ----- \n",
            " 0   title      7029 non-null   object\n",
            " 1   content    7029 non-null   object\n",
            " 2   label      7029 non-null   object\n",
            " 3   all_text   7029 non-null   object\n",
            " 4   label_enc  7029 non-null   int64 \n",
            " 5   lemmas     7029 non-null   object\n",
            "dtypes: int64(1), object(5)\n",
            "memory usage: 384.4+ KB\n"
          ]
        }
      ]
    },
    {
      "cell_type": "code",
      "source": [
        "y_train = train['label_enc']\n",
        "y_test = test['label_enc']\n",
        "y_val = val['label_enc']"
      ],
      "metadata": {
        "id": "zg5t-s-de-rx"
      },
      "execution_count": 39,
      "outputs": []
    },
    {
      "cell_type": "code",
      "source": [
        "!pip install tensorflow_hub\n",
        "!pip install tensorflow_text"
      ],
      "metadata": {
        "colab": {
          "base_uri": "https://localhost:8080/"
        },
        "id": "8wQXOplom7xh",
        "outputId": "77de16c5-ea6d-4ed0-87e0-3fcd596cf103"
      },
      "execution_count": 40,
      "outputs": [
        {
          "output_type": "stream",
          "name": "stdout",
          "text": [
            "Looking in indexes: https://pypi.org/simple, https://us-python.pkg.dev/colab-wheels/public/simple/\n",
            "Requirement already satisfied: tensorflow_hub in /usr/local/lib/python3.9/dist-packages (0.12.0)\n",
            "Requirement already satisfied: protobuf>=3.8.0 in /usr/local/lib/python3.9/dist-packages (from tensorflow_hub) (3.19.6)\n",
            "Requirement already satisfied: numpy>=1.12.0 in /usr/local/lib/python3.9/dist-packages (from tensorflow_hub) (1.22.4)\n",
            "Looking in indexes: https://pypi.org/simple, https://us-python.pkg.dev/colab-wheels/public/simple/\n",
            "Requirement already satisfied: tensorflow_text in /usr/local/lib/python3.9/dist-packages (2.11.0)\n",
            "Requirement already satisfied: tensorflow-hub>=0.8.0 in /usr/local/lib/python3.9/dist-packages (from tensorflow_text) (0.12.0)\n",
            "Requirement already satisfied: tensorflow<2.12,>=2.11.0 in /usr/local/lib/python3.9/dist-packages (from tensorflow_text) (2.11.0)\n",
            "Requirement already satisfied: astunparse>=1.6.0 in /usr/local/lib/python3.9/dist-packages (from tensorflow<2.12,>=2.11.0->tensorflow_text) (1.6.3)\n",
            "Requirement already satisfied: opt-einsum>=2.3.2 in /usr/local/lib/python3.9/dist-packages (from tensorflow<2.12,>=2.11.0->tensorflow_text) (3.3.0)\n",
            "Requirement already satisfied: grpcio<2.0,>=1.24.3 in /usr/local/lib/python3.9/dist-packages (from tensorflow<2.12,>=2.11.0->tensorflow_text) (1.51.3)\n",
            "Requirement already satisfied: typing-extensions>=3.6.6 in /usr/local/lib/python3.9/dist-packages (from tensorflow<2.12,>=2.11.0->tensorflow_text) (4.5.0)\n",
            "Requirement already satisfied: tensorflow-estimator<2.12,>=2.11.0 in /usr/local/lib/python3.9/dist-packages (from tensorflow<2.12,>=2.11.0->tensorflow_text) (2.11.0)\n",
            "Requirement already satisfied: h5py>=2.9.0 in /usr/local/lib/python3.9/dist-packages (from tensorflow<2.12,>=2.11.0->tensorflow_text) (3.1.0)\n",
            "Requirement already satisfied: gast<=0.4.0,>=0.2.1 in /usr/local/lib/python3.9/dist-packages (from tensorflow<2.12,>=2.11.0->tensorflow_text) (0.4.0)\n",
            "Requirement already satisfied: wrapt>=1.11.0 in /usr/local/lib/python3.9/dist-packages (from tensorflow<2.12,>=2.11.0->tensorflow_text) (1.15.0)\n",
            "Requirement already satisfied: setuptools in /usr/local/lib/python3.9/dist-packages (from tensorflow<2.12,>=2.11.0->tensorflow_text) (57.4.0)\n",
            "Requirement already satisfied: libclang>=13.0.0 in /usr/local/lib/python3.9/dist-packages (from tensorflow<2.12,>=2.11.0->tensorflow_text) (15.0.6.1)\n",
            "Requirement already satisfied: keras<2.12,>=2.11.0 in /usr/local/lib/python3.9/dist-packages (from tensorflow<2.12,>=2.11.0->tensorflow_text) (2.11.0)\n",
            "Requirement already satisfied: absl-py>=1.0.0 in /usr/local/lib/python3.9/dist-packages (from tensorflow<2.12,>=2.11.0->tensorflow_text) (1.4.0)\n",
            "Requirement already satisfied: termcolor>=1.1.0 in /usr/local/lib/python3.9/dist-packages (from tensorflow<2.12,>=2.11.0->tensorflow_text) (2.2.0)\n",
            "Requirement already satisfied: six>=1.12.0 in /usr/local/lib/python3.9/dist-packages (from tensorflow<2.12,>=2.11.0->tensorflow_text) (1.15.0)\n",
            "Requirement already satisfied: tensorboard<2.12,>=2.11 in /usr/local/lib/python3.9/dist-packages (from tensorflow<2.12,>=2.11.0->tensorflow_text) (2.11.2)\n",
            "Requirement already satisfied: protobuf<3.20,>=3.9.2 in /usr/local/lib/python3.9/dist-packages (from tensorflow<2.12,>=2.11.0->tensorflow_text) (3.19.6)\n",
            "Requirement already satisfied: numpy>=1.20 in /usr/local/lib/python3.9/dist-packages (from tensorflow<2.12,>=2.11.0->tensorflow_text) (1.22.4)\n",
            "Requirement already satisfied: tensorflow-io-gcs-filesystem>=0.23.1 in /usr/local/lib/python3.9/dist-packages (from tensorflow<2.12,>=2.11.0->tensorflow_text) (0.31.0)\n",
            "Requirement already satisfied: google-pasta>=0.1.1 in /usr/local/lib/python3.9/dist-packages (from tensorflow<2.12,>=2.11.0->tensorflow_text) (0.2.0)\n",
            "Requirement already satisfied: packaging in /usr/local/lib/python3.9/dist-packages (from tensorflow<2.12,>=2.11.0->tensorflow_text) (23.0)\n",
            "Requirement already satisfied: flatbuffers>=2.0 in /usr/local/lib/python3.9/dist-packages (from tensorflow<2.12,>=2.11.0->tensorflow_text) (23.3.3)\n",
            "Requirement already satisfied: wheel<1.0,>=0.23.0 in /usr/local/lib/python3.9/dist-packages (from astunparse>=1.6.0->tensorflow<2.12,>=2.11.0->tensorflow_text) (0.38.4)\n",
            "Requirement already satisfied: requests<3,>=2.21.0 in /usr/local/lib/python3.9/dist-packages (from tensorboard<2.12,>=2.11->tensorflow<2.12,>=2.11.0->tensorflow_text) (2.25.1)\n",
            "Requirement already satisfied: markdown>=2.6.8 in /usr/local/lib/python3.9/dist-packages (from tensorboard<2.12,>=2.11->tensorflow<2.12,>=2.11.0->tensorflow_text) (3.4.1)\n",
            "Requirement already satisfied: tensorboard-data-server<0.7.0,>=0.6.0 in /usr/local/lib/python3.9/dist-packages (from tensorboard<2.12,>=2.11->tensorflow<2.12,>=2.11.0->tensorflow_text) (0.6.1)\n",
            "Requirement already satisfied: werkzeug>=1.0.1 in /usr/local/lib/python3.9/dist-packages (from tensorboard<2.12,>=2.11->tensorflow<2.12,>=2.11.0->tensorflow_text) (2.2.3)\n",
            "Requirement already satisfied: google-auth-oauthlib<0.5,>=0.4.1 in /usr/local/lib/python3.9/dist-packages (from tensorboard<2.12,>=2.11->tensorflow<2.12,>=2.11.0->tensorflow_text) (0.4.6)\n",
            "Requirement already satisfied: tensorboard-plugin-wit>=1.6.0 in /usr/local/lib/python3.9/dist-packages (from tensorboard<2.12,>=2.11->tensorflow<2.12,>=2.11.0->tensorflow_text) (1.8.1)\n",
            "Requirement already satisfied: google-auth<3,>=1.6.3 in /usr/local/lib/python3.9/dist-packages (from tensorboard<2.12,>=2.11->tensorflow<2.12,>=2.11.0->tensorflow_text) (2.16.2)\n",
            "Requirement already satisfied: rsa<5,>=3.1.4 in /usr/local/lib/python3.9/dist-packages (from google-auth<3,>=1.6.3->tensorboard<2.12,>=2.11->tensorflow<2.12,>=2.11.0->tensorflow_text) (4.9)\n",
            "Requirement already satisfied: cachetools<6.0,>=2.0.0 in /usr/local/lib/python3.9/dist-packages (from google-auth<3,>=1.6.3->tensorboard<2.12,>=2.11->tensorflow<2.12,>=2.11.0->tensorflow_text) (5.3.0)\n",
            "Requirement already satisfied: pyasn1-modules>=0.2.1 in /usr/local/lib/python3.9/dist-packages (from google-auth<3,>=1.6.3->tensorboard<2.12,>=2.11->tensorflow<2.12,>=2.11.0->tensorflow_text) (0.2.8)\n",
            "Requirement already satisfied: requests-oauthlib>=0.7.0 in /usr/local/lib/python3.9/dist-packages (from google-auth-oauthlib<0.5,>=0.4.1->tensorboard<2.12,>=2.11->tensorflow<2.12,>=2.11.0->tensorflow_text) (1.3.1)\n",
            "Requirement already satisfied: importlib-metadata>=4.4 in /usr/local/lib/python3.9/dist-packages (from markdown>=2.6.8->tensorboard<2.12,>=2.11->tensorflow<2.12,>=2.11.0->tensorflow_text) (6.0.0)\n",
            "Requirement already satisfied: idna<3,>=2.5 in /usr/local/lib/python3.9/dist-packages (from requests<3,>=2.21.0->tensorboard<2.12,>=2.11->tensorflow<2.12,>=2.11.0->tensorflow_text) (2.10)\n",
            "Requirement already satisfied: chardet<5,>=3.0.2 in /usr/local/lib/python3.9/dist-packages (from requests<3,>=2.21.0->tensorboard<2.12,>=2.11->tensorflow<2.12,>=2.11.0->tensorflow_text) (4.0.0)\n",
            "Requirement already satisfied: urllib3<1.27,>=1.21.1 in /usr/local/lib/python3.9/dist-packages (from requests<3,>=2.21.0->tensorboard<2.12,>=2.11->tensorflow<2.12,>=2.11.0->tensorflow_text) (1.26.14)\n",
            "Requirement already satisfied: certifi>=2017.4.17 in /usr/local/lib/python3.9/dist-packages (from requests<3,>=2.21.0->tensorboard<2.12,>=2.11->tensorflow<2.12,>=2.11.0->tensorflow_text) (2022.12.7)\n",
            "Requirement already satisfied: MarkupSafe>=2.1.1 in /usr/local/lib/python3.9/dist-packages (from werkzeug>=1.0.1->tensorboard<2.12,>=2.11->tensorflow<2.12,>=2.11.0->tensorflow_text) (2.1.2)\n",
            "Requirement already satisfied: zipp>=0.5 in /usr/local/lib/python3.9/dist-packages (from importlib-metadata>=4.4->markdown>=2.6.8->tensorboard<2.12,>=2.11->tensorflow<2.12,>=2.11.0->tensorflow_text) (3.15.0)\n",
            "Requirement already satisfied: pyasn1<0.5.0,>=0.4.6 in /usr/local/lib/python3.9/dist-packages (from pyasn1-modules>=0.2.1->google-auth<3,>=1.6.3->tensorboard<2.12,>=2.11->tensorflow<2.12,>=2.11.0->tensorflow_text) (0.4.8)\n",
            "Requirement already satisfied: oauthlib>=3.0.0 in /usr/local/lib/python3.9/dist-packages (from requests-oauthlib>=0.7.0->google-auth-oauthlib<0.5,>=0.4.1->tensorboard<2.12,>=2.11->tensorflow<2.12,>=2.11.0->tensorflow_text) (3.2.2)\n"
          ]
        }
      ]
    },
    {
      "cell_type": "code",
      "source": [
        "import tensorflow as tf\n",
        "import tensorflow_hub as hub\n",
        "import tensorflow_text as text\n",
        "from tensorflow.keras.optimizers.legacy import Adam"
      ],
      "metadata": {
        "id": "bsrlzHV5nLxJ"
      },
      "execution_count": 41,
      "outputs": []
    },
    {
      "cell_type": "code",
      "source": [
        "def build_classifier_model():\n",
        "    \n",
        "    text_input = tf.keras.layers.Input(shape=(), dtype=tf.string, name='text')\n",
        "    \n",
        "    preprocessing_layer = hub.KerasLayer(\n",
        "        tfhub_handle_preprocess, name='preprocessing')\n",
        "    \n",
        "    encoder_inputs = preprocessing_layer(text_input)\n",
        "    encoder = hub.KerasLayer(\n",
        "        tfhub_handle_encoder, trainable=True, name='BERT_encoder')\n",
        "    \n",
        "    outputs = encoder(encoder_inputs)\n",
        "    net = outputs['pooled_output']\n",
        "    net = tf.keras.layers.Dropout(0.1)(net)\n",
        "    net = tf.keras.layers.Dense(\n",
        "        3, activation='softmax', name='classifier')(net)\n",
        "    model = tf.keras.Model(text_input, net)\n",
        "    \n",
        "    loss = tf.keras.losses.SquaredHinge(name='squared_hinge')\n",
        "    metric = tf.metrics.CategoricalAccuracy('accuracy')\n",
        "    optimizer = Adam(\n",
        "        learning_rate=4e-05, epsilon=1e-08, decay=0.01, clipnorm=1.0)\n",
        "    model.compile(\n",
        "        optimizer=optimizer, loss=loss, metrics=metric)\n",
        "    model.summary()\n",
        "    return model"
      ],
      "metadata": {
        "id": "wAqgjDERfLWR"
      },
      "execution_count": 42,
      "outputs": []
    },
    {
      "cell_type": "code",
      "source": [
        "tfhub_handle_encoder = \\\n",
        "    \"https://tfhub.dev/tensorflow/small_bert/bert_en_uncased_L-4_H-512_A-8/1\"\n",
        "tfhub_handle_preprocess = \\\n",
        "    \"https://tfhub.dev/tensorflow/bert_en_uncased_preprocess/3\""
      ],
      "metadata": {
        "id": "fqW44Tn7nXV5"
      },
      "execution_count": 43,
      "outputs": []
    },
    {
      "cell_type": "code",
      "source": [
        "classifier_model = build_classifier_model()"
      ],
      "metadata": {
        "colab": {
          "base_uri": "https://localhost:8080/"
        },
        "id": "NMuAt_2cjUS5",
        "outputId": "087f1228-f9fc-41e3-99ce-a93083b81a7b"
      },
      "execution_count": 44,
      "outputs": [
        {
          "output_type": "stream",
          "name": "stdout",
          "text": [
            "Model: \"model_1\"\n",
            "__________________________________________________________________________________________________\n",
            " Layer (type)                   Output Shape         Param #     Connected to                     \n",
            "==================================================================================================\n",
            " text (InputLayer)              [(None,)]            0           []                               \n",
            "                                                                                                  \n",
            " preprocessing (KerasLayer)     {'input_word_ids':   0           ['text[0][0]']                   \n",
            "                                (None, 128),                                                      \n",
            "                                 'input_mask': (Non                                               \n",
            "                                e, 128),                                                          \n",
            "                                 'input_type_ids':                                                \n",
            "                                (None, 128)}                                                      \n",
            "                                                                                                  \n",
            " BERT_encoder (KerasLayer)      {'encoder_outputs':  28763649    ['preprocessing[0][0]',          \n",
            "                                 [(None, 128, 512),               'preprocessing[0][1]',          \n",
            "                                 (None, 128, 512),                'preprocessing[0][2]']          \n",
            "                                 (None, 128, 512),                                                \n",
            "                                 (None, 128, 512)],                                               \n",
            "                                 'pooled_output': (                                               \n",
            "                                None, 512),                                                       \n",
            "                                 'sequence_output':                                               \n",
            "                                 (None, 128, 512),                                                \n",
            "                                 'default': (None,                                                \n",
            "                                512)}                                                             \n",
            "                                                                                                  \n",
            " dropout_1 (Dropout)            (None, 512)          0           ['BERT_encoder[0][5]']           \n",
            "                                                                                                  \n",
            " classifier (Dense)             (None, 3)            1539        ['dropout_1[0][0]']              \n",
            "                                                                                                  \n",
            "==================================================================================================\n",
            "Total params: 28,765,188\n",
            "Trainable params: 28,765,187\n",
            "Non-trainable params: 1\n",
            "__________________________________________________________________________________________________\n"
          ]
        }
      ]
    },
    {
      "cell_type": "code",
      "source": [
        "y_train = tf.keras.utils.to_categorical(\n",
        "    train['label_enc'], num_classes=3)\n",
        "y_val = tf.keras.utils.to_categorical(\n",
        "    val['label_enc'], num_classes=3)\n",
        "\n",
        "history = classifier_model.fit(\n",
        "    x = train['lemmas'].values,\n",
        "    y = y_train,\n",
        "    validation_data=(val['lemmas'].values, y_val),\n",
        "    epochs=10)"
      ],
      "metadata": {
        "colab": {
          "base_uri": "https://localhost:8080/"
        },
        "id": "xufKi64cnb5B",
        "outputId": "b862bb2e-ace5-4710-fa12-029f99048408"
      },
      "execution_count": 45,
      "outputs": [
        {
          "output_type": "stream",
          "name": "stdout",
          "text": [
            "Epoch 1/10\n",
            "220/220 [==============================] - 87s 284ms/step - loss: 1.2582 - accuracy: 0.4942 - val_loss: 1.2825 - val_accuracy: 0.4691\n",
            "Epoch 2/10\n",
            "220/220 [==============================] - 59s 268ms/step - loss: 1.1746 - accuracy: 0.5780 - val_loss: 1.2446 - val_accuracy: 0.5046\n",
            "Epoch 3/10\n",
            "220/220 [==============================] - 58s 266ms/step - loss: 1.1275 - accuracy: 0.6281 - val_loss: 1.2463 - val_accuracy: 0.5149\n",
            "Epoch 4/10\n",
            "220/220 [==============================] - 58s 266ms/step - loss: 1.0918 - accuracy: 0.6642 - val_loss: 1.2363 - val_accuracy: 0.5263\n",
            "Epoch 5/10\n",
            "220/220 [==============================] - 65s 294ms/step - loss: 1.0671 - accuracy: 0.6883 - val_loss: 1.2335 - val_accuracy: 0.5320\n",
            "Epoch 6/10\n",
            "220/220 [==============================] - 58s 266ms/step - loss: 1.0484 - accuracy: 0.6995 - val_loss: 1.2362 - val_accuracy: 0.5240\n",
            "Epoch 7/10\n",
            "220/220 [==============================] - 59s 268ms/step - loss: 1.0312 - accuracy: 0.7186 - val_loss: 1.2375 - val_accuracy: 0.5297\n",
            "Epoch 8/10\n",
            "220/220 [==============================] - 59s 266ms/step - loss: 1.0189 - accuracy: 0.7311 - val_loss: 1.2406 - val_accuracy: 0.5309\n",
            "Epoch 9/10\n",
            "220/220 [==============================] - 59s 266ms/step - loss: 1.0104 - accuracy: 0.7364 - val_loss: 1.2345 - val_accuracy: 0.5378\n",
            "Epoch 10/10\n",
            "220/220 [==============================] - 65s 296ms/step - loss: 0.9986 - accuracy: 0.7449 - val_loss: 1.2381 - val_accuracy: 0.5309\n"
          ]
        }
      ]
    },
    {
      "cell_type": "code",
      "source": [
        "sns.set()\n",
        "sns.set_context(\"paper\", font_scale=2) \n",
        "\n",
        "fig = plt.figure(figsize=(20,10))\n",
        "ax1 = fig.add_subplot(121)\n",
        "sns.lineplot(ax=ax1, data=history.history['accuracy'])\n",
        "sns.lineplot(ax=ax1, data=history.history['val_accuracy'])\n",
        "ax1.set(\n",
        "    title=f\"Model accuracy\",\n",
        "    xlabel=\"epoch\",\n",
        "    ylabel=\"accuracy\"\n",
        ")\n",
        "ax1.legend(['train', 'test'], loc='upper left')\n",
        "ax2 = fig.add_subplot(122)\n",
        "sns.lineplot(ax=ax2, data=history.history['loss'])\n",
        "sns.lineplot(ax=ax2, data=history.history['val_loss'])\n",
        "ax2.set(\n",
        "    title=f\"Model loss\",\n",
        "    xlabel=\"epoch\",\n",
        "    ylabel=\"loss\"\n",
        ")\n",
        "ax2.legend(['train', 'test'], loc='upper left')\n",
        "\n",
        "fig.tight_layout()\n",
        "plt.show(fig) "
      ],
      "metadata": {
        "colab": {
          "base_uri": "https://localhost:8080/",
          "height": 539
        },
        "id": "oaRUqssDj0Ov",
        "outputId": "75be1803-6c4c-4f0c-c8ac-0f7233395031"
      },
      "execution_count": 46,
      "outputs": [
        {
          "output_type": "display_data",
          "data": {
            "text/plain": [
              "<Figure size 1440x720 with 2 Axes>"
            ],
            "image/png": "[encoded data removed]"
          },
          "metadata": {}
        }
      ]
    },
    {
      "cell_type": "code",
      "source": [
        "y_test = tf.keras.utils.to_categorical(\n",
        "    test['label_enc'].astype('category'), num_classes=3)"
      ],
      "metadata": {
        "id": "DkqCnUgSj0Th"
      },
      "execution_count": 47,
      "outputs": []
    },
    {
      "cell_type": "code",
      "source": [
        "y_proba_cb  = classifier_model.predict(test['lemmas'].values)\n",
        "y_pred = np.argmax(y_proba_cb, axis=1)\n",
        "test_y = tf.keras.utils.to_categorical(\n",
        "    test['label_enc'], num_classes=3)"
      ],
      "metadata": {
        "colab": {
          "base_uri": "https://localhost:8080/"
        },
        "id": "T_GDgjcJpZU_",
        "outputId": "74a14aa5-21d7-4661-cfbf-64ee40d5ae75"
      },
      "execution_count": 48,
      "outputs": [
        {
          "output_type": "stream",
          "name": "stdout",
          "text": [
            "27/27 [==============================] - 4s 118ms/step\n"
          ]
        }
      ]
    },
    {
      "cell_type": "code",
      "source": [
        "from sklearn.metrics import f1_score ,mean_absolute_error, accuracy_score\n",
        "\n",
        "print('F1:',f1_score(y_pred, np.argmax(y_test,axis = 1), average='macro'))\n",
        "scores_F1['BERT'] = f1_score(y_pred, np.argmax(y_test,axis = 1), average='macro')\n",
        "print('Accuracy:',accuracy_score(y_pred, np.argmax(y_test,axis = 1)))\n",
        "scores_Accuracy['BERT'] = accuracy_score(y_pred, np.argmax(y_test,axis = 1))\n",
        "print('MAE:',mean_absolute_error(y_proba_cb, test_y))\n",
        "scores_MAE['BERT'] = mean_absolute_error(y_proba_cb,test_y)"
      ],
      "metadata": {
        "colab": {
          "base_uri": "https://localhost:8080/"
        },
        "id": "15_sTGo7QHnY",
        "outputId": "151bab0a-4d9d-47b8-f59f-ef0661d82dd5"
      },
      "execution_count": 49,
      "outputs": [
        {
          "output_type": "stream",
          "name": "stdout",
          "text": [
            "F1: 0.6222936665971465\n",
            "Accuracy: 0.6233766233766234\n",
            "MAE: 0.27089128\n"
          ]
        }
      ]
    },
    {
      "cell_type": "markdown",
      "source": [
        "# Catboost\n"
      ],
      "metadata": {
        "id": "lu-8IBBdQ-VZ"
      }
    },
    {
      "cell_type": "code",
      "source": [
        "!pip install catboost"
      ],
      "metadata": {
        "colab": {
          "base_uri": "https://localhost:8080/"
        },
        "id": "9QkpkBqBw7_Q",
        "outputId": "f380312a-e581-4e1f-8e38-7b55f0340d4d"
      },
      "execution_count": 50,
      "outputs": [
        {
          "output_type": "stream",
          "name": "stdout",
          "text": [
            "Looking in indexes: https://pypi.org/simple, https://us-python.pkg.dev/colab-wheels/public/simple/\n",
            "Collecting catboost\n",
            "  Downloading catboost-1.1.1-cp39-none-manylinux1_x86_64.whl (76.6 MB)\n",
            "\u001b[2K     \u001b[90m━━━━━━━━━━━━━━━━━━━━━━━━━━━━━━━━━━━━━━━━\u001b[0m \u001b[32m76.6/76.6 MB\u001b[0m \u001b[31m13.8 MB/s\u001b[0m eta \u001b[36m0:00:00\u001b[0m\n",
            "\u001b[?25hRequirement already satisfied: matplotlib in /usr/local/lib/python3.9/dist-packages (from catboost) (3.5.3)\n",
            "Requirement already satisfied: graphviz in /usr/local/lib/python3.9/dist-packages (from catboost) (0.10.1)\n",
            "Requirement already satisfied: plotly in /usr/local/lib/python3.9/dist-packages (from catboost) (5.5.0)\n",
            "Requirement already satisfied: six in /usr/local/lib/python3.9/dist-packages (from catboost) (1.15.0)\n",
            "Requirement already satisfied: pandas>=0.24.0 in /usr/local/lib/python3.9/dist-packages (from catboost) (1.3.5)\n",
            "Requirement already satisfied: numpy>=1.16.0 in /usr/local/lib/python3.9/dist-packages (from catboost) (1.22.4)\n",
            "Requirement already satisfied: scipy in /usr/local/lib/python3.9/dist-packages (from catboost) (1.10.1)\n",
            "Requirement already satisfied: python-dateutil>=2.7.3 in /usr/local/lib/python3.9/dist-packages (from pandas>=0.24.0->catboost) (2.8.2)\n",
            "Requirement already satisfied: pytz>=2017.3 in /usr/local/lib/python3.9/dist-packages (from pandas>=0.24.0->catboost) (2022.7.1)\n",
            "Requirement already satisfied: pyparsing>=2.2.1 in /usr/local/lib/python3.9/dist-packages (from matplotlib->catboost) (3.0.9)\n",
            "Requirement already satisfied: cycler>=0.10 in /usr/local/lib/python3.9/dist-packages (from matplotlib->catboost) (0.11.0)\n",
            "Requirement already satisfied: packaging>=20.0 in /usr/local/lib/python3.9/dist-packages (from matplotlib->catboost) (23.0)\n",
            "Requirement already satisfied: pillow>=6.2.0 in /usr/local/lib/python3.9/dist-packages (from matplotlib->catboost) (8.4.0)\n",
            "Requirement already satisfied: kiwisolver>=1.0.1 in /usr/local/lib/python3.9/dist-packages (from matplotlib->catboost) (1.4.4)\n",
            "Requirement already satisfied: fonttools>=4.22.0 in /usr/local/lib/python3.9/dist-packages (from matplotlib->catboost) (4.39.0)\n",
            "Requirement already satisfied: tenacity>=6.2.0 in /usr/local/lib/python3.9/dist-packages (from plotly->catboost) (8.2.2)\n",
            "Installing collected packages: catboost\n",
            "Successfully installed catboost-1.1.1\n"
          ]
        }
      ]
    },
    {
      "cell_type": "code",
      "source": [
        "train"
      ],
      "metadata": {
        "colab": {
          "base_uri": "https://localhost:8080/",
          "height": 641
        },
        "id": "5oTeKZNZw04a",
        "outputId": "0ee5be87-5dc5-4f2d-e03a-666d0a2123e7"
      },
      "execution_count": 51,
      "outputs": [
        {
          "output_type": "execute_result",
          "data": {
            "text/plain": [
              "                                                  title  \\\n",
              "0                                    Election Integrity   \n",
              "1                    It's Time to Junk \"Junk Insurance\"   \n",
              "2     Republicans Want to Steal This Election for Tr...   \n",
              "3     Mitch McConnell’s True Colors May Finally Sink...   \n",
              "4     Trump Gone, But the Right-Wing Leadership Inst...   \n",
              "...                                                 ...   \n",
              "7327  10 Best Snack Subscription Boxes 2021 — Monthl...   \n",
              "7328  Stylist Says Justin Timberlake Set Up Janet Ja...   \n",
              "7329  47 Luxury Gift Ideas — Expensive and Designer ...   \n",
              "7330  50 Famous Actors You Probably Forgot Were on G...   \n",
              "7331  Best playsuits: 27 women's playsuits to shop f...   \n",
              "\n",
              "                                                content label  \\\n",
              "0     Some academics and pundits have been postulati...  left   \n",
              "1     About four years ago, I was a 40 year old heal...  left   \n",
              "2     — from Salon\\n\\nDonald Trump is still trying t...  left   \n",
              "3     If you’re listening to politicians, you hear t...  left   \n",
              "4     We’re familiar with Fox, the TV propaganda arm...  left   \n",
              "...                                                 ...   ...   \n",
              "7327  Where do I begin? Snacks are amazing. How does...  left   \n",
              "7328  Update:\\n\\nFYI: A source close to Justin Timbe...  left   \n",
              "7329  Sure, there are gifts under $5, under $20, and...  left   \n",
              "7330  Jennifer Westfeldt\\n\\nAfter accidentally runni...  left   \n",
              "7331  You heard it here first: playsuits are making ...  left   \n",
              "\n",
              "                                               all_text  label_enc  \\\n",
              "0     Election IntegritySome academics and pundits h...          1   \n",
              "1     It's Time to Junk \"Junk Insurance\"About four y...          1   \n",
              "2     Republicans Want to Steal This Election for Tr...          1   \n",
              "3     Mitch McConnell’s True Colors May Finally Sink...          1   \n",
              "4     Trump Gone, But the Right-Wing Leadership Inst...          1   \n",
              "...                                                 ...        ...   \n",
              "7327  10 Best Snack Subscription Boxes 2021 — Monthl...          1   \n",
              "7328  Stylist Says Justin Timberlake Set Up Janet Ja...          1   \n",
              "7329  47 Luxury Gift Ideas — Expensive and Designer ...          1   \n",
              "7330  50 Famous Actors You Probably Forgot Were on G...          1   \n",
              "7331  Best playsuits: 27 women's playsuits to shop f...          1   \n",
              "\n",
              "                                                 lemmas  \n",
              "0     election integritysome academics pundits postu...  \n",
              "1     time junk junk insurance four years year healt...  \n",
              "2     republicans want steal election trump know sal...  \n",
              "3     mitch mcconnell true colors finally sink himif...  \n",
              "4     trump gone right wing leadership institute pro...  \n",
              "...                                                 ...  \n",
              "7327  best snack subscription boxes monthly food dri...  \n",
              "7328  stylist says justin timberlake janet jackson w...  \n",
              "7329  luxury gift ideas expensive designer gifts sur...  \n",
              "7330  famous actors probably forgot grey anatomyjenn...  \n",
              "7331  best playsuits women playsuits shop summeryou ...  \n",
              "\n",
              "[7029 rows x 6 columns]"
            ],
            "text/html": [
              "\n",
              "  <div id=\"df-662564a4-14e7-4b97-9deb-a1dfaeb15c54\">\n",
              "    <div class=\"colab-df-container\">\n",
              "      <div>\n",
              "<style scoped>\n",
              "    .dataframe tbody tr th:only-of-type {\n",
              "        vertical-align: middle;\n",
              "    }\n",
              "\n",
              "    .dataframe tbody tr th {\n",
              "        vertical-align: top;\n",
              "    }\n",
              "\n",
              "    .dataframe thead th {\n",
              "        text-align: right;\n",
              "    }\n",
              "</style>\n",
              "<table border=\"1\" class=\"dataframe\">\n",
              "  <thead>\n",
              "    <tr style=\"text-align: right;\">\n",
              "      <th></th>\n",
              "      <th>title</th>\n",
              "      <th>content</th>\n",
              "      <th>label</th>\n",
              "      <th>all_text</th>\n",
              "      <th>label_enc</th>\n",
              "      <th>lemmas</th>\n",
              "    </tr>\n",
              "  </thead>\n",
              "  <tbody>\n",
              "    <tr>\n",
              "      <th>0</th>\n",
              "      <td>Election Integrity</td>\n",
              "      <td>Some academics and pundits have been postulati...</td>\n",
              "      <td>left</td>\n",
              "      <td>Election IntegritySome academics and pundits h...</td>\n",
              "      <td>1</td>\n",
              "      <td>election integritysome academics pundits postu...</td>\n",
              "    </tr>\n",
              "    <tr>\n",
              "      <th>1</th>\n",
              "      <td>It's Time to Junk \"Junk Insurance\"</td>\n",
              "      <td>About four years ago, I was a 40 year old heal...</td>\n",
              "      <td>left</td>\n",
              "      <td>It's Time to Junk \"Junk Insurance\"About four y...</td>\n",
              "      <td>1</td>\n",
              "      <td>time junk junk insurance four years year healt...</td>\n",
              "    </tr>\n",
              "    <tr>\n",
              "      <th>2</th>\n",
              "      <td>Republicans Want to Steal This Election for Tr...</td>\n",
              "      <td>— from Salon\\n\\nDonald Trump is still trying t...</td>\n",
              "      <td>left</td>\n",
              "      <td>Republicans Want to Steal This Election for Tr...</td>\n",
              "      <td>1</td>\n",
              "      <td>republicans want steal election trump know sal...</td>\n",
              "    </tr>\n",
              "    <tr>\n",
              "      <th>3</th>\n",
              "      <td>Mitch McConnell’s True Colors May Finally Sink...</td>\n",
              "      <td>If you’re listening to politicians, you hear t...</td>\n",
              "      <td>left</td>\n",
              "      <td>Mitch McConnell’s True Colors May Finally Sink...</td>\n",
              "      <td>1</td>\n",
              "      <td>mitch mcconnell true colors finally sink himif...</td>\n",
              "    </tr>\n",
              "    <tr>\n",
              "      <th>4</th>\n",
              "      <td>Trump Gone, But the Right-Wing Leadership Inst...</td>\n",
              "      <td>We’re familiar with Fox, the TV propaganda arm...</td>\n",
              "      <td>left</td>\n",
              "      <td>Trump Gone, But the Right-Wing Leadership Inst...</td>\n",
              "      <td>1</td>\n",
              "      <td>trump gone right wing leadership institute pro...</td>\n",
              "    </tr>\n",
              "    <tr>\n",
              "      <th>...</th>\n",
              "      <td>...</td>\n",
              "      <td>...</td>\n",
              "      <td>...</td>\n",
              "      <td>...</td>\n",
              "      <td>...</td>\n",
              "      <td>...</td>\n",
              "    </tr>\n",
              "    <tr>\n",
              "      <th>7327</th>\n",
              "      <td>10 Best Snack Subscription Boxes 2021 — Monthl...</td>\n",
              "      <td>Where do I begin? Snacks are amazing. How does...</td>\n",
              "      <td>left</td>\n",
              "      <td>10 Best Snack Subscription Boxes 2021 — Monthl...</td>\n",
              "      <td>1</td>\n",
              "      <td>best snack subscription boxes monthly food dri...</td>\n",
              "    </tr>\n",
              "    <tr>\n",
              "      <th>7328</th>\n",
              "      <td>Stylist Says Justin Timberlake Set Up Janet Ja...</td>\n",
              "      <td>Update:\\n\\nFYI: A source close to Justin Timbe...</td>\n",
              "      <td>left</td>\n",
              "      <td>Stylist Says Justin Timberlake Set Up Janet Ja...</td>\n",
              "      <td>1</td>\n",
              "      <td>stylist says justin timberlake janet jackson w...</td>\n",
              "    </tr>\n",
              "    <tr>\n",
              "      <th>7329</th>\n",
              "      <td>47 Luxury Gift Ideas — Expensive and Designer ...</td>\n",
              "      <td>Sure, there are gifts under $5, under $20, and...</td>\n",
              "      <td>left</td>\n",
              "      <td>47 Luxury Gift Ideas — Expensive and Designer ...</td>\n",
              "      <td>1</td>\n",
              "      <td>luxury gift ideas expensive designer gifts sur...</td>\n",
              "    </tr>\n",
              "    <tr>\n",
              "      <th>7330</th>\n",
              "      <td>50 Famous Actors You Probably Forgot Were on G...</td>\n",
              "      <td>Jennifer Westfeldt\\n\\nAfter accidentally runni...</td>\n",
              "      <td>left</td>\n",
              "      <td>50 Famous Actors You Probably Forgot Were on G...</td>\n",
              "      <td>1</td>\n",
              "      <td>famous actors probably forgot grey anatomyjenn...</td>\n",
              "    </tr>\n",
              "    <tr>\n",
              "      <th>7331</th>\n",
              "      <td>Best playsuits: 27 women's playsuits to shop f...</td>\n",
              "      <td>You heard it here first: playsuits are making ...</td>\n",
              "      <td>left</td>\n",
              "      <td>Best playsuits: 27 women's playsuits to shop f...</td>\n",
              "      <td>1</td>\n",
              "      <td>best playsuits women playsuits shop summeryou ...</td>\n",
              "    </tr>\n",
              "  </tbody>\n",
              "</table>\n",
              "<p>7029 rows × 6 columns</p>\n",
              "</div>\n",
              "      <button class=\"colab-df-convert\" onclick=\"convertToInteractive('df-662564a4-14e7-4b97-9deb-a1dfaeb15c54')\"\n",
              "              title=\"Convert this dataframe to an interactive table.\"\n",
              "              style=\"display:none;\">\n",
              "        \n",
              "  <svg xmlns=\"http://www.w3.org/2000/svg\" height=\"24px\"viewBox=\"0 0 24 24\"\n",
              "       width=\"24px\">\n",
              "    <path d=\"M0 0h24v24H0V0z\" fill=\"none\"/>\n",
              "    <path d=\"M18.56 5.44l.94 2.06.94-2.06 2.06-.94-2.06-.94-.94-2.06-.94 2.06-2.06.94zm-11 1L8.5 8.5l.94-2.06 2.06-.94-2.06-.94L8.5 2.5l-.94 2.06-2.06.94zm10 10l.94 2.06.94-2.06 2.06-.94-2.06-.94-.94-2.06-.94 2.06-2.06.94z\"/><path d=\"M17.41 7.96l-1.37-1.37c-.4-.4-.92-.59-1.43-.59-.52 0-1.04.2-1.43.59L10.3 9.45l-7.72 7.72c-.78.78-.78 2.05 0 2.83L4 21.41c.39.39.9.59 1.41.59.51 0 1.02-.2 1.41-.59l7.78-7.78 2.81-2.81c.8-.78.8-2.07 0-2.86zM5.41 20L4 18.59l7.72-7.72 1.47 1.35L5.41 20z\"/>\n",
              "  </svg>\n",
              "      </button>\n",
              "      \n",
              "  <style>\n",
              "    .colab-df-container {\n",
              "      display:flex;\n",
              "      flex-wrap:wrap;\n",
              "      gap: 12px;\n",
              "    }\n",
              "\n",
              "    .colab-df-convert {\n",
              "      background-color: #E8F0FE;\n",
              "      border: none;\n",
              "      border-radius: 50%;\n",
              "      cursor: pointer;\n",
              "      display: none;\n",
              "      fill: #1967D2;\n",
              "      height: 32px;\n",
              "      padding: 0 0 0 0;\n",
              "      width: 32px;\n",
              "    }\n",
              "\n",
              "    .colab-df-convert:hover {\n",
              "      background-color: #E2EBFA;\n",
              "      box-shadow: 0px 1px 2px rgba(60, 64, 67, 0.3), 0px 1px 3px 1px rgba(60, 64, 67, 0.15);\n",
              "      fill: #174EA6;\n",
              "    }\n",
              "\n",
              "    [theme=dark] .colab-df-convert {\n",
              "      background-color: #3B4455;\n",
              "      fill: #D2E3FC;\n",
              "    }\n",
              "\n",
              "    [theme=dark] .colab-df-convert:hover {\n",
              "      background-color: #434B5C;\n",
              "      box-shadow: 0px 1px 3px 1px rgba(0, 0, 0, 0.15);\n",
              "      filter: drop-shadow(0px 1px 2px rgba(0, 0, 0, 0.3));\n",
              "      fill: #FFFFFF;\n",
              "    }\n",
              "  </style>\n",
              "\n",
              "      <script>\n",
              "        const buttonEl =\n",
              "          document.querySelector('#df-662564a4-14e7-4b97-9deb-a1dfaeb15c54 button.colab-df-convert');\n",
              "        buttonEl.style.display =\n",
              "          google.colab.kernel.accessAllowed ? 'block' : 'none';\n",
              "\n",
              "        async function convertToInteractive(key) {\n",
              "          const element = document.querySelector('#df-662564a4-14e7-4b97-9deb-a1dfaeb15c54');\n",
              "          const dataTable =\n",
              "            await google.colab.kernel.invokeFunction('convertToInteractive',\n",
              "                                                     [key], {});\n",
              "          if (!dataTable) return;\n",
              "\n",
              "          const docLinkHtml = 'Like what you see? Visit the ' +\n",
              "            '<a target=\"_blank\" href=https://colab.research.google.com/notebooks/data_table.ipynb>data table notebook</a>'\n",
              "            + ' to learn more about interactive tables.';\n",
              "          element.innerHTML = '';\n",
              "          dataTable['output_type'] = 'display_data';\n",
              "          await google.colab.output.renderOutput(dataTable, element);\n",
              "          const docLink = document.createElement('div');\n",
              "          docLink.innerHTML = docLinkHtml;\n",
              "          element.appendChild(docLink);\n",
              "        }\n",
              "      </script>\n",
              "    </div>\n",
              "  </div>\n",
              "  "
            ]
          },
          "metadata": {},
          "execution_count": 51
        }
      ]
    },
    {
      "cell_type": "markdown",
      "source": [
        "Добавим переменную длинна всего текста\n"
      ],
      "metadata": {
        "id": "CqsJn7JpO7n8"
      }
    },
    {
      "cell_type": "code",
      "source": [
        "train['sym_len'] = train.lemmas.apply(len)\n",
        "train['word_len'] = train.lemmas.apply(lambda x: len(x.split()))\n",
        "\n",
        "val['sym_len'] = val.lemmas.apply(len)\n",
        "val['word_len'] = val.lemmas.apply(lambda x: len(x.split()))\n",
        "\n",
        "test['sym_len'] = test.lemmas.apply(len)\n",
        "test['word_len'] = test.lemmas.apply(lambda x: len(x.split()))"
      ],
      "metadata": {
        "id": "PHJQOHlRO1nM"
      },
      "execution_count": 52,
      "outputs": []
    },
    {
      "cell_type": "code",
      "source": [
        "plt.figure(figsize=(15, 10))\n",
        "sns.histplot(data=train.sym_len)\n",
        "plt.show()"
      ],
      "metadata": {
        "colab": {
          "base_uri": "https://localhost:8080/",
          "height": 625
        },
        "id": "aKmN5GKiPCVt",
        "outputId": "42a208f0-df41-4e6a-e206-0ab9f4fdadb2"
      },
      "execution_count": 53,
      "outputs": [
        {
          "output_type": "display_data",
          "data": {
            "text/plain": [
              "<Figure size 1080x720 with 1 Axes>"
            ],
            "image/png": "[encoded data removed]"
          },
          "metadata": {}
        }
      ]
    },
    {
      "cell_type": "code",
      "source": [
        "plt.figure(figsize=(15, 10))\n",
        "sns.histplot(data=train.word_len)\n",
        "plt.show()"
      ],
      "metadata": {
        "colab": {
          "base_uri": "https://localhost:8080/",
          "height": 625
        },
        "id": "vZiwM2pkPC80",
        "outputId": "025e1566-8897-4d00-87a2-7bc58f385034"
      },
      "execution_count": 54,
      "outputs": [
        {
          "output_type": "display_data",
          "data": {
            "text/plain": [
              "<Figure size 1080x720 with 1 Axes>"
            ],
            "image/png": "[encoded data removed]"
          },
          "metadata": {}
        }
      ]
    },
    {
      "cell_type": "markdown",
      "source": [
        "Вимдим, что распредление с длинным хвостом, поэтому логорифмируем эти фичи"
      ],
      "metadata": {
        "id": "t7lUDZ5yPGBs"
      }
    },
    {
      "cell_type": "code",
      "source": [
        "train['sym_len'] = np.log(train['sym_len'])\n",
        "train['word_len'] = np.log(train['word_len'])\n",
        "test['sym_len'] = np.log(test['sym_len'])\n",
        "test['word_len'] = np.log(test['word_len'])\n",
        "val['sym_len'] = np.log(val['sym_len'])\n",
        "val['word_len'] = np.log(val['word_len'])"
      ],
      "metadata": {
        "id": "UobQjTPePFN6"
      },
      "execution_count": 55,
      "outputs": []
    },
    {
      "cell_type": "code",
      "source": [
        "val['sym_len'].hist()"
      ],
      "metadata": {
        "colab": {
          "base_uri": "https://localhost:8080/",
          "height": 292
        },
        "id": "gqvS_VDDPiwr",
        "outputId": "ef32e33a-9da7-4b11-fabf-9a05c8cff675"
      },
      "execution_count": 56,
      "outputs": [
        {
          "output_type": "execute_result",
          "data": {
            "text/plain": [
              "<AxesSubplot:>"
            ]
          },
          "metadata": {},
          "execution_count": 56
        },
        {
          "output_type": "display_data",
          "data": {
            "text/plain": [
              "<Figure size 432x288 with 1 Axes>"
            ],
            "image/png": "[encoded data removed]"
          },
          "metadata": {}
        }
      ]
    },
    {
      "cell_type": "code",
      "source": [
        "df_train = train[['title','all_text','lemmas','content','sym_len', 'word_len']]\n",
        "y_train = train['label_enc']\n",
        "df_val = val[['title','all_text','lemmas','content','sym_len', 'word_len']]\n",
        "y_val = val['label_enc']\n",
        "df_test = test[['title','all_text','lemmas','content','sym_len', 'word_len']]\n",
        "y_test = test['label_enc']"
      ],
      "metadata": {
        "id": "K8JXKIkEwc4S"
      },
      "execution_count": 57,
      "outputs": []
    },
    {
      "cell_type": "code",
      "source": [
        "from catboost import CatBoostClassifier\n",
        "from catboost import Pool\n",
        "\n",
        "\n",
        "def fit_model(train_pool, validation_pool, **kwargs):\n",
        "    model = CatBoostClassifier(\n",
        "        iterations=1000,\n",
        "        learning_rate=0.1,\n",
        "        use_best_model= True,\n",
        "        task_type='GPU',\n",
        "        **kwargs\n",
        "    )\n",
        "\n",
        "    return model.fit(\n",
        "        train_pool,\n",
        "        eval_set=validation_pool,\n",
        "        verbose=100,\n",
        "    )"
      ],
      "metadata": {
        "id": "_MJ68Jjux1uH"
      },
      "execution_count": 60,
      "outputs": []
    },
    {
      "cell_type": "code",
      "source": [
        "train_pool = Pool(\n",
        "    df_train, y_train, \n",
        "    text_features=['title','all_text','lemmas','content'],\n",
        ")\n",
        "\n",
        "validation_pool = Pool(\n",
        "    df_val, y_val, \n",
        "    text_features=['title','all_text','lemmas','content'],\n",
        ")\n",
        "\n",
        "test_pool = Pool(\n",
        "    df_test, y_test, \n",
        "    text_features=['title','all_text','lemmas','content'],\n",
        ")\n",
        "\n",
        "print('Train dataset shape: {}\\n'.format(train_pool.shape))\n",
        "\n",
        "model = fit_model(train_pool, validation_pool)"
      ],
      "metadata": {
        "colab": {
          "base_uri": "https://localhost:8080/"
        },
        "id": "YQhzzjRkwc7C",
        "outputId": "fa959378-563e-437e-949f-2ae7c525ce59"
      },
      "execution_count": 61,
      "outputs": [
        {
          "output_type": "stream",
          "name": "stdout",
          "text": [
            "Train dataset shape: (7029, 6)\n",
            "\n",
            "0:\tlearn: 1.0521431\ttest: 1.0730683\tbest: 1.0730683 (0)\ttotal: 38.8ms\tremaining: 38.8s\n",
            "100:\tlearn: 0.7085378\ttest: 0.9716432\tbest: 0.9716432 (100)\ttotal: 1.5s\tremaining: 13.4s\n",
            "200:\tlearn: 0.6466000\ttest: 0.9617769\tbest: 0.9617769 (200)\ttotal: 2.68s\tremaining: 10.7s\n",
            "300:\tlearn: 0.6029864\ttest: 0.9591149\tbest: 0.9582796 (238)\ttotal: 3.8s\tremaining: 8.83s\n",
            "400:\tlearn: 0.5690269\ttest: 0.9610632\tbest: 0.9581757 (308)\ttotal: 7.04s\tremaining: 10.5s\n",
            "500:\tlearn: 0.5422061\ttest: 0.9571519\tbest: 0.9548162 (487)\ttotal: 8.21s\tremaining: 8.17s\n",
            "600:\tlearn: 0.5211027\ttest: 0.9584656\tbest: 0.9548162 (487)\ttotal: 9.31s\tremaining: 6.18s\n",
            "700:\tlearn: 0.5011263\ttest: 0.9578941\tbest: 0.9548162 (487)\ttotal: 11.4s\tremaining: 4.85s\n",
            "800:\tlearn: 0.4815629\ttest: 0.9580708\tbest: 0.9548162 (487)\ttotal: 14.8s\tremaining: 3.68s\n",
            "900:\tlearn: 0.4634897\ttest: 0.9606277\tbest: 0.9548162 (487)\ttotal: 22.9s\tremaining: 2.51s\n",
            "999:\tlearn: 0.4484449\ttest: 0.9625962\tbest: 0.9548162 (487)\ttotal: 25.6s\tremaining: 0us\n",
            "bestTest = 0.9548161766\n",
            "bestIteration = 487\n",
            "Shrink model to first 488 iterations.\n"
          ]
        }
      ]
    },
    {
      "cell_type": "code",
      "source": [
        "!pip install numba\n",
        "\n",
        "from numba import cuda \n",
        "device = cuda.get_current_device()\n",
        "device.reset()"
      ],
      "metadata": {
        "colab": {
          "base_uri": "https://localhost:8080/"
        },
        "id": "1lDx3I10x_4V",
        "outputId": "fb07ff6e-937d-44b0-c54e-f856ff61354e"
      },
      "execution_count": 62,
      "outputs": [
        {
          "output_type": "stream",
          "name": "stdout",
          "text": [
            "Looking in indexes: https://pypi.org/simple, https://us-python.pkg.dev/colab-wheels/public/simple/\n",
            "Requirement already satisfied: numba in /usr/local/lib/python3.9/dist-packages (0.56.4)\n",
            "Requirement already satisfied: setuptools in /usr/local/lib/python3.9/dist-packages (from numba) (57.4.0)\n",
            "Requirement already satisfied: numpy<1.24,>=1.18 in /usr/local/lib/python3.9/dist-packages (from numba) (1.22.4)\n",
            "Requirement already satisfied: llvmlite<0.40,>=0.39.0dev0 in /usr/local/lib/python3.9/dist-packages (from numba) (0.39.1)\n"
          ]
        }
      ]
    },
    {
      "cell_type": "code",
      "source": [
        "def plot_feature_importance(importance,names,model_type):\n",
        "    \n",
        "    #Create arrays from feature importance and feature names\n",
        "    feature_importance = np.array(importance)\n",
        "    feature_names = np.array(names)\n",
        "    \n",
        "    #Create a DataFrame using a Dictionary\n",
        "    data={'feature_names':feature_names,'feature_importance':feature_importance}\n",
        "    fi_df = pd.DataFrame(data)\n",
        "    \n",
        "    #Sort the DataFrame in order decreasing feature importance\n",
        "    fi_df.sort_values(by=['feature_importance'], ascending=False,inplace=True)\n",
        "    \n",
        "    #Define size of bar plot\n",
        "    plt.figure(figsize=(10,8))\n",
        "    #Plot Searborn bar chart\n",
        "    sns.barplot(x=fi_df['feature_importance'], y=fi_df['feature_names'])\n",
        "    #Add chart labels\n",
        "    plt.title(model_type + 'FEATURE IMPORTANCE')\n",
        "    plt.xlabel('FEATURE IMPORTANCE')\n",
        "    plt.ylabel('FEATURE NAMES')\n",
        "#plot the catboost result\n",
        "plot_feature_importance(model.get_feature_importance(),df_train.columns,'CATBOOST ')"
      ],
      "metadata": {
        "colab": {
          "base_uri": "https://localhost:8080/",
          "height": 536
        },
        "id": "LhwHZzaOwc9z",
        "outputId": "a6baca4b-be93-4466-fa9e-e49b8586cf06"
      },
      "execution_count": 63,
      "outputs": [
        {
          "output_type": "display_data",
          "data": {
            "text/plain": [
              "<Figure size 720x576 with 1 Axes>"
            ],
            "image/png": "[encoded data removed]"
          },
          "metadata": {}
        }
      ]
    },
    {
      "cell_type": "code",
      "source": [
        "y_proba_cb = model.predict_proba(test_pool)\n",
        "y_pred = np.argmax(y_proba_cb, axis=1)"
      ],
      "metadata": {
        "id": "kT45HkunwdAd"
      },
      "execution_count": 64,
      "outputs": []
    },
    {
      "cell_type": "code",
      "source": [
        "test_y = tf.keras.utils.to_categorical(\n",
        "    test['label_enc'], num_classes=3)"
      ],
      "metadata": {
        "id": "_64IOy0HwdC-"
      },
      "execution_count": 65,
      "outputs": []
    },
    {
      "cell_type": "code",
      "source": [
        "print('F1:',f1_score(y_pred, y_test, average='macro'))\n",
        "scores_F1['Catboost'] = f1_score(y_pred, y_test, average='macro')\n",
        "print('Accuracy:',accuracy_score(y_pred, y_test))\n",
        "scores_Accuracy['Catboost'] = accuracy_score(y_pred, y_test)\n",
        "print('MAE:',mean_absolute_error(y_proba_cb, test_y))\n",
        "scores_MAE['Catboost'] = mean_absolute_error(y_proba_cb,test_y)"
      ],
      "metadata": {
        "colab": {
          "base_uri": "https://localhost:8080/"
        },
        "id": "ppf-QMsLwdFk",
        "outputId": "a86f5f2f-7a6b-4049-f80e-e3cca2c435c0"
      },
      "execution_count": 66,
      "outputs": [
        {
          "output_type": "stream",
          "name": "stdout",
          "text": [
            "F1: 0.6909185898432583\n",
            "Accuracy: 0.6942148760330579\n",
            "MAE: 0.29494498252307294\n"
          ]
        }
      ]
    },
    {
      "cell_type": "markdown",
      "source": [
        "## xgboost"
      ],
      "metadata": {
        "id": "S-dW-h879PZb"
      }
    },
    {
      "cell_type": "code",
      "source": [
        "from xgboost import XGBClassifier"
      ],
      "metadata": {
        "id": "AZplGyjOC-MT"
      },
      "execution_count": 67,
      "outputs": []
    },
    {
      "cell_type": "code",
      "source": [
        "clf_3 = XGBClassifier(tree_method='gpu_hist')"
      ],
      "metadata": {
        "id": "VfxwfGyA9XcC"
      },
      "execution_count": 70,
      "outputs": []
    },
    {
      "cell_type": "code",
      "source": [
        "y_train = train[['label_enc']]"
      ],
      "metadata": {
        "id": "95jPnhLhFksc"
      },
      "execution_count": 72,
      "outputs": []
    },
    {
      "cell_type": "code",
      "source": [
        "train_vec = vec.fit_transform(train['lemmas'])"
      ],
      "metadata": {
        "id": "dsEWxAUhGIjw"
      },
      "execution_count": 76,
      "outputs": []
    },
    {
      "cell_type": "code",
      "source": [
        "y_train.shape"
      ],
      "metadata": {
        "colab": {
          "base_uri": "https://localhost:8080/"
        },
        "id": "W-bHm-KSF7dB",
        "outputId": "7378a104-7e98-4d35-fdaf-afbce0854a84"
      },
      "execution_count": 77,
      "outputs": [
        {
          "output_type": "execute_result",
          "data": {
            "text/plain": [
              "(7029, 1)"
            ]
          },
          "metadata": {},
          "execution_count": 77
        }
      ]
    },
    {
      "cell_type": "code",
      "source": [
        "train_vec.shape"
      ],
      "metadata": {
        "colab": {
          "base_uri": "https://localhost:8080/"
        },
        "id": "dDMKbZkvF2Mv",
        "outputId": "2845fcac-3ba9-4783-d1dd-ceb024431682"
      },
      "execution_count": 78,
      "outputs": [
        {
          "output_type": "execute_result",
          "data": {
            "text/plain": [
              "(7029, 4589795)"
            ]
          },
          "metadata": {},
          "execution_count": 78
        }
      ]
    },
    {
      "cell_type": "code",
      "source": [
        "clf_3.fit(train_vec, y_train)"
      ],
      "metadata": {
        "colab": {
          "base_uri": "https://localhost:8080/",
          "height": 248
        },
        "id": "Ut8uh5THEAJd",
        "outputId": "7a9ead51-7efe-4f54-dca1-9e5ca2b59e2f"
      },
      "execution_count": 79,
      "outputs": [
        {
          "output_type": "execute_result",
          "data": {
            "text/plain": [
              "XGBClassifier(base_score=None, booster=None, callbacks=None,\n",
              "              colsample_bylevel=None, colsample_bynode=None,\n",
              "              colsample_bytree=None, early_stopping_rounds=None,\n",
              "              enable_categorical=False, eval_metric=None, feature_types=None,\n",
              "              gamma=None, gpu_id=None, grow_policy=None, importance_type=None,\n",
              "              interaction_constraints=None, learning_rate=None, max_bin=None,\n",
              "              max_cat_threshold=None, max_cat_to_onehot=None,\n",
              "              max_delta_step=None, max_depth=None, max_leaves=None,\n",
              "              min_child_weight=None, missing=nan, monotone_constraints=None,\n",
              "              n_estimators=100, n_jobs=None, num_parallel_tree=None,\n",
              "              objective='multi:softprob', predictor=None, ...)"
            ],
            "text/html": [
              "<style>#sk-container-id-3 {color: black;background-color: white;}#sk-container-id-3 pre{padding: 0;}#sk-container-id-3 div.sk-toggleable {background-color: white;}#sk-container-id-3 label.sk-toggleable__label {cursor: pointer;display: block;width: 100%;margin-bottom: 0;padding: 0.3em;box-sizing: border-box;text-align: center;}#sk-container-id-3 label.sk-toggleable__label-arrow:before {content: \"▸\";float: left;margin-right: 0.25em;color: #696969;}#sk-container-id-3 label.sk-toggleable__label-arrow:hover:before {color: black;}#sk-container-id-3 div.sk-estimator:hover label.sk-toggleable__label-arrow:before {color: black;}#sk-container-id-3 div.sk-toggleable__content {max-height: 0;max-width: 0;overflow: hidden;text-align: left;background-color: #f0f8ff;}#sk-container-id-3 div.sk-toggleable__content pre {margin: 0.2em;color: black;border-radius: 0.25em;background-color: #f0f8ff;}#sk-container-id-3 input.sk-toggleable__control:checked~div.sk-toggleable__content {max-height: 200px;max-width: 100%;overflow: auto;}#sk-container-id-3 input.sk-toggleable__control:checked~label.sk-toggleable__label-arrow:before {content: \"▾\";}#sk-container-id-3 div.sk-estimator input.sk-toggleable__control:checked~label.sk-toggleable__label {background-color: #d4ebff;}#sk-container-id-3 div.sk-label input.sk-toggleable__control:checked~label.sk-toggleable__label {background-color: #d4ebff;}#sk-container-id-3 input.sk-hidden--visually {border: 0;clip: rect(1px 1px 1px 1px);clip: rect(1px, 1px, 1px, 1px);height: 1px;margin: -1px;overflow: hidden;padding: 0;position: absolute;width: 1px;}#sk-container-id-3 div.sk-estimator {font-family: monospace;background-color: #f0f8ff;border: 1px dotted black;border-radius: 0.25em;box-sizing: border-box;margin-bottom: 0.5em;}#sk-container-id-3 div.sk-estimator:hover {background-color: #d4ebff;}#sk-container-id-3 div.sk-parallel-item::after {content: \"\";width: 100%;border-bottom: 1px solid gray;flex-grow: 1;}#sk-container-id-3 div.sk-label:hover label.sk-toggleable__label {background-color: #d4ebff;}#sk-container-id-3 div.sk-serial::before {content: \"\";position: absolute;border-left: 1px solid gray;box-sizing: border-box;top: 0;bottom: 0;left: 50%;z-index: 0;}#sk-container-id-3 div.sk-serial {display: flex;flex-direction: column;align-items: center;background-color: white;padding-right: 0.2em;padding-left: 0.2em;position: relative;}#sk-container-id-3 div.sk-item {position: relative;z-index: 1;}#sk-container-id-3 div.sk-parallel {display: flex;align-items: stretch;justify-content: center;background-color: white;position: relative;}#sk-container-id-3 div.sk-item::before, #sk-container-id-3 div.sk-parallel-item::before {content: \"\";position: absolute;border-left: 1px solid gray;box-sizing: border-box;top: 0;bottom: 0;left: 50%;z-index: -1;}#sk-container-id-3 div.sk-parallel-item {display: flex;flex-direction: column;z-index: 1;position: relative;background-color: white;}#sk-container-id-3 div.sk-parallel-item:first-child::after {align-self: flex-end;width: 50%;}#sk-container-id-3 div.sk-parallel-item:last-child::after {align-self: flex-start;width: 50%;}#sk-container-id-3 div.sk-parallel-item:only-child::after {width: 0;}#sk-container-id-3 div.sk-dashed-wrapped {border: 1px dashed gray;margin: 0 0.4em 0.5em 0.4em;box-sizing: border-box;padding-bottom: 0.4em;background-color: white;}#sk-container-id-3 div.sk-label label {font-family: monospace;font-weight: bold;display: inline-block;line-height: 1.2em;}#sk-container-id-3 div.sk-label-container {text-align: center;}#sk-container-id-3 div.sk-container {/* jupyter's `normalize.less` sets `[hidden] { display: none; }` but bootstrap.min.css set `[hidden] { display: none !important; }` so we also need the `!important` here to be able to override the default hidden behavior on the sphinx rendered scikit-learn.org. See: https://github.com/scikit-learn/scikit-learn/issues/21755 */display: inline-block !important;position: relative;}#sk-container-id-3 div.sk-text-repr-fallback {display: none;}</style><div id=\"sk-container-id-3\" class=\"sk-top-container\"><div class=\"sk-text-repr-fallback\"><pre>XGBClassifier(base_score=None, booster=None, callbacks=None,\n",
              "              colsample_bylevel=None, colsample_bynode=None,\n",
              "              colsample_bytree=None, early_stopping_rounds=None,\n",
              "              enable_categorical=False, eval_metric=None, feature_types=None,\n",
              "              gamma=None, gpu_id=None, grow_policy=None, importance_type=None,\n",
              "              interaction_constraints=None, learning_rate=None, max_bin=None,\n",
              "              max_cat_threshold=None, max_cat_to_onehot=None,\n",
              "              max_delta_step=None, max_depth=None, max_leaves=None,\n",
              "              min_child_weight=None, missing=nan, monotone_constraints=None,\n",
              "              n_estimators=100, n_jobs=None, num_parallel_tree=None,\n",
              "              objective=&#x27;multi:softprob&#x27;, predictor=None, ...)</pre><b>In a Jupyter environment, please rerun this cell to show the HTML representation or trust the notebook. <br />On GitHub, the HTML representation is unable to render, please try loading this page with nbviewer.org.</b></div><div class=\"sk-container\" hidden><div class=\"sk-item\"><div class=\"sk-estimator sk-toggleable\"><input class=\"sk-toggleable__control sk-hidden--visually\" id=\"sk-estimator-id-3\" type=\"checkbox\" checked><label for=\"sk-estimator-id-3\" class=\"sk-toggleable__label sk-toggleable__label-arrow\">XGBClassifier</label><div class=\"sk-toggleable__content\"><pre>XGBClassifier(base_score=None, booster=None, callbacks=None,\n",
              "              colsample_bylevel=None, colsample_bynode=None,\n",
              "              colsample_bytree=None, early_stopping_rounds=None,\n",
              "              enable_categorical=False, eval_metric=None, feature_types=None,\n",
              "              gamma=None, gpu_id=None, grow_policy=None, importance_type=None,\n",
              "              interaction_constraints=None, learning_rate=None, max_bin=None,\n",
              "              max_cat_threshold=None, max_cat_to_onehot=None,\n",
              "              max_delta_step=None, max_depth=None, max_leaves=None,\n",
              "              min_child_weight=None, missing=nan, monotone_constraints=None,\n",
              "              n_estimators=100, n_jobs=None, num_parallel_tree=None,\n",
              "              objective=&#x27;multi:softprob&#x27;, predictor=None, ...)</pre></div></div></div></div></div>"
            ]
          },
          "metadata": {},
          "execution_count": 79
        }
      ]
    },
    {
      "cell_type": "code",
      "source": [
        "test_vec = vec.transform(test['lemmas'])"
      ],
      "metadata": {
        "id": "9TQO8hPhGoWr"
      },
      "execution_count": 84,
      "outputs": []
    },
    {
      "cell_type": "code",
      "source": [
        "y_proba_cb = clf_3.predict_proba(test_vec)\n",
        "y_pred = np.argmax(y_proba_cb, axis=1)"
      ],
      "metadata": {
        "id": "RsfGBiSaEdoj"
      },
      "execution_count": 85,
      "outputs": []
    },
    {
      "cell_type": "code",
      "source": [
        "test_y = tf.keras.utils.to_categorical(\n",
        "    test['label_enc'], num_classes=3)"
      ],
      "metadata": {
        "id": "Sh0zA4MyE5vw"
      },
      "execution_count": 86,
      "outputs": []
    },
    {
      "cell_type": "code",
      "source": [
        "print('F1:',f1_score(y_pred, y_test, average='macro'))\n",
        "scores_F1['xgboost'] = f1_score(y_pred, y_test, average='macro')\n",
        "print('Accuracy:',accuracy_score(y_pred, y_test))\n",
        "scores_Accuracy['xgboost'] = accuracy_score(y_pred, y_test)\n",
        "print('MAE:',mean_absolute_error(y_proba_cb, test_y))\n",
        "scores_MAE['xgboost'] = mean_absolute_error(y_proba_cb,test_y)"
      ],
      "metadata": {
        "colab": {
          "base_uri": "https://localhost:8080/"
        },
        "id": "6bKyvaVhE7aR",
        "outputId": "3a0b5847-8923-42bb-aa5c-af57eca1b8c0"
      },
      "execution_count": 87,
      "outputs": [
        {
          "output_type": "stream",
          "name": "stdout",
          "text": [
            "F1: 0.17413399454987358\n",
            "Accuracy: 0.2975206611570248\n",
            "MAE: 0.46820655\n"
          ]
        }
      ]
    },
    {
      "cell_type": "markdown",
      "source": [
        "#Результаты"
      ],
      "metadata": {
        "id": "_Xknl_1oW9aq"
      }
    },
    {
      "cell_type": "code",
      "source": [
        "fig, ax = plt.subplots(figsize =(10, 7))\n",
        "for i in scores_F1.keys():\n",
        "  ax.bar(i,scores_F1[i], label=i)\n",
        "  plt.text(i,scores_F1[i],round(scores_F1[i],3), ha = 'center')\n",
        "ax.legend(loc='lower left')\n",
        "plt.title(\"Comparison of F1 models\")\n",
        "plt.show()"
      ],
      "metadata": {
        "colab": {
          "base_uri": "https://localhost:8080/",
          "height": 459
        },
        "id": "oXrjMSQZUCbP",
        "outputId": "72e6fa89-985a-49a9-801b-f66ea335514f"
      },
      "execution_count": 88,
      "outputs": [
        {
          "output_type": "display_data",
          "data": {
            "text/plain": [
              "<Figure size 720x504 with 1 Axes>"
            ],
            "image/png": "[encoded data removed]"
          },
          "metadata": {}
        }
      ]
    },
    {
      "cell_type": "code",
      "source": [
        "fig, ax = plt.subplots(figsize =(10, 7))\n",
        "for i in scores_Accuracy.keys():\n",
        "  ax.bar(i,scores_Accuracy[i], label=i)\n",
        "  plt.text(i,scores_Accuracy[i],round(scores_Accuracy[i],3), ha = 'center')\n",
        "ax.legend(loc='lower left')\n",
        "plt.title(\"Comparison of Accuracy models\")\n",
        "plt.show()"
      ],
      "metadata": {
        "colab": {
          "base_uri": "https://localhost:8080/",
          "height": 459
        },
        "id": "4TFSIo62ynIN",
        "outputId": "d70c174d-41b3-482a-9487-453ce2d662ac"
      },
      "execution_count": 89,
      "outputs": [
        {
          "output_type": "display_data",
          "data": {
            "text/plain": [
              "<Figure size 720x504 with 1 Axes>"
            ],
            "image/png": "[encoded data removed]"
          },
          "metadata": {}
        }
      ]
    },
    {
      "cell_type": "code",
      "source": [
        "fig, ax = plt.subplots(figsize =(10, 7))\n",
        "for i in scores_MAE.keys():\n",
        "  ax.bar(i,scores_MAE[i], label=i)\n",
        "  plt.text(i,scores_MAE[i],round(scores_MAE[i],3), ha = 'center')\n",
        "ax.legend(loc='lower left')\n",
        "plt.title(\"Comparison of MAE models\")\n",
        "plt.show()"
      ],
      "metadata": {
        "colab": {
          "base_uri": "https://localhost:8080/",
          "height": 459
        },
        "id": "PqYKVRhCysYQ",
        "outputId": "f0374f7e-c69a-43e8-c87f-e8925f6b6ce6"
      },
      "execution_count": 90,
      "outputs": [
        {
          "output_type": "display_data",
          "data": {
            "text/plain": [
              "<Figure size 720x504 with 1 Axes>"
            ],
            "image/png": "[encoded data removed]"
          },
          "metadata": {}
        }
      ]
    }
  ]
}