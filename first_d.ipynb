{
  "nbformat": 4,
  "nbformat_minor": 0,
  "metadata": {
    "colab": {
      "provenance": [],
      "toc_visible": true
    },
    "kernelspec": {
      "name": "python3",
      "display_name": "Python 3"
    },
    "language_info": {
      "name": "python"
    },
    "accelerator": "GPU",
    "gpuClass": "standard"
  },
  "cells": [
    {
      "cell_type": "code",
      "execution_count": 1,
      "metadata": {
        "id": "k2GQYa4jGg7K",
        "colab": {
          "base_uri": "https://localhost:8080/"
        },
        "outputId": "1bbfe12f-e1ce-4852-ce15-f20daba42590"
      },
      "outputs": [
        {
          "output_type": "stream",
          "name": "stdout",
          "text": [
            "Looking in indexes: https://pypi.org/simple, https://us-python.pkg.dev/colab-wheels/public/simple/\n",
            "Collecting pymorphy2\n",
            "  Downloading pymorphy2-0.9.1-py3-none-any.whl (55 kB)\n",
            "\u001b[2K     \u001b[90m━━━━━━━━━━━━━━━━━━━━━━━━━━━━━━━━━━━━━━━\u001b[0m \u001b[32m55.5/55.5 KB\u001b[0m \u001b[31m356.6 kB/s\u001b[0m eta \u001b[36m0:00:00\u001b[0m\n",
            "\u001b[?25hCollecting dawg-python>=0.7.1\n",
            "  Downloading DAWG_Python-0.7.2-py2.py3-none-any.whl (11 kB)\n",
            "Collecting pymorphy2-dicts-ru<3.0,>=2.4\n",
            "  Downloading pymorphy2_dicts_ru-2.4.417127.4579844-py2.py3-none-any.whl (8.2 MB)\n",
            "\u001b[2K     \u001b[90m━━━━━━━━━━━━━━━━━━━━━━━━━━━━━━━━━━━━━━━━\u001b[0m \u001b[32m8.2/8.2 MB\u001b[0m \u001b[31m33.1 MB/s\u001b[0m eta \u001b[36m0:00:00\u001b[0m\n",
            "\u001b[?25hCollecting docopt>=0.6\n",
            "  Downloading docopt-0.6.2.tar.gz (25 kB)\n",
            "  Preparing metadata (setup.py) ... \u001b[?25l\u001b[?25hdone\n",
            "Building wheels for collected packages: docopt\n",
            "  Building wheel for docopt (setup.py) ... \u001b[?25l\u001b[?25hdone\n",
            "  Created wheel for docopt: filename=docopt-0.6.2-py2.py3-none-any.whl size=13723 sha256=81954e88c7f201264a7ac54746a93247bbac63c2c7b7b1bc6292ab4822024d1a\n",
            "  Stored in directory: /root/.cache/pip/wheels/70/4a/46/1309fc853b8d395e60bafaf1b6df7845bdd82c95fd59dd8d2b\n",
            "Successfully built docopt\n",
            "Installing collected packages: pymorphy2-dicts-ru, docopt, dawg-python, pymorphy2\n",
            "Successfully installed dawg-python-0.7.2 docopt-0.6.2 pymorphy2-0.9.1 pymorphy2-dicts-ru-2.4.417127.4579844\n"
          ]
        },
        {
          "output_type": "stream",
          "name": "stderr",
          "text": [
            "[nltk_data] Downloading package stopwords to /root/nltk_data...\n",
            "[nltk_data]   Unzipping corpora/stopwords.zip.\n"
          ]
        }
      ],
      "source": [
        "import pandas as pd\n",
        "import numpy as np\n",
        "import random\n",
        "import seaborn as sns\n",
        "import matplotlib.pyplot as plt\n",
        "%matplotlib inline\n",
        "\n",
        "!pip install pymorphy2\n",
        "import re\n",
        "from pymorphy2 import MorphAnalyzer\n",
        "from functools import lru_cache\n",
        "from nltk.corpus import stopwords\n",
        "\n",
        "from multiprocessing import Pool\n",
        "from tqdm import tqdm\n",
        "\n",
        "import nltk\n",
        "nltk.download('stopwords')\n",
        "\n",
        "np.random.seed(42)\n",
        "random.seed(42)"
      ]
    },
    {
      "cell_type": "markdown",
      "source": [
        "# Работа с данными"
      ],
      "metadata": {
        "id": "OMpFA4jQce9J"
      }
    },
    {
      "cell_type": "code",
      "source": [
        "#train\n",
        "train = pd.read_csv('/content/data_A.csv')\n",
        "#val\n",
        "val = pd.read_csv('/content/A_val.csv')\n",
        "#test\n",
        "test = pd.read_csv('/content/A_test.csv')"
      ],
      "metadata": {
        "id": "vvGbM4IocfLs"
      },
      "execution_count": 11,
      "outputs": []
    },
    {
      "cell_type": "code",
      "source": [
        "test"
      ],
      "metadata": {
        "colab": {
          "base_uri": "https://localhost:8080/",
          "height": 641
        },
        "id": "Is8XLRv4Ia2L",
        "outputId": "0942eb57-bdaf-43fb-b54a-dfb4b43f6528"
      },
      "execution_count": 12,
      "outputs": [
        {
          "output_type": "execute_result",
          "data": {
            "text/plain": [
              "                                                  title  \\\n",
              "0     Biden Unveils Plan To Combat Threat Of Western...   \n",
              "1     Trump Praises Marjorie Taylor Greene, Who Just...   \n",
              "2     Over 40 People Have Been Arrested As Potential...   \n",
              "3     Politico Newsroom In Uproar Over Ben Shapiro’s...   \n",
              "4     100 Experts Express ‘Growing Alarm’ That Repub...   \n",
              "...                                                 ...   \n",
              "5193                 The Worst-Run Big City in the U.S.   \n",
              "5194  If Biden Wants Unity, He Should Emulate Bush I...   \n",
              "5195  Fact Checking Claims About GOP Senators Being ...   \n",
              "5196       A Return to Reaganism for the GOP? Unlikely.   \n",
              "5197  Both Parties Are to Blame for the Immigration ...   \n",
              "\n",
              "                                                content   label  \n",
              "0     President Joe Biden is meeting with the govern...    left  \n",
              "1     Former President Donald Trump shouted out Rep....    left  \n",
              "2     In the four weeks since a 21-year-old alleged ...    left  \n",
              "3     Politico faced an internal uproar on Thursday ...    left  \n",
              "4     More than 100 scholars have issued a dire warn...    left  \n",
              "...                                                 ...     ...  \n",
              "5193  As long as San Francisco is an alluring destin...  center  \n",
              "5194  OPINION\\n\\nAs an American, I wish President Jo...   right  \n",
              "5195  FACT CHECK\\n\\nA viral tweet claims to show a R...  center  \n",
              "5196  ANALYSIS\\n\\nThroughout Donald Trump’s captivit...   right  \n",
              "5197  OPINION\\n\\nWhen it comes to immigration, and e...   right  \n",
              "\n",
              "[5198 rows x 3 columns]"
            ],
            "text/html": [
              "\n",
              "  <div id=\"df-c856f7dd-e5ad-4add-b63c-5ed6105096ea\">\n",
              "    <div class=\"colab-df-container\">\n",
              "      <div>\n",
              "<style scoped>\n",
              "    .dataframe tbody tr th:only-of-type {\n",
              "        vertical-align: middle;\n",
              "    }\n",
              "\n",
              "    .dataframe tbody tr th {\n",
              "        vertical-align: top;\n",
              "    }\n",
              "\n",
              "    .dataframe thead th {\n",
              "        text-align: right;\n",
              "    }\n",
              "</style>\n",
              "<table border=\"1\" class=\"dataframe\">\n",
              "  <thead>\n",
              "    <tr style=\"text-align: right;\">\n",
              "      <th></th>\n",
              "      <th>title</th>\n",
              "      <th>content</th>\n",
              "      <th>label</th>\n",
              "    </tr>\n",
              "  </thead>\n",
              "  <tbody>\n",
              "    <tr>\n",
              "      <th>0</th>\n",
              "      <td>Biden Unveils Plan To Combat Threat Of Western...</td>\n",
              "      <td>President Joe Biden is meeting with the govern...</td>\n",
              "      <td>left</td>\n",
              "    </tr>\n",
              "    <tr>\n",
              "      <th>1</th>\n",
              "      <td>Trump Praises Marjorie Taylor Greene, Who Just...</td>\n",
              "      <td>Former President Donald Trump shouted out Rep....</td>\n",
              "      <td>left</td>\n",
              "    </tr>\n",
              "    <tr>\n",
              "      <th>2</th>\n",
              "      <td>Over 40 People Have Been Arrested As Potential...</td>\n",
              "      <td>In the four weeks since a 21-year-old alleged ...</td>\n",
              "      <td>left</td>\n",
              "    </tr>\n",
              "    <tr>\n",
              "      <th>3</th>\n",
              "      <td>Politico Newsroom In Uproar Over Ben Shapiro’s...</td>\n",
              "      <td>Politico faced an internal uproar on Thursday ...</td>\n",
              "      <td>left</td>\n",
              "    </tr>\n",
              "    <tr>\n",
              "      <th>4</th>\n",
              "      <td>100 Experts Express ‘Growing Alarm’ That Repub...</td>\n",
              "      <td>More than 100 scholars have issued a dire warn...</td>\n",
              "      <td>left</td>\n",
              "    </tr>\n",
              "    <tr>\n",
              "      <th>...</th>\n",
              "      <td>...</td>\n",
              "      <td>...</td>\n",
              "      <td>...</td>\n",
              "    </tr>\n",
              "    <tr>\n",
              "      <th>5193</th>\n",
              "      <td>The Worst-Run Big City in the U.S.</td>\n",
              "      <td>As long as San Francisco is an alluring destin...</td>\n",
              "      <td>center</td>\n",
              "    </tr>\n",
              "    <tr>\n",
              "      <th>5194</th>\n",
              "      <td>If Biden Wants Unity, He Should Emulate Bush I...</td>\n",
              "      <td>OPINION\\n\\nAs an American, I wish President Jo...</td>\n",
              "      <td>right</td>\n",
              "    </tr>\n",
              "    <tr>\n",
              "      <th>5195</th>\n",
              "      <td>Fact Checking Claims About GOP Senators Being ...</td>\n",
              "      <td>FACT CHECK\\n\\nA viral tweet claims to show a R...</td>\n",
              "      <td>center</td>\n",
              "    </tr>\n",
              "    <tr>\n",
              "      <th>5196</th>\n",
              "      <td>A Return to Reaganism for the GOP? Unlikely.</td>\n",
              "      <td>ANALYSIS\\n\\nThroughout Donald Trump’s captivit...</td>\n",
              "      <td>right</td>\n",
              "    </tr>\n",
              "    <tr>\n",
              "      <th>5197</th>\n",
              "      <td>Both Parties Are to Blame for the Immigration ...</td>\n",
              "      <td>OPINION\\n\\nWhen it comes to immigration, and e...</td>\n",
              "      <td>right</td>\n",
              "    </tr>\n",
              "  </tbody>\n",
              "</table>\n",
              "<p>5198 rows × 3 columns</p>\n",
              "</div>\n",
              "      <button class=\"colab-df-convert\" onclick=\"convertToInteractive('df-c856f7dd-e5ad-4add-b63c-5ed6105096ea')\"\n",
              "              title=\"Convert this dataframe to an interactive table.\"\n",
              "              style=\"display:none;\">\n",
              "        \n",
              "  <svg xmlns=\"http://www.w3.org/2000/svg\" height=\"24px\"viewBox=\"0 0 24 24\"\n",
              "       width=\"24px\">\n",
              "    <path d=\"M0 0h24v24H0V0z\" fill=\"none\"/>\n",
              "    <path d=\"M18.56 5.44l.94 2.06.94-2.06 2.06-.94-2.06-.94-.94-2.06-.94 2.06-2.06.94zm-11 1L8.5 8.5l.94-2.06 2.06-.94-2.06-.94L8.5 2.5l-.94 2.06-2.06.94zm10 10l.94 2.06.94-2.06 2.06-.94-2.06-.94-.94-2.06-.94 2.06-2.06.94z\"/><path d=\"M17.41 7.96l-1.37-1.37c-.4-.4-.92-.59-1.43-.59-.52 0-1.04.2-1.43.59L10.3 9.45l-7.72 7.72c-.78.78-.78 2.05 0 2.83L4 21.41c.39.39.9.59 1.41.59.51 0 1.02-.2 1.41-.59l7.78-7.78 2.81-2.81c.8-.78.8-2.07 0-2.86zM5.41 20L4 18.59l7.72-7.72 1.47 1.35L5.41 20z\"/>\n",
              "  </svg>\n",
              "      </button>\n",
              "      \n",
              "  <style>\n",
              "    .colab-df-container {\n",
              "      display:flex;\n",
              "      flex-wrap:wrap;\n",
              "      gap: 12px;\n",
              "    }\n",
              "\n",
              "    .colab-df-convert {\n",
              "      background-color: #E8F0FE;\n",
              "      border: none;\n",
              "      border-radius: 50%;\n",
              "      cursor: pointer;\n",
              "      display: none;\n",
              "      fill: #1967D2;\n",
              "      height: 32px;\n",
              "      padding: 0 0 0 0;\n",
              "      width: 32px;\n",
              "    }\n",
              "\n",
              "    .colab-df-convert:hover {\n",
              "      background-color: #E2EBFA;\n",
              "      box-shadow: 0px 1px 2px rgba(60, 64, 67, 0.3), 0px 1px 3px 1px rgba(60, 64, 67, 0.15);\n",
              "      fill: #174EA6;\n",
              "    }\n",
              "\n",
              "    [theme=dark] .colab-df-convert {\n",
              "      background-color: #3B4455;\n",
              "      fill: #D2E3FC;\n",
              "    }\n",
              "\n",
              "    [theme=dark] .colab-df-convert:hover {\n",
              "      background-color: #434B5C;\n",
              "      box-shadow: 0px 1px 3px 1px rgba(0, 0, 0, 0.15);\n",
              "      filter: drop-shadow(0px 1px 2px rgba(0, 0, 0, 0.3));\n",
              "      fill: #FFFFFF;\n",
              "    }\n",
              "  </style>\n",
              "\n",
              "      <script>\n",
              "        const buttonEl =\n",
              "          document.querySelector('#df-c856f7dd-e5ad-4add-b63c-5ed6105096ea button.colab-df-convert');\n",
              "        buttonEl.style.display =\n",
              "          google.colab.kernel.accessAllowed ? 'block' : 'none';\n",
              "\n",
              "        async function convertToInteractive(key) {\n",
              "          const element = document.querySelector('#df-c856f7dd-e5ad-4add-b63c-5ed6105096ea');\n",
              "          const dataTable =\n",
              "            await google.colab.kernel.invokeFunction('convertToInteractive',\n",
              "                                                     [key], {});\n",
              "          if (!dataTable) return;\n",
              "\n",
              "          const docLinkHtml = 'Like what you see? Visit the ' +\n",
              "            '<a target=\"_blank\" href=https://colab.research.google.com/notebooks/data_table.ipynb>data table notebook</a>'\n",
              "            + ' to learn more about interactive tables.';\n",
              "          element.innerHTML = '';\n",
              "          dataTable['output_type'] = 'display_data';\n",
              "          await google.colab.output.renderOutput(dataTable, element);\n",
              "          const docLink = document.createElement('div');\n",
              "          docLink.innerHTML = docLinkHtml;\n",
              "          element.appendChild(docLink);\n",
              "        }\n",
              "      </script>\n",
              "    </div>\n",
              "  </div>\n",
              "  "
            ]
          },
          "metadata": {},
          "execution_count": 12
        }
      ]
    },
    {
      "cell_type": "code",
      "source": [
        "data = train.append(val)\n",
        "data = data.append(test)\n",
        "data.shape"
      ],
      "metadata": {
        "colab": {
          "base_uri": "https://localhost:8080/"
        },
        "id": "E21DuA71IcRi",
        "outputId": "07bc6810-8a01-4e2e-ea83-90f368b87bd0"
      },
      "execution_count": 13,
      "outputs": [
        {
          "output_type": "execute_result",
          "data": {
            "text/plain": [
              "(55277, 3)"
            ]
          },
          "metadata": {},
          "execution_count": 13
        }
      ]
    },
    {
      "cell_type": "code",
      "source": [
        "data"
      ],
      "metadata": {
        "colab": {
          "base_uri": "https://localhost:8080/",
          "height": 641
        },
        "id": "azr48KbnIdey",
        "outputId": "242b1e54-f5d6-49df-c3af-30911db654a7"
      },
      "execution_count": 14,
      "outputs": [
        {
          "output_type": "execute_result",
          "data": {
            "text/plain": [
              "                                                  title  \\\n",
              "0                   Kamala Harris’s Very Bad Trip South   \n",
              "1                            Serving America's Veterans   \n",
              "2     Democrats seize on Mueller hearings in electio...   \n",
              "3     Rubio: Biden's Rhetoric, 1st-Day Policies Crea...   \n",
              "4     FBI failed to follow Justice Department’s news...   \n",
              "...                                                 ...   \n",
              "5193                 The Worst-Run Big City in the U.S.   \n",
              "5194  If Biden Wants Unity, He Should Emulate Bush I...   \n",
              "5195  Fact Checking Claims About GOP Senators Being ...   \n",
              "5196       A Return to Reaganism for the GOP? Unlikely.   \n",
              "5197  Both Parties Are to Blame for the Immigration ...   \n",
              "\n",
              "                                                content   label  \n",
              "0     OPINION\\n\\nKamala Harris was not happy about b...   right  \n",
              "1     Opinion\\n\\nTo my fellow veterans: Our country ...   right  \n",
              "2     Democrats calling for action on election secur...  center  \n",
              "3     President Joe Biden's rhetoric both before and...   right  \n",
              "4     FBI agents did not follow Justice Department g...  center  \n",
              "...                                                 ...     ...  \n",
              "5193  As long as San Francisco is an alluring destin...  center  \n",
              "5194  OPINION\\n\\nAs an American, I wish President Jo...   right  \n",
              "5195  FACT CHECK\\n\\nA viral tweet claims to show a R...  center  \n",
              "5196  ANALYSIS\\n\\nThroughout Donald Trump’s captivit...   right  \n",
              "5197  OPINION\\n\\nWhen it comes to immigration, and e...   right  \n",
              "\n",
              "[55277 rows x 3 columns]"
            ],
            "text/html": [
              "\n",
              "  <div id=\"df-57c959a5-6f9d-40be-a27a-775568dc6425\">\n",
              "    <div class=\"colab-df-container\">\n",
              "      <div>\n",
              "<style scoped>\n",
              "    .dataframe tbody tr th:only-of-type {\n",
              "        vertical-align: middle;\n",
              "    }\n",
              "\n",
              "    .dataframe tbody tr th {\n",
              "        vertical-align: top;\n",
              "    }\n",
              "\n",
              "    .dataframe thead th {\n",
              "        text-align: right;\n",
              "    }\n",
              "</style>\n",
              "<table border=\"1\" class=\"dataframe\">\n",
              "  <thead>\n",
              "    <tr style=\"text-align: right;\">\n",
              "      <th></th>\n",
              "      <th>title</th>\n",
              "      <th>content</th>\n",
              "      <th>label</th>\n",
              "    </tr>\n",
              "  </thead>\n",
              "  <tbody>\n",
              "    <tr>\n",
              "      <th>0</th>\n",
              "      <td>Kamala Harris’s Very Bad Trip South</td>\n",
              "      <td>OPINION\\n\\nKamala Harris was not happy about b...</td>\n",
              "      <td>right</td>\n",
              "    </tr>\n",
              "    <tr>\n",
              "      <th>1</th>\n",
              "      <td>Serving America's Veterans</td>\n",
              "      <td>Opinion\\n\\nTo my fellow veterans: Our country ...</td>\n",
              "      <td>right</td>\n",
              "    </tr>\n",
              "    <tr>\n",
              "      <th>2</th>\n",
              "      <td>Democrats seize on Mueller hearings in electio...</td>\n",
              "      <td>Democrats calling for action on election secur...</td>\n",
              "      <td>center</td>\n",
              "    </tr>\n",
              "    <tr>\n",
              "      <th>3</th>\n",
              "      <td>Rubio: Biden's Rhetoric, 1st-Day Policies Crea...</td>\n",
              "      <td>President Joe Biden's rhetoric both before and...</td>\n",
              "      <td>right</td>\n",
              "    </tr>\n",
              "    <tr>\n",
              "      <th>4</th>\n",
              "      <td>FBI failed to follow Justice Department’s news...</td>\n",
              "      <td>FBI agents did not follow Justice Department g...</td>\n",
              "      <td>center</td>\n",
              "    </tr>\n",
              "    <tr>\n",
              "      <th>...</th>\n",
              "      <td>...</td>\n",
              "      <td>...</td>\n",
              "      <td>...</td>\n",
              "    </tr>\n",
              "    <tr>\n",
              "      <th>5193</th>\n",
              "      <td>The Worst-Run Big City in the U.S.</td>\n",
              "      <td>As long as San Francisco is an alluring destin...</td>\n",
              "      <td>center</td>\n",
              "    </tr>\n",
              "    <tr>\n",
              "      <th>5194</th>\n",
              "      <td>If Biden Wants Unity, He Should Emulate Bush I...</td>\n",
              "      <td>OPINION\\n\\nAs an American, I wish President Jo...</td>\n",
              "      <td>right</td>\n",
              "    </tr>\n",
              "    <tr>\n",
              "      <th>5195</th>\n",
              "      <td>Fact Checking Claims About GOP Senators Being ...</td>\n",
              "      <td>FACT CHECK\\n\\nA viral tweet claims to show a R...</td>\n",
              "      <td>center</td>\n",
              "    </tr>\n",
              "    <tr>\n",
              "      <th>5196</th>\n",
              "      <td>A Return to Reaganism for the GOP? Unlikely.</td>\n",
              "      <td>ANALYSIS\\n\\nThroughout Donald Trump’s captivit...</td>\n",
              "      <td>right</td>\n",
              "    </tr>\n",
              "    <tr>\n",
              "      <th>5197</th>\n",
              "      <td>Both Parties Are to Blame for the Immigration ...</td>\n",
              "      <td>OPINION\\n\\nWhen it comes to immigration, and e...</td>\n",
              "      <td>right</td>\n",
              "    </tr>\n",
              "  </tbody>\n",
              "</table>\n",
              "<p>55277 rows × 3 columns</p>\n",
              "</div>\n",
              "      <button class=\"colab-df-convert\" onclick=\"convertToInteractive('df-57c959a5-6f9d-40be-a27a-775568dc6425')\"\n",
              "              title=\"Convert this dataframe to an interactive table.\"\n",
              "              style=\"display:none;\">\n",
              "        \n",
              "  <svg xmlns=\"http://www.w3.org/2000/svg\" height=\"24px\"viewBox=\"0 0 24 24\"\n",
              "       width=\"24px\">\n",
              "    <path d=\"M0 0h24v24H0V0z\" fill=\"none\"/>\n",
              "    <path d=\"M18.56 5.44l.94 2.06.94-2.06 2.06-.94-2.06-.94-.94-2.06-.94 2.06-2.06.94zm-11 1L8.5 8.5l.94-2.06 2.06-.94-2.06-.94L8.5 2.5l-.94 2.06-2.06.94zm10 10l.94 2.06.94-2.06 2.06-.94-2.06-.94-.94-2.06-.94 2.06-2.06.94z\"/><path d=\"M17.41 7.96l-1.37-1.37c-.4-.4-.92-.59-1.43-.59-.52 0-1.04.2-1.43.59L10.3 9.45l-7.72 7.72c-.78.78-.78 2.05 0 2.83L4 21.41c.39.39.9.59 1.41.59.51 0 1.02-.2 1.41-.59l7.78-7.78 2.81-2.81c.8-.78.8-2.07 0-2.86zM5.41 20L4 18.59l7.72-7.72 1.47 1.35L5.41 20z\"/>\n",
              "  </svg>\n",
              "      </button>\n",
              "      \n",
              "  <style>\n",
              "    .colab-df-container {\n",
              "      display:flex;\n",
              "      flex-wrap:wrap;\n",
              "      gap: 12px;\n",
              "    }\n",
              "\n",
              "    .colab-df-convert {\n",
              "      background-color: #E8F0FE;\n",
              "      border: none;\n",
              "      border-radius: 50%;\n",
              "      cursor: pointer;\n",
              "      display: none;\n",
              "      fill: #1967D2;\n",
              "      height: 32px;\n",
              "      padding: 0 0 0 0;\n",
              "      width: 32px;\n",
              "    }\n",
              "\n",
              "    .colab-df-convert:hover {\n",
              "      background-color: #E2EBFA;\n",
              "      box-shadow: 0px 1px 2px rgba(60, 64, 67, 0.3), 0px 1px 3px 1px rgba(60, 64, 67, 0.15);\n",
              "      fill: #174EA6;\n",
              "    }\n",
              "\n",
              "    [theme=dark] .colab-df-convert {\n",
              "      background-color: #3B4455;\n",
              "      fill: #D2E3FC;\n",
              "    }\n",
              "\n",
              "    [theme=dark] .colab-df-convert:hover {\n",
              "      background-color: #434B5C;\n",
              "      box-shadow: 0px 1px 3px 1px rgba(0, 0, 0, 0.15);\n",
              "      filter: drop-shadow(0px 1px 2px rgba(0, 0, 0, 0.3));\n",
              "      fill: #FFFFFF;\n",
              "    }\n",
              "  </style>\n",
              "\n",
              "      <script>\n",
              "        const buttonEl =\n",
              "          document.querySelector('#df-57c959a5-6f9d-40be-a27a-775568dc6425 button.colab-df-convert');\n",
              "        buttonEl.style.display =\n",
              "          google.colab.kernel.accessAllowed ? 'block' : 'none';\n",
              "\n",
              "        async function convertToInteractive(key) {\n",
              "          const element = document.querySelector('#df-57c959a5-6f9d-40be-a27a-775568dc6425');\n",
              "          const dataTable =\n",
              "            await google.colab.kernel.invokeFunction('convertToInteractive',\n",
              "                                                     [key], {});\n",
              "          if (!dataTable) return;\n",
              "\n",
              "          const docLinkHtml = 'Like what you see? Visit the ' +\n",
              "            '<a target=\"_blank\" href=https://colab.research.google.com/notebooks/data_table.ipynb>data table notebook</a>'\n",
              "            + ' to learn more about interactive tables.';\n",
              "          element.innerHTML = '';\n",
              "          dataTable['output_type'] = 'display_data';\n",
              "          await google.colab.output.renderOutput(dataTable, element);\n",
              "          const docLink = document.createElement('div');\n",
              "          docLink.innerHTML = docLinkHtml;\n",
              "          element.appendChild(docLink);\n",
              "        }\n",
              "      </script>\n",
              "    </div>\n",
              "  </div>\n",
              "  "
            ]
          },
          "metadata": {},
          "execution_count": 14
        }
      ]
    },
    {
      "cell_type": "markdown",
      "source": [
        "Удаление NaN"
      ],
      "metadata": {
        "id": "fg0P5aqiJi_c"
      }
    },
    {
      "cell_type": "code",
      "source": [
        "train = train.dropna()\n",
        "val = val.dropna()\n",
        "test = test.dropna()\n",
        "data = data.dropna()"
      ],
      "metadata": {
        "id": "rpjytPxTIg8t"
      },
      "execution_count": 15,
      "outputs": []
    },
    {
      "cell_type": "markdown",
      "source": [
        "Взглянем на распределение по классам на всех данных"
      ],
      "metadata": {
        "id": "4F77YMR-IlfN"
      }
    },
    {
      "cell_type": "code",
      "source": [
        "sns.factorplot('label',data = data,kind='count')\n",
        "plt.grid()\n",
        "plt.title(\"Class distribution in the data\");"
      ],
      "metadata": {
        "colab": {
          "base_uri": "https://localhost:8080/",
          "height": 474
        },
        "id": "Nzzbq0UeIjT0",
        "outputId": "c3906981-b161-40fa-8602-fd9415713c75"
      },
      "execution_count": 16,
      "outputs": [
        {
          "output_type": "stream",
          "name": "stderr",
          "text": [
            "/usr/local/lib/python3.9/dist-packages/seaborn/categorical.py:3717: UserWarning: The `factorplot` function has been renamed to `catplot`. The original name will be removed in a future release. Please update your code. Note that the default `kind` in `factorplot` (`'point'`) has changed `'strip'` in `catplot`.\n",
            "  warnings.warn(msg)\n",
            "/usr/local/lib/python3.9/dist-packages/seaborn/_decorators.py:36: FutureWarning: Pass the following variable as a keyword arg: x. From version 0.12, the only valid positional argument will be `data`, and passing other arguments without an explicit keyword will result in an error or misinterpretation.\n",
            "  warnings.warn(\n"
          ]
        },
        {
          "output_type": "display_data",
          "data": {
            "text/plain": [
              "<Figure size 360x360 with 1 Axes>"
            ],
            "image/png": "[encoded data removed]"
          },
          "metadata": {
            "needs_background": "light"
          }
        }
      ]
    },
    {
      "cell_type": "code",
      "source": [
        "train['all_text'] = train['title']+train['content']\n",
        "val['all_text'] = val['title']+val['content']\n",
        "test['all_text'] = test['title']+test['content']"
      ],
      "metadata": {
        "id": "nYBjHrJpZYr8"
      },
      "execution_count": 17,
      "outputs": []
    },
    {
      "cell_type": "markdown",
      "source": [
        "#Лемматизация"
      ],
      "metadata": {
        "id": "qXLf9KkBDxsK"
      }
    },
    {
      "cell_type": "code",
      "source": [
        "m = MorphAnalyzer()\n",
        "regex = re.compile(\"[A-Za-z]+\")\n",
        "\n",
        "def words_only(text, regex=regex):\n",
        "    try:\n",
        "        return regex.findall(text.lower())\n",
        "    except:\n",
        "        return []\n",
        "\n",
        "@lru_cache(maxsize=128)\n",
        "def lemmatize_word(token, pymorphy=m):\n",
        "    return pymorphy.parse(token)[0].normal_form\n",
        "\n",
        "def lemmatize_text(text):\n",
        "    return [lemmatize_word(w) for w in text]\n",
        "\n",
        "\n",
        "mystopwords = stopwords.words('english') \n",
        "def remove_stopwords(lemmas, stopwords = mystopwords):\n",
        "    return [w for w in lemmas if not w in stopwords and len(w) > 3]\n",
        "\n",
        "def clean_text(text):\n",
        "    tokens = words_only(text)\n",
        "    lemmas = lemmatize_text(tokens)\n",
        "    \n",
        "    return ' '.join(remove_stopwords(lemmas))"
      ],
      "metadata": {
        "id": "t_XknhY9dOdA"
      },
      "execution_count": 18,
      "outputs": []
    },
    {
      "cell_type": "code",
      "source": [
        "from multiprocessing import Pool as PoolSklearn\n",
        "#train\n",
        "with PoolSklearn(4) as p:\n",
        "    lemmas = list(tqdm(p.imap(clean_text, train['all_text']), total=len(train)))\n",
        "    \n",
        "train['lemmas'] = lemmas\n",
        "train.sample(5)\n",
        "\n",
        "#val\n",
        "with PoolSklearn(4) as p:\n",
        "    lemmas = list(tqdm(p.imap(clean_text, val['all_text']), total=len(val)))  \n",
        "val['lemmas'] = lemmas\n",
        "val.sample(5)\n",
        "\n",
        "#test \n",
        "with PoolSklearn(4) as p:\n",
        "    lemmas = list(tqdm(p.imap(clean_text, test['all_text']), total=len(test)))\n",
        "    \n",
        "test['lemmas'] = lemmas\n",
        "test.sample(5)"
      ],
      "metadata": {
        "id": "QLcSOGcydn1D",
        "colab": {
          "base_uri": "https://localhost:8080/",
          "height": 545
        },
        "outputId": "9607f063-2528-4dc3-fe64-34bd65af5ba6"
      },
      "execution_count": 19,
      "outputs": [
        {
          "output_type": "stream",
          "name": "stderr",
          "text": [
            "100%|██████████| 45071/45071 [01:21<00:00, 552.25it/s]\n",
            "100%|██████████| 5008/5008 [00:08<00:00, 610.17it/s]\n",
            "100%|██████████| 5198/5198 [00:08<00:00, 631.42it/s]\n"
          ]
        },
        {
          "output_type": "execute_result",
          "data": {
            "text/plain": [
              "                                                  title  \\\n",
              "4800  Judge: NSA domestic phone data-mining unconsti...   \n",
              "794                        Russian missiles strike Lviv   \n",
              "4951  McCarthy won't support January 6 commission an...   \n",
              "4315  Sarah Sanders becomes the latest ex-Trump offi...   \n",
              "4122  Is same-sex marriage no longer a political issue?   \n",
              "\n",
              "                                                content   label  \\\n",
              "4800  Opinion\\n\\nTo my fellow veterans: Our country ...    left   \n",
              "794   Russia fired missiles at an airport near Lviv ...  center   \n",
              "4951  House Republican Leader Kevin McCarthy announc...    left   \n",
              "4315  New York (CNN Business)Former White House pres...    left   \n",
              "4122  OPINION\\n\\nSame sex marriage is a non-issue in...    left   \n",
              "\n",
              "                                               all_text  \\\n",
              "4800  Judge: NSA domestic phone data-mining unconsti...   \n",
              "794   Russian missiles strike LvivRussia fired missi...   \n",
              "4951  McCarthy won't support January 6 commission an...   \n",
              "4315  Sarah Sanders becomes the latest ex-Trump offi...   \n",
              "4122  Is same-sex marriage no longer a political iss...   \n",
              "\n",
              "                                                 lemmas  \n",
              "4800  judge domestic phone data mining unconstitutio...  \n",
              "794   russian missiles strike lvivrussia fired missi...  \n",
              "4951  mccarthy support january commission sides repu...  \n",
              "4315  sarah sanders becomes latest trump official jo...  \n",
              "4122  marriage longer political issue opinion marria...  "
            ],
            "text/html": [
              "\n",
              "  <div id=\"df-8a966b7a-63a0-4921-8575-66922dd2f0c9\">\n",
              "    <div class=\"colab-df-container\">\n",
              "      <div>\n",
              "<style scoped>\n",
              "    .dataframe tbody tr th:only-of-type {\n",
              "        vertical-align: middle;\n",
              "    }\n",
              "\n",
              "    .dataframe tbody tr th {\n",
              "        vertical-align: top;\n",
              "    }\n",
              "\n",
              "    .dataframe thead th {\n",
              "        text-align: right;\n",
              "    }\n",
              "</style>\n",
              "<table border=\"1\" class=\"dataframe\">\n",
              "  <thead>\n",
              "    <tr style=\"text-align: right;\">\n",
              "      <th></th>\n",
              "      <th>title</th>\n",
              "      <th>content</th>\n",
              "      <th>label</th>\n",
              "      <th>all_text</th>\n",
              "      <th>lemmas</th>\n",
              "    </tr>\n",
              "  </thead>\n",
              "  <tbody>\n",
              "    <tr>\n",
              "      <th>4800</th>\n",
              "      <td>Judge: NSA domestic phone data-mining unconsti...</td>\n",
              "      <td>Opinion\\n\\nTo my fellow veterans: Our country ...</td>\n",
              "      <td>left</td>\n",
              "      <td>Judge: NSA domestic phone data-mining unconsti...</td>\n",
              "      <td>judge domestic phone data mining unconstitutio...</td>\n",
              "    </tr>\n",
              "    <tr>\n",
              "      <th>794</th>\n",
              "      <td>Russian missiles strike Lviv</td>\n",
              "      <td>Russia fired missiles at an airport near Lviv ...</td>\n",
              "      <td>center</td>\n",
              "      <td>Russian missiles strike LvivRussia fired missi...</td>\n",
              "      <td>russian missiles strike lvivrussia fired missi...</td>\n",
              "    </tr>\n",
              "    <tr>\n",
              "      <th>4951</th>\n",
              "      <td>McCarthy won't support January 6 commission an...</td>\n",
              "      <td>House Republican Leader Kevin McCarthy announc...</td>\n",
              "      <td>left</td>\n",
              "      <td>McCarthy won't support January 6 commission an...</td>\n",
              "      <td>mccarthy support january commission sides repu...</td>\n",
              "    </tr>\n",
              "    <tr>\n",
              "      <th>4315</th>\n",
              "      <td>Sarah Sanders becomes the latest ex-Trump offi...</td>\n",
              "      <td>New York (CNN Business)Former White House pres...</td>\n",
              "      <td>left</td>\n",
              "      <td>Sarah Sanders becomes the latest ex-Trump offi...</td>\n",
              "      <td>sarah sanders becomes latest trump official jo...</td>\n",
              "    </tr>\n",
              "    <tr>\n",
              "      <th>4122</th>\n",
              "      <td>Is same-sex marriage no longer a political issue?</td>\n",
              "      <td>OPINION\\n\\nSame sex marriage is a non-issue in...</td>\n",
              "      <td>left</td>\n",
              "      <td>Is same-sex marriage no longer a political iss...</td>\n",
              "      <td>marriage longer political issue opinion marria...</td>\n",
              "    </tr>\n",
              "  </tbody>\n",
              "</table>\n",
              "</div>\n",
              "      <button class=\"colab-df-convert\" onclick=\"convertToInteractive('df-8a966b7a-63a0-4921-8575-66922dd2f0c9')\"\n",
              "              title=\"Convert this dataframe to an interactive table.\"\n",
              "              style=\"display:none;\">\n",
              "        \n",
              "  <svg xmlns=\"http://www.w3.org/2000/svg\" height=\"24px\"viewBox=\"0 0 24 24\"\n",
              "       width=\"24px\">\n",
              "    <path d=\"M0 0h24v24H0V0z\" fill=\"none\"/>\n",
              "    <path d=\"M18.56 5.44l.94 2.06.94-2.06 2.06-.94-2.06-.94-.94-2.06-.94 2.06-2.06.94zm-11 1L8.5 8.5l.94-2.06 2.06-.94-2.06-.94L8.5 2.5l-.94 2.06-2.06.94zm10 10l.94 2.06.94-2.06 2.06-.94-2.06-.94-.94-2.06-.94 2.06-2.06.94z\"/><path d=\"M17.41 7.96l-1.37-1.37c-.4-.4-.92-.59-1.43-.59-.52 0-1.04.2-1.43.59L10.3 9.45l-7.72 7.72c-.78.78-.78 2.05 0 2.83L4 21.41c.39.39.9.59 1.41.59.51 0 1.02-.2 1.41-.59l7.78-7.78 2.81-2.81c.8-.78.8-2.07 0-2.86zM5.41 20L4 18.59l7.72-7.72 1.47 1.35L5.41 20z\"/>\n",
              "  </svg>\n",
              "      </button>\n",
              "      \n",
              "  <style>\n",
              "    .colab-df-container {\n",
              "      display:flex;\n",
              "      flex-wrap:wrap;\n",
              "      gap: 12px;\n",
              "    }\n",
              "\n",
              "    .colab-df-convert {\n",
              "      background-color: #E8F0FE;\n",
              "      border: none;\n",
              "      border-radius: 50%;\n",
              "      cursor: pointer;\n",
              "      display: none;\n",
              "      fill: #1967D2;\n",
              "      height: 32px;\n",
              "      padding: 0 0 0 0;\n",
              "      width: 32px;\n",
              "    }\n",
              "\n",
              "    .colab-df-convert:hover {\n",
              "      background-color: #E2EBFA;\n",
              "      box-shadow: 0px 1px 2px rgba(60, 64, 67, 0.3), 0px 1px 3px 1px rgba(60, 64, 67, 0.15);\n",
              "      fill: #174EA6;\n",
              "    }\n",
              "\n",
              "    [theme=dark] .colab-df-convert {\n",
              "      background-color: #3B4455;\n",
              "      fill: #D2E3FC;\n",
              "    }\n",
              "\n",
              "    [theme=dark] .colab-df-convert:hover {\n",
              "      background-color: #434B5C;\n",
              "      box-shadow: 0px 1px 3px 1px rgba(0, 0, 0, 0.15);\n",
              "      filter: drop-shadow(0px 1px 2px rgba(0, 0, 0, 0.3));\n",
              "      fill: #FFFFFF;\n",
              "    }\n",
              "  </style>\n",
              "\n",
              "      <script>\n",
              "        const buttonEl =\n",
              "          document.querySelector('#df-8a966b7a-63a0-4921-8575-66922dd2f0c9 button.colab-df-convert');\n",
              "        buttonEl.style.display =\n",
              "          google.colab.kernel.accessAllowed ? 'block' : 'none';\n",
              "\n",
              "        async function convertToInteractive(key) {\n",
              "          const element = document.querySelector('#df-8a966b7a-63a0-4921-8575-66922dd2f0c9');\n",
              "          const dataTable =\n",
              "            await google.colab.kernel.invokeFunction('convertToInteractive',\n",
              "                                                     [key], {});\n",
              "          if (!dataTable) return;\n",
              "\n",
              "          const docLinkHtml = 'Like what you see? Visit the ' +\n",
              "            '<a target=\"_blank\" href=https://colab.research.google.com/notebooks/data_table.ipynb>data table notebook</a>'\n",
              "            + ' to learn more about interactive tables.';\n",
              "          element.innerHTML = '';\n",
              "          dataTable['output_type'] = 'display_data';\n",
              "          await google.colab.output.renderOutput(dataTable, element);\n",
              "          const docLink = document.createElement('div');\n",
              "          docLink.innerHTML = docLinkHtml;\n",
              "          element.appendChild(docLink);\n",
              "        }\n",
              "      </script>\n",
              "    </div>\n",
              "  </div>\n",
              "  "
            ]
          },
          "metadata": {},
          "execution_count": 19
        }
      ]
    },
    {
      "cell_type": "code",
      "source": [
        "from sklearn.preprocessing import LabelEncoder\n",
        "labelencoder = LabelEncoder()\n",
        "train['label_enc'] = labelencoder.fit_transform(train['label'])\n",
        "val['label_enc'] = labelencoder.transform(val['label'])\n",
        "test['label_enc'] = labelencoder.transform(test['label'])\n",
        "train"
      ],
      "metadata": {
        "colab": {
          "base_uri": "https://localhost:8080/",
          "height": 1000
        },
        "id": "7yKgBzMYJ30s",
        "outputId": "da1927a9-7f44-44e9-b813-c91ccfa6f38d"
      },
      "execution_count": 20,
      "outputs": [
        {
          "output_type": "execute_result",
          "data": {
            "text/plain": [
              "                                                   title  \\\n",
              "0                    Kamala Harris’s Very Bad Trip South   \n",
              "1                             Serving America's Veterans   \n",
              "2      Democrats seize on Mueller hearings in electio...   \n",
              "3      Rubio: Biden's Rhetoric, 1st-Day Policies Crea...   \n",
              "4      FBI failed to follow Justice Department’s news...   \n",
              "...                                                  ...   \n",
              "45066  White House Adviser Says Trump Working on Back...   \n",
              "45067         Once, Talk of an Enemies List Was Shocking   \n",
              "45068  New White House press secretary makes false cl...   \n",
              "45069  Audit finds bloated budget for green jobs trai...   \n",
              "45070  Pelosi Says It's 'Just Not Worth It' to Impeac...   \n",
              "\n",
              "                                                 content   label  \\\n",
              "0      OPINION\\n\\nKamala Harris was not happy about b...   right   \n",
              "1      Opinion\\n\\nTo my fellow veterans: Our country ...   right   \n",
              "2      Democrats calling for action on election secur...  center   \n",
              "3      President Joe Biden's rhetoric both before and...   right   \n",
              "4      FBI agents did not follow Justice Department g...  center   \n",
              "...                                                  ...     ...   \n",
              "45066  A top White House adviser said President Trump...  center   \n",
              "45067  Now candidates openly speak of being proud of ...  center   \n",
              "45068  FACT CHECK\\n\\nAt the first official briefing b...    left   \n",
              "45069  A federal audit shows that nearly a half-billi...   right   \n",
              "45070  Speaker of the House of Representatives Nancy ...   right   \n",
              "\n",
              "                                                all_text  \\\n",
              "0      Kamala Harris’s Very Bad Trip SouthOPINION\\n\\n...   \n",
              "1      Serving America's VeteransOpinion\\n\\nTo my fel...   \n",
              "2      Democrats seize on Mueller hearings in electio...   \n",
              "3      Rubio: Biden's Rhetoric, 1st-Day Policies Crea...   \n",
              "4      FBI failed to follow Justice Department’s news...   \n",
              "...                                                  ...   \n",
              "45066  White House Adviser Says Trump Working on Back...   \n",
              "45067  Once, Talk of an Enemies List Was ShockingNow ...   \n",
              "45068  New White House press secretary makes false cl...   \n",
              "45069  Audit finds bloated budget for green jobs trai...   \n",
              "45070  Pelosi Says It's 'Just Not Worth It' to Impeac...   \n",
              "\n",
              "                                                  lemmas  label_enc  \n",
              "0      kamala harris trip southopinion kamala harris ...          2  \n",
              "1      serving america veteransopinion fellow veteran...          2  \n",
              "2      democrats seize mueller hearings election secu...          0  \n",
              "3      rubio biden rhetoric policies created border c...          2  \n",
              "4      failed follow justice department news media gu...          0  \n",
              "...                                                  ...        ...  \n",
              "45066  white house adviser says trump working backgro...          0  \n",
              "45067  talk enemies list shockingnow candidates openl...          0  \n",
              "45068  white house press secretary makes false claims...          1  \n",
              "45069  audit finds bloated budget green jobs training...          2  \n",
              "45070  pelosi says worth impeach trump democrats givi...          2  \n",
              "\n",
              "[45071 rows x 6 columns]"
            ],
            "text/html": [
              "\n",
              "  <div id=\"df-b6adc53d-4eeb-4e0d-a183-2dabf7e3fe34\">\n",
              "    <div class=\"colab-df-container\">\n",
              "      <div>\n",
              "<style scoped>\n",
              "    .dataframe tbody tr th:only-of-type {\n",
              "        vertical-align: middle;\n",
              "    }\n",
              "\n",
              "    .dataframe tbody tr th {\n",
              "        vertical-align: top;\n",
              "    }\n",
              "\n",
              "    .dataframe thead th {\n",
              "        text-align: right;\n",
              "    }\n",
              "</style>\n",
              "<table border=\"1\" class=\"dataframe\">\n",
              "  <thead>\n",
              "    <tr style=\"text-align: right;\">\n",
              "      <th></th>\n",
              "      <th>title</th>\n",
              "      <th>content</th>\n",
              "      <th>label</th>\n",
              "      <th>all_text</th>\n",
              "      <th>lemmas</th>\n",
              "      <th>label_enc</th>\n",
              "    </tr>\n",
              "  </thead>\n",
              "  <tbody>\n",
              "    <tr>\n",
              "      <th>0</th>\n",
              "      <td>Kamala Harris’s Very Bad Trip South</td>\n",
              "      <td>OPINION\\n\\nKamala Harris was not happy about b...</td>\n",
              "      <td>right</td>\n",
              "      <td>Kamala Harris’s Very Bad Trip SouthOPINION\\n\\n...</td>\n",
              "      <td>kamala harris trip southopinion kamala harris ...</td>\n",
              "      <td>2</td>\n",
              "    </tr>\n",
              "    <tr>\n",
              "      <th>1</th>\n",
              "      <td>Serving America's Veterans</td>\n",
              "      <td>Opinion\\n\\nTo my fellow veterans: Our country ...</td>\n",
              "      <td>right</td>\n",
              "      <td>Serving America's VeteransOpinion\\n\\nTo my fel...</td>\n",
              "      <td>serving america veteransopinion fellow veteran...</td>\n",
              "      <td>2</td>\n",
              "    </tr>\n",
              "    <tr>\n",
              "      <th>2</th>\n",
              "      <td>Democrats seize on Mueller hearings in electio...</td>\n",
              "      <td>Democrats calling for action on election secur...</td>\n",
              "      <td>center</td>\n",
              "      <td>Democrats seize on Mueller hearings in electio...</td>\n",
              "      <td>democrats seize mueller hearings election secu...</td>\n",
              "      <td>0</td>\n",
              "    </tr>\n",
              "    <tr>\n",
              "      <th>3</th>\n",
              "      <td>Rubio: Biden's Rhetoric, 1st-Day Policies Crea...</td>\n",
              "      <td>President Joe Biden's rhetoric both before and...</td>\n",
              "      <td>right</td>\n",
              "      <td>Rubio: Biden's Rhetoric, 1st-Day Policies Crea...</td>\n",
              "      <td>rubio biden rhetoric policies created border c...</td>\n",
              "      <td>2</td>\n",
              "    </tr>\n",
              "    <tr>\n",
              "      <th>4</th>\n",
              "      <td>FBI failed to follow Justice Department’s news...</td>\n",
              "      <td>FBI agents did not follow Justice Department g...</td>\n",
              "      <td>center</td>\n",
              "      <td>FBI failed to follow Justice Department’s news...</td>\n",
              "      <td>failed follow justice department news media gu...</td>\n",
              "      <td>0</td>\n",
              "    </tr>\n",
              "    <tr>\n",
              "      <th>...</th>\n",
              "      <td>...</td>\n",
              "      <td>...</td>\n",
              "      <td>...</td>\n",
              "      <td>...</td>\n",
              "      <td>...</td>\n",
              "      <td>...</td>\n",
              "    </tr>\n",
              "    <tr>\n",
              "      <th>45066</th>\n",
              "      <td>White House Adviser Says Trump Working on Back...</td>\n",
              "      <td>A top White House adviser said President Trump...</td>\n",
              "      <td>center</td>\n",
              "      <td>White House Adviser Says Trump Working on Back...</td>\n",
              "      <td>white house adviser says trump working backgro...</td>\n",
              "      <td>0</td>\n",
              "    </tr>\n",
              "    <tr>\n",
              "      <th>45067</th>\n",
              "      <td>Once, Talk of an Enemies List Was Shocking</td>\n",
              "      <td>Now candidates openly speak of being proud of ...</td>\n",
              "      <td>center</td>\n",
              "      <td>Once, Talk of an Enemies List Was ShockingNow ...</td>\n",
              "      <td>talk enemies list shockingnow candidates openl...</td>\n",
              "      <td>0</td>\n",
              "    </tr>\n",
              "    <tr>\n",
              "      <th>45068</th>\n",
              "      <td>New White House press secretary makes false cl...</td>\n",
              "      <td>FACT CHECK\\n\\nAt the first official briefing b...</td>\n",
              "      <td>left</td>\n",
              "      <td>New White House press secretary makes false cl...</td>\n",
              "      <td>white house press secretary makes false claims...</td>\n",
              "      <td>1</td>\n",
              "    </tr>\n",
              "    <tr>\n",
              "      <th>45069</th>\n",
              "      <td>Audit finds bloated budget for green jobs trai...</td>\n",
              "      <td>A federal audit shows that nearly a half-billi...</td>\n",
              "      <td>right</td>\n",
              "      <td>Audit finds bloated budget for green jobs trai...</td>\n",
              "      <td>audit finds bloated budget green jobs training...</td>\n",
              "      <td>2</td>\n",
              "    </tr>\n",
              "    <tr>\n",
              "      <th>45070</th>\n",
              "      <td>Pelosi Says It's 'Just Not Worth It' to Impeac...</td>\n",
              "      <td>Speaker of the House of Representatives Nancy ...</td>\n",
              "      <td>right</td>\n",
              "      <td>Pelosi Says It's 'Just Not Worth It' to Impeac...</td>\n",
              "      <td>pelosi says worth impeach trump democrats givi...</td>\n",
              "      <td>2</td>\n",
              "    </tr>\n",
              "  </tbody>\n",
              "</table>\n",
              "<p>45071 rows × 6 columns</p>\n",
              "</div>\n",
              "      <button class=\"colab-df-convert\" onclick=\"convertToInteractive('df-b6adc53d-4eeb-4e0d-a183-2dabf7e3fe34')\"\n",
              "              title=\"Convert this dataframe to an interactive table.\"\n",
              "              style=\"display:none;\">\n",
              "        \n",
              "  <svg xmlns=\"http://www.w3.org/2000/svg\" height=\"24px\"viewBox=\"0 0 24 24\"\n",
              "       width=\"24px\">\n",
              "    <path d=\"M0 0h24v24H0V0z\" fill=\"none\"/>\n",
              "    <path d=\"M18.56 5.44l.94 2.06.94-2.06 2.06-.94-2.06-.94-.94-2.06-.94 2.06-2.06.94zm-11 1L8.5 8.5l.94-2.06 2.06-.94-2.06-.94L8.5 2.5l-.94 2.06-2.06.94zm10 10l.94 2.06.94-2.06 2.06-.94-2.06-.94-.94-2.06-.94 2.06-2.06.94z\"/><path d=\"M17.41 7.96l-1.37-1.37c-.4-.4-.92-.59-1.43-.59-.52 0-1.04.2-1.43.59L10.3 9.45l-7.72 7.72c-.78.78-.78 2.05 0 2.83L4 21.41c.39.39.9.59 1.41.59.51 0 1.02-.2 1.41-.59l7.78-7.78 2.81-2.81c.8-.78.8-2.07 0-2.86zM5.41 20L4 18.59l7.72-7.72 1.47 1.35L5.41 20z\"/>\n",
              "  </svg>\n",
              "      </button>\n",
              "      \n",
              "  <style>\n",
              "    .colab-df-container {\n",
              "      display:flex;\n",
              "      flex-wrap:wrap;\n",
              "      gap: 12px;\n",
              "    }\n",
              "\n",
              "    .colab-df-convert {\n",
              "      background-color: #E8F0FE;\n",
              "      border: none;\n",
              "      border-radius: 50%;\n",
              "      cursor: pointer;\n",
              "      display: none;\n",
              "      fill: #1967D2;\n",
              "      height: 32px;\n",
              "      padding: 0 0 0 0;\n",
              "      width: 32px;\n",
              "    }\n",
              "\n",
              "    .colab-df-convert:hover {\n",
              "      background-color: #E2EBFA;\n",
              "      box-shadow: 0px 1px 2px rgba(60, 64, 67, 0.3), 0px 1px 3px 1px rgba(60, 64, 67, 0.15);\n",
              "      fill: #174EA6;\n",
              "    }\n",
              "\n",
              "    [theme=dark] .colab-df-convert {\n",
              "      background-color: #3B4455;\n",
              "      fill: #D2E3FC;\n",
              "    }\n",
              "\n",
              "    [theme=dark] .colab-df-convert:hover {\n",
              "      background-color: #434B5C;\n",
              "      box-shadow: 0px 1px 3px 1px rgba(0, 0, 0, 0.15);\n",
              "      filter: drop-shadow(0px 1px 2px rgba(0, 0, 0, 0.3));\n",
              "      fill: #FFFFFF;\n",
              "    }\n",
              "  </style>\n",
              "\n",
              "      <script>\n",
              "        const buttonEl =\n",
              "          document.querySelector('#df-b6adc53d-4eeb-4e0d-a183-2dabf7e3fe34 button.colab-df-convert');\n",
              "        buttonEl.style.display =\n",
              "          google.colab.kernel.accessAllowed ? 'block' : 'none';\n",
              "\n",
              "        async function convertToInteractive(key) {\n",
              "          const element = document.querySelector('#df-b6adc53d-4eeb-4e0d-a183-2dabf7e3fe34');\n",
              "          const dataTable =\n",
              "            await google.colab.kernel.invokeFunction('convertToInteractive',\n",
              "                                                     [key], {});\n",
              "          if (!dataTable) return;\n",
              "\n",
              "          const docLinkHtml = 'Like what you see? Visit the ' +\n",
              "            '<a target=\"_blank\" href=https://colab.research.google.com/notebooks/data_table.ipynb>data table notebook</a>'\n",
              "            + ' to learn more about interactive tables.';\n",
              "          element.innerHTML = '';\n",
              "          dataTable['output_type'] = 'display_data';\n",
              "          await google.colab.output.renderOutput(dataTable, element);\n",
              "          const docLink = document.createElement('div');\n",
              "          docLink.innerHTML = docLinkHtml;\n",
              "          element.appendChild(docLink);\n",
              "        }\n",
              "      </script>\n",
              "    </div>\n",
              "  </div>\n",
              "  "
            ]
          },
          "metadata": {},
          "execution_count": 20
        }
      ]
    },
    {
      "cell_type": "markdown",
      "source": [
        "Объеденим датасеты"
      ],
      "metadata": {
        "id": "NNiTc0q2Dmt2"
      }
    },
    {
      "cell_type": "code",
      "source": [
        "data = train.append(val)\n",
        "data = data.append(test)\n",
        "data.shape"
      ],
      "metadata": {
        "colab": {
          "base_uri": "https://localhost:8080/"
        },
        "id": "DpB3twZl-oLU",
        "outputId": "5a215eb6-2f81-431b-e393-50f538a0f063"
      },
      "execution_count": 21,
      "outputs": [
        {
          "output_type": "execute_result",
          "data": {
            "text/plain": [
              "(55277, 6)"
            ]
          },
          "metadata": {},
          "execution_count": 21
        }
      ]
    },
    {
      "cell_type": "markdown",
      "source": [
        "# Tf-Idf для кластеризации"
      ],
      "metadata": {
        "id": "AdwLPS6HI8t1"
      }
    },
    {
      "cell_type": "code",
      "source": [
        "from sklearn.feature_extraction.text import TfidfVectorizer\n",
        "vec = TfidfVectorizer(ngram_range=(1, 2))\n",
        "data_vec = vec.fit_transform(data['lemmas'])"
      ],
      "metadata": {
        "id": "E0uQqCjPI6aL"
      },
      "execution_count": 22,
      "outputs": []
    },
    {
      "cell_type": "code",
      "source": [
        "data_vec.shape"
      ],
      "metadata": {
        "colab": {
          "base_uri": "https://localhost:8080/"
        },
        "id": "tVahM0hFJ7O-",
        "outputId": "41bd74ac-00d8-4a40-80d2-844992b1054c"
      },
      "execution_count": 23,
      "outputs": [
        {
          "output_type": "execute_result",
          "data": {
            "text/plain": [
              "(55277, 1338429)"
            ]
          },
          "metadata": {},
          "execution_count": 23
        }
      ]
    },
    {
      "cell_type": "markdown",
      "source": [
        "# Кластеризация"
      ],
      "metadata": {
        "id": "vPx4b3nyJ_xj"
      }
    },
    {
      "cell_type": "markdown",
      "source": [
        "Метод к-средних"
      ],
      "metadata": {
        "id": "Cs_Sdt4QKC6D"
      }
    },
    {
      "cell_type": "code",
      "source": [
        "num_clusters = 5\n",
        "from sklearn.cluster import KMeans\n",
        "\n",
        "km = KMeans(n_clusters=num_clusters)\n",
        "idx = km.fit(data_vec)"
      ],
      "metadata": {
        "colab": {
          "base_uri": "https://localhost:8080/"
        },
        "id": "UpQ2KscQJ7Ro",
        "outputId": "31b28c0b-5d3d-4ee3-82f9-385991c62cc9"
      },
      "execution_count": 24,
      "outputs": [
        {
          "output_type": "stream",
          "name": "stderr",
          "text": [
            "/usr/local/lib/python3.9/dist-packages/sklearn/cluster/_kmeans.py:870: FutureWarning: The default value of `n_init` will change from 10 to 'auto' in 1.4. Set the value of `n_init` explicitly to suppress the warning\n",
            "  warnings.warn(\n"
          ]
        }
      ]
    },
    {
      "cell_type": "code",
      "source": [
        "clusterkm  = km.labels_.tolist()"
      ],
      "metadata": {
        "id": "zFdlNtd3J7UC"
      },
      "execution_count": 25,
      "outputs": []
    },
    {
      "cell_type": "code",
      "source": [
        "clusterkm = km.labels_.tolist()\n",
        "out = { 'title': data['title'].tolist(), 'cluster': clusterkm, 'text': data['content'].tolist() }\n",
        "frame1 = pd.DataFrame(out, index = np.arange(len(clusterkm)), columns = ['title', 'cluster','text'])"
      ],
      "metadata": {
        "id": "_aPq7U2qJ7Wi"
      },
      "execution_count": 26,
      "outputs": []
    },
    {
      "cell_type": "code",
      "source": [
        "frame1['cluster'].value_counts()"
      ],
      "metadata": {
        "colab": {
          "base_uri": "https://localhost:8080/"
        },
        "id": "7lQB2T-rKFzT",
        "outputId": "201790ed-e536-41e0-f0b6-b408df06c0a2"
      },
      "execution_count": 27,
      "outputs": [
        {
          "output_type": "execute_result",
          "data": {
            "text/plain": [
              "1    41133\n",
              "2    10358\n",
              "3     2190\n",
              "0     1046\n",
              "4      550\n",
              "Name: cluster, dtype: int64"
            ]
          },
          "metadata": {},
          "execution_count": 27
        }
      ]
    },
    {
      "cell_type": "markdown",
      "source": [
        "Применим PCA для возможности отобразить результаты кластеризации"
      ],
      "metadata": {
        "id": "zUv_H8zOKJnT"
      }
    },
    {
      "cell_type": "code",
      "source": [
        "from sklearn.decomposition import TruncatedSVD\n",
        "pca = TruncatedSVD(n_components=2)"
      ],
      "metadata": {
        "id": "L6fZbXRmKLNG"
      },
      "execution_count": 28,
      "outputs": []
    },
    {
      "cell_type": "code",
      "source": [
        "pca.fit(data_vec)"
      ],
      "metadata": {
        "colab": {
          "base_uri": "https://localhost:8080/",
          "height": 75
        },
        "id": "8-7dMozMKLPs",
        "outputId": "4af4d90b-ebc8-40ab-950f-4d2ed9ed77f0"
      },
      "execution_count": 29,
      "outputs": [
        {
          "output_type": "execute_result",
          "data": {
            "text/plain": [
              "TruncatedSVD()"
            ],
            "text/html": [
              "<style>#sk-container-id-1 {color: black;background-color: white;}#sk-container-id-1 pre{padding: 0;}#sk-container-id-1 div.sk-toggleable {background-color: white;}#sk-container-id-1 label.sk-toggleable__label {cursor: pointer;display: block;width: 100%;margin-bottom: 0;padding: 0.3em;box-sizing: border-box;text-align: center;}#sk-container-id-1 label.sk-toggleable__label-arrow:before {content: \"▸\";float: left;margin-right: 0.25em;color: #696969;}#sk-container-id-1 label.sk-toggleable__label-arrow:hover:before {color: black;}#sk-container-id-1 div.sk-estimator:hover label.sk-toggleable__label-arrow:before {color: black;}#sk-container-id-1 div.sk-toggleable__content {max-height: 0;max-width: 0;overflow: hidden;text-align: left;background-color: #f0f8ff;}#sk-container-id-1 div.sk-toggleable__content pre {margin: 0.2em;color: black;border-radius: 0.25em;background-color: #f0f8ff;}#sk-container-id-1 input.sk-toggleable__control:checked~div.sk-toggleable__content {max-height: 200px;max-width: 100%;overflow: auto;}#sk-container-id-1 input.sk-toggleable__control:checked~label.sk-toggleable__label-arrow:before {content: \"▾\";}#sk-container-id-1 div.sk-estimator input.sk-toggleable__control:checked~label.sk-toggleable__label {background-color: #d4ebff;}#sk-container-id-1 div.sk-label input.sk-toggleable__control:checked~label.sk-toggleable__label {background-color: #d4ebff;}#sk-container-id-1 input.sk-hidden--visually {border: 0;clip: rect(1px 1px 1px 1px);clip: rect(1px, 1px, 1px, 1px);height: 1px;margin: -1px;overflow: hidden;padding: 0;position: absolute;width: 1px;}#sk-container-id-1 div.sk-estimator {font-family: monospace;background-color: #f0f8ff;border: 1px dotted black;border-radius: 0.25em;box-sizing: border-box;margin-bottom: 0.5em;}#sk-container-id-1 div.sk-estimator:hover {background-color: #d4ebff;}#sk-container-id-1 div.sk-parallel-item::after {content: \"\";width: 100%;border-bottom: 1px solid gray;flex-grow: 1;}#sk-container-id-1 div.sk-label:hover label.sk-toggleable__label {background-color: #d4ebff;}#sk-container-id-1 div.sk-serial::before {content: \"\";position: absolute;border-left: 1px solid gray;box-sizing: border-box;top: 0;bottom: 0;left: 50%;z-index: 0;}#sk-container-id-1 div.sk-serial {display: flex;flex-direction: column;align-items: center;background-color: white;padding-right: 0.2em;padding-left: 0.2em;position: relative;}#sk-container-id-1 div.sk-item {position: relative;z-index: 1;}#sk-container-id-1 div.sk-parallel {display: flex;align-items: stretch;justify-content: center;background-color: white;position: relative;}#sk-container-id-1 div.sk-item::before, #sk-container-id-1 div.sk-parallel-item::before {content: \"\";position: absolute;border-left: 1px solid gray;box-sizing: border-box;top: 0;bottom: 0;left: 50%;z-index: -1;}#sk-container-id-1 div.sk-parallel-item {display: flex;flex-direction: column;z-index: 1;position: relative;background-color: white;}#sk-container-id-1 div.sk-parallel-item:first-child::after {align-self: flex-end;width: 50%;}#sk-container-id-1 div.sk-parallel-item:last-child::after {align-self: flex-start;width: 50%;}#sk-container-id-1 div.sk-parallel-item:only-child::after {width: 0;}#sk-container-id-1 div.sk-dashed-wrapped {border: 1px dashed gray;margin: 0 0.4em 0.5em 0.4em;box-sizing: border-box;padding-bottom: 0.4em;background-color: white;}#sk-container-id-1 div.sk-label label {font-family: monospace;font-weight: bold;display: inline-block;line-height: 1.2em;}#sk-container-id-1 div.sk-label-container {text-align: center;}#sk-container-id-1 div.sk-container {/* jupyter's `normalize.less` sets `[hidden] { display: none; }` but bootstrap.min.css set `[hidden] { display: none !important; }` so we also need the `!important` here to be able to override the default hidden behavior on the sphinx rendered scikit-learn.org. See: https://github.com/scikit-learn/scikit-learn/issues/21755 */display: inline-block !important;position: relative;}#sk-container-id-1 div.sk-text-repr-fallback {display: none;}</style><div id=\"sk-container-id-1\" class=\"sk-top-container\"><div class=\"sk-text-repr-fallback\"><pre>TruncatedSVD()</pre><b>In a Jupyter environment, please rerun this cell to show the HTML representation or trust the notebook. <br />On GitHub, the HTML representation is unable to render, please try loading this page with nbviewer.org.</b></div><div class=\"sk-container\" hidden><div class=\"sk-item\"><div class=\"sk-estimator sk-toggleable\"><input class=\"sk-toggleable__control sk-hidden--visually\" id=\"sk-estimator-id-1\" type=\"checkbox\" checked><label for=\"sk-estimator-id-1\" class=\"sk-toggleable__label sk-toggleable__label-arrow\">TruncatedSVD</label><div class=\"sk-toggleable__content\"><pre>TruncatedSVD()</pre></div></div></div></div></div>"
            ]
          },
          "metadata": {},
          "execution_count": 29
        }
      ]
    },
    {
      "cell_type": "code",
      "source": [
        "data_2  = pca.transform(data_vec)"
      ],
      "metadata": {
        "id": "hBtLkAhKKLSP"
      },
      "execution_count": 30,
      "outputs": []
    },
    {
      "cell_type": "code",
      "source": [
        "#создаем data frame, который содержит координаты (из PCA) + номера кластеров и сами запросы\n",
        "df = pd.DataFrame(dict(x=data_2[:,0], y=data_2[:,1], label=clusterkm, title=data['title'].tolist())) \n",
        "#группируем по кластерам\n",
        "groups = df.groupby('label',sort=False)"
      ],
      "metadata": {
        "id": "s3zEh73nKZ4K"
      },
      "execution_count": 31,
      "outputs": []
    },
    {
      "cell_type": "code",
      "source": [
        "cluster_colors = {0: 'red',1: '#FFA812', 2: 'green',  3: 'magenta', 4: 'blue'}\n",
        "cluster_names = {0: 'Foreign policy', 1: 'other', 2: 'elections',  3: 'Domestic policy', 4: 'Finance'}"
      ],
      "metadata": {
        "id": "frKgsLYkKZ6m"
      },
      "execution_count": 221,
      "outputs": []
    },
    {
      "cell_type": "code",
      "source": [
        "fig, ax = plt.subplots(figsize=(12,8))\n",
        "for name, group in groups:\n",
        "    ax.plot(group.x, group.y, marker='o', linestyle='', ms=4, label=cluster_names[name], color=cluster_colors[name], mec='none')\n",
        "    ax.set_aspect('auto')\n",
        "    ax.tick_params(        axis= 'x',          \n",
        "        which='both',      \n",
        "        bottom='off',      \n",
        "        top='off',         \n",
        "        labelbottom='off')\n",
        "    ax.tick_params(        axis= 'y',         \n",
        "        which='both',     \n",
        "        left='off',      \n",
        "        top='off',       \n",
        "        labelleft='off')\n",
        "    \n",
        "ax.legend(numpoints=1)\n",
        "plt.show() "
      ],
      "metadata": {
        "colab": {
          "base_uri": "https://localhost:8080/",
          "height": 435
        },
        "id": "dQRa49dbKZ8w",
        "outputId": "a47d2690-7497-4b68-d45f-3ad4b4e8b1b7"
      },
      "execution_count": 222,
      "outputs": [
        {
          "output_type": "display_data",
          "data": {
            "text/plain": [
              "<Figure size 864x576 with 1 Axes>"
            ],
            "image/png": "[encoded data removed]"
          },
          "metadata": {}
        }
      ]
    },
    {
      "cell_type": "code",
      "source": [
        "def alert(row):\n",
        "  if row['cluster'] == 0:\n",
        "    return 'Foreign policy'\n",
        "  elif row['cluster'] == 1:\n",
        "    return 'other'\n",
        "  elif row['cluster'] == 2:\n",
        "    return 'elections'\n",
        "  elif row['cluster'] == 3:\n",
        "    return 'Domestic policy'\n",
        "  else:\n",
        "    return 'Finance'\n",
        "\n",
        "\n",
        "frame1['news_cluster'] = frame1.apply(alert, axis=1)"
      ],
      "metadata": {
        "id": "VvPZDFxuKZ_O"
      },
      "execution_count": 223,
      "outputs": []
    },
    {
      "cell_type": "code",
      "source": [
        "sns.factorplot('news_cluster',data = frame1,kind='count', size=6, aspect=2)\n",
        "plt.grid(which='both')\n",
        "plt.title(\"Splitting by topic\");"
      ],
      "metadata": {
        "colab": {
          "base_uri": "https://localhost:8080/",
          "height": 466
        },
        "id": "IZF1bx26Ki4J",
        "outputId": "27557eb0-17a5-49b4-80c3-90330a0828f9"
      },
      "execution_count": 226,
      "outputs": [
        {
          "output_type": "stream",
          "name": "stderr",
          "text": [
            "/usr/local/lib/python3.9/dist-packages/seaborn/categorical.py:3717: UserWarning: The `factorplot` function has been renamed to `catplot`. The original name will be removed in a future release. Please update your code. Note that the default `kind` in `factorplot` (`'point'`) has changed `'strip'` in `catplot`.\n",
            "  warnings.warn(msg)\n",
            "/usr/local/lib/python3.9/dist-packages/seaborn/categorical.py:3723: UserWarning: The `size` parameter has been renamed to `height`; please update your code.\n",
            "  warnings.warn(msg, UserWarning)\n",
            "/usr/local/lib/python3.9/dist-packages/seaborn/_decorators.py:36: FutureWarning: Pass the following variable as a keyword arg: x. From version 0.12, the only valid positional argument will be `data`, and passing other arguments without an explicit keyword will result in an error or misinterpretation.\n",
            "  warnings.warn(\n"
          ]
        },
        {
          "output_type": "display_data",
          "data": {
            "text/plain": [
              "<Figure size 864x432 with 1 Axes>"
            ],
            "image/png": "[encoded data removed]"
          },
          "metadata": {}
        }
      ]
    },
    {
      "cell_type": "markdown",
      "source": [
        "Делим на test, train и val"
      ],
      "metadata": {
        "id": "X_LYAjFRDptm"
      }
    },
    {
      "cell_type": "code",
      "source": [
        "data"
      ],
      "metadata": {
        "colab": {
          "base_uri": "https://localhost:8080/",
          "height": 1000
        },
        "id": "B0g31DlZRVR8",
        "outputId": "970de47b-4fad-477f-c2ff-f9c5af9694f9"
      },
      "execution_count": 44,
      "outputs": [
        {
          "output_type": "execute_result",
          "data": {
            "text/plain": [
              "                                                  title  \\\n",
              "0                   Kamala Harris’s Very Bad Trip South   \n",
              "1                            Serving America's Veterans   \n",
              "2     Democrats seize on Mueller hearings in electio...   \n",
              "3     Rubio: Biden's Rhetoric, 1st-Day Policies Crea...   \n",
              "4     FBI failed to follow Justice Department’s news...   \n",
              "...                                                 ...   \n",
              "5193                 The Worst-Run Big City in the U.S.   \n",
              "5194  If Biden Wants Unity, He Should Emulate Bush I...   \n",
              "5195  Fact Checking Claims About GOP Senators Being ...   \n",
              "5196       A Return to Reaganism for the GOP? Unlikely.   \n",
              "5197  Both Parties Are to Blame for the Immigration ...   \n",
              "\n",
              "                                                content   label  \\\n",
              "0     OPINION\\n\\nKamala Harris was not happy about b...   right   \n",
              "1     Opinion\\n\\nTo my fellow veterans: Our country ...   right   \n",
              "2     Democrats calling for action on election secur...  center   \n",
              "3     President Joe Biden's rhetoric both before and...   right   \n",
              "4     FBI agents did not follow Justice Department g...  center   \n",
              "...                                                 ...     ...   \n",
              "5193  As long as San Francisco is an alluring destin...  center   \n",
              "5194  OPINION\\n\\nAs an American, I wish President Jo...   right   \n",
              "5195  FACT CHECK\\n\\nA viral tweet claims to show a R...  center   \n",
              "5196  ANALYSIS\\n\\nThroughout Donald Trump’s captivit...   right   \n",
              "5197  OPINION\\n\\nWhen it comes to immigration, and e...   right   \n",
              "\n",
              "                                               all_text  \\\n",
              "0     Kamala Harris’s Very Bad Trip SouthOPINION\\n\\n...   \n",
              "1     Serving America's VeteransOpinion\\n\\nTo my fel...   \n",
              "2     Democrats seize on Mueller hearings in electio...   \n",
              "3     Rubio: Biden's Rhetoric, 1st-Day Policies Crea...   \n",
              "4     FBI failed to follow Justice Department’s news...   \n",
              "...                                                 ...   \n",
              "5193  The Worst-Run Big City in the U.S.As long as S...   \n",
              "5194  If Biden Wants Unity, He Should Emulate Bush I...   \n",
              "5195  Fact Checking Claims About GOP Senators Being ...   \n",
              "5196  A Return to Reaganism for the GOP? Unlikely.AN...   \n",
              "5197  Both Parties Are to Blame for the Immigration ...   \n",
              "\n",
              "                                                 lemmas  label_enc  \n",
              "0     kamala harris trip southopinion kamala harris ...          2  \n",
              "1     serving america veteransopinion fellow veteran...          2  \n",
              "2     democrats seize mueller hearings election secu...          0  \n",
              "3     rubio biden rhetoric policies created border c...          2  \n",
              "4     failed follow justice department news media gu...          0  \n",
              "...                                                 ...        ...  \n",
              "5193  worst city long francisco alluring destination...          0  \n",
              "5194  biden wants unity emulate bush instead obamaop...          2  \n",
              "5195  fact checking claims senators loyal putinfact ...          0  \n",
              "5196  return reaganism unlikely analysis throughout ...          2  \n",
              "5197  parties blame immigration crisisopinion comes ...          2  \n",
              "\n",
              "[55277 rows x 6 columns]"
            ],
            "text/html": [
              "\n",
              "  <div id=\"df-87d928bc-eade-4811-a48b-cbaa5188a91e\">\n",
              "    <div class=\"colab-df-container\">\n",
              "      <div>\n",
              "<style scoped>\n",
              "    .dataframe tbody tr th:only-of-type {\n",
              "        vertical-align: middle;\n",
              "    }\n",
              "\n",
              "    .dataframe tbody tr th {\n",
              "        vertical-align: top;\n",
              "    }\n",
              "\n",
              "    .dataframe thead th {\n",
              "        text-align: right;\n",
              "    }\n",
              "</style>\n",
              "<table border=\"1\" class=\"dataframe\">\n",
              "  <thead>\n",
              "    <tr style=\"text-align: right;\">\n",
              "      <th></th>\n",
              "      <th>title</th>\n",
              "      <th>content</th>\n",
              "      <th>label</th>\n",
              "      <th>all_text</th>\n",
              "      <th>lemmas</th>\n",
              "      <th>label_enc</th>\n",
              "    </tr>\n",
              "  </thead>\n",
              "  <tbody>\n",
              "    <tr>\n",
              "      <th>0</th>\n",
              "      <td>Kamala Harris’s Very Bad Trip South</td>\n",
              "      <td>OPINION\\n\\nKamala Harris was not happy about b...</td>\n",
              "      <td>right</td>\n",
              "      <td>Kamala Harris’s Very Bad Trip SouthOPINION\\n\\n...</td>\n",
              "      <td>kamala harris trip southopinion kamala harris ...</td>\n",
              "      <td>2</td>\n",
              "    </tr>\n",
              "    <tr>\n",
              "      <th>1</th>\n",
              "      <td>Serving America's Veterans</td>\n",
              "      <td>Opinion\\n\\nTo my fellow veterans: Our country ...</td>\n",
              "      <td>right</td>\n",
              "      <td>Serving America's VeteransOpinion\\n\\nTo my fel...</td>\n",
              "      <td>serving america veteransopinion fellow veteran...</td>\n",
              "      <td>2</td>\n",
              "    </tr>\n",
              "    <tr>\n",
              "      <th>2</th>\n",
              "      <td>Democrats seize on Mueller hearings in electio...</td>\n",
              "      <td>Democrats calling for action on election secur...</td>\n",
              "      <td>center</td>\n",
              "      <td>Democrats seize on Mueller hearings in electio...</td>\n",
              "      <td>democrats seize mueller hearings election secu...</td>\n",
              "      <td>0</td>\n",
              "    </tr>\n",
              "    <tr>\n",
              "      <th>3</th>\n",
              "      <td>Rubio: Biden's Rhetoric, 1st-Day Policies Crea...</td>\n",
              "      <td>President Joe Biden's rhetoric both before and...</td>\n",
              "      <td>right</td>\n",
              "      <td>Rubio: Biden's Rhetoric, 1st-Day Policies Crea...</td>\n",
              "      <td>rubio biden rhetoric policies created border c...</td>\n",
              "      <td>2</td>\n",
              "    </tr>\n",
              "    <tr>\n",
              "      <th>4</th>\n",
              "      <td>FBI failed to follow Justice Department’s news...</td>\n",
              "      <td>FBI agents did not follow Justice Department g...</td>\n",
              "      <td>center</td>\n",
              "      <td>FBI failed to follow Justice Department’s news...</td>\n",
              "      <td>failed follow justice department news media gu...</td>\n",
              "      <td>0</td>\n",
              "    </tr>\n",
              "    <tr>\n",
              "      <th>...</th>\n",
              "      <td>...</td>\n",
              "      <td>...</td>\n",
              "      <td>...</td>\n",
              "      <td>...</td>\n",
              "      <td>...</td>\n",
              "      <td>...</td>\n",
              "    </tr>\n",
              "    <tr>\n",
              "      <th>5193</th>\n",
              "      <td>The Worst-Run Big City in the U.S.</td>\n",
              "      <td>As long as San Francisco is an alluring destin...</td>\n",
              "      <td>center</td>\n",
              "      <td>The Worst-Run Big City in the U.S.As long as S...</td>\n",
              "      <td>worst city long francisco alluring destination...</td>\n",
              "      <td>0</td>\n",
              "    </tr>\n",
              "    <tr>\n",
              "      <th>5194</th>\n",
              "      <td>If Biden Wants Unity, He Should Emulate Bush I...</td>\n",
              "      <td>OPINION\\n\\nAs an American, I wish President Jo...</td>\n",
              "      <td>right</td>\n",
              "      <td>If Biden Wants Unity, He Should Emulate Bush I...</td>\n",
              "      <td>biden wants unity emulate bush instead obamaop...</td>\n",
              "      <td>2</td>\n",
              "    </tr>\n",
              "    <tr>\n",
              "      <th>5195</th>\n",
              "      <td>Fact Checking Claims About GOP Senators Being ...</td>\n",
              "      <td>FACT CHECK\\n\\nA viral tweet claims to show a R...</td>\n",
              "      <td>center</td>\n",
              "      <td>Fact Checking Claims About GOP Senators Being ...</td>\n",
              "      <td>fact checking claims senators loyal putinfact ...</td>\n",
              "      <td>0</td>\n",
              "    </tr>\n",
              "    <tr>\n",
              "      <th>5196</th>\n",
              "      <td>A Return to Reaganism for the GOP? Unlikely.</td>\n",
              "      <td>ANALYSIS\\n\\nThroughout Donald Trump’s captivit...</td>\n",
              "      <td>right</td>\n",
              "      <td>A Return to Reaganism for the GOP? Unlikely.AN...</td>\n",
              "      <td>return reaganism unlikely analysis throughout ...</td>\n",
              "      <td>2</td>\n",
              "    </tr>\n",
              "    <tr>\n",
              "      <th>5197</th>\n",
              "      <td>Both Parties Are to Blame for the Immigration ...</td>\n",
              "      <td>OPINION\\n\\nWhen it comes to immigration, and e...</td>\n",
              "      <td>right</td>\n",
              "      <td>Both Parties Are to Blame for the Immigration ...</td>\n",
              "      <td>parties blame immigration crisisopinion comes ...</td>\n",
              "      <td>2</td>\n",
              "    </tr>\n",
              "  </tbody>\n",
              "</table>\n",
              "<p>55277 rows × 6 columns</p>\n",
              "</div>\n",
              "      <button class=\"colab-df-convert\" onclick=\"convertToInteractive('df-87d928bc-eade-4811-a48b-cbaa5188a91e')\"\n",
              "              title=\"Convert this dataframe to an interactive table.\"\n",
              "              style=\"display:none;\">\n",
              "        \n",
              "  <svg xmlns=\"http://www.w3.org/2000/svg\" height=\"24px\"viewBox=\"0 0 24 24\"\n",
              "       width=\"24px\">\n",
              "    <path d=\"M0 0h24v24H0V0z\" fill=\"none\"/>\n",
              "    <path d=\"M18.56 5.44l.94 2.06.94-2.06 2.06-.94-2.06-.94-.94-2.06-.94 2.06-2.06.94zm-11 1L8.5 8.5l.94-2.06 2.06-.94-2.06-.94L8.5 2.5l-.94 2.06-2.06.94zm10 10l.94 2.06.94-2.06 2.06-.94-2.06-.94-.94-2.06-.94 2.06-2.06.94z\"/><path d=\"M17.41 7.96l-1.37-1.37c-.4-.4-.92-.59-1.43-.59-.52 0-1.04.2-1.43.59L10.3 9.45l-7.72 7.72c-.78.78-.78 2.05 0 2.83L4 21.41c.39.39.9.59 1.41.59.51 0 1.02-.2 1.41-.59l7.78-7.78 2.81-2.81c.8-.78.8-2.07 0-2.86zM5.41 20L4 18.59l7.72-7.72 1.47 1.35L5.41 20z\"/>\n",
              "  </svg>\n",
              "      </button>\n",
              "      \n",
              "  <style>\n",
              "    .colab-df-container {\n",
              "      display:flex;\n",
              "      flex-wrap:wrap;\n",
              "      gap: 12px;\n",
              "    }\n",
              "\n",
              "    .colab-df-convert {\n",
              "      background-color: #E8F0FE;\n",
              "      border: none;\n",
              "      border-radius: 50%;\n",
              "      cursor: pointer;\n",
              "      display: none;\n",
              "      fill: #1967D2;\n",
              "      height: 32px;\n",
              "      padding: 0 0 0 0;\n",
              "      width: 32px;\n",
              "    }\n",
              "\n",
              "    .colab-df-convert:hover {\n",
              "      background-color: #E2EBFA;\n",
              "      box-shadow: 0px 1px 2px rgba(60, 64, 67, 0.3), 0px 1px 3px 1px rgba(60, 64, 67, 0.15);\n",
              "      fill: #174EA6;\n",
              "    }\n",
              "\n",
              "    [theme=dark] .colab-df-convert {\n",
              "      background-color: #3B4455;\n",
              "      fill: #D2E3FC;\n",
              "    }\n",
              "\n",
              "    [theme=dark] .colab-df-convert:hover {\n",
              "      background-color: #434B5C;\n",
              "      box-shadow: 0px 1px 3px 1px rgba(0, 0, 0, 0.15);\n",
              "      filter: drop-shadow(0px 1px 2px rgba(0, 0, 0, 0.3));\n",
              "      fill: #FFFFFF;\n",
              "    }\n",
              "  </style>\n",
              "\n",
              "      <script>\n",
              "        const buttonEl =\n",
              "          document.querySelector('#df-87d928bc-eade-4811-a48b-cbaa5188a91e button.colab-df-convert');\n",
              "        buttonEl.style.display =\n",
              "          google.colab.kernel.accessAllowed ? 'block' : 'none';\n",
              "\n",
              "        async function convertToInteractive(key) {\n",
              "          const element = document.querySelector('#df-87d928bc-eade-4811-a48b-cbaa5188a91e');\n",
              "          const dataTable =\n",
              "            await google.colab.kernel.invokeFunction('convertToInteractive',\n",
              "                                                     [key], {});\n",
              "          if (!dataTable) return;\n",
              "\n",
              "          const docLinkHtml = 'Like what you see? Visit the ' +\n",
              "            '<a target=\"_blank\" href=https://colab.research.google.com/notebooks/data_table.ipynb>data table notebook</a>'\n",
              "            + ' to learn more about interactive tables.';\n",
              "          element.innerHTML = '';\n",
              "          dataTable['output_type'] = 'display_data';\n",
              "          await google.colab.output.renderOutput(dataTable, element);\n",
              "          const docLink = document.createElement('div');\n",
              "          docLink.innerHTML = docLinkHtml;\n",
              "          element.appendChild(docLink);\n",
              "        }\n",
              "      </script>\n",
              "    </div>\n",
              "  </div>\n",
              "  "
            ]
          },
          "metadata": {},
          "execution_count": 44
        }
      ]
    },
    {
      "cell_type": "code",
      "source": [
        "from sklearn.model_selection import train_test_split as tts\n",
        "\n",
        "df_train = data[['title','lemmas','content','label','all_text','label_enc']]\n",
        "y_train = data['label_enc']\n",
        "train, test, y_train, y_test = tts(df_train, y_train, shuffle=True, stratify=y_train, train_size=0.815)  "
      ],
      "metadata": {
        "id": "JLaMmjTI_ZBU"
      },
      "execution_count": 54,
      "outputs": []
    },
    {
      "cell_type": "code",
      "source": [
        "test, val, y_test, y_val = tts(test, y_test, shuffle=True, stratify=y_test, train_size=0.5) "
      ],
      "metadata": {
        "id": "b5Mc7HLdAAJi"
      },
      "execution_count": 55,
      "outputs": []
    },
    {
      "cell_type": "code",
      "source": [
        "test.to_csv('A_test_new.csv', index = False)"
      ],
      "metadata": {
        "id": "w_tMQCM_CiKg"
      },
      "execution_count": 56,
      "outputs": []
    },
    {
      "cell_type": "code",
      "source": [
        "train.to_csv('A_train_new.csv', index = False)"
      ],
      "metadata": {
        "id": "4xmxdo__Cq90"
      },
      "execution_count": 57,
      "outputs": []
    },
    {
      "cell_type": "code",
      "source": [
        "val.to_csv('A_val_new.csv', index = False)"
      ],
      "metadata": {
        "id": "Fh7IfKugCt8X"
      },
      "execution_count": 58,
      "outputs": []
    },
    {
      "cell_type": "markdown",
      "source": [
        "# Классификация"
      ],
      "metadata": {
        "id": "cc05KXTWRv2d"
      }
    },
    {
      "cell_type": "markdown",
      "source": [
        "## Tf-Idf"
      ],
      "metadata": {
        "id": "5F3hFf0cR6Bk"
      }
    },
    {
      "cell_type": "code",
      "source": [
        "from sklearn.feature_extraction.text import TfidfVectorizer"
      ],
      "metadata": {
        "id": "qp5t5kkwR5i5"
      },
      "execution_count": 59,
      "outputs": []
    },
    {
      "cell_type": "code",
      "source": [
        "vec = TfidfVectorizer(ngram_range=(1, 3))\n",
        "train_vec = vec.fit_transform(train['lemmas'])\n",
        "test_vec = vec.transform(test['lemmas'])\n",
        "val_vec = vec.transform(val['lemmas'])"
      ],
      "metadata": {
        "id": "yX_Y4mpESAn3"
      },
      "execution_count": 60,
      "outputs": []
    },
    {
      "cell_type": "code",
      "source": [
        "y_train = train['label_enc']\n",
        "y_test = test['label_enc']\n",
        "y_val = val['label_enc']"
      ],
      "metadata": {
        "id": "VEfqDa_NSAqh"
      },
      "execution_count": 61,
      "outputs": []
    },
    {
      "cell_type": "markdown",
      "source": [
        "## Baseline"
      ],
      "metadata": {
        "id": "tVN1XXatR1aF"
      }
    },
    {
      "cell_type": "code",
      "source": [
        "from sklearn.svm import LinearSVC\n",
        "clf_1 = LinearSVC()\n",
        "clf_1.fit(train_vec, y_train)"
      ],
      "metadata": {
        "colab": {
          "base_uri": "https://localhost:8080/",
          "height": 75
        },
        "id": "JqMMh2D3R0s3",
        "outputId": "9ba15f69-86a6-461d-df26-a2fc67c49806"
      },
      "execution_count": 62,
      "outputs": [
        {
          "output_type": "execute_result",
          "data": {
            "text/plain": [
              "LinearSVC()"
            ],
            "text/html": [
              "<style>#sk-container-id-2 {color: black;background-color: white;}#sk-container-id-2 pre{padding: 0;}#sk-container-id-2 div.sk-toggleable {background-color: white;}#sk-container-id-2 label.sk-toggleable__label {cursor: pointer;display: block;width: 100%;margin-bottom: 0;padding: 0.3em;box-sizing: border-box;text-align: center;}#sk-container-id-2 label.sk-toggleable__label-arrow:before {content: \"▸\";float: left;margin-right: 0.25em;color: #696969;}#sk-container-id-2 label.sk-toggleable__label-arrow:hover:before {color: black;}#sk-container-id-2 div.sk-estimator:hover label.sk-toggleable__label-arrow:before {color: black;}#sk-container-id-2 div.sk-toggleable__content {max-height: 0;max-width: 0;overflow: hidden;text-align: left;background-color: #f0f8ff;}#sk-container-id-2 div.sk-toggleable__content pre {margin: 0.2em;color: black;border-radius: 0.25em;background-color: #f0f8ff;}#sk-container-id-2 input.sk-toggleable__control:checked~div.sk-toggleable__content {max-height: 200px;max-width: 100%;overflow: auto;}#sk-container-id-2 input.sk-toggleable__control:checked~label.sk-toggleable__label-arrow:before {content: \"▾\";}#sk-container-id-2 div.sk-estimator input.sk-toggleable__control:checked~label.sk-toggleable__label {background-color: #d4ebff;}#sk-container-id-2 div.sk-label input.sk-toggleable__control:checked~label.sk-toggleable__label {background-color: #d4ebff;}#sk-container-id-2 input.sk-hidden--visually {border: 0;clip: rect(1px 1px 1px 1px);clip: rect(1px, 1px, 1px, 1px);height: 1px;margin: -1px;overflow: hidden;padding: 0;position: absolute;width: 1px;}#sk-container-id-2 div.sk-estimator {font-family: monospace;background-color: #f0f8ff;border: 1px dotted black;border-radius: 0.25em;box-sizing: border-box;margin-bottom: 0.5em;}#sk-container-id-2 div.sk-estimator:hover {background-color: #d4ebff;}#sk-container-id-2 div.sk-parallel-item::after {content: \"\";width: 100%;border-bottom: 1px solid gray;flex-grow: 1;}#sk-container-id-2 div.sk-label:hover label.sk-toggleable__label {background-color: #d4ebff;}#sk-container-id-2 div.sk-serial::before {content: \"\";position: absolute;border-left: 1px solid gray;box-sizing: border-box;top: 0;bottom: 0;left: 50%;z-index: 0;}#sk-container-id-2 div.sk-serial {display: flex;flex-direction: column;align-items: center;background-color: white;padding-right: 0.2em;padding-left: 0.2em;position: relative;}#sk-container-id-2 div.sk-item {position: relative;z-index: 1;}#sk-container-id-2 div.sk-parallel {display: flex;align-items: stretch;justify-content: center;background-color: white;position: relative;}#sk-container-id-2 div.sk-item::before, #sk-container-id-2 div.sk-parallel-item::before {content: \"\";position: absolute;border-left: 1px solid gray;box-sizing: border-box;top: 0;bottom: 0;left: 50%;z-index: -1;}#sk-container-id-2 div.sk-parallel-item {display: flex;flex-direction: column;z-index: 1;position: relative;background-color: white;}#sk-container-id-2 div.sk-parallel-item:first-child::after {align-self: flex-end;width: 50%;}#sk-container-id-2 div.sk-parallel-item:last-child::after {align-self: flex-start;width: 50%;}#sk-container-id-2 div.sk-parallel-item:only-child::after {width: 0;}#sk-container-id-2 div.sk-dashed-wrapped {border: 1px dashed gray;margin: 0 0.4em 0.5em 0.4em;box-sizing: border-box;padding-bottom: 0.4em;background-color: white;}#sk-container-id-2 div.sk-label label {font-family: monospace;font-weight: bold;display: inline-block;line-height: 1.2em;}#sk-container-id-2 div.sk-label-container {text-align: center;}#sk-container-id-2 div.sk-container {/* jupyter's `normalize.less` sets `[hidden] { display: none; }` but bootstrap.min.css set `[hidden] { display: none !important; }` so we also need the `!important` here to be able to override the default hidden behavior on the sphinx rendered scikit-learn.org. See: https://github.com/scikit-learn/scikit-learn/issues/21755 */display: inline-block !important;position: relative;}#sk-container-id-2 div.sk-text-repr-fallback {display: none;}</style><div id=\"sk-container-id-2\" class=\"sk-top-container\"><div class=\"sk-text-repr-fallback\"><pre>LinearSVC()</pre><b>In a Jupyter environment, please rerun this cell to show the HTML representation or trust the notebook. <br />On GitHub, the HTML representation is unable to render, please try loading this page with nbviewer.org.</b></div><div class=\"sk-container\" hidden><div class=\"sk-item\"><div class=\"sk-estimator sk-toggleable\"><input class=\"sk-toggleable__control sk-hidden--visually\" id=\"sk-estimator-id-2\" type=\"checkbox\" checked><label for=\"sk-estimator-id-2\" class=\"sk-toggleable__label sk-toggleable__label-arrow\">LinearSVC</label><div class=\"sk-toggleable__content\"><pre>LinearSVC()</pre></div></div></div></div></div>"
            ]
          },
          "metadata": {},
          "execution_count": 62
        }
      ]
    },
    {
      "cell_type": "code",
      "source": [
        "scores_F1 ={}\n",
        "scores_MAE ={}\n",
        "scores_Accuracy = {}"
      ],
      "metadata": {
        "id": "0d6XCS1LR4kK"
      },
      "execution_count": 63,
      "outputs": []
    },
    {
      "cell_type": "code",
      "source": [
        "import tensorflow as tf\n",
        "\n",
        "y_pred = clf_1.predict(test_vec)\n",
        "test_y = tf.keras.utils.to_categorical(\n",
        "    test['label_enc'], num_classes=3)\n",
        "y_proba_cb = clf_1._predict_proba_lr(test_vec)"
      ],
      "metadata": {
        "id": "1st0_6KIR6uO"
      },
      "execution_count": 64,
      "outputs": []
    },
    {
      "cell_type": "code",
      "source": [
        "from sklearn.metrics import f1_score ,mean_absolute_error, accuracy_score\n",
        "\n",
        "print('F1:',f1_score(y_pred, y_test, average='macro'))\n",
        "scores_F1['Baseline'] = f1_score(y_pred, y_test, average='macro')\n",
        "print('Accuracy:',accuracy_score(y_pred, y_test))\n",
        "scores_Accuracy['Baseline'] = accuracy_score(y_pred, y_test)\n",
        "print('MAE:',mean_absolute_error(y_proba_cb, test_y))\n",
        "scores_MAE['Baseline'] = mean_absolute_error(y_proba_cb,test_y)"
      ],
      "metadata": {
        "colab": {
          "base_uri": "https://localhost:8080/"
        },
        "id": "QWSVANVeR60m",
        "outputId": "63a9345a-4892-45fd-a98f-d3df1d6241f5"
      },
      "execution_count": 65,
      "outputs": [
        {
          "output_type": "stream",
          "name": "stdout",
          "text": [
            "F1: 0.5832739494493436\n",
            "Accuracy: 0.5869352630549579\n",
            "MAE: 0.39923479570331377\n"
          ]
        }
      ]
    },
    {
      "cell_type": "markdown",
      "source": [
        "## LightGBM"
      ],
      "metadata": {
        "id": "4Jj9TDXpSGKR"
      }
    },
    {
      "cell_type": "code",
      "source": [
        "import lightgbm as lgb\n",
        "clf = lgb.LGBMClassifier()"
      ],
      "metadata": {
        "id": "BN8NPhhOSJFA"
      },
      "execution_count": 66,
      "outputs": []
    },
    {
      "cell_type": "code",
      "source": [
        "clf.fit(train_vec, y_train)"
      ],
      "metadata": {
        "colab": {
          "base_uri": "https://localhost:8080/",
          "height": 75
        },
        "id": "6ZtuxzYFSJKB",
        "outputId": "e5dc06f4-cd20-4537-ea1d-9041b2d55fd4"
      },
      "execution_count": 67,
      "outputs": [
        {
          "output_type": "execute_result",
          "data": {
            "text/plain": [
              "LGBMClassifier()"
            ],
            "text/html": [
              "<style>#sk-container-id-3 {color: black;background-color: white;}#sk-container-id-3 pre{padding: 0;}#sk-container-id-3 div.sk-toggleable {background-color: white;}#sk-container-id-3 label.sk-toggleable__label {cursor: pointer;display: block;width: 100%;margin-bottom: 0;padding: 0.3em;box-sizing: border-box;text-align: center;}#sk-container-id-3 label.sk-toggleable__label-arrow:before {content: \"▸\";float: left;margin-right: 0.25em;color: #696969;}#sk-container-id-3 label.sk-toggleable__label-arrow:hover:before {color: black;}#sk-container-id-3 div.sk-estimator:hover label.sk-toggleable__label-arrow:before {color: black;}#sk-container-id-3 div.sk-toggleable__content {max-height: 0;max-width: 0;overflow: hidden;text-align: left;background-color: #f0f8ff;}#sk-container-id-3 div.sk-toggleable__content pre {margin: 0.2em;color: black;border-radius: 0.25em;background-color: #f0f8ff;}#sk-container-id-3 input.sk-toggleable__control:checked~div.sk-toggleable__content {max-height: 200px;max-width: 100%;overflow: auto;}#sk-container-id-3 input.sk-toggleable__control:checked~label.sk-toggleable__label-arrow:before {content: \"▾\";}#sk-container-id-3 div.sk-estimator input.sk-toggleable__control:checked~label.sk-toggleable__label {background-color: #d4ebff;}#sk-container-id-3 div.sk-label input.sk-toggleable__control:checked~label.sk-toggleable__label {background-color: #d4ebff;}#sk-container-id-3 input.sk-hidden--visually {border: 0;clip: rect(1px 1px 1px 1px);clip: rect(1px, 1px, 1px, 1px);height: 1px;margin: -1px;overflow: hidden;padding: 0;position: absolute;width: 1px;}#sk-container-id-3 div.sk-estimator {font-family: monospace;background-color: #f0f8ff;border: 1px dotted black;border-radius: 0.25em;box-sizing: border-box;margin-bottom: 0.5em;}#sk-container-id-3 div.sk-estimator:hover {background-color: #d4ebff;}#sk-container-id-3 div.sk-parallel-item::after {content: \"\";width: 100%;border-bottom: 1px solid gray;flex-grow: 1;}#sk-container-id-3 div.sk-label:hover label.sk-toggleable__label {background-color: #d4ebff;}#sk-container-id-3 div.sk-serial::before {content: \"\";position: absolute;border-left: 1px solid gray;box-sizing: border-box;top: 0;bottom: 0;left: 50%;z-index: 0;}#sk-container-id-3 div.sk-serial {display: flex;flex-direction: column;align-items: center;background-color: white;padding-right: 0.2em;padding-left: 0.2em;position: relative;}#sk-container-id-3 div.sk-item {position: relative;z-index: 1;}#sk-container-id-3 div.sk-parallel {display: flex;align-items: stretch;justify-content: center;background-color: white;position: relative;}#sk-container-id-3 div.sk-item::before, #sk-container-id-3 div.sk-parallel-item::before {content: \"\";position: absolute;border-left: 1px solid gray;box-sizing: border-box;top: 0;bottom: 0;left: 50%;z-index: -1;}#sk-container-id-3 div.sk-parallel-item {display: flex;flex-direction: column;z-index: 1;position: relative;background-color: white;}#sk-container-id-3 div.sk-parallel-item:first-child::after {align-self: flex-end;width: 50%;}#sk-container-id-3 div.sk-parallel-item:last-child::after {align-self: flex-start;width: 50%;}#sk-container-id-3 div.sk-parallel-item:only-child::after {width: 0;}#sk-container-id-3 div.sk-dashed-wrapped {border: 1px dashed gray;margin: 0 0.4em 0.5em 0.4em;box-sizing: border-box;padding-bottom: 0.4em;background-color: white;}#sk-container-id-3 div.sk-label label {font-family: monospace;font-weight: bold;display: inline-block;line-height: 1.2em;}#sk-container-id-3 div.sk-label-container {text-align: center;}#sk-container-id-3 div.sk-container {/* jupyter's `normalize.less` sets `[hidden] { display: none; }` but bootstrap.min.css set `[hidden] { display: none !important; }` so we also need the `!important` here to be able to override the default hidden behavior on the sphinx rendered scikit-learn.org. See: https://github.com/scikit-learn/scikit-learn/issues/21755 */display: inline-block !important;position: relative;}#sk-container-id-3 div.sk-text-repr-fallback {display: none;}</style><div id=\"sk-container-id-3\" class=\"sk-top-container\"><div class=\"sk-text-repr-fallback\"><pre>LGBMClassifier()</pre><b>In a Jupyter environment, please rerun this cell to show the HTML representation or trust the notebook. <br />On GitHub, the HTML representation is unable to render, please try loading this page with nbviewer.org.</b></div><div class=\"sk-container\" hidden><div class=\"sk-item\"><div class=\"sk-estimator sk-toggleable\"><input class=\"sk-toggleable__control sk-hidden--visually\" id=\"sk-estimator-id-3\" type=\"checkbox\" checked><label for=\"sk-estimator-id-3\" class=\"sk-toggleable__label sk-toggleable__label-arrow\">LGBMClassifier</label><div class=\"sk-toggleable__content\"><pre>LGBMClassifier()</pre></div></div></div></div></div>"
            ]
          },
          "metadata": {},
          "execution_count": 67
        }
      ]
    },
    {
      "cell_type": "code",
      "source": [
        "import tensorflow as tf\n",
        "\n",
        "y_pred = clf.predict(test_vec)\n",
        "test_y = tf.keras.utils.to_categorical(\n",
        "    test['label_enc'], num_classes=3)\n",
        "y_proba_cb = clf.predict_proba(test_vec)"
      ],
      "metadata": {
        "id": "gnvJvQF-SJP3"
      },
      "execution_count": 68,
      "outputs": []
    },
    {
      "cell_type": "code",
      "source": [
        "from sklearn.metrics import f1_score ,mean_absolute_error, accuracy_score\n",
        "\n",
        "print('F1:',f1_score(y_pred, y_test, average='macro'))\n",
        "scores_F1['LightGBM'] = f1_score(y_pred, y_test, average='macro')\n",
        "print('Accuracy:',accuracy_score(y_pred, y_test))\n",
        "scores_Accuracy['LightGBM'] = accuracy_score(y_pred, y_test)\n",
        "print('MAE:',mean_absolute_error(y_proba_cb, test_y))\n",
        "scores_MAE['LightGBM'] = mean_absolute_error(y_proba_cb,test_y)"
      ],
      "metadata": {
        "colab": {
          "base_uri": "https://localhost:8080/"
        },
        "id": "lCc3cWBjSX-F",
        "outputId": "d877ffd5-ce35-4ebd-9c0a-459cb82207a8"
      },
      "execution_count": 69,
      "outputs": [
        {
          "output_type": "stream",
          "name": "stdout",
          "text": [
            "F1: 0.5498506635859214\n",
            "Accuracy: 0.5556424799530608\n",
            "MAE: 0.3757745050926962\n"
          ]
        }
      ]
    },
    {
      "cell_type": "markdown",
      "source": [
        "## BERT"
      ],
      "metadata": {
        "id": "8LsvRDboScKV"
      }
    },
    {
      "cell_type": "code",
      "source": [
        "train.loc[train[\"lemmas\"] == \"\", \"lemmas\"] = np.nan\n",
        "test.loc[test[\"lemmas\"] == \"\", \"lemmas\"] = np.nan\n",
        "val.loc[val[\"lemmas\"] == \"\", \"lemmas\"] = np.nan"
      ],
      "metadata": {
        "id": "9MPkd40_Scie"
      },
      "execution_count": 70,
      "outputs": []
    },
    {
      "cell_type": "code",
      "source": [
        "train = train.dropna()\n",
        "val = val.dropna()\n",
        "test = test.dropna()"
      ],
      "metadata": {
        "id": "PoRUFIUJSh21"
      },
      "execution_count": 71,
      "outputs": []
    },
    {
      "cell_type": "code",
      "source": [
        "train.info()"
      ],
      "metadata": {
        "colab": {
          "base_uri": "https://localhost:8080/"
        },
        "id": "yxUjMPO1SgwJ",
        "outputId": "34874e73-d77c-4fe6-8432-ba12b1f30113"
      },
      "execution_count": 72,
      "outputs": [
        {
          "output_type": "stream",
          "name": "stdout",
          "text": [
            "<class 'pandas.core.frame.DataFrame'>\n",
            "Int64Index: 45050 entries, 23645 to 26826\n",
            "Data columns (total 6 columns):\n",
            " #   Column     Non-Null Count  Dtype \n",
            "---  ------     --------------  ----- \n",
            " 0   title      45050 non-null  object\n",
            " 1   lemmas     45050 non-null  object\n",
            " 2   content    45050 non-null  object\n",
            " 3   label      45050 non-null  object\n",
            " 4   all_text   45050 non-null  object\n",
            " 5   label_enc  45050 non-null  int64 \n",
            "dtypes: int64(1), object(5)\n",
            "memory usage: 2.4+ MB\n"
          ]
        }
      ]
    },
    {
      "cell_type": "code",
      "source": [
        "y_train = train['label_enc']\n",
        "y_test = test['label_enc']\n",
        "y_val = val['label_enc']"
      ],
      "metadata": {
        "id": "t3khqoKDSil9"
      },
      "execution_count": 73,
      "outputs": []
    },
    {
      "cell_type": "code",
      "source": [
        "!pip install tensorflow_hub\n",
        "!pip install tensorflow_text"
      ],
      "metadata": {
        "colab": {
          "base_uri": "https://localhost:8080/"
        },
        "id": "qSWg6aynSioc",
        "outputId": "5b7ebdf7-69fa-415a-e34b-554259a6ae89"
      },
      "execution_count": 74,
      "outputs": [
        {
          "output_type": "stream",
          "name": "stdout",
          "text": [
            "Looking in indexes: https://pypi.org/simple, https://us-python.pkg.dev/colab-wheels/public/simple/\n",
            "Requirement already satisfied: tensorflow_hub in /usr/local/lib/python3.9/dist-packages (0.12.0)\n",
            "Requirement already satisfied: numpy>=1.12.0 in /usr/local/lib/python3.9/dist-packages (from tensorflow_hub) (1.22.4)\n",
            "Requirement already satisfied: protobuf>=3.8.0 in /usr/local/lib/python3.9/dist-packages (from tensorflow_hub) (3.19.6)\n",
            "Looking in indexes: https://pypi.org/simple, https://us-python.pkg.dev/colab-wheels/public/simple/\n",
            "Collecting tensorflow_text\n",
            "  Downloading tensorflow_text-2.11.0-cp39-cp39-manylinux_2_17_x86_64.manylinux2014_x86_64.whl (5.8 MB)\n",
            "\u001b[2K     \u001b[90m━━━━━━━━━━━━━━━━━━━━━━━━━━━━━━━━━━━━━━━━\u001b[0m \u001b[32m5.8/5.8 MB\u001b[0m \u001b[31m96.2 MB/s\u001b[0m eta \u001b[36m0:00:00\u001b[0m\n",
            "\u001b[?25hRequirement already satisfied: tensorflow<2.12,>=2.11.0 in /usr/local/lib/python3.9/dist-packages (from tensorflow_text) (2.11.0)\n",
            "Requirement already satisfied: tensorflow-hub>=0.8.0 in /usr/local/lib/python3.9/dist-packages (from tensorflow_text) (0.12.0)\n",
            "Requirement already satisfied: tensorboard<2.12,>=2.11 in /usr/local/lib/python3.9/dist-packages (from tensorflow<2.12,>=2.11.0->tensorflow_text) (2.11.2)\n",
            "Requirement already satisfied: packaging in /usr/local/lib/python3.9/dist-packages (from tensorflow<2.12,>=2.11.0->tensorflow_text) (23.0)\n",
            "Requirement already satisfied: gast<=0.4.0,>=0.2.1 in /usr/local/lib/python3.9/dist-packages (from tensorflow<2.12,>=2.11.0->tensorflow_text) (0.4.0)\n",
            "Requirement already satisfied: numpy>=1.20 in /usr/local/lib/python3.9/dist-packages (from tensorflow<2.12,>=2.11.0->tensorflow_text) (1.22.4)\n",
            "Requirement already satisfied: protobuf<3.20,>=3.9.2 in /usr/local/lib/python3.9/dist-packages (from tensorflow<2.12,>=2.11.0->tensorflow_text) (3.19.6)\n",
            "Requirement already satisfied: keras<2.12,>=2.11.0 in /usr/local/lib/python3.9/dist-packages (from tensorflow<2.12,>=2.11.0->tensorflow_text) (2.11.0)\n",
            "Requirement already satisfied: wrapt>=1.11.0 in /usr/local/lib/python3.9/dist-packages (from tensorflow<2.12,>=2.11.0->tensorflow_text) (1.15.0)\n",
            "Requirement already satisfied: astunparse>=1.6.0 in /usr/local/lib/python3.9/dist-packages (from tensorflow<2.12,>=2.11.0->tensorflow_text) (1.6.3)\n",
            "Requirement already satisfied: absl-py>=1.0.0 in /usr/local/lib/python3.9/dist-packages (from tensorflow<2.12,>=2.11.0->tensorflow_text) (1.4.0)\n",
            "Requirement already satisfied: grpcio<2.0,>=1.24.3 in /usr/local/lib/python3.9/dist-packages (from tensorflow<2.12,>=2.11.0->tensorflow_text) (1.51.3)\n",
            "Requirement already satisfied: flatbuffers>=2.0 in /usr/local/lib/python3.9/dist-packages (from tensorflow<2.12,>=2.11.0->tensorflow_text) (23.3.3)\n",
            "Requirement already satisfied: google-pasta>=0.1.1 in /usr/local/lib/python3.9/dist-packages (from tensorflow<2.12,>=2.11.0->tensorflow_text) (0.2.0)\n",
            "Requirement already satisfied: tensorflow-io-gcs-filesystem>=0.23.1 in /usr/local/lib/python3.9/dist-packages (from tensorflow<2.12,>=2.11.0->tensorflow_text) (0.31.0)\n",
            "Requirement already satisfied: six>=1.12.0 in /usr/local/lib/python3.9/dist-packages (from tensorflow<2.12,>=2.11.0->tensorflow_text) (1.15.0)\n",
            "Requirement already satisfied: libclang>=13.0.0 in /usr/local/lib/python3.9/dist-packages (from tensorflow<2.12,>=2.11.0->tensorflow_text) (15.0.6.1)\n",
            "Requirement already satisfied: setuptools in /usr/local/lib/python3.9/dist-packages (from tensorflow<2.12,>=2.11.0->tensorflow_text) (57.4.0)\n",
            "Requirement already satisfied: tensorflow-estimator<2.12,>=2.11.0 in /usr/local/lib/python3.9/dist-packages (from tensorflow<2.12,>=2.11.0->tensorflow_text) (2.11.0)\n",
            "Requirement already satisfied: termcolor>=1.1.0 in /usr/local/lib/python3.9/dist-packages (from tensorflow<2.12,>=2.11.0->tensorflow_text) (2.2.0)\n",
            "Requirement already satisfied: typing-extensions>=3.6.6 in /usr/local/lib/python3.9/dist-packages (from tensorflow<2.12,>=2.11.0->tensorflow_text) (4.5.0)\n",
            "Requirement already satisfied: opt-einsum>=2.3.2 in /usr/local/lib/python3.9/dist-packages (from tensorflow<2.12,>=2.11.0->tensorflow_text) (3.3.0)\n",
            "Requirement already satisfied: h5py>=2.9.0 in /usr/local/lib/python3.9/dist-packages (from tensorflow<2.12,>=2.11.0->tensorflow_text) (3.1.0)\n",
            "Requirement already satisfied: wheel<1.0,>=0.23.0 in /usr/local/lib/python3.9/dist-packages (from astunparse>=1.6.0->tensorflow<2.12,>=2.11.0->tensorflow_text) (0.38.4)\n",
            "Requirement already satisfied: tensorboard-plugin-wit>=1.6.0 in /usr/local/lib/python3.9/dist-packages (from tensorboard<2.12,>=2.11->tensorflow<2.12,>=2.11.0->tensorflow_text) (1.8.1)\n",
            "Requirement already satisfied: google-auth<3,>=1.6.3 in /usr/local/lib/python3.9/dist-packages (from tensorboard<2.12,>=2.11->tensorflow<2.12,>=2.11.0->tensorflow_text) (2.16.2)\n",
            "Requirement already satisfied: google-auth-oauthlib<0.5,>=0.4.1 in /usr/local/lib/python3.9/dist-packages (from tensorboard<2.12,>=2.11->tensorflow<2.12,>=2.11.0->tensorflow_text) (0.4.6)\n",
            "Requirement already satisfied: werkzeug>=1.0.1 in /usr/local/lib/python3.9/dist-packages (from tensorboard<2.12,>=2.11->tensorflow<2.12,>=2.11.0->tensorflow_text) (2.2.3)\n",
            "Requirement already satisfied: tensorboard-data-server<0.7.0,>=0.6.0 in /usr/local/lib/python3.9/dist-packages (from tensorboard<2.12,>=2.11->tensorflow<2.12,>=2.11.0->tensorflow_text) (0.6.1)\n",
            "Requirement already satisfied: requests<3,>=2.21.0 in /usr/local/lib/python3.9/dist-packages (from tensorboard<2.12,>=2.11->tensorflow<2.12,>=2.11.0->tensorflow_text) (2.25.1)\n",
            "Requirement already satisfied: markdown>=2.6.8 in /usr/local/lib/python3.9/dist-packages (from tensorboard<2.12,>=2.11->tensorflow<2.12,>=2.11.0->tensorflow_text) (3.4.1)\n",
            "Requirement already satisfied: pyasn1-modules>=0.2.1 in /usr/local/lib/python3.9/dist-packages (from google-auth<3,>=1.6.3->tensorboard<2.12,>=2.11->tensorflow<2.12,>=2.11.0->tensorflow_text) (0.2.8)\n",
            "Requirement already satisfied: rsa<5,>=3.1.4 in /usr/local/lib/python3.9/dist-packages (from google-auth<3,>=1.6.3->tensorboard<2.12,>=2.11->tensorflow<2.12,>=2.11.0->tensorflow_text) (4.9)\n",
            "Requirement already satisfied: cachetools<6.0,>=2.0.0 in /usr/local/lib/python3.9/dist-packages (from google-auth<3,>=1.6.3->tensorboard<2.12,>=2.11->tensorflow<2.12,>=2.11.0->tensorflow_text) (5.3.0)\n",
            "Requirement already satisfied: requests-oauthlib>=0.7.0 in /usr/local/lib/python3.9/dist-packages (from google-auth-oauthlib<0.5,>=0.4.1->tensorboard<2.12,>=2.11->tensorflow<2.12,>=2.11.0->tensorflow_text) (1.3.1)\n",
            "Requirement already satisfied: importlib-metadata>=4.4 in /usr/local/lib/python3.9/dist-packages (from markdown>=2.6.8->tensorboard<2.12,>=2.11->tensorflow<2.12,>=2.11.0->tensorflow_text) (6.0.0)\n",
            "Requirement already satisfied: urllib3<1.27,>=1.21.1 in /usr/local/lib/python3.9/dist-packages (from requests<3,>=2.21.0->tensorboard<2.12,>=2.11->tensorflow<2.12,>=2.11.0->tensorflow_text) (1.26.14)\n",
            "Requirement already satisfied: chardet<5,>=3.0.2 in /usr/local/lib/python3.9/dist-packages (from requests<3,>=2.21.0->tensorboard<2.12,>=2.11->tensorflow<2.12,>=2.11.0->tensorflow_text) (4.0.0)\n",
            "Requirement already satisfied: certifi>=2017.4.17 in /usr/local/lib/python3.9/dist-packages (from requests<3,>=2.21.0->tensorboard<2.12,>=2.11->tensorflow<2.12,>=2.11.0->tensorflow_text) (2022.12.7)\n",
            "Requirement already satisfied: idna<3,>=2.5 in /usr/local/lib/python3.9/dist-packages (from requests<3,>=2.21.0->tensorboard<2.12,>=2.11->tensorflow<2.12,>=2.11.0->tensorflow_text) (2.10)\n",
            "Requirement already satisfied: MarkupSafe>=2.1.1 in /usr/local/lib/python3.9/dist-packages (from werkzeug>=1.0.1->tensorboard<2.12,>=2.11->tensorflow<2.12,>=2.11.0->tensorflow_text) (2.1.2)\n",
            "Requirement already satisfied: zipp>=0.5 in /usr/local/lib/python3.9/dist-packages (from importlib-metadata>=4.4->markdown>=2.6.8->tensorboard<2.12,>=2.11->tensorflow<2.12,>=2.11.0->tensorflow_text) (3.15.0)\n",
            "Requirement already satisfied: pyasn1<0.5.0,>=0.4.6 in /usr/local/lib/python3.9/dist-packages (from pyasn1-modules>=0.2.1->google-auth<3,>=1.6.3->tensorboard<2.12,>=2.11->tensorflow<2.12,>=2.11.0->tensorflow_text) (0.4.8)\n",
            "Requirement already satisfied: oauthlib>=3.0.0 in /usr/local/lib/python3.9/dist-packages (from requests-oauthlib>=0.7.0->google-auth-oauthlib<0.5,>=0.4.1->tensorboard<2.12,>=2.11->tensorflow<2.12,>=2.11.0->tensorflow_text) (3.2.2)\n",
            "Installing collected packages: tensorflow_text\n",
            "Successfully installed tensorflow_text-2.11.0\n"
          ]
        }
      ]
    },
    {
      "cell_type": "code",
      "source": [
        "import tensorflow as tf\n",
        "import tensorflow_hub as hub\n",
        "import tensorflow_text as text\n",
        "from tensorflow.keras.optimizers.legacy import Adam"
      ],
      "metadata": {
        "id": "l84VAWzVSiqo"
      },
      "execution_count": 75,
      "outputs": []
    },
    {
      "cell_type": "code",
      "source": [
        "def build_classifier_model():\n",
        "    \n",
        "    text_input = tf.keras.layers.Input(shape=(), dtype=tf.string, name='text')\n",
        "    \n",
        "    preprocessing_layer = hub.KerasLayer(\n",
        "        tfhub_handle_preprocess, name='preprocessing')\n",
        "    \n",
        "    encoder_inputs = preprocessing_layer(text_input)\n",
        "    encoder = hub.KerasLayer(\n",
        "        tfhub_handle_encoder, trainable=True, name='BERT_encoder')\n",
        "    \n",
        "    outputs = encoder(encoder_inputs)\n",
        "    net = outputs['pooled_output']\n",
        "    net = tf.keras.layers.Dropout(0.1)(net)\n",
        "    net = tf.keras.layers.Dense(\n",
        "        3, activation='softmax', name='classifier')(net)\n",
        "    model = tf.keras.Model(text_input, net)\n",
        "    \n",
        "    loss = tf.keras.losses.SquaredHinge(name='squared_hinge')\n",
        "    metric = tf.metrics.CategoricalAccuracy('accuracy')\n",
        "    optimizer = Adam(\n",
        "        learning_rate=4e-05, epsilon=1e-08, decay=0.01, clipnorm=1.0)\n",
        "    model.compile(\n",
        "        optimizer=optimizer, loss=loss, metrics=metric)\n",
        "    model.summary()\n",
        "    return model"
      ],
      "metadata": {
        "id": "W6TfatF5Sis1"
      },
      "execution_count": 76,
      "outputs": []
    },
    {
      "cell_type": "code",
      "source": [
        "tfhub_handle_encoder = \\\n",
        "    \"https://tfhub.dev/tensorflow/small_bert/bert_en_uncased_L-4_H-512_A-8/1\"\n",
        "tfhub_handle_preprocess = \\\n",
        "    \"https://tfhub.dev/tensorflow/bert_en_uncased_preprocess/3\""
      ],
      "metadata": {
        "id": "11aesMZGSm7m"
      },
      "execution_count": 77,
      "outputs": []
    },
    {
      "cell_type": "code",
      "source": [
        "classifier_model = build_classifier_model()"
      ],
      "metadata": {
        "colab": {
          "base_uri": "https://localhost:8080/"
        },
        "id": "vhFG5Kl9Sm-C",
        "outputId": "bd6212ee-744b-4ddc-81aa-5cc64ad5afdb"
      },
      "execution_count": 78,
      "outputs": [
        {
          "output_type": "stream",
          "name": "stderr",
          "text": [
            "WARNING:tensorflow:Please fix your imports. Module tensorflow.python.training.tracking.data_structures has been moved to tensorflow.python.trackable.data_structures. The old module will be deleted in version 2.11.\n",
            "WARNING:tensorflow:From /usr/local/lib/python3.9/dist-packages/tensorflow/python/autograph/pyct/static_analysis/liveness.py:83: Analyzer.lamba_check (from tensorflow.python.autograph.pyct.static_analysis.liveness) is deprecated and will be removed after 2023-09-23.\n",
            "Instructions for updating:\n",
            "Lambda fuctions will be no more assumed to be used in the statement where they are used, or at least in the same block. https://github.com/tensorflow/tensorflow/issues/56089\n"
          ]
        },
        {
          "output_type": "stream",
          "name": "stdout",
          "text": [
            "Model: \"model\"\n",
            "__________________________________________________________________________________________________\n",
            " Layer (type)                   Output Shape         Param #     Connected to                     \n",
            "==================================================================================================\n",
            " text (InputLayer)              [(None,)]            0           []                               \n",
            "                                                                                                  \n",
            " preprocessing (KerasLayer)     {'input_word_ids':   0           ['text[0][0]']                   \n",
            "                                (None, 128),                                                      \n",
            "                                 'input_mask': (Non                                               \n",
            "                                e, 128),                                                          \n",
            "                                 'input_type_ids':                                                \n",
            "                                (None, 128)}                                                      \n",
            "                                                                                                  \n",
            " BERT_encoder (KerasLayer)      {'encoder_outputs':  28763649    ['preprocessing[0][0]',          \n",
            "                                 [(None, 128, 512),               'preprocessing[0][1]',          \n",
            "                                 (None, 128, 512),                'preprocessing[0][2]']          \n",
            "                                 (None, 128, 512),                                                \n",
            "                                 (None, 128, 512)],                                               \n",
            "                                 'pooled_output': (                                               \n",
            "                                None, 512),                                                       \n",
            "                                 'default': (None,                                                \n",
            "                                512),                                                             \n",
            "                                 'sequence_output':                                               \n",
            "                                 (None, 128, 512)}                                                \n",
            "                                                                                                  \n",
            " dropout (Dropout)              (None, 512)          0           ['BERT_encoder[0][5]']           \n",
            "                                                                                                  \n",
            " classifier (Dense)             (None, 3)            1539        ['dropout[0][0]']                \n",
            "                                                                                                  \n",
            "==================================================================================================\n",
            "Total params: 28,765,188\n",
            "Trainable params: 28,765,187\n",
            "Non-trainable params: 1\n",
            "__________________________________________________________________________________________________\n"
          ]
        }
      ]
    },
    {
      "cell_type": "code",
      "source": [
        "y_train = tf.keras.utils.to_categorical(\n",
        "    train['label_enc'], num_classes=3)\n",
        "y_val = tf.keras.utils.to_categorical(\n",
        "    val['label_enc'], num_classes=3)\n",
        "\n",
        "history = classifier_model.fit(\n",
        "    x = train['lemmas'].values,\n",
        "    y = y_train,\n",
        "    validation_data=(val['lemmas'].values, y_val),\n",
        "    epochs=10)"
      ],
      "metadata": {
        "colab": {
          "base_uri": "https://localhost:8080/"
        },
        "id": "omgqrWq-SnAZ",
        "outputId": "f1e1fa9a-7880-422f-99da-265db5fc9bfb"
      },
      "execution_count": 79,
      "outputs": [
        {
          "output_type": "stream",
          "name": "stdout",
          "text": [
            "Epoch 1/10\n",
            "1408/1408 [==============================] - 369s 252ms/step - loss: 1.2470 - accuracy: 0.5001 - val_loss: 1.2074 - val_accuracy: 0.5465\n",
            "Epoch 2/10\n",
            "1408/1408 [==============================] - 330s 234ms/step - loss: 1.2035 - accuracy: 0.5490 - val_loss: 1.1971 - val_accuracy: 0.5567\n",
            "Epoch 3/10\n",
            "1408/1408 [==============================] - 330s 234ms/step - loss: 1.1914 - accuracy: 0.5628 - val_loss: 1.1931 - val_accuracy: 0.5624\n",
            "Epoch 4/10\n",
            "1408/1408 [==============================] - 332s 236ms/step - loss: 1.1844 - accuracy: 0.5684 - val_loss: 1.1882 - val_accuracy: 0.5665\n",
            "Epoch 5/10\n",
            "1408/1408 [==============================] - 327s 232ms/step - loss: 1.1787 - accuracy: 0.5746 - val_loss: 1.1867 - val_accuracy: 0.5671\n",
            "Epoch 6/10\n",
            "1408/1408 [==============================] - 325s 231ms/step - loss: 1.1754 - accuracy: 0.5782 - val_loss: 1.1854 - val_accuracy: 0.5675\n",
            "Epoch 7/10\n",
            "1408/1408 [==============================] - 329s 234ms/step - loss: 1.1725 - accuracy: 0.5790 - val_loss: 1.1852 - val_accuracy: 0.5682\n",
            "Epoch 8/10\n",
            "1408/1408 [==============================] - 326s 231ms/step - loss: 1.1689 - accuracy: 0.5840 - val_loss: 1.1853 - val_accuracy: 0.5663\n",
            "Epoch 9/10\n",
            "1408/1408 [==============================] - 327s 232ms/step - loss: 1.1657 - accuracy: 0.5879 - val_loss: 1.1824 - val_accuracy: 0.5677\n",
            "Epoch 10/10\n",
            "1408/1408 [==============================] - 326s 232ms/step - loss: 1.1637 - accuracy: 0.5908 - val_loss: 1.1826 - val_accuracy: 0.5679\n"
          ]
        }
      ]
    },
    {
      "cell_type": "code",
      "source": [
        "sns.set()\n",
        "sns.set_context(\"paper\", font_scale=2) \n",
        "\n",
        "fig = plt.figure(figsize=(20,10))\n",
        "ax1 = fig.add_subplot(121)\n",
        "sns.lineplot(ax=ax1, data=history.history['accuracy'])\n",
        "sns.lineplot(ax=ax1, data=history.history['val_accuracy'])\n",
        "ax1.set(\n",
        "    title=f\"Model accuracy\",\n",
        "    xlabel=\"epoch\",\n",
        "    ylabel=\"accuracy\"\n",
        ")\n",
        "ax1.legend(['train', 'test'], loc='upper left')\n",
        "ax2 = fig.add_subplot(122)\n",
        "sns.lineplot(ax=ax2, data=history.history['loss'])\n",
        "sns.lineplot(ax=ax2, data=history.history['val_loss'])\n",
        "ax2.set(\n",
        "    title=f\"Model loss\",\n",
        "    xlabel=\"epoch\",\n",
        "    ylabel=\"loss\"\n",
        ")\n",
        "ax2.legend(['train', 'test'], loc='upper left')\n",
        "\n",
        "fig.tight_layout()\n",
        "plt.show(fig) "
      ],
      "metadata": {
        "colab": {
          "base_uri": "https://localhost:8080/",
          "height": 330
        },
        "id": "ciuV-gjpSnCx",
        "outputId": "9f8647b2-691c-4ada-fc34-cc595604c6ba"
      },
      "execution_count": 80,
      "outputs": [
        {
          "output_type": "display_data",
          "data": {
            "text/plain": [
              "<Figure size 1440x720 with 2 Axes>"
            ],
            "image/png": "[encoded data removed]"
          },
          "metadata": {}
        }
      ]
    },
    {
      "cell_type": "code",
      "source": [
        "y_test = tf.keras.utils.to_categorical(\n",
        "    test['label_enc'].astype('category'), num_classes=3)"
      ],
      "metadata": {
        "id": "H44TP5duSuAO"
      },
      "execution_count": 81,
      "outputs": []
    },
    {
      "cell_type": "code",
      "source": [
        "y_proba_cb  = classifier_model.predict(test['lemmas'].values)\n",
        "y_pred = np.argmax(y_proba_cb, axis=1)\n",
        "test_y = tf.keras.utils.to_categorical(\n",
        "    test['label_enc'], num_classes=3)"
      ],
      "metadata": {
        "colab": {
          "base_uri": "https://localhost:8080/"
        },
        "id": "HcL6jRVISuC8",
        "outputId": "8d8793af-7a05-459f-830e-c24e82089e6b"
      },
      "execution_count": 82,
      "outputs": [
        {
          "output_type": "stream",
          "name": "stdout",
          "text": [
            "160/160 [==============================] - 17s 104ms/step\n"
          ]
        }
      ]
    },
    {
      "cell_type": "code",
      "source": [
        "from sklearn.metrics import f1_score ,mean_absolute_error, accuracy_score\n",
        "\n",
        "print('F1:',f1_score(y_pred, np.argmax(y_test,axis = 1), average='macro'))\n",
        "scores_F1['BERT'] = f1_score(y_pred, np.argmax(y_test,axis = 1), average='macro')\n",
        "print('Accuracy:',accuracy_score(y_pred, np.argmax(y_test,axis = 1)))\n",
        "scores_Accuracy['BERT'] = accuracy_score(y_pred, np.argmax(y_test,axis = 1))\n",
        "print('MAE:',mean_absolute_error(y_proba_cb, test_y))\n",
        "scores_MAE['BERT'] = mean_absolute_error(y_proba_cb,test_y)"
      ],
      "metadata": {
        "colab": {
          "base_uri": "https://localhost:8080/"
        },
        "id": "MjHi7OgASuFH",
        "outputId": "0df815aa-89a4-4777-c6f6-e59412c0aacd"
      },
      "execution_count": 83,
      "outputs": [
        {
          "output_type": "stream",
          "name": "stdout",
          "text": [
            "F1: 0.5620273813686302\n",
            "Accuracy: 0.5699198122433013\n",
            "MAE: 0.30896634\n"
          ]
        }
      ]
    },
    {
      "cell_type": "markdown",
      "source": [
        "## Catboost"
      ],
      "metadata": {
        "id": "YRjm8fmTEano"
      }
    },
    {
      "cell_type": "code",
      "source": [
        "!pip install catboost"
      ],
      "metadata": {
        "id": "FboXmz1Qd76I",
        "colab": {
          "base_uri": "https://localhost:8080/"
        },
        "outputId": "d75f9e8f-702e-4119-d04e-410b3e973b6e"
      },
      "execution_count": 84,
      "outputs": [
        {
          "output_type": "stream",
          "name": "stdout",
          "text": [
            "Looking in indexes: https://pypi.org/simple, https://us-python.pkg.dev/colab-wheels/public/simple/\n",
            "Collecting catboost\n",
            "  Downloading catboost-1.1.1-cp39-none-manylinux1_x86_64.whl (76.6 MB)\n",
            "\u001b[2K     \u001b[90m━━━━━━━━━━━━━━━━━━━━━━━━━━━━━━━━━━━━━━━━\u001b[0m \u001b[32m76.6/76.6 MB\u001b[0m \u001b[31m15.2 MB/s\u001b[0m eta \u001b[36m0:00:00\u001b[0m\n",
            "\u001b[?25hRequirement already satisfied: plotly in /usr/local/lib/python3.9/dist-packages (from catboost) (5.5.0)\n",
            "Requirement already satisfied: numpy>=1.16.0 in /usr/local/lib/python3.9/dist-packages (from catboost) (1.22.4)\n",
            "Requirement already satisfied: pandas>=0.24.0 in /usr/local/lib/python3.9/dist-packages (from catboost) (1.3.5)\n",
            "Requirement already satisfied: scipy in /usr/local/lib/python3.9/dist-packages (from catboost) (1.10.1)\n",
            "Requirement already satisfied: six in /usr/local/lib/python3.9/dist-packages (from catboost) (1.15.0)\n",
            "Requirement already satisfied: graphviz in /usr/local/lib/python3.9/dist-packages (from catboost) (0.10.1)\n",
            "Requirement already satisfied: matplotlib in /usr/local/lib/python3.9/dist-packages (from catboost) (3.5.3)\n",
            "Requirement already satisfied: python-dateutil>=2.7.3 in /usr/local/lib/python3.9/dist-packages (from pandas>=0.24.0->catboost) (2.8.2)\n",
            "Requirement already satisfied: pytz>=2017.3 in /usr/local/lib/python3.9/dist-packages (from pandas>=0.24.0->catboost) (2022.7.1)\n",
            "Requirement already satisfied: pyparsing>=2.2.1 in /usr/local/lib/python3.9/dist-packages (from matplotlib->catboost) (3.0.9)\n",
            "Requirement already satisfied: cycler>=0.10 in /usr/local/lib/python3.9/dist-packages (from matplotlib->catboost) (0.11.0)\n",
            "Requirement already satisfied: pillow>=6.2.0 in /usr/local/lib/python3.9/dist-packages (from matplotlib->catboost) (8.4.0)\n",
            "Requirement already satisfied: packaging>=20.0 in /usr/local/lib/python3.9/dist-packages (from matplotlib->catboost) (23.0)\n",
            "Requirement already satisfied: fonttools>=4.22.0 in /usr/local/lib/python3.9/dist-packages (from matplotlib->catboost) (4.39.0)\n",
            "Requirement already satisfied: kiwisolver>=1.0.1 in /usr/local/lib/python3.9/dist-packages (from matplotlib->catboost) (1.4.4)\n",
            "Requirement already satisfied: tenacity>=6.2.0 in /usr/local/lib/python3.9/dist-packages (from plotly->catboost) (8.2.2)\n",
            "Installing collected packages: catboost\n",
            "Successfully installed catboost-1.1.1\n"
          ]
        }
      ]
    },
    {
      "cell_type": "code",
      "source": [
        "train"
      ],
      "metadata": {
        "colab": {
          "base_uri": "https://localhost:8080/",
          "height": 1000
        },
        "id": "fK953EKZSzVW",
        "outputId": "bf0e7530-7af4-456c-ee68-982a731f2ba0"
      },
      "execution_count": 85,
      "outputs": [
        {
          "output_type": "execute_result",
          "data": {
            "text/plain": [
              "                                                   title  \\\n",
              "23645  ‘We can get through this’: How to manage your ...   \n",
              "38223  In 24 Hours, Netflix Could Lose Almost 25% Of ...   \n",
              "9206   Anxious About Election Results? Here’s What’s ...   \n",
              "32342  How to Keep Track of All the Potential Coronav...   \n",
              "31657  Parsons Green: Underground blast a terror inci...   \n",
              "...                                                  ...   \n",
              "19246               Primary Preview: Five Races to Watch   \n",
              "16979  Republicans pass tax breaks, but don’t pay for...   \n",
              "31802  Sarah Huckabee Sanders Berated Staffers Over M...   \n",
              "4756   Barcelona terror attack death toll rises, four...   \n",
              "26826  What’s next in the Senate if the House impeach...   \n",
              "\n",
              "                                                  lemmas  \\\n",
              "23645  manage mental health coronavirus pandemicthe c...   \n",
              "38223  hours netflix could lose almost subscribersit ...   \n",
              "9206   anxious election results happening brain waita...   \n",
              "32342  keep track potential coronavirus treatmentsthe...   \n",
              "31657  parsons green underground blast terror inciden...   \n",
              "...                                                  ...   \n",
              "19246  primary preview five races watchtoday brings b...   \n",
              "16979  republicans pass breaks themrepublicans want d...   \n",
              "31802  sarah huckabee sanders berated staffers mccain...   \n",
              "4756   barcelona terror attack death toll rises fourt...   \n",
              "26826  next senate house impeaches trumpthe senate im...   \n",
              "\n",
              "                                                 content   label  \\\n",
              "23645  The coronavirus pandemic poses an obvious thre...  center   \n",
              "38223  It was Netflix’s most embarrassing day ever.\\n...  center   \n",
              "9206   ANALYSIS\\n\\nIf you’re feeling nervous about th...  center   \n",
              "32342  There’s still no cure for the coronavirus, but...  center   \n",
              "31657  Analysis\\n\\nHow 3 presidents announced the dea...  center   \n",
              "...                                                  ...     ...   \n",
              "19246  Today brings the biggest primary day of the se...  center   \n",
              "16979  Republicans want to cut the deficit. And Repub...    left   \n",
              "31802  News\\n\\nWhat to expect as Democrats retain the...    left   \n",
              "4756   A fourth person was arrested on Friday in conn...   right   \n",
              "26826  The Senate impeachment trial, explained.\\n\\nTh...    left   \n",
              "\n",
              "                                                all_text  label_enc  \n",
              "23645  ‘We can get through this’: How to manage your ...          0  \n",
              "38223  In 24 Hours, Netflix Could Lose Almost 25% Of ...          0  \n",
              "9206   Anxious About Election Results? Here’s What’s ...          0  \n",
              "32342  How to Keep Track of All the Potential Coronav...          0  \n",
              "31657  Parsons Green: Underground blast a terror inci...          0  \n",
              "...                                                  ...        ...  \n",
              "19246  Primary Preview: Five Races to WatchToday brin...          0  \n",
              "16979  Republicans pass tax breaks, but don’t pay for...          1  \n",
              "31802  Sarah Huckabee Sanders Berated Staffers Over M...          1  \n",
              "4756   Barcelona terror attack death toll rises, four...          2  \n",
              "26826  What’s next in the Senate if the House impeach...          1  \n",
              "\n",
              "[45050 rows x 6 columns]"
            ],
            "text/html": [
              "\n",
              "  <div id=\"df-35c94141-d83e-42bc-b079-d4a56eb0c0fe\">\n",
              "    <div class=\"colab-df-container\">\n",
              "      <div>\n",
              "<style scoped>\n",
              "    .dataframe tbody tr th:only-of-type {\n",
              "        vertical-align: middle;\n",
              "    }\n",
              "\n",
              "    .dataframe tbody tr th {\n",
              "        vertical-align: top;\n",
              "    }\n",
              "\n",
              "    .dataframe thead th {\n",
              "        text-align: right;\n",
              "    }\n",
              "</style>\n",
              "<table border=\"1\" class=\"dataframe\">\n",
              "  <thead>\n",
              "    <tr style=\"text-align: right;\">\n",
              "      <th></th>\n",
              "      <th>title</th>\n",
              "      <th>lemmas</th>\n",
              "      <th>content</th>\n",
              "      <th>label</th>\n",
              "      <th>all_text</th>\n",
              "      <th>label_enc</th>\n",
              "    </tr>\n",
              "  </thead>\n",
              "  <tbody>\n",
              "    <tr>\n",
              "      <th>23645</th>\n",
              "      <td>‘We can get through this’: How to manage your ...</td>\n",
              "      <td>manage mental health coronavirus pandemicthe c...</td>\n",
              "      <td>The coronavirus pandemic poses an obvious thre...</td>\n",
              "      <td>center</td>\n",
              "      <td>‘We can get through this’: How to manage your ...</td>\n",
              "      <td>0</td>\n",
              "    </tr>\n",
              "    <tr>\n",
              "      <th>38223</th>\n",
              "      <td>In 24 Hours, Netflix Could Lose Almost 25% Of ...</td>\n",
              "      <td>hours netflix could lose almost subscribersit ...</td>\n",
              "      <td>It was Netflix’s most embarrassing day ever.\\n...</td>\n",
              "      <td>center</td>\n",
              "      <td>In 24 Hours, Netflix Could Lose Almost 25% Of ...</td>\n",
              "      <td>0</td>\n",
              "    </tr>\n",
              "    <tr>\n",
              "      <th>9206</th>\n",
              "      <td>Anxious About Election Results? Here’s What’s ...</td>\n",
              "      <td>anxious election results happening brain waita...</td>\n",
              "      <td>ANALYSIS\\n\\nIf you’re feeling nervous about th...</td>\n",
              "      <td>center</td>\n",
              "      <td>Anxious About Election Results? Here’s What’s ...</td>\n",
              "      <td>0</td>\n",
              "    </tr>\n",
              "    <tr>\n",
              "      <th>32342</th>\n",
              "      <td>How to Keep Track of All the Potential Coronav...</td>\n",
              "      <td>keep track potential coronavirus treatmentsthe...</td>\n",
              "      <td>There’s still no cure for the coronavirus, but...</td>\n",
              "      <td>center</td>\n",
              "      <td>How to Keep Track of All the Potential Coronav...</td>\n",
              "      <td>0</td>\n",
              "    </tr>\n",
              "    <tr>\n",
              "      <th>31657</th>\n",
              "      <td>Parsons Green: Underground blast a terror inci...</td>\n",
              "      <td>parsons green underground blast terror inciden...</td>\n",
              "      <td>Analysis\\n\\nHow 3 presidents announced the dea...</td>\n",
              "      <td>center</td>\n",
              "      <td>Parsons Green: Underground blast a terror inci...</td>\n",
              "      <td>0</td>\n",
              "    </tr>\n",
              "    <tr>\n",
              "      <th>...</th>\n",
              "      <td>...</td>\n",
              "      <td>...</td>\n",
              "      <td>...</td>\n",
              "      <td>...</td>\n",
              "      <td>...</td>\n",
              "      <td>...</td>\n",
              "    </tr>\n",
              "    <tr>\n",
              "      <th>19246</th>\n",
              "      <td>Primary Preview: Five Races to Watch</td>\n",
              "      <td>primary preview five races watchtoday brings b...</td>\n",
              "      <td>Today brings the biggest primary day of the se...</td>\n",
              "      <td>center</td>\n",
              "      <td>Primary Preview: Five Races to WatchToday brin...</td>\n",
              "      <td>0</td>\n",
              "    </tr>\n",
              "    <tr>\n",
              "      <th>16979</th>\n",
              "      <td>Republicans pass tax breaks, but don’t pay for...</td>\n",
              "      <td>republicans pass breaks themrepublicans want d...</td>\n",
              "      <td>Republicans want to cut the deficit. And Repub...</td>\n",
              "      <td>left</td>\n",
              "      <td>Republicans pass tax breaks, but don’t pay for...</td>\n",
              "      <td>1</td>\n",
              "    </tr>\n",
              "    <tr>\n",
              "      <th>31802</th>\n",
              "      <td>Sarah Huckabee Sanders Berated Staffers Over M...</td>\n",
              "      <td>sarah huckabee sanders berated staffers mccain...</td>\n",
              "      <td>News\\n\\nWhat to expect as Democrats retain the...</td>\n",
              "      <td>left</td>\n",
              "      <td>Sarah Huckabee Sanders Berated Staffers Over M...</td>\n",
              "      <td>1</td>\n",
              "    </tr>\n",
              "    <tr>\n",
              "      <th>4756</th>\n",
              "      <td>Barcelona terror attack death toll rises, four...</td>\n",
              "      <td>barcelona terror attack death toll rises fourt...</td>\n",
              "      <td>A fourth person was arrested on Friday in conn...</td>\n",
              "      <td>right</td>\n",
              "      <td>Barcelona terror attack death toll rises, four...</td>\n",
              "      <td>2</td>\n",
              "    </tr>\n",
              "    <tr>\n",
              "      <th>26826</th>\n",
              "      <td>What’s next in the Senate if the House impeach...</td>\n",
              "      <td>next senate house impeaches trumpthe senate im...</td>\n",
              "      <td>The Senate impeachment trial, explained.\\n\\nTh...</td>\n",
              "      <td>left</td>\n",
              "      <td>What’s next in the Senate if the House impeach...</td>\n",
              "      <td>1</td>\n",
              "    </tr>\n",
              "  </tbody>\n",
              "</table>\n",
              "<p>45050 rows × 6 columns</p>\n",
              "</div>\n",
              "      <button class=\"colab-df-convert\" onclick=\"convertToInteractive('df-35c94141-d83e-42bc-b079-d4a56eb0c0fe')\"\n",
              "              title=\"Convert this dataframe to an interactive table.\"\n",
              "              style=\"display:none;\">\n",
              "        \n",
              "  <svg xmlns=\"http://www.w3.org/2000/svg\" height=\"24px\"viewBox=\"0 0 24 24\"\n",
              "       width=\"24px\">\n",
              "    <path d=\"M0 0h24v24H0V0z\" fill=\"none\"/>\n",
              "    <path d=\"M18.56 5.44l.94 2.06.94-2.06 2.06-.94-2.06-.94-.94-2.06-.94 2.06-2.06.94zm-11 1L8.5 8.5l.94-2.06 2.06-.94-2.06-.94L8.5 2.5l-.94 2.06-2.06.94zm10 10l.94 2.06.94-2.06 2.06-.94-2.06-.94-.94-2.06-.94 2.06-2.06.94z\"/><path d=\"M17.41 7.96l-1.37-1.37c-.4-.4-.92-.59-1.43-.59-.52 0-1.04.2-1.43.59L10.3 9.45l-7.72 7.72c-.78.78-.78 2.05 0 2.83L4 21.41c.39.39.9.59 1.41.59.51 0 1.02-.2 1.41-.59l7.78-7.78 2.81-2.81c.8-.78.8-2.07 0-2.86zM5.41 20L4 18.59l7.72-7.72 1.47 1.35L5.41 20z\"/>\n",
              "  </svg>\n",
              "      </button>\n",
              "      \n",
              "  <style>\n",
              "    .colab-df-container {\n",
              "      display:flex;\n",
              "      flex-wrap:wrap;\n",
              "      gap: 12px;\n",
              "    }\n",
              "\n",
              "    .colab-df-convert {\n",
              "      background-color: #E8F0FE;\n",
              "      border: none;\n",
              "      border-radius: 50%;\n",
              "      cursor: pointer;\n",
              "      display: none;\n",
              "      fill: #1967D2;\n",
              "      height: 32px;\n",
              "      padding: 0 0 0 0;\n",
              "      width: 32px;\n",
              "    }\n",
              "\n",
              "    .colab-df-convert:hover {\n",
              "      background-color: #E2EBFA;\n",
              "      box-shadow: 0px 1px 2px rgba(60, 64, 67, 0.3), 0px 1px 3px 1px rgba(60, 64, 67, 0.15);\n",
              "      fill: #174EA6;\n",
              "    }\n",
              "\n",
              "    [theme=dark] .colab-df-convert {\n",
              "      background-color: #3B4455;\n",
              "      fill: #D2E3FC;\n",
              "    }\n",
              "\n",
              "    [theme=dark] .colab-df-convert:hover {\n",
              "      background-color: #434B5C;\n",
              "      box-shadow: 0px 1px 3px 1px rgba(0, 0, 0, 0.15);\n",
              "      filter: drop-shadow(0px 1px 2px rgba(0, 0, 0, 0.3));\n",
              "      fill: #FFFFFF;\n",
              "    }\n",
              "  </style>\n",
              "\n",
              "      <script>\n",
              "        const buttonEl =\n",
              "          document.querySelector('#df-35c94141-d83e-42bc-b079-d4a56eb0c0fe button.colab-df-convert');\n",
              "        buttonEl.style.display =\n",
              "          google.colab.kernel.accessAllowed ? 'block' : 'none';\n",
              "\n",
              "        async function convertToInteractive(key) {\n",
              "          const element = document.querySelector('#df-35c94141-d83e-42bc-b079-d4a56eb0c0fe');\n",
              "          const dataTable =\n",
              "            await google.colab.kernel.invokeFunction('convertToInteractive',\n",
              "                                                     [key], {});\n",
              "          if (!dataTable) return;\n",
              "\n",
              "          const docLinkHtml = 'Like what you see? Visit the ' +\n",
              "            '<a target=\"_blank\" href=https://colab.research.google.com/notebooks/data_table.ipynb>data table notebook</a>'\n",
              "            + ' to learn more about interactive tables.';\n",
              "          element.innerHTML = '';\n",
              "          dataTable['output_type'] = 'display_data';\n",
              "          await google.colab.output.renderOutput(dataTable, element);\n",
              "          const docLink = document.createElement('div');\n",
              "          docLink.innerHTML = docLinkHtml;\n",
              "          element.appendChild(docLink);\n",
              "        }\n",
              "      </script>\n",
              "    </div>\n",
              "  </div>\n",
              "  "
            ]
          },
          "metadata": {},
          "execution_count": 85
        }
      ]
    },
    {
      "cell_type": "markdown",
      "source": [
        "Добавим переменную длинна всего текста"
      ],
      "metadata": {
        "id": "AwQSwIOx6Fsz"
      }
    },
    {
      "cell_type": "code",
      "source": [
        "train['sym_len'] = train.lemmas.apply(len)\n",
        "train['word_len'] = train.lemmas.apply(lambda x: len(x.split()))\n",
        "\n",
        "val['sym_len'] = val.lemmas.apply(len)\n",
        "val['word_len'] = val.lemmas.apply(lambda x: len(x.split()))\n",
        "\n",
        "test['sym_len'] = test.lemmas.apply(len)\n",
        "test['word_len'] = test.lemmas.apply(lambda x: len(x.split()))"
      ],
      "metadata": {
        "id": "Vvh4t1uvd_8z"
      },
      "execution_count": 86,
      "outputs": []
    },
    {
      "cell_type": "code",
      "source": [
        "plt.figure(figsize=(15, 10))\n",
        "sns.histplot(data=train.sym_len)\n",
        "plt.show()"
      ],
      "metadata": {
        "colab": {
          "base_uri": "https://localhost:8080/",
          "height": 436
        },
        "id": "44PbwS1fS5ge",
        "outputId": "9573f6ed-cf47-43b9-c4f1-779e712dcba3"
      },
      "execution_count": 87,
      "outputs": [
        {
          "output_type": "display_data",
          "data": {
            "text/plain": [
              "<Figure size 1080x720 with 1 Axes>"
            ],
            "image/png": "[encoded data removed]"
          },
          "metadata": {}
        }
      ]
    },
    {
      "cell_type": "code",
      "source": [
        "plt.figure(figsize=(15, 10))\n",
        "sns.histplot(data=train.word_len)\n",
        "plt.show()"
      ],
      "metadata": {
        "colab": {
          "base_uri": "https://localhost:8080/",
          "height": 436
        },
        "id": "WIL19_KQS5iz",
        "outputId": "3d6c8bf8-e14c-41b5-9291-4aa7c41882c9"
      },
      "execution_count": 88,
      "outputs": [
        {
          "output_type": "display_data",
          "data": {
            "text/plain": [
              "<Figure size 1080x720 with 1 Axes>"
            ],
            "image/png": "[encoded data removed]"
          },
          "metadata": {}
        }
      ]
    },
    {
      "cell_type": "code",
      "source": [
        "df_train = train[['title','all_text','lemmas','content','sym_len', 'word_len']]\n",
        "y_train = train['label_enc']\n",
        "df_val = val[['title','all_text','lemmas','content','sym_len', 'word_len']]\n",
        "y_val = val['label_enc']\n",
        "df_test = test[['title','all_text','lemmas','content','sym_len', 'word_len']]\n",
        "y_test = test['label_enc']"
      ],
      "metadata": {
        "id": "0G_o4cJ_S5ni"
      },
      "execution_count": 89,
      "outputs": []
    },
    {
      "cell_type": "code",
      "source": [
        "from catboost import CatBoostClassifier\n",
        "from catboost import Pool\n",
        "\n",
        "\n",
        "def fit_model(train_pool, validation_pool, **kwargs):\n",
        "    model = CatBoostClassifier(\n",
        "        iterations=10000,\n",
        "        learning_rate=0.1,\n",
        "        use_best_model= True,\n",
        "        task_type='GPU',\n",
        "        **kwargs\n",
        "    )\n",
        "\n",
        "    return model.fit(\n",
        "        train_pool,\n",
        "        eval_set=validation_pool,\n",
        "        verbose=500,\n",
        "    )"
      ],
      "metadata": {
        "id": "3Oh2gihhTcsw"
      },
      "execution_count": 96,
      "outputs": []
    },
    {
      "cell_type": "code",
      "source": [
        "train_pool = Pool(\n",
        "    df_train, y_train, \n",
        "    text_features=['title','all_text','lemmas','content'],\n",
        ")\n",
        "\n",
        "validation_pool = Pool(\n",
        "    df_val, y_val, \n",
        "    text_features=['title','all_text','lemmas','content'],\n",
        ")\n",
        "\n",
        "test_pool = Pool(\n",
        "    df_test, y_test, \n",
        "    text_features=['title','all_text','lemmas','content'],\n",
        ")\n",
        "\n",
        "print('Train dataset shape: {}\\n'.format(train_pool.shape))\n",
        "\n",
        "model = fit_model(train_pool, validation_pool)"
      ],
      "metadata": {
        "id": "G3zGPFjpeJSW",
        "colab": {
          "base_uri": "https://localhost:8080/"
        },
        "outputId": "96bc0e5a-2b05-4ae8-8a97-acb38190248d"
      },
      "execution_count": 97,
      "outputs": [
        {
          "output_type": "stream",
          "name": "stdout",
          "text": [
            "Train dataset shape: (45050, 6)\n",
            "\n",
            "0:\tlearn: 1.0630197\ttest: 1.0601750\tbest: 1.0601750 (0)\ttotal: 48.5ms\tremaining: 8m 4s\n",
            "500:\tlearn: 0.7139164\ttest: 0.7335400\tbest: 0.7335400 (500)\ttotal: 9.75s\tremaining: 3m 4s\n",
            "1000:\tlearn: 0.6667303\ttest: 0.7191575\tbest: 0.7191575 (1000)\ttotal: 18.9s\tremaining: 2m 49s\n",
            "1500:\tlearn: 0.6313388\ttest: 0.7123536\tbest: 0.7123536 (1500)\ttotal: 26.2s\tremaining: 2m 28s\n",
            "2000:\tlearn: 0.6015062\ttest: 0.7063368\tbest: 0.7063368 (2000)\ttotal: 36.9s\tremaining: 2m 27s\n",
            "2500:\tlearn: 0.5763293\ttest: 0.7038118\tbest: 0.7038118 (2500)\ttotal: 46.1s\tremaining: 2m 18s\n",
            "3000:\tlearn: 0.5534409\ttest: 0.7021887\tbest: 0.7021670 (2992)\ttotal: 54s\tremaining: 2m 5s\n",
            "3500:\tlearn: 0.5333493\ttest: 0.7003187\tbest: 0.7003187 (3500)\ttotal: 1m 2s\tremaining: 1m 55s\n",
            "4000:\tlearn: 0.5140863\ttest: 0.6989551\tbest: 0.6988964 (3995)\ttotal: 1m 11s\tremaining: 1m 46s\n",
            "4500:\tlearn: 0.4969014\ttest: 0.6975299\tbest: 0.6974737 (4461)\ttotal: 1m 22s\tremaining: 1m 40s\n",
            "5000:\tlearn: 0.4808983\ttest: 0.6972257\tbest: 0.6969330 (4834)\ttotal: 1m 32s\tremaining: 1m 32s\n",
            "5500:\tlearn: 0.4657280\ttest: 0.6954467\tbest: 0.6954334 (5498)\ttotal: 1m 40s\tremaining: 1m 21s\n",
            "6000:\tlearn: 0.4512239\ttest: 0.6947258\tbest: 0.6947166 (5994)\ttotal: 1m 49s\tremaining: 1m 12s\n",
            "6500:\tlearn: 0.4380927\ttest: 0.6950258\tbest: 0.6947074 (6001)\ttotal: 1m 59s\tremaining: 1m 4s\n",
            "7000:\tlearn: 0.4257411\ttest: 0.6949579\tbest: 0.6947074 (6001)\ttotal: 2m 6s\tremaining: 54.2s\n",
            "7500:\tlearn: 0.4137727\ttest: 0.6950533\tbest: 0.6945711 (7279)\ttotal: 2m 15s\tremaining: 45.1s\n",
            "8000:\tlearn: 0.4027381\ttest: 0.6951601\tbest: 0.6945711 (7279)\ttotal: 2m 24s\tremaining: 36.1s\n",
            "8500:\tlearn: 0.3918380\ttest: 0.6954174\tbest: 0.6945711 (7279)\ttotal: 2m 31s\tremaining: 26.8s\n",
            "9000:\tlearn: 0.3819425\ttest: 0.6955152\tbest: 0.6945711 (7279)\ttotal: 2m 42s\tremaining: 18.1s\n",
            "9500:\tlearn: 0.3721256\ttest: 0.6957622\tbest: 0.6945711 (7279)\ttotal: 2m 52s\tremaining: 9.07s\n",
            "9999:\tlearn: 0.3627841\ttest: 0.6961811\tbest: 0.6945711 (7279)\ttotal: 3m 1s\tremaining: 0us\n",
            "bestTest = 0.6945710553\n",
            "bestIteration = 7279\n",
            "Shrink model to first 7280 iterations.\n"
          ]
        }
      ]
    },
    {
      "cell_type": "code",
      "source": [
        "def plot_feature_importance(importance,names,model_type):\n",
        "    \n",
        "    #Create arrays from feature importance and feature names\n",
        "    feature_importance = np.array(importance)\n",
        "    feature_names = np.array(names)\n",
        "    \n",
        "    #Create a DataFrame using a Dictionary\n",
        "    data={'feature_names':feature_names,'feature_importance':feature_importance}\n",
        "    fi_df = pd.DataFrame(data)\n",
        "    \n",
        "    #Sort the DataFrame in order decreasing feature importance\n",
        "    fi_df.sort_values(by=['feature_importance'], ascending=False,inplace=True)\n",
        "    \n",
        "    #Define size of bar plot\n",
        "    plt.figure(figsize=(10,8))\n",
        "    #Plot Searborn bar chart\n",
        "    sns.barplot(x=fi_df['feature_importance'], y=fi_df['feature_names'])\n",
        "    #Add chart labels\n",
        "    plt.title(model_type + 'FEATURE IMPORTANCE')\n",
        "    plt.xlabel('FEATURE IMPORTANCE')\n",
        "    plt.ylabel('FEATURE NAMES')\n",
        "#plot the catboost result\n",
        "plot_feature_importance(model.get_feature_importance(),df_train.columns,'CATBOOST ')"
      ],
      "metadata": {
        "id": "oRY0hH4ueNv-",
        "colab": {
          "base_uri": "https://localhost:8080/",
          "height": 503
        },
        "outputId": "e08a7d2f-98ba-41fe-de3d-32b05cc9e48e"
      },
      "execution_count": 98,
      "outputs": [
        {
          "output_type": "display_data",
          "data": {
            "text/plain": [
              "<Figure size 720x576 with 1 Axes>"
            ],
            "image/png": "[encoded data removed]"
          },
          "metadata": {}
        }
      ]
    },
    {
      "cell_type": "code",
      "source": [
        "y_proba_cb = model.predict_proba(test_pool)\n",
        "y_pred = np.argmax(y_proba_cb, axis=1)"
      ],
      "metadata": {
        "id": "Uj0nqdBKEgLN"
      },
      "execution_count": 101,
      "outputs": []
    },
    {
      "cell_type": "code",
      "source": [
        "test_y = tf.keras.utils.to_categorical(\n",
        "    test['label_enc'], num_classes=3)"
      ],
      "metadata": {
        "id": "2LW-1ABtfSYV"
      },
      "execution_count": 102,
      "outputs": []
    },
    {
      "cell_type": "markdown",
      "source": [
        "Итоговые метрики"
      ],
      "metadata": {
        "id": "1UcVAwoig7AG"
      }
    },
    {
      "cell_type": "code",
      "source": [
        "print('F1:',f1_score(y_pred, y_test, average='macro'))\n",
        "scores_F1['Catboost'] = f1_score(y_pred, y_test, average='macro')\n",
        "print('Accuracy:',accuracy_score(y_pred, y_test))\n",
        "scores_Accuracy['Catboost'] = accuracy_score(y_pred, y_test)\n",
        "print('MAE:',mean_absolute_error(y_proba_cb, test_y))\n",
        "scores_MAE['Catboost'] = mean_absolute_error(y_proba_cb,test_y)"
      ],
      "metadata": {
        "colab": {
          "base_uri": "https://localhost:8080/"
        },
        "id": "eyWL24OKamJO",
        "outputId": "a3171d39-6a33-452c-ef3d-722100b61aa2"
      },
      "execution_count": 103,
      "outputs": [
        {
          "output_type": "stream",
          "name": "stdout",
          "text": [
            "F1: 0.6975959034990029\n",
            "Accuracy: 0.7005671816937219\n",
            "MAE: 0.2704399580223627\n"
          ]
        }
      ]
    },
    {
      "cell_type": "markdown",
      "source": [
        "Матрицы ошибок"
      ],
      "metadata": {
        "id": "rwAfSwv_hADF"
      }
    },
    {
      "cell_type": "code",
      "source": [
        "from sklearn.datasets import make_classification\n",
        "from sklearn.metrics import confusion_matrix, ConfusionMatrixDisplay\n",
        "from sklearn.model_selection import train_test_split\n",
        "\n",
        "cm = confusion_matrix(y_test, y_pred)\n",
        "disp = ConfusionMatrixDisplay(confusion_matrix=cm)\n",
        "disp.plot() "
      ],
      "metadata": {
        "colab": {
          "base_uri": "https://localhost:8080/",
          "height": 315
        },
        "id": "CHIP3ykVeiEY",
        "outputId": "d5f68cf7-693a-4731-bb77-4ebb07324c5f"
      },
      "execution_count": 105,
      "outputs": [
        {
          "output_type": "execute_result",
          "data": {
            "text/plain": [
              "<sklearn.metrics._plot.confusion_matrix.ConfusionMatrixDisplay at 0x7fd53488d730>"
            ]
          },
          "metadata": {},
          "execution_count": 105
        },
        {
          "output_type": "display_data",
          "data": {
            "text/plain": [
              "<Figure size 432x288 with 2 Axes>"
            ],
            "image/png": "[encoded data removed]"
          },
          "metadata": {}
        }
      ]
    },
    {
      "cell_type": "code",
      "source": [
        "target_names = ['center', 'left', 'right']\n",
        "from sklearn.metrics import classification_report, confusion_matrix\n",
        "cf_matrix = confusion_matrix(y_test, y_pred)\n",
        "sns.heatmap(\n",
        "    cf_matrix/np.sum(cf_matrix),\n",
        "    annot=True, fmt='.2%', cmap='Blues',\n",
        "    xticklabels=target_names,\n",
        "    yticklabels=target_names)"
      ],
      "metadata": {
        "colab": {
          "base_uri": "https://localhost:8080/",
          "height": 292
        },
        "id": "5VVUwSPXdnhJ",
        "outputId": "9ff46d7f-9bff-48a5-b6cc-7317eaeb93c4"
      },
      "execution_count": 106,
      "outputs": [
        {
          "output_type": "execute_result",
          "data": {
            "text/plain": [
              "<AxesSubplot:>"
            ]
          },
          "metadata": {},
          "execution_count": 106
        },
        {
          "output_type": "display_data",
          "data": {
            "text/plain": [
              "<Figure size 432x288 with 2 Axes>"
            ],
            "image/png": "[encoded data removed]"
          },
          "metadata": {}
        }
      ]
    },
    {
      "cell_type": "code",
      "source": [
        "print(classification_report(y_test, y_pred, target_names=target_names))"
      ],
      "metadata": {
        "colab": {
          "base_uri": "https://localhost:8080/"
        },
        "id": "VRTyV7WOgogQ",
        "outputId": "116d968b-7c2f-4b51-e2c2-8cb6083e72b6"
      },
      "execution_count": 108,
      "outputs": [
        {
          "output_type": "stream",
          "name": "stdout",
          "text": [
            "              precision    recall  f1-score   support\n",
            "\n",
            "      center       0.70      0.73      0.72      1769\n",
            "        left       0.68      0.64      0.66      1481\n",
            "       right       0.71      0.72      0.72      1863\n",
            "\n",
            "    accuracy                           0.70      5113\n",
            "   macro avg       0.70      0.70      0.70      5113\n",
            "weighted avg       0.70      0.70      0.70      5113\n",
            "\n"
          ]
        }
      ]
    },
    {
      "cell_type": "markdown",
      "source": [
        "## XLNet"
      ],
      "metadata": {
        "id": "E8iL8k9fT324"
      }
    },
    {
      "cell_type": "code",
      "source": [
        "!pip install pytorch-transformers"
      ],
      "metadata": {
        "colab": {
          "base_uri": "https://localhost:8080/"
        },
        "id": "WcGrzccLoLp6",
        "outputId": "db0742a1-6058-4d2f-98a1-a00aa029cb16"
      },
      "execution_count": 196,
      "outputs": [
        {
          "output_type": "stream",
          "name": "stdout",
          "text": [
            "Looking in indexes: https://pypi.org/simple, https://us-python.pkg.dev/colab-wheels/public/simple/\n",
            "Requirement already satisfied: pytorch-transformers in /usr/local/lib/python3.9/dist-packages (1.2.0)\n",
            "Requirement already satisfied: requests in /usr/local/lib/python3.9/dist-packages (from pytorch-transformers) (2.25.1)\n",
            "Requirement already satisfied: sentencepiece in /usr/local/lib/python3.9/dist-packages (from pytorch-transformers) (0.1.97)\n",
            "Requirement already satisfied: boto3 in /usr/local/lib/python3.9/dist-packages (from pytorch-transformers) (1.26.89)\n",
            "Requirement already satisfied: torch>=1.0.0 in /usr/local/lib/python3.9/dist-packages (from pytorch-transformers) (1.13.1+cu116)\n",
            "Requirement already satisfied: numpy in /usr/local/lib/python3.9/dist-packages (from pytorch-transformers) (1.22.4)\n",
            "Requirement already satisfied: sacremoses in /usr/local/lib/python3.9/dist-packages (from pytorch-transformers) (0.0.53)\n",
            "Requirement already satisfied: regex in /usr/local/lib/python3.9/dist-packages (from pytorch-transformers) (2022.6.2)\n",
            "Requirement already satisfied: tqdm in /usr/local/lib/python3.9/dist-packages (from pytorch-transformers) (4.65.0)\n",
            "Requirement already satisfied: typing-extensions in /usr/local/lib/python3.9/dist-packages (from torch>=1.0.0->pytorch-transformers) (4.5.0)\n",
            "Requirement already satisfied: botocore<1.30.0,>=1.29.89 in /usr/local/lib/python3.9/dist-packages (from boto3->pytorch-transformers) (1.29.89)\n",
            "Requirement already satisfied: jmespath<2.0.0,>=0.7.1 in /usr/local/lib/python3.9/dist-packages (from boto3->pytorch-transformers) (1.0.1)\n",
            "Requirement already satisfied: s3transfer<0.7.0,>=0.6.0 in /usr/local/lib/python3.9/dist-packages (from boto3->pytorch-transformers) (0.6.0)\n",
            "Requirement already satisfied: idna<3,>=2.5 in /usr/local/lib/python3.9/dist-packages (from requests->pytorch-transformers) (2.10)\n",
            "Requirement already satisfied: certifi>=2017.4.17 in /usr/local/lib/python3.9/dist-packages (from requests->pytorch-transformers) (2022.12.7)\n",
            "Requirement already satisfied: chardet<5,>=3.0.2 in /usr/local/lib/python3.9/dist-packages (from requests->pytorch-transformers) (4.0.0)\n",
            "Requirement already satisfied: urllib3<1.27,>=1.21.1 in /usr/local/lib/python3.9/dist-packages (from requests->pytorch-transformers) (1.26.14)\n",
            "Requirement already satisfied: joblib in /usr/local/lib/python3.9/dist-packages (from sacremoses->pytorch-transformers) (1.2.0)\n",
            "Requirement already satisfied: six in /usr/local/lib/python3.9/dist-packages (from sacremoses->pytorch-transformers) (1.15.0)\n",
            "Requirement already satisfied: click in /usr/local/lib/python3.9/dist-packages (from sacremoses->pytorch-transformers) (8.1.3)\n",
            "Requirement already satisfied: python-dateutil<3.0.0,>=2.1 in /usr/local/lib/python3.9/dist-packages (from botocore<1.30.0,>=1.29.89->boto3->pytorch-transformers) (2.8.2)\n"
          ]
        }
      ]
    },
    {
      "cell_type": "code",
      "source": [
        "import torch\n",
        "from torch.utils.data import TensorDataset, DataLoader, RandomSampler, SequentialSampler\n",
        "from tensorflow.keras.preprocessing.sequence import pad_sequences\n",
        "\n",
        "from pytorch_transformers import XLNetTokenizer\n",
        "from pytorch_transformers import AdamW\n",
        "\n",
        "from tqdm import tqdm, trange\n",
        "import io"
      ],
      "metadata": {
        "id": "FlhyV2lZTpSn"
      },
      "execution_count": 197,
      "outputs": []
    },
    {
      "cell_type": "code",
      "source": [
        "device = torch.device(\"cuda\" if torch.cuda.is_available() else \"cpu\")\n",
        "n_gpu = torch.cuda.device_count()\n",
        "torch.cuda.get_device_name(0)"
      ],
      "metadata": {
        "colab": {
          "base_uri": "https://localhost:8080/",
          "height": 36
        },
        "id": "KINI2EzRTpVI",
        "outputId": "8dc9f631-e069-47d3-a008-03761b8c4918"
      },
      "execution_count": 154,
      "outputs": [
        {
          "output_type": "execute_result",
          "data": {
            "text/plain": [
              "'Tesla T4'"
            ],
            "application/vnd.google.colaboratory.intrinsic+json": {
              "type": "string"
            }
          },
          "metadata": {},
          "execution_count": 154
        }
      ]
    },
    {
      "cell_type": "code",
      "source": [
        "sentences = train['lemmas']"
      ],
      "metadata": {
        "id": "Wzi2jr3BkXkg"
      },
      "execution_count": 172,
      "outputs": []
    },
    {
      "cell_type": "code",
      "source": [
        "sentences = [sentence + \" [SEP] [CLS]\" for sentence in sentences]\n",
        "labels = train['label_enc']"
      ],
      "metadata": {
        "id": "xvRsgWBeTpX5"
      },
      "execution_count": 173,
      "outputs": []
    },
    {
      "cell_type": "code",
      "source": [
        "tokenizer = XLNetTokenizer.from_pretrained('xlnet-base-cased', do_lower_case=True)\n",
        "\n",
        "tokenized_texts = [tokenizer.tokenize(sent) for sent in sentences]\n",
        "print (\"Tokenize the first sentence:\")\n",
        "print (tokenized_texts[0])"
      ],
      "metadata": {
        "colab": {
          "base_uri": "https://localhost:8080/"
        },
        "id": "z4GXcbE6TpaS",
        "outputId": "b3c90992-34ce-4144-91c4-71297df3a785"
      },
      "execution_count": 174,
      "outputs": [
        {
          "output_type": "stream",
          "name": "stdout",
          "text": [
            "Tokenize the first sentence:\n",
            "['▁manage', '▁mental', '▁health', '▁', 'corona', 'virus', '▁pandemic', 'the', '▁', 'corona', 'virus', '▁pandemic', '▁poses', '▁obvious', '▁threat', '▁physical', '▁safety', '▁advocates', '▁stress', '▁', 'american', 's', '▁sleep', '▁mental', '▁health', '▁york', '▁and', 'rew', '▁', 'cu', 'omo', '▁', 'democrat', '▁whose', '▁state', '▁become', '▁epicenter', '▁co', 'vid', '▁crisis', '▁said', '▁we', 'd', 'nes', 'day', '▁mental', '▁health', '▁professionals', '▁volunteered', '▁provide', '▁free', '▁mental', '▁health', '▁services', '▁empire', '▁state', '▁least', '▁confirmed', '▁cases', '▁', 'mon', 'day', '▁morning', '▁four', '▁days', '▁making', '▁', 'disproportionate', '▁share', '▁united', '▁states', '▁confirmed', '▁cases', '▁york', '▁city', '▁accounts', '▁[', 's', 'ep', ']', '▁[', 'cl', 's', ']']\n"
          ]
        }
      ]
    },
    {
      "cell_type": "code",
      "source": [
        "MAX_LEN = 128"
      ],
      "metadata": {
        "id": "l8EyEGdGknZI"
      },
      "execution_count": 175,
      "outputs": []
    },
    {
      "cell_type": "code",
      "source": [
        "input_ids = [tokenizer.convert_tokens_to_ids(x) for x in tokenized_texts]"
      ],
      "metadata": {
        "id": "VTIHmX4zknby"
      },
      "execution_count": 176,
      "outputs": []
    },
    {
      "cell_type": "code",
      "source": [
        "train_inputs = pad_sequences(input_ids, maxlen=MAX_LEN, dtype=\"long\", truncating=\"post\", padding=\"post\")"
      ],
      "metadata": {
        "id": "gJRzGKYWkneN"
      },
      "execution_count": 177,
      "outputs": []
    },
    {
      "cell_type": "code",
      "source": [
        "# Create attention masks\n",
        "train_masks = []\n",
        "\n",
        "# Create a mask of 1s for each token followed by 0s for padding\n",
        "for seq in train_inputs:\n",
        "  seq_mask = [float(i>0) for i in seq]\n",
        "  train_masks.append(seq_mask)"
      ],
      "metadata": {
        "id": "O9jKLoYCknkr"
      },
      "execution_count": 178,
      "outputs": []
    },
    {
      "cell_type": "code",
      "source": [
        "sentences_val = val['lemmas']"
      ],
      "metadata": {
        "id": "0lMi0Bw6lMto"
      },
      "execution_count": 179,
      "outputs": []
    },
    {
      "cell_type": "code",
      "source": [
        "sentences_val = [sentence + \" [SEP] [CLS]\" for sentence in sentences_val]\n",
        "labels_val = val['label_enc']"
      ],
      "metadata": {
        "id": "7oKBhTJNlMv5"
      },
      "execution_count": 180,
      "outputs": []
    },
    {
      "cell_type": "code",
      "source": [
        "tokenized_texts_val = [tokenizer.tokenize(sent) for sent in sentences_val]"
      ],
      "metadata": {
        "id": "6AYfd9MmlMyb"
      },
      "execution_count": 181,
      "outputs": []
    },
    {
      "cell_type": "code",
      "source": [
        "input_ids = [tokenizer.convert_tokens_to_ids(x) for x in tokenized_texts_val]"
      ],
      "metadata": {
        "id": "eDlTqtS3lKVi"
      },
      "execution_count": 182,
      "outputs": []
    },
    {
      "cell_type": "code",
      "source": [
        "validation_inputs = pad_sequences(input_ids, maxlen=MAX_LEN, dtype=\"long\", truncating=\"post\", padding=\"post\")"
      ],
      "metadata": {
        "id": "BISx6jkXlKX1"
      },
      "execution_count": 183,
      "outputs": []
    },
    {
      "cell_type": "code",
      "source": [
        "# Create attention masks\n",
        "validation_masks = []\n",
        "\n",
        "# Create a mask of 1s for each token followed by 0s for padding\n",
        "for seq in validation_inputs:\n",
        "  seq_mask = [float(i>0) for i in seq]\n",
        "  validation_masks.append(seq_mask)"
      ],
      "metadata": {
        "id": "RH9dJLISlrYw"
      },
      "execution_count": 184,
      "outputs": []
    },
    {
      "cell_type": "code",
      "source": [
        "labels = np.array(train['label_enc'])"
      ],
      "metadata": {
        "id": "fY-VtVkImFuB"
      },
      "execution_count": 185,
      "outputs": []
    },
    {
      "cell_type": "code",
      "source": [
        "labels_val =  np.array(val['label_enc'])"
      ],
      "metadata": {
        "id": "xiti8CrOmXo0"
      },
      "execution_count": 186,
      "outputs": []
    },
    {
      "cell_type": "code",
      "source": [
        "# Convert all of our data into torch tensors, the required datatype for our model\n",
        "\n",
        "train_inputs = torch.tensor(train_inputs)\n",
        "validation_inputs = torch.tensor(validation_inputs)\n",
        "train_labels = torch.tensor(labels)\n",
        "validation_labels = torch.tensor(labels_val)\n",
        "train_masks = torch.tensor(train_masks)\n",
        "validation_masks = torch.tensor(validation_masks)"
      ],
      "metadata": {
        "id": "RVyr42p3k3Aw"
      },
      "execution_count": 187,
      "outputs": []
    },
    {
      "cell_type": "code",
      "source": [
        "# Select a batch size for training. For fine-tuning with XLNet, the authors recommend a batch size of 32, 48, or 128. We will use 32 here to avoid memory issues.\n",
        "batch_size = 32\n",
        "\n",
        "# Create an iterator of our data with torch DataLoader. This helps save on memory during training because, unlike a for loop, \n",
        "# with an iterator the entire dataset does not need to be loaded into memory\n",
        "\n",
        "train_data = TensorDataset(train_inputs, train_masks, train_labels)\n",
        "train_sampler = RandomSampler(train_data)\n",
        "train_dataloader = DataLoader(train_data, sampler=train_sampler, batch_size=batch_size)\n",
        "\n",
        "validation_data = TensorDataset(validation_inputs, validation_masks, validation_labels)\n",
        "validation_sampler = SequentialSampler(validation_data)\n",
        "validation_dataloader = DataLoader(validation_data, sampler=validation_sampler, batch_size=batch_size)\n"
      ],
      "metadata": {
        "id": "yvR10yGck3C_"
      },
      "execution_count": 191,
      "outputs": []
    },
    {
      "cell_type": "code",
      "source": [
        "!pip install transformers"
      ],
      "metadata": {
        "colab": {
          "base_uri": "https://localhost:8080/"
        },
        "id": "nizz1cy9nqTT",
        "outputId": "a4121f28-841c-4eda-f9eb-23cc1fe0526f"
      },
      "execution_count": 193,
      "outputs": [
        {
          "output_type": "stream",
          "name": "stdout",
          "text": [
            "Looking in indexes: https://pypi.org/simple, https://us-python.pkg.dev/colab-wheels/public/simple/\n",
            "Collecting transformers\n",
            "  Downloading transformers-4.26.1-py3-none-any.whl (6.3 MB)\n",
            "\u001b[2K     \u001b[90m━━━━━━━━━━━━━━━━━━━━━━━━━━━━━━━━━━━━━━━━\u001b[0m \u001b[32m6.3/6.3 MB\u001b[0m \u001b[31m87.9 MB/s\u001b[0m eta \u001b[36m0:00:00\u001b[0m\n",
            "\u001b[?25hRequirement already satisfied: packaging>=20.0 in /usr/local/lib/python3.9/dist-packages (from transformers) (23.0)\n",
            "Requirement already satisfied: filelock in /usr/local/lib/python3.9/dist-packages (from transformers) (3.9.0)\n",
            "Collecting tokenizers!=0.11.3,<0.14,>=0.11.1\n",
            "  Downloading tokenizers-0.13.2-cp39-cp39-manylinux_2_17_x86_64.manylinux2014_x86_64.whl (7.6 MB)\n",
            "\u001b[2K     \u001b[90m━━━━━━━━━━━━━━━━━━━━━━━━━━━━━━━━━━━━━━━━\u001b[0m \u001b[32m7.6/7.6 MB\u001b[0m \u001b[31m102.2 MB/s\u001b[0m eta \u001b[36m0:00:00\u001b[0m\n",
            "\u001b[?25hRequirement already satisfied: numpy>=1.17 in /usr/local/lib/python3.9/dist-packages (from transformers) (1.22.4)\n",
            "Requirement already satisfied: requests in /usr/local/lib/python3.9/dist-packages (from transformers) (2.25.1)\n",
            "Requirement already satisfied: tqdm>=4.27 in /usr/local/lib/python3.9/dist-packages (from transformers) (4.65.0)\n",
            "Requirement already satisfied: regex!=2019.12.17 in /usr/local/lib/python3.9/dist-packages (from transformers) (2022.6.2)\n",
            "Collecting huggingface-hub<1.0,>=0.11.0\n",
            "  Downloading huggingface_hub-0.13.1-py3-none-any.whl (199 kB)\n",
            "\u001b[2K     \u001b[90m━━━━━━━━━━━━━━━━━━━━━━━━━━━━━━━━━━━━━━\u001b[0m \u001b[32m199.2/199.2 KB\u001b[0m \u001b[31m23.0 MB/s\u001b[0m eta \u001b[36m0:00:00\u001b[0m\n",
            "\u001b[?25hRequirement already satisfied: pyyaml>=5.1 in /usr/local/lib/python3.9/dist-packages (from transformers) (6.0)\n",
            "Requirement already satisfied: typing-extensions>=3.7.4.3 in /usr/local/lib/python3.9/dist-packages (from huggingface-hub<1.0,>=0.11.0->transformers) (4.5.0)\n",
            "Requirement already satisfied: certifi>=2017.4.17 in /usr/local/lib/python3.9/dist-packages (from requests->transformers) (2022.12.7)\n",
            "Requirement already satisfied: chardet<5,>=3.0.2 in /usr/local/lib/python3.9/dist-packages (from requests->transformers) (4.0.0)\n",
            "Requirement already satisfied: urllib3<1.27,>=1.21.1 in /usr/local/lib/python3.9/dist-packages (from requests->transformers) (1.26.14)\n",
            "Requirement already satisfied: idna<3,>=2.5 in /usr/local/lib/python3.9/dist-packages (from requests->transformers) (2.10)\n",
            "Installing collected packages: tokenizers, huggingface-hub, transformers\n",
            "Successfully installed huggingface-hub-0.13.1 tokenizers-0.13.2 transformers-4.26.1\n"
          ]
        }
      ]
    },
    {
      "cell_type": "code",
      "source": [
        "from transformers import XLNetForSequenceClassification\n",
        "\n",
        "model = XLNetForSequenceClassification.from_pretrained(\"xlnet-base-cased\", num_labels=3)\n",
        "model.cuda()"
      ],
      "metadata": {
        "colab": {
          "base_uri": "https://localhost:8080/"
        },
        "id": "uUcPm1sNk3FY",
        "outputId": "f62dc5ae-df20-42fc-8fa4-b102897436f4"
      },
      "execution_count": 202,
      "outputs": [
        {
          "output_type": "stream",
          "name": "stderr",
          "text": [
            "Some weights of the model checkpoint at xlnet-base-cased were not used when initializing XLNetForSequenceClassification: ['lm_loss.bias', 'lm_loss.weight']\n",
            "- This IS expected if you are initializing XLNetForSequenceClassification from the checkpoint of a model trained on another task or with another architecture (e.g. initializing a BertForSequenceClassification model from a BertForPreTraining model).\n",
            "- This IS NOT expected if you are initializing XLNetForSequenceClassification from the checkpoint of a model that you expect to be exactly identical (initializing a BertForSequenceClassification model from a BertForSequenceClassification model).\n",
            "Some weights of XLNetForSequenceClassification were not initialized from the model checkpoint at xlnet-base-cased and are newly initialized: ['logits_proj.bias', 'logits_proj.weight', 'sequence_summary.summary.bias', 'sequence_summary.summary.weight']\n",
            "You should probably TRAIN this model on a down-stream task to be able to use it for predictions and inference.\n"
          ]
        },
        {
          "output_type": "execute_result",
          "data": {
            "text/plain": [
              "XLNetForSequenceClassification(\n",
              "  (transformer): XLNetModel(\n",
              "    (word_embedding): Embedding(32000, 768)\n",
              "    (layer): ModuleList(\n",
              "      (0): XLNetLayer(\n",
              "        (rel_attn): XLNetRelativeAttention(\n",
              "          (layer_norm): LayerNorm((768,), eps=1e-12, elementwise_affine=True)\n",
              "          (dropout): Dropout(p=0.1, inplace=False)\n",
              "        )\n",
              "        (ff): XLNetFeedForward(\n",
              "          (layer_norm): LayerNorm((768,), eps=1e-12, elementwise_affine=True)\n",
              "          (layer_1): Linear(in_features=768, out_features=3072, bias=True)\n",
              "          (layer_2): Linear(in_features=3072, out_features=768, bias=True)\n",
              "          (dropout): Dropout(p=0.1, inplace=False)\n",
              "          (activation_function): GELUActivation()\n",
              "        )\n",
              "        (dropout): Dropout(p=0.1, inplace=False)\n",
              "      )\n",
              "      (1): XLNetLayer(\n",
              "        (rel_attn): XLNetRelativeAttention(\n",
              "          (layer_norm): LayerNorm((768,), eps=1e-12, elementwise_affine=True)\n",
              "          (dropout): Dropout(p=0.1, inplace=False)\n",
              "        )\n",
              "        (ff): XLNetFeedForward(\n",
              "          (layer_norm): LayerNorm((768,), eps=1e-12, elementwise_affine=True)\n",
              "          (layer_1): Linear(in_features=768, out_features=3072, bias=True)\n",
              "          (layer_2): Linear(in_features=3072, out_features=768, bias=True)\n",
              "          (dropout): Dropout(p=0.1, inplace=False)\n",
              "          (activation_function): GELUActivation()\n",
              "        )\n",
              "        (dropout): Dropout(p=0.1, inplace=False)\n",
              "      )\n",
              "      (2): XLNetLayer(\n",
              "        (rel_attn): XLNetRelativeAttention(\n",
              "          (layer_norm): LayerNorm((768,), eps=1e-12, elementwise_affine=True)\n",
              "          (dropout): Dropout(p=0.1, inplace=False)\n",
              "        )\n",
              "        (ff): XLNetFeedForward(\n",
              "          (layer_norm): LayerNorm((768,), eps=1e-12, elementwise_affine=True)\n",
              "          (layer_1): Linear(in_features=768, out_features=3072, bias=True)\n",
              "          (layer_2): Linear(in_features=3072, out_features=768, bias=True)\n",
              "          (dropout): Dropout(p=0.1, inplace=False)\n",
              "          (activation_function): GELUActivation()\n",
              "        )\n",
              "        (dropout): Dropout(p=0.1, inplace=False)\n",
              "      )\n",
              "      (3): XLNetLayer(\n",
              "        (rel_attn): XLNetRelativeAttention(\n",
              "          (layer_norm): LayerNorm((768,), eps=1e-12, elementwise_affine=True)\n",
              "          (dropout): Dropout(p=0.1, inplace=False)\n",
              "        )\n",
              "        (ff): XLNetFeedForward(\n",
              "          (layer_norm): LayerNorm((768,), eps=1e-12, elementwise_affine=True)\n",
              "          (layer_1): Linear(in_features=768, out_features=3072, bias=True)\n",
              "          (layer_2): Linear(in_features=3072, out_features=768, bias=True)\n",
              "          (dropout): Dropout(p=0.1, inplace=False)\n",
              "          (activation_function): GELUActivation()\n",
              "        )\n",
              "        (dropout): Dropout(p=0.1, inplace=False)\n",
              "      )\n",
              "      (4): XLNetLayer(\n",
              "        (rel_attn): XLNetRelativeAttention(\n",
              "          (layer_norm): LayerNorm((768,), eps=1e-12, elementwise_affine=True)\n",
              "          (dropout): Dropout(p=0.1, inplace=False)\n",
              "        )\n",
              "        (ff): XLNetFeedForward(\n",
              "          (layer_norm): LayerNorm((768,), eps=1e-12, elementwise_affine=True)\n",
              "          (layer_1): Linear(in_features=768, out_features=3072, bias=True)\n",
              "          (layer_2): Linear(in_features=3072, out_features=768, bias=True)\n",
              "          (dropout): Dropout(p=0.1, inplace=False)\n",
              "          (activation_function): GELUActivation()\n",
              "        )\n",
              "        (dropout): Dropout(p=0.1, inplace=False)\n",
              "      )\n",
              "      (5): XLNetLayer(\n",
              "        (rel_attn): XLNetRelativeAttention(\n",
              "          (layer_norm): LayerNorm((768,), eps=1e-12, elementwise_affine=True)\n",
              "          (dropout): Dropout(p=0.1, inplace=False)\n",
              "        )\n",
              "        (ff): XLNetFeedForward(\n",
              "          (layer_norm): LayerNorm((768,), eps=1e-12, elementwise_affine=True)\n",
              "          (layer_1): Linear(in_features=768, out_features=3072, bias=True)\n",
              "          (layer_2): Linear(in_features=3072, out_features=768, bias=True)\n",
              "          (dropout): Dropout(p=0.1, inplace=False)\n",
              "          (activation_function): GELUActivation()\n",
              "        )\n",
              "        (dropout): Dropout(p=0.1, inplace=False)\n",
              "      )\n",
              "      (6): XLNetLayer(\n",
              "        (rel_attn): XLNetRelativeAttention(\n",
              "          (layer_norm): LayerNorm((768,), eps=1e-12, elementwise_affine=True)\n",
              "          (dropout): Dropout(p=0.1, inplace=False)\n",
              "        )\n",
              "        (ff): XLNetFeedForward(\n",
              "          (layer_norm): LayerNorm((768,), eps=1e-12, elementwise_affine=True)\n",
              "          (layer_1): Linear(in_features=768, out_features=3072, bias=True)\n",
              "          (layer_2): Linear(in_features=3072, out_features=768, bias=True)\n",
              "          (dropout): Dropout(p=0.1, inplace=False)\n",
              "          (activation_function): GELUActivation()\n",
              "        )\n",
              "        (dropout): Dropout(p=0.1, inplace=False)\n",
              "      )\n",
              "      (7): XLNetLayer(\n",
              "        (rel_attn): XLNetRelativeAttention(\n",
              "          (layer_norm): LayerNorm((768,), eps=1e-12, elementwise_affine=True)\n",
              "          (dropout): Dropout(p=0.1, inplace=False)\n",
              "        )\n",
              "        (ff): XLNetFeedForward(\n",
              "          (layer_norm): LayerNorm((768,), eps=1e-12, elementwise_affine=True)\n",
              "          (layer_1): Linear(in_features=768, out_features=3072, bias=True)\n",
              "          (layer_2): Linear(in_features=3072, out_features=768, bias=True)\n",
              "          (dropout): Dropout(p=0.1, inplace=False)\n",
              "          (activation_function): GELUActivation()\n",
              "        )\n",
              "        (dropout): Dropout(p=0.1, inplace=False)\n",
              "      )\n",
              "      (8): XLNetLayer(\n",
              "        (rel_attn): XLNetRelativeAttention(\n",
              "          (layer_norm): LayerNorm((768,), eps=1e-12, elementwise_affine=True)\n",
              "          (dropout): Dropout(p=0.1, inplace=False)\n",
              "        )\n",
              "        (ff): XLNetFeedForward(\n",
              "          (layer_norm): LayerNorm((768,), eps=1e-12, elementwise_affine=True)\n",
              "          (layer_1): Linear(in_features=768, out_features=3072, bias=True)\n",
              "          (layer_2): Linear(in_features=3072, out_features=768, bias=True)\n",
              "          (dropout): Dropout(p=0.1, inplace=False)\n",
              "          (activation_function): GELUActivation()\n",
              "        )\n",
              "        (dropout): Dropout(p=0.1, inplace=False)\n",
              "      )\n",
              "      (9): XLNetLayer(\n",
              "        (rel_attn): XLNetRelativeAttention(\n",
              "          (layer_norm): LayerNorm((768,), eps=1e-12, elementwise_affine=True)\n",
              "          (dropout): Dropout(p=0.1, inplace=False)\n",
              "        )\n",
              "        (ff): XLNetFeedForward(\n",
              "          (layer_norm): LayerNorm((768,), eps=1e-12, elementwise_affine=True)\n",
              "          (layer_1): Linear(in_features=768, out_features=3072, bias=True)\n",
              "          (layer_2): Linear(in_features=3072, out_features=768, bias=True)\n",
              "          (dropout): Dropout(p=0.1, inplace=False)\n",
              "          (activation_function): GELUActivation()\n",
              "        )\n",
              "        (dropout): Dropout(p=0.1, inplace=False)\n",
              "      )\n",
              "      (10): XLNetLayer(\n",
              "        (rel_attn): XLNetRelativeAttention(\n",
              "          (layer_norm): LayerNorm((768,), eps=1e-12, elementwise_affine=True)\n",
              "          (dropout): Dropout(p=0.1, inplace=False)\n",
              "        )\n",
              "        (ff): XLNetFeedForward(\n",
              "          (layer_norm): LayerNorm((768,), eps=1e-12, elementwise_affine=True)\n",
              "          (layer_1): Linear(in_features=768, out_features=3072, bias=True)\n",
              "          (layer_2): Linear(in_features=3072, out_features=768, bias=True)\n",
              "          (dropout): Dropout(p=0.1, inplace=False)\n",
              "          (activation_function): GELUActivation()\n",
              "        )\n",
              "        (dropout): Dropout(p=0.1, inplace=False)\n",
              "      )\n",
              "      (11): XLNetLayer(\n",
              "        (rel_attn): XLNetRelativeAttention(\n",
              "          (layer_norm): LayerNorm((768,), eps=1e-12, elementwise_affine=True)\n",
              "          (dropout): Dropout(p=0.1, inplace=False)\n",
              "        )\n",
              "        (ff): XLNetFeedForward(\n",
              "          (layer_norm): LayerNorm((768,), eps=1e-12, elementwise_affine=True)\n",
              "          (layer_1): Linear(in_features=768, out_features=3072, bias=True)\n",
              "          (layer_2): Linear(in_features=3072, out_features=768, bias=True)\n",
              "          (dropout): Dropout(p=0.1, inplace=False)\n",
              "          (activation_function): GELUActivation()\n",
              "        )\n",
              "        (dropout): Dropout(p=0.1, inplace=False)\n",
              "      )\n",
              "    )\n",
              "    (dropout): Dropout(p=0.1, inplace=False)\n",
              "  )\n",
              "  (sequence_summary): SequenceSummary(\n",
              "    (summary): Linear(in_features=768, out_features=768, bias=True)\n",
              "    (activation): Tanh()\n",
              "    (first_dropout): Identity()\n",
              "    (last_dropout): Dropout(p=0.1, inplace=False)\n",
              "  )\n",
              "  (logits_proj): Linear(in_features=768, out_features=3, bias=True)\n",
              ")"
            ]
          },
          "metadata": {},
          "execution_count": 202
        }
      ]
    },
    {
      "cell_type": "code",
      "source": [
        "param_optimizer = list(model.named_parameters())\n",
        "no_decay = ['bias', 'gamma', 'beta']\n",
        "optimizer_grouped_parameters = [\n",
        "    {'params': [p for n, p in param_optimizer if not any(nd in n for nd in no_decay)],\n",
        "     'weight_decay_rate': 0.01},\n",
        "    {'params': [p for n, p in param_optimizer if any(nd in n for nd in no_decay)],\n",
        "     'weight_decay_rate': 0.0}\n",
        "]"
      ],
      "metadata": {
        "id": "ZWM58LJRnNgD"
      },
      "execution_count": 203,
      "outputs": []
    },
    {
      "cell_type": "code",
      "source": [
        "# This variable contains all of the hyperparemeter information our training loop needs\n",
        "optimizer = AdamW(optimizer_grouped_parameters,\n",
        "                     lr=2e-5)"
      ],
      "metadata": {
        "id": "vNwbYvydn8vC"
      },
      "execution_count": 204,
      "outputs": []
    },
    {
      "cell_type": "code",
      "source": [
        "def flat_accuracy(preds, labels):\n",
        "    pred_flat = np.argmax(preds, axis=1).flatten()\n",
        "    labels_flat = labels.flatten()\n",
        "    return np.sum(pred_flat == labels_flat) / len(labels_flat)"
      ],
      "metadata": {
        "id": "X4Qnt78qoyby"
      },
      "execution_count": 205,
      "outputs": []
    },
    {
      "cell_type": "code",
      "source": [
        "train_loss_set = []\n",
        "\n",
        "epochs = 4\n",
        "\n",
        "for _ in trange(epochs, desc=\"Epoch\"):\n",
        "  \n",
        "  \n",
        "  # Training\n",
        "  \n",
        "  model.train()\n",
        "  \n",
        "  # Tracking variables\n",
        "  tr_loss = 0\n",
        "  nb_tr_examples, nb_tr_steps = 0, 0\n",
        "  \n",
        "  for step, batch in enumerate(train_dataloader):\n",
        "    batch = tuple(t.to(device) for t in batch)\n",
        "    b_input_ids, b_input_mask, b_labels = batch\n",
        "    optimizer.zero_grad()\n",
        "    outputs = model(b_input_ids, token_type_ids=None, attention_mask=b_input_mask, labels=b_labels)\n",
        "    loss = outputs[0]\n",
        "    logits = outputs[1]\n",
        "    train_loss_set.append(loss.item())    \n",
        "    loss.backward()\n",
        "    optimizer.step()\n",
        "    \n",
        "    \n",
        "    # Update tracking variables\n",
        "    tr_loss += loss.item()\n",
        "    nb_tr_examples += b_input_ids.size(0)\n",
        "    nb_tr_steps += 1\n",
        "\n",
        "  print(\"Train loss: {}\".format(tr_loss/nb_tr_steps))\n",
        "    \n",
        "    \n",
        "  # Validation\n",
        "\n",
        "  model.eval()\n",
        "\n",
        "\n",
        "  eval_loss, eval_accuracy = 0, 0\n",
        "  nb_eval_steps, nb_eval_examples = 0, 0\n",
        "  for batch in validation_dataloader:\n",
        "    batch = tuple(t.to(device) for t in batch)\n",
        "    b_input_ids, b_input_mask, b_labels = batch\n",
        "    with torch.no_grad():\n",
        "      output = model(b_input_ids, token_type_ids=None, attention_mask=b_input_mask)\n",
        "      logits = output[0]\n",
        "    \n",
        "    logits = logits.detach().cpu().numpy()\n",
        "    label_ids = b_labels.to('cpu').numpy()\n",
        "\n",
        "    tmp_eval_accuracy = flat_accuracy(logits, label_ids)\n",
        "    \n",
        "    eval_accuracy += tmp_eval_accuracy\n",
        "    nb_eval_steps += 1\n",
        "\n",
        "  print(\"Validation Accuracy: {}\".format(eval_accuracy/nb_eval_steps))"
      ],
      "metadata": {
        "colab": {
          "base_uri": "https://localhost:8080/"
        },
        "id": "xAFxMMKkn81c",
        "outputId": "2476df97-2d04-4c7e-ea17-9c77df77402a"
      },
      "execution_count": 206,
      "outputs": [
        {
          "output_type": "stream",
          "name": "stderr",
          "text": [
            "\rEpoch:   0%|          | 0/4 [00:00<?, ?it/s]"
          ]
        },
        {
          "output_type": "stream",
          "name": "stdout",
          "text": [
            "Train loss: 1.1006091198968617\n"
          ]
        },
        {
          "output_type": "stream",
          "name": "stderr",
          "text": [
            "\rEpoch:  25%|██▌       | 1/4 [20:40<1:02:02, 1240.98s/it]"
          ]
        },
        {
          "output_type": "stream",
          "name": "stdout",
          "text": [
            "Validation Accuracy: 0.44722055288461543\n",
            "Train loss: 0.9948338379829444\n"
          ]
        },
        {
          "output_type": "stream",
          "name": "stderr",
          "text": [
            "\rEpoch:  50%|█████     | 2/4 [41:21<41:21, 1240.83s/it]  "
          ]
        },
        {
          "output_type": "stream",
          "name": "stdout",
          "text": [
            "Validation Accuracy: 0.5505859375\n",
            "Train loss: 0.8623702940531075\n"
          ]
        },
        {
          "output_type": "stream",
          "name": "stderr",
          "text": [
            "\rEpoch:  75%|███████▌  | 3/4 [1:02:03<20:41, 1241.22s/it]"
          ]
        },
        {
          "output_type": "stream",
          "name": "stdout",
          "text": [
            "Validation Accuracy: 0.602373798076923\n",
            "Train loss: 0.7488819937306371\n"
          ]
        },
        {
          "output_type": "stream",
          "name": "stderr",
          "text": [
            "Epoch: 100%|██████████| 4/4 [1:22:44<00:00, 1241.14s/it]"
          ]
        },
        {
          "output_type": "stream",
          "name": "stdout",
          "text": [
            "Validation Accuracy: 0.5993990384615385\n"
          ]
        },
        {
          "output_type": "stream",
          "name": "stderr",
          "text": [
            "\n"
          ]
        }
      ]
    },
    {
      "cell_type": "code",
      "source": [
        "sentences = test['lemmas']\n",
        "\n",
        "sentences = [sentence + \" [SEP] [CLS]\" for sentence in sentences]\n",
        "#labels = df.label.values\n",
        "\n",
        "tokenized_texts = [tokenizer.tokenize(sent) for sent in sentences]\n",
        "\n",
        "\n",
        "MAX_LEN = 128\n",
        "input_ids = [tokenizer.convert_tokens_to_ids(x) for x in tokenized_texts]\n",
        "input_ids = pad_sequences(input_ids, maxlen=MAX_LEN, dtype=\"long\", truncating=\"post\", padding=\"post\")\n",
        "attention_masks = []\n",
        "\n",
        "for seq in input_ids:\n",
        "  seq_mask = [float(i>0) for i in seq]\n",
        "  attention_masks.append(seq_mask) \n",
        "\n",
        "prediction_inputs = torch.tensor(input_ids)\n",
        "prediction_masks = torch.tensor(attention_masks)\n",
        "prediction_labels = torch.tensor(labels)\n",
        "  \n",
        "batch_size = 32  \n",
        "\n",
        "\n",
        "prediction_data = TensorDataset(prediction_inputs, prediction_masks)\n",
        "prediction_sampler = SequentialSampler(prediction_data)\n",
        "prediction_dataloader = DataLoader(prediction_data, sampler=prediction_sampler, batch_size=batch_size)"
      ],
      "metadata": {
        "id": "nGVlThPan89x"
      },
      "execution_count": 208,
      "outputs": []
    },
    {
      "cell_type": "code",
      "source": [
        "# Prediction on test set\n",
        "\n",
        "model.eval()\n",
        "predictions , true_labels = [], []\n",
        "\n",
        "# Predict \n",
        "for batch in prediction_dataloader:\n",
        "  batch = tuple(t.to(device) for t in batch)\n",
        "  b_input_ids, b_input_mask = batch\n",
        "  with torch.no_grad():\n",
        "    outputs = model(b_input_ids, token_type_ids=None, attention_mask=b_input_mask)\n",
        "    logits = outputs[0]\n",
        "\n",
        "  logits = logits.detach().cpu().numpy()\n",
        "  label_ids = b_labels.to('cpu').numpy()\n",
        "  \n",
        "  predictions.append(logits)\n",
        "  true_labels.append(label_ids)"
      ],
      "metadata": {
        "id": "OjxIyouAqL6x"
      },
      "execution_count": 210,
      "outputs": []
    },
    {
      "cell_type": "code",
      "source": [
        "flat_predictions = [item for sublist in predictions for item in sublist]\n",
        "flat_predictions = np.argmax(flat_predictions, axis=1).flatten()"
      ],
      "metadata": {
        "id": "cFLRlt0nnNi0"
      },
      "execution_count": 211,
      "outputs": []
    },
    {
      "cell_type": "code",
      "source": [
        "print('F1:',f1_score(flat_predictions, y_test, average='macro'))\n",
        "scores_F1['XLNet'] = f1_score(flat_predictions, y_test, average='macro')\n",
        "print('Accuracy:',accuracy_score(flat_predictions, y_test))\n",
        "scores_Accuracy['XLNet'] = accuracy_score(flat_predictions, y_test)\n",
        "print('MAE:',mean_absolute_error(y_proba_cb, test_y))\n",
        "scores_MAE['XLNet'] = mean_absolute_error(y_proba_cb,test_y)"
      ],
      "metadata": {
        "colab": {
          "base_uri": "https://localhost:8080/"
        },
        "id": "EnzVzwFwTpcf",
        "outputId": "fb725b7c-fd1d-4055-9887-fbb4b7d6f863"
      },
      "execution_count": 212,
      "outputs": [
        {
          "output_type": "stream",
          "name": "stdout",
          "text": [
            "F1: 0.6087325385532667\n",
            "Accuracy: 0.608644631331899\n",
            "MAE: 0.2704399580223627\n"
          ]
        }
      ]
    },
    {
      "cell_type": "markdown",
      "source": [
        "#Результаты"
      ],
      "metadata": {
        "id": "qsL5g8D4Tpvu"
      }
    },
    {
      "cell_type": "code",
      "source": [
        "fig, ax = plt.subplots(figsize =(10, 7))\n",
        "for i in scores_F1.keys():\n",
        "  ax.bar(i,scores_F1[i], label=i)\n",
        "  plt.text(i,scores_F1[i],round(scores_F1[i],3), ha = 'center')\n",
        "ax.legend(loc='lower left')\n",
        "plt.title(\"Comparison of F1 models\")\n",
        "plt.show()"
      ],
      "metadata": {
        "colab": {
          "base_uri": "https://localhost:8080/",
          "height": 459
        },
        "id": "ErKGzNVlTqBU",
        "outputId": "916b3650-e5ab-4573-e421-eb334b539260"
      },
      "execution_count": 213,
      "outputs": [
        {
          "output_type": "display_data",
          "data": {
            "text/plain": [
              "<Figure size 720x504 with 1 Axes>"
            ],
            "image/png": "[encoded data removed]"
          },
          "metadata": {}
        }
      ]
    },
    {
      "cell_type": "code",
      "source": [
        "fig, ax = plt.subplots(figsize =(10, 7))\n",
        "for i in scores_Accuracy.keys():\n",
        "  ax.bar(i,scores_Accuracy[i], label=i)\n",
        "  plt.text(i,scores_Accuracy[i],round(scores_Accuracy[i],3), ha = 'center')\n",
        "ax.legend(loc='lower left')\n",
        "plt.title(\"Comparison of Accuracy models\")\n",
        "plt.show()"
      ],
      "metadata": {
        "colab": {
          "base_uri": "https://localhost:8080/",
          "height": 459
        },
        "id": "2WUYIlwETscN",
        "outputId": "ab914cd5-dba9-4bd5-c57e-24625109890e"
      },
      "execution_count": 214,
      "outputs": [
        {
          "output_type": "display_data",
          "data": {
            "text/plain": [
              "<Figure size 720x504 with 1 Axes>"
            ],
            "image/png": "[encoded data removed]"
          },
          "metadata": {}
        }
      ]
    },
    {
      "cell_type": "code",
      "source": [
        "fig, ax = plt.subplots(figsize =(10, 7))\n",
        "for i in scores_MAE.keys():\n",
        "  ax.bar(i,scores_MAE[i], label=i)\n",
        "  plt.text(i,scores_MAE[i],round(scores_MAE[i],3), ha = 'center')\n",
        "ax.legend(loc='lower left')\n",
        "plt.title(\"Comparison of MAE models\")\n",
        "plt.show()"
      ],
      "metadata": {
        "colab": {
          "base_uri": "https://localhost:8080/",
          "height": 459
        },
        "id": "oKZ5QD9DTtwl",
        "outputId": "f6b183d2-77e2-445c-aff7-6c45a5c80ae5"
      },
      "execution_count": 215,
      "outputs": [
        {
          "output_type": "display_data",
          "data": {
            "text/plain": [
              "<Figure size 720x504 with 1 Axes>"
            ],
            "image/png": "[encoded data removed]"
          },
          "metadata": {}
        }
      ]
    }
  ]
}