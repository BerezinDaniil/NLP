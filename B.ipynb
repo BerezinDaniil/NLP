{
  "nbformat": 4,
  "nbformat_minor": 0,
  "metadata": {
    "colab": {
      "provenance": []
    },
    "kernelspec": {
      "name": "python3",
      "display_name": "Python 3"
    },
    "language_info": {
      "name": "python"
    },
    "gpuClass": "standard",
    "accelerator": "GPU"
  },
  "cells": [
    {
      "cell_type": "code",
      "execution_count": null,
      "metadata": {
        "colab": {
          "base_uri": "https://localhost:8080/"
        },
        "id": "1E4UvR-eIuCb",
        "outputId": "7dd70b0c-6619-4c92-962e-8f97f666f173"
      },
      "outputs": [
        {
          "output_type": "stream",
          "name": "stdout",
          "text": [
            "Looking in indexes: https://pypi.org/simple, https://us-python.pkg.dev/colab-wheels/public/simple/\n",
            "Collecting pymorphy2\n",
            "  Downloading pymorphy2-0.9.1-py3-none-any.whl (55 kB)\n",
            "\u001b[2K     \u001b[90m━━━━━━━━━━━━━━━━━━━━━━━━━━━━━━━━━━━━━━━━\u001b[0m \u001b[32m55.5/55.5 KB\u001b[0m \u001b[31m1.0 MB/s\u001b[0m eta \u001b[36m0:00:00\u001b[0m\n",
            "\u001b[?25hCollecting dawg-python>=0.7.1\n",
            "  Downloading DAWG_Python-0.7.2-py2.py3-none-any.whl (11 kB)\n",
            "Collecting docopt>=0.6\n",
            "  Downloading docopt-0.6.2.tar.gz (25 kB)\n",
            "  Preparing metadata (setup.py) ... \u001b[?25l\u001b[?25hdone\n",
            "Collecting pymorphy2-dicts-ru<3.0,>=2.4\n",
            "  Downloading pymorphy2_dicts_ru-2.4.417127.4579844-py2.py3-none-any.whl (8.2 MB)\n",
            "\u001b[2K     \u001b[90m━━━━━━━━━━━━━━━━━━━━━━━━━━━━━━━━━━━━━━━━\u001b[0m \u001b[32m8.2/8.2 MB\u001b[0m \u001b[31m68.8 MB/s\u001b[0m eta \u001b[36m0:00:00\u001b[0m\n",
            "\u001b[?25hBuilding wheels for collected packages: docopt\n",
            "  Building wheel for docopt (setup.py) ... \u001b[?25l\u001b[?25hdone\n",
            "  Created wheel for docopt: filename=docopt-0.6.2-py2.py3-none-any.whl size=13721 sha256=bb7ce9a39c7b66eab0e753bba1db3ad6b5aed59dba9461e9962f110a19832be8\n",
            "  Stored in directory: /root/.cache/pip/wheels/70/4a/46/1309fc853b8d395e60bafaf1b6df7845bdd82c95fd59dd8d2b\n",
            "Successfully built docopt\n",
            "Installing collected packages: pymorphy2-dicts-ru, docopt, dawg-python, pymorphy2\n",
            "Successfully installed dawg-python-0.7.2 docopt-0.6.2 pymorphy2-0.9.1 pymorphy2-dicts-ru-2.4.417127.4579844\n"
          ]
        },
        {
          "output_type": "stream",
          "name": "stderr",
          "text": [
            "[nltk_data] Downloading package stopwords to /root/nltk_data...\n",
            "[nltk_data]   Unzipping corpora/stopwords.zip.\n"
          ]
        }
      ],
      "source": [
        "import pandas as pd\n",
        "import numpy as np\n",
        "import random\n",
        "import seaborn as sns\n",
        "import matplotlib.pyplot as plt\n",
        "%matplotlib inline\n",
        "\n",
        "!pip install pymorphy2\n",
        "import re\n",
        "from pymorphy2 import MorphAnalyzer\n",
        "from functools import lru_cache\n",
        "from nltk.corpus import stopwords\n",
        "\n",
        "from multiprocessing import Pool\n",
        "from tqdm import tqdm\n",
        "\n",
        "import nltk\n",
        "nltk.download('stopwords')\n",
        "\n",
        "np.random.seed(42)\n",
        "random.seed(42)"
      ]
    },
    {
      "cell_type": "code",
      "source": [
        "import warnings\n",
        "warnings.filterwarnings('ignore')"
      ],
      "metadata": {
        "id": "vSUK8Qs53JpK"
      },
      "execution_count": null,
      "outputs": []
    },
    {
      "cell_type": "markdown",
      "source": [
        "# Работа с данными"
      ],
      "metadata": {
        "id": "bDLIOEPNI6tl"
      }
    },
    {
      "cell_type": "code",
      "source": [
        "#train\n",
        "train = pd.read_csv('/content/B_train.csv')\n",
        "#val\n",
        "val = pd.read_csv('/content/B_val.csv')\n",
        "#test\n",
        "test = pd.read_csv('/content/B_test.csv')"
      ],
      "metadata": {
        "id": "knJcUrVYI36r"
      },
      "execution_count": null,
      "outputs": []
    },
    {
      "cell_type": "code",
      "source": [
        "test"
      ],
      "metadata": {
        "colab": {
          "base_uri": "https://localhost:8080/",
          "height": 641
        },
        "id": "pncpOfZlJQfD",
        "outputId": "2bfa2717-3c55-4d0c-e3d0-71ac0e56705f"
      },
      "execution_count": null,
      "outputs": [
        {
          "output_type": "execute_result",
          "data": {
            "text/plain": [
              "                                                 title  \\\n",
              "0    Mexican Army Raids Cartel Military Bunker Righ...   \n",
              "1    Bernie Sanders Doubles Down on Defense of Cuba...   \n",
              "2    Projection Surprise: Democrats Are the Villain...   \n",
              "3    Behind the Scenes: Democrat Party in Total Pan...   \n",
              "4    CBS Reporter Lara Logan Blows the Lid Off Libe...   \n",
              "..                                                 ...   \n",
              "916  Donald Trump’s Mother Accused Him Of Having Do...   \n",
              "917  New Questions About Mike Pence’s Health After ...   \n",
              "918  Devastating New Campaign Ad Portrays Trump As ...   \n",
              "919  25th Amendment? Don Jr. Tells His Siblings The...   \n",
              "920  Up Next For Sean Hannity: Obstruction Of Justi...   \n",
              "\n",
              "                                               content  label  \n",
              "0    Mexico is a failed narco-state. The country’s ...  right  \n",
              "1    In a 60 Minutes interview Anderson Cooper aske...  right  \n",
              "2    New York Governor Andrew Cuomo (D-Obviously) h...  right  \n",
              "3    Behind the Scenes: Democrat Party in Total Pan...  right  \n",
              "4    South African news correspondent and investiga...  right  \n",
              "..                                                 ...    ...  \n",
              "916  It’s no stretch to call Donald Trump the bigge...   left  \n",
              "917  On Wednesday evening, we’ll get to witness the...   left  \n",
              "918  Donald Trump’s massive incompetence and failur...   left  \n",
              "919  The bizarre joyride Donald Trump took on Sunda...   left  \n",
              "920  Fox News host Sean Hannity is in quite a mess ...   left  \n",
              "\n",
              "[921 rows x 3 columns]"
            ],
            "text/html": [
              "\n",
              "  <div id=\"df-ef0708a2-7cc9-4081-9500-7f3362d3bd77\">\n",
              "    <div class=\"colab-df-container\">\n",
              "      <div>\n",
              "<style scoped>\n",
              "    .dataframe tbody tr th:only-of-type {\n",
              "        vertical-align: middle;\n",
              "    }\n",
              "\n",
              "    .dataframe tbody tr th {\n",
              "        vertical-align: top;\n",
              "    }\n",
              "\n",
              "    .dataframe thead th {\n",
              "        text-align: right;\n",
              "    }\n",
              "</style>\n",
              "<table border=\"1\" class=\"dataframe\">\n",
              "  <thead>\n",
              "    <tr style=\"text-align: right;\">\n",
              "      <th></th>\n",
              "      <th>title</th>\n",
              "      <th>content</th>\n",
              "      <th>label</th>\n",
              "    </tr>\n",
              "  </thead>\n",
              "  <tbody>\n",
              "    <tr>\n",
              "      <th>0</th>\n",
              "      <td>Mexican Army Raids Cartel Military Bunker Righ...</td>\n",
              "      <td>Mexico is a failed narco-state. The country’s ...</td>\n",
              "      <td>right</td>\n",
              "    </tr>\n",
              "    <tr>\n",
              "      <th>1</th>\n",
              "      <td>Bernie Sanders Doubles Down on Defense of Cuba...</td>\n",
              "      <td>In a 60 Minutes interview Anderson Cooper aske...</td>\n",
              "      <td>right</td>\n",
              "    </tr>\n",
              "    <tr>\n",
              "      <th>2</th>\n",
              "      <td>Projection Surprise: Democrats Are the Villain...</td>\n",
              "      <td>New York Governor Andrew Cuomo (D-Obviously) h...</td>\n",
              "      <td>right</td>\n",
              "    </tr>\n",
              "    <tr>\n",
              "      <th>3</th>\n",
              "      <td>Behind the Scenes: Democrat Party in Total Pan...</td>\n",
              "      <td>Behind the Scenes: Democrat Party in Total Pan...</td>\n",
              "      <td>right</td>\n",
              "    </tr>\n",
              "    <tr>\n",
              "      <th>4</th>\n",
              "      <td>CBS Reporter Lara Logan Blows the Lid Off Libe...</td>\n",
              "      <td>South African news correspondent and investiga...</td>\n",
              "      <td>right</td>\n",
              "    </tr>\n",
              "    <tr>\n",
              "      <th>...</th>\n",
              "      <td>...</td>\n",
              "      <td>...</td>\n",
              "      <td>...</td>\n",
              "    </tr>\n",
              "    <tr>\n",
              "      <th>916</th>\n",
              "      <td>Donald Trump’s Mother Accused Him Of Having Do...</td>\n",
              "      <td>It’s no stretch to call Donald Trump the bigge...</td>\n",
              "      <td>left</td>\n",
              "    </tr>\n",
              "    <tr>\n",
              "      <th>917</th>\n",
              "      <td>New Questions About Mike Pence’s Health After ...</td>\n",
              "      <td>On Wednesday evening, we’ll get to witness the...</td>\n",
              "      <td>left</td>\n",
              "    </tr>\n",
              "    <tr>\n",
              "      <th>918</th>\n",
              "      <td>Devastating New Campaign Ad Portrays Trump As ...</td>\n",
              "      <td>Donald Trump’s massive incompetence and failur...</td>\n",
              "      <td>left</td>\n",
              "    </tr>\n",
              "    <tr>\n",
              "      <th>919</th>\n",
              "      <td>25th Amendment? Don Jr. Tells His Siblings The...</td>\n",
              "      <td>The bizarre joyride Donald Trump took on Sunda...</td>\n",
              "      <td>left</td>\n",
              "    </tr>\n",
              "    <tr>\n",
              "      <th>920</th>\n",
              "      <td>Up Next For Sean Hannity: Obstruction Of Justi...</td>\n",
              "      <td>Fox News host Sean Hannity is in quite a mess ...</td>\n",
              "      <td>left</td>\n",
              "    </tr>\n",
              "  </tbody>\n",
              "</table>\n",
              "<p>921 rows × 3 columns</p>\n",
              "</div>\n",
              "      <button class=\"colab-df-convert\" onclick=\"convertToInteractive('df-ef0708a2-7cc9-4081-9500-7f3362d3bd77')\"\n",
              "              title=\"Convert this dataframe to an interactive table.\"\n",
              "              style=\"display:none;\">\n",
              "        \n",
              "  <svg xmlns=\"http://www.w3.org/2000/svg\" height=\"24px\"viewBox=\"0 0 24 24\"\n",
              "       width=\"24px\">\n",
              "    <path d=\"M0 0h24v24H0V0z\" fill=\"none\"/>\n",
              "    <path d=\"M18.56 5.44l.94 2.06.94-2.06 2.06-.94-2.06-.94-.94-2.06-.94 2.06-2.06.94zm-11 1L8.5 8.5l.94-2.06 2.06-.94-2.06-.94L8.5 2.5l-.94 2.06-2.06.94zm10 10l.94 2.06.94-2.06 2.06-.94-2.06-.94-.94-2.06-.94 2.06-2.06.94z\"/><path d=\"M17.41 7.96l-1.37-1.37c-.4-.4-.92-.59-1.43-.59-.52 0-1.04.2-1.43.59L10.3 9.45l-7.72 7.72c-.78.78-.78 2.05 0 2.83L4 21.41c.39.39.9.59 1.41.59.51 0 1.02-.2 1.41-.59l7.78-7.78 2.81-2.81c.8-.78.8-2.07 0-2.86zM5.41 20L4 18.59l7.72-7.72 1.47 1.35L5.41 20z\"/>\n",
              "  </svg>\n",
              "      </button>\n",
              "      \n",
              "  <style>\n",
              "    .colab-df-container {\n",
              "      display:flex;\n",
              "      flex-wrap:wrap;\n",
              "      gap: 12px;\n",
              "    }\n",
              "\n",
              "    .colab-df-convert {\n",
              "      background-color: #E8F0FE;\n",
              "      border: none;\n",
              "      border-radius: 50%;\n",
              "      cursor: pointer;\n",
              "      display: none;\n",
              "      fill: #1967D2;\n",
              "      height: 32px;\n",
              "      padding: 0 0 0 0;\n",
              "      width: 32px;\n",
              "    }\n",
              "\n",
              "    .colab-df-convert:hover {\n",
              "      background-color: #E2EBFA;\n",
              "      box-shadow: 0px 1px 2px rgba(60, 64, 67, 0.3), 0px 1px 3px 1px rgba(60, 64, 67, 0.15);\n",
              "      fill: #174EA6;\n",
              "    }\n",
              "\n",
              "    [theme=dark] .colab-df-convert {\n",
              "      background-color: #3B4455;\n",
              "      fill: #D2E3FC;\n",
              "    }\n",
              "\n",
              "    [theme=dark] .colab-df-convert:hover {\n",
              "      background-color: #434B5C;\n",
              "      box-shadow: 0px 1px 3px 1px rgba(0, 0, 0, 0.15);\n",
              "      filter: drop-shadow(0px 1px 2px rgba(0, 0, 0, 0.3));\n",
              "      fill: #FFFFFF;\n",
              "    }\n",
              "  </style>\n",
              "\n",
              "      <script>\n",
              "        const buttonEl =\n",
              "          document.querySelector('#df-ef0708a2-7cc9-4081-9500-7f3362d3bd77 button.colab-df-convert');\n",
              "        buttonEl.style.display =\n",
              "          google.colab.kernel.accessAllowed ? 'block' : 'none';\n",
              "\n",
              "        async function convertToInteractive(key) {\n",
              "          const element = document.querySelector('#df-ef0708a2-7cc9-4081-9500-7f3362d3bd77');\n",
              "          const dataTable =\n",
              "            await google.colab.kernel.invokeFunction('convertToInteractive',\n",
              "                                                     [key], {});\n",
              "          if (!dataTable) return;\n",
              "\n",
              "          const docLinkHtml = 'Like what you see? Visit the ' +\n",
              "            '<a target=\"_blank\" href=https://colab.research.google.com/notebooks/data_table.ipynb>data table notebook</a>'\n",
              "            + ' to learn more about interactive tables.';\n",
              "          element.innerHTML = '';\n",
              "          dataTable['output_type'] = 'display_data';\n",
              "          await google.colab.output.renderOutput(dataTable, element);\n",
              "          const docLink = document.createElement('div');\n",
              "          docLink.innerHTML = docLinkHtml;\n",
              "          element.appendChild(docLink);\n",
              "        }\n",
              "      </script>\n",
              "    </div>\n",
              "  </div>\n",
              "  "
            ]
          },
          "metadata": {},
          "execution_count": 4
        }
      ]
    },
    {
      "cell_type": "code",
      "source": [
        "data = train.append(val)\n",
        "data = data.append(test)\n",
        "data.shape"
      ],
      "metadata": {
        "colab": {
          "base_uri": "https://localhost:8080/"
        },
        "id": "lV-dEPcLzlJO",
        "outputId": "74f4fa9e-e560-487d-bb37-9bcd5ea43d6b"
      },
      "execution_count": null,
      "outputs": [
        {
          "output_type": "execute_result",
          "data": {
            "text/plain": [
              "(9139, 3)"
            ]
          },
          "metadata": {},
          "execution_count": 5
        }
      ]
    },
    {
      "cell_type": "code",
      "source": [
        "data"
      ],
      "metadata": {
        "colab": {
          "base_uri": "https://localhost:8080/",
          "height": 641
        },
        "id": "awWx3Ph9zs0T",
        "outputId": "7e8916a6-9c4a-4a65-de69-b70db46f3a7d"
      },
      "execution_count": null,
      "outputs": [
        {
          "output_type": "execute_result",
          "data": {
            "text/plain": [
              "                                                 title  \\\n",
              "0                                   Election Integrity   \n",
              "1                   It's Time to Junk \"Junk Insurance\"   \n",
              "2    Republicans Want to Steal This Election for Tr...   \n",
              "3    Mitch McConnell’s True Colors May Finally Sink...   \n",
              "4    Trump Gone, But the Right-Wing Leadership Inst...   \n",
              "..                                                 ...   \n",
              "916  Donald Trump’s Mother Accused Him Of Having Do...   \n",
              "917  New Questions About Mike Pence’s Health After ...   \n",
              "918  Devastating New Campaign Ad Portrays Trump As ...   \n",
              "919  25th Amendment? Don Jr. Tells His Siblings The...   \n",
              "920  Up Next For Sean Hannity: Obstruction Of Justi...   \n",
              "\n",
              "                                               content label  \n",
              "0    Some academics and pundits have been postulati...  left  \n",
              "1    About four years ago, I was a 40 year old heal...  left  \n",
              "2    — from Salon\\n\\nDonald Trump is still trying t...  left  \n",
              "3    If you’re listening to politicians, you hear t...  left  \n",
              "4    We’re familiar with Fox, the TV propaganda arm...  left  \n",
              "..                                                 ...   ...  \n",
              "916  It’s no stretch to call Donald Trump the bigge...  left  \n",
              "917  On Wednesday evening, we’ll get to witness the...  left  \n",
              "918  Donald Trump’s massive incompetence and failur...  left  \n",
              "919  The bizarre joyride Donald Trump took on Sunda...  left  \n",
              "920  Fox News host Sean Hannity is in quite a mess ...  left  \n",
              "\n",
              "[9139 rows x 3 columns]"
            ],
            "text/html": [
              "\n",
              "  <div id=\"df-bd48bfb3-eb50-4bb3-a347-25b434100e60\">\n",
              "    <div class=\"colab-df-container\">\n",
              "      <div>\n",
              "<style scoped>\n",
              "    .dataframe tbody tr th:only-of-type {\n",
              "        vertical-align: middle;\n",
              "    }\n",
              "\n",
              "    .dataframe tbody tr th {\n",
              "        vertical-align: top;\n",
              "    }\n",
              "\n",
              "    .dataframe thead th {\n",
              "        text-align: right;\n",
              "    }\n",
              "</style>\n",
              "<table border=\"1\" class=\"dataframe\">\n",
              "  <thead>\n",
              "    <tr style=\"text-align: right;\">\n",
              "      <th></th>\n",
              "      <th>title</th>\n",
              "      <th>content</th>\n",
              "      <th>label</th>\n",
              "    </tr>\n",
              "  </thead>\n",
              "  <tbody>\n",
              "    <tr>\n",
              "      <th>0</th>\n",
              "      <td>Election Integrity</td>\n",
              "      <td>Some academics and pundits have been postulati...</td>\n",
              "      <td>left</td>\n",
              "    </tr>\n",
              "    <tr>\n",
              "      <th>1</th>\n",
              "      <td>It's Time to Junk \"Junk Insurance\"</td>\n",
              "      <td>About four years ago, I was a 40 year old heal...</td>\n",
              "      <td>left</td>\n",
              "    </tr>\n",
              "    <tr>\n",
              "      <th>2</th>\n",
              "      <td>Republicans Want to Steal This Election for Tr...</td>\n",
              "      <td>— from Salon\\n\\nDonald Trump is still trying t...</td>\n",
              "      <td>left</td>\n",
              "    </tr>\n",
              "    <tr>\n",
              "      <th>3</th>\n",
              "      <td>Mitch McConnell’s True Colors May Finally Sink...</td>\n",
              "      <td>If you’re listening to politicians, you hear t...</td>\n",
              "      <td>left</td>\n",
              "    </tr>\n",
              "    <tr>\n",
              "      <th>4</th>\n",
              "      <td>Trump Gone, But the Right-Wing Leadership Inst...</td>\n",
              "      <td>We’re familiar with Fox, the TV propaganda arm...</td>\n",
              "      <td>left</td>\n",
              "    </tr>\n",
              "    <tr>\n",
              "      <th>...</th>\n",
              "      <td>...</td>\n",
              "      <td>...</td>\n",
              "      <td>...</td>\n",
              "    </tr>\n",
              "    <tr>\n",
              "      <th>916</th>\n",
              "      <td>Donald Trump’s Mother Accused Him Of Having Do...</td>\n",
              "      <td>It’s no stretch to call Donald Trump the bigge...</td>\n",
              "      <td>left</td>\n",
              "    </tr>\n",
              "    <tr>\n",
              "      <th>917</th>\n",
              "      <td>New Questions About Mike Pence’s Health After ...</td>\n",
              "      <td>On Wednesday evening, we’ll get to witness the...</td>\n",
              "      <td>left</td>\n",
              "    </tr>\n",
              "    <tr>\n",
              "      <th>918</th>\n",
              "      <td>Devastating New Campaign Ad Portrays Trump As ...</td>\n",
              "      <td>Donald Trump’s massive incompetence and failur...</td>\n",
              "      <td>left</td>\n",
              "    </tr>\n",
              "    <tr>\n",
              "      <th>919</th>\n",
              "      <td>25th Amendment? Don Jr. Tells His Siblings The...</td>\n",
              "      <td>The bizarre joyride Donald Trump took on Sunda...</td>\n",
              "      <td>left</td>\n",
              "    </tr>\n",
              "    <tr>\n",
              "      <th>920</th>\n",
              "      <td>Up Next For Sean Hannity: Obstruction Of Justi...</td>\n",
              "      <td>Fox News host Sean Hannity is in quite a mess ...</td>\n",
              "      <td>left</td>\n",
              "    </tr>\n",
              "  </tbody>\n",
              "</table>\n",
              "<p>9139 rows × 3 columns</p>\n",
              "</div>\n",
              "      <button class=\"colab-df-convert\" onclick=\"convertToInteractive('df-bd48bfb3-eb50-4bb3-a347-25b434100e60')\"\n",
              "              title=\"Convert this dataframe to an interactive table.\"\n",
              "              style=\"display:none;\">\n",
              "        \n",
              "  <svg xmlns=\"http://www.w3.org/2000/svg\" height=\"24px\"viewBox=\"0 0 24 24\"\n",
              "       width=\"24px\">\n",
              "    <path d=\"M0 0h24v24H0V0z\" fill=\"none\"/>\n",
              "    <path d=\"M18.56 5.44l.94 2.06.94-2.06 2.06-.94-2.06-.94-.94-2.06-.94 2.06-2.06.94zm-11 1L8.5 8.5l.94-2.06 2.06-.94-2.06-.94L8.5 2.5l-.94 2.06-2.06.94zm10 10l.94 2.06.94-2.06 2.06-.94-2.06-.94-.94-2.06-.94 2.06-2.06.94z\"/><path d=\"M17.41 7.96l-1.37-1.37c-.4-.4-.92-.59-1.43-.59-.52 0-1.04.2-1.43.59L10.3 9.45l-7.72 7.72c-.78.78-.78 2.05 0 2.83L4 21.41c.39.39.9.59 1.41.59.51 0 1.02-.2 1.41-.59l7.78-7.78 2.81-2.81c.8-.78.8-2.07 0-2.86zM5.41 20L4 18.59l7.72-7.72 1.47 1.35L5.41 20z\"/>\n",
              "  </svg>\n",
              "      </button>\n",
              "      \n",
              "  <style>\n",
              "    .colab-df-container {\n",
              "      display:flex;\n",
              "      flex-wrap:wrap;\n",
              "      gap: 12px;\n",
              "    }\n",
              "\n",
              "    .colab-df-convert {\n",
              "      background-color: #E8F0FE;\n",
              "      border: none;\n",
              "      border-radius: 50%;\n",
              "      cursor: pointer;\n",
              "      display: none;\n",
              "      fill: #1967D2;\n",
              "      height: 32px;\n",
              "      padding: 0 0 0 0;\n",
              "      width: 32px;\n",
              "    }\n",
              "\n",
              "    .colab-df-convert:hover {\n",
              "      background-color: #E2EBFA;\n",
              "      box-shadow: 0px 1px 2px rgba(60, 64, 67, 0.3), 0px 1px 3px 1px rgba(60, 64, 67, 0.15);\n",
              "      fill: #174EA6;\n",
              "    }\n",
              "\n",
              "    [theme=dark] .colab-df-convert {\n",
              "      background-color: #3B4455;\n",
              "      fill: #D2E3FC;\n",
              "    }\n",
              "\n",
              "    [theme=dark] .colab-df-convert:hover {\n",
              "      background-color: #434B5C;\n",
              "      box-shadow: 0px 1px 3px 1px rgba(0, 0, 0, 0.15);\n",
              "      filter: drop-shadow(0px 1px 2px rgba(0, 0, 0, 0.3));\n",
              "      fill: #FFFFFF;\n",
              "    }\n",
              "  </style>\n",
              "\n",
              "      <script>\n",
              "        const buttonEl =\n",
              "          document.querySelector('#df-bd48bfb3-eb50-4bb3-a347-25b434100e60 button.colab-df-convert');\n",
              "        buttonEl.style.display =\n",
              "          google.colab.kernel.accessAllowed ? 'block' : 'none';\n",
              "\n",
              "        async function convertToInteractive(key) {\n",
              "          const element = document.querySelector('#df-bd48bfb3-eb50-4bb3-a347-25b434100e60');\n",
              "          const dataTable =\n",
              "            await google.colab.kernel.invokeFunction('convertToInteractive',\n",
              "                                                     [key], {});\n",
              "          if (!dataTable) return;\n",
              "\n",
              "          const docLinkHtml = 'Like what you see? Visit the ' +\n",
              "            '<a target=\"_blank\" href=https://colab.research.google.com/notebooks/data_table.ipynb>data table notebook</a>'\n",
              "            + ' to learn more about interactive tables.';\n",
              "          element.innerHTML = '';\n",
              "          dataTable['output_type'] = 'display_data';\n",
              "          await google.colab.output.renderOutput(dataTable, element);\n",
              "          const docLink = document.createElement('div');\n",
              "          docLink.innerHTML = docLinkHtml;\n",
              "          element.appendChild(docLink);\n",
              "        }\n",
              "      </script>\n",
              "    </div>\n",
              "  </div>\n",
              "  "
            ]
          },
          "metadata": {},
          "execution_count": 6
        }
      ]
    },
    {
      "cell_type": "markdown",
      "source": [
        "Удаление NaN"
      ],
      "metadata": {
        "id": "uBWrJk7c3NNs"
      }
    },
    {
      "cell_type": "code",
      "source": [
        "train = train.dropna()\n",
        "val = val.dropna()\n",
        "test = test.dropna()\n",
        "data = data.dropna()"
      ],
      "metadata": {
        "id": "eR7D_N_01kH3"
      },
      "execution_count": null,
      "outputs": []
    },
    {
      "cell_type": "code",
      "source": [
        "data"
      ],
      "metadata": {
        "colab": {
          "base_uri": "https://localhost:8080/",
          "height": 641
        },
        "id": "Td8qb0W51qdQ",
        "outputId": "38ba2f1a-5a81-4627-df30-c1c517125062"
      },
      "execution_count": null,
      "outputs": [
        {
          "output_type": "execute_result",
          "data": {
            "text/plain": [
              "                                                 title  \\\n",
              "0                                   Election Integrity   \n",
              "1                   It's Time to Junk \"Junk Insurance\"   \n",
              "2    Republicans Want to Steal This Election for Tr...   \n",
              "3    Mitch McConnell’s True Colors May Finally Sink...   \n",
              "4    Trump Gone, But the Right-Wing Leadership Inst...   \n",
              "..                                                 ...   \n",
              "916  Donald Trump’s Mother Accused Him Of Having Do...   \n",
              "917  New Questions About Mike Pence’s Health After ...   \n",
              "918  Devastating New Campaign Ad Portrays Trump As ...   \n",
              "919  25th Amendment? Don Jr. Tells His Siblings The...   \n",
              "920  Up Next For Sean Hannity: Obstruction Of Justi...   \n",
              "\n",
              "                                               content label  \n",
              "0    Some academics and pundits have been postulati...  left  \n",
              "1    About four years ago, I was a 40 year old heal...  left  \n",
              "2    — from Salon\\n\\nDonald Trump is still trying t...  left  \n",
              "3    If you’re listening to politicians, you hear t...  left  \n",
              "4    We’re familiar with Fox, the TV propaganda arm...  left  \n",
              "..                                                 ...   ...  \n",
              "916  It’s no stretch to call Donald Trump the bigge...  left  \n",
              "917  On Wednesday evening, we’ll get to witness the...  left  \n",
              "918  Donald Trump’s massive incompetence and failur...  left  \n",
              "919  The bizarre joyride Donald Trump took on Sunda...  left  \n",
              "920  Fox News host Sean Hannity is in quite a mess ...  left  \n",
              "\n",
              "[8765 rows x 3 columns]"
            ],
            "text/html": [
              "\n",
              "  <div id=\"df-8820eab8-9810-4fa2-b8b5-b3c821e86e58\">\n",
              "    <div class=\"colab-df-container\">\n",
              "      <div>\n",
              "<style scoped>\n",
              "    .dataframe tbody tr th:only-of-type {\n",
              "        vertical-align: middle;\n",
              "    }\n",
              "\n",
              "    .dataframe tbody tr th {\n",
              "        vertical-align: top;\n",
              "    }\n",
              "\n",
              "    .dataframe thead th {\n",
              "        text-align: right;\n",
              "    }\n",
              "</style>\n",
              "<table border=\"1\" class=\"dataframe\">\n",
              "  <thead>\n",
              "    <tr style=\"text-align: right;\">\n",
              "      <th></th>\n",
              "      <th>title</th>\n",
              "      <th>content</th>\n",
              "      <th>label</th>\n",
              "    </tr>\n",
              "  </thead>\n",
              "  <tbody>\n",
              "    <tr>\n",
              "      <th>0</th>\n",
              "      <td>Election Integrity</td>\n",
              "      <td>Some academics and pundits have been postulati...</td>\n",
              "      <td>left</td>\n",
              "    </tr>\n",
              "    <tr>\n",
              "      <th>1</th>\n",
              "      <td>It's Time to Junk \"Junk Insurance\"</td>\n",
              "      <td>About four years ago, I was a 40 year old heal...</td>\n",
              "      <td>left</td>\n",
              "    </tr>\n",
              "    <tr>\n",
              "      <th>2</th>\n",
              "      <td>Republicans Want to Steal This Election for Tr...</td>\n",
              "      <td>— from Salon\\n\\nDonald Trump is still trying t...</td>\n",
              "      <td>left</td>\n",
              "    </tr>\n",
              "    <tr>\n",
              "      <th>3</th>\n",
              "      <td>Mitch McConnell’s True Colors May Finally Sink...</td>\n",
              "      <td>If you’re listening to politicians, you hear t...</td>\n",
              "      <td>left</td>\n",
              "    </tr>\n",
              "    <tr>\n",
              "      <th>4</th>\n",
              "      <td>Trump Gone, But the Right-Wing Leadership Inst...</td>\n",
              "      <td>We’re familiar with Fox, the TV propaganda arm...</td>\n",
              "      <td>left</td>\n",
              "    </tr>\n",
              "    <tr>\n",
              "      <th>...</th>\n",
              "      <td>...</td>\n",
              "      <td>...</td>\n",
              "      <td>...</td>\n",
              "    </tr>\n",
              "    <tr>\n",
              "      <th>916</th>\n",
              "      <td>Donald Trump’s Mother Accused Him Of Having Do...</td>\n",
              "      <td>It’s no stretch to call Donald Trump the bigge...</td>\n",
              "      <td>left</td>\n",
              "    </tr>\n",
              "    <tr>\n",
              "      <th>917</th>\n",
              "      <td>New Questions About Mike Pence’s Health After ...</td>\n",
              "      <td>On Wednesday evening, we’ll get to witness the...</td>\n",
              "      <td>left</td>\n",
              "    </tr>\n",
              "    <tr>\n",
              "      <th>918</th>\n",
              "      <td>Devastating New Campaign Ad Portrays Trump As ...</td>\n",
              "      <td>Donald Trump’s massive incompetence and failur...</td>\n",
              "      <td>left</td>\n",
              "    </tr>\n",
              "    <tr>\n",
              "      <th>919</th>\n",
              "      <td>25th Amendment? Don Jr. Tells His Siblings The...</td>\n",
              "      <td>The bizarre joyride Donald Trump took on Sunda...</td>\n",
              "      <td>left</td>\n",
              "    </tr>\n",
              "    <tr>\n",
              "      <th>920</th>\n",
              "      <td>Up Next For Sean Hannity: Obstruction Of Justi...</td>\n",
              "      <td>Fox News host Sean Hannity is in quite a mess ...</td>\n",
              "      <td>left</td>\n",
              "    </tr>\n",
              "  </tbody>\n",
              "</table>\n",
              "<p>8765 rows × 3 columns</p>\n",
              "</div>\n",
              "      <button class=\"colab-df-convert\" onclick=\"convertToInteractive('df-8820eab8-9810-4fa2-b8b5-b3c821e86e58')\"\n",
              "              title=\"Convert this dataframe to an interactive table.\"\n",
              "              style=\"display:none;\">\n",
              "        \n",
              "  <svg xmlns=\"http://www.w3.org/2000/svg\" height=\"24px\"viewBox=\"0 0 24 24\"\n",
              "       width=\"24px\">\n",
              "    <path d=\"M0 0h24v24H0V0z\" fill=\"none\"/>\n",
              "    <path d=\"M18.56 5.44l.94 2.06.94-2.06 2.06-.94-2.06-.94-.94-2.06-.94 2.06-2.06.94zm-11 1L8.5 8.5l.94-2.06 2.06-.94-2.06-.94L8.5 2.5l-.94 2.06-2.06.94zm10 10l.94 2.06.94-2.06 2.06-.94-2.06-.94-.94-2.06-.94 2.06-2.06.94z\"/><path d=\"M17.41 7.96l-1.37-1.37c-.4-.4-.92-.59-1.43-.59-.52 0-1.04.2-1.43.59L10.3 9.45l-7.72 7.72c-.78.78-.78 2.05 0 2.83L4 21.41c.39.39.9.59 1.41.59.51 0 1.02-.2 1.41-.59l7.78-7.78 2.81-2.81c.8-.78.8-2.07 0-2.86zM5.41 20L4 18.59l7.72-7.72 1.47 1.35L5.41 20z\"/>\n",
              "  </svg>\n",
              "      </button>\n",
              "      \n",
              "  <style>\n",
              "    .colab-df-container {\n",
              "      display:flex;\n",
              "      flex-wrap:wrap;\n",
              "      gap: 12px;\n",
              "    }\n",
              "\n",
              "    .colab-df-convert {\n",
              "      background-color: #E8F0FE;\n",
              "      border: none;\n",
              "      border-radius: 50%;\n",
              "      cursor: pointer;\n",
              "      display: none;\n",
              "      fill: #1967D2;\n",
              "      height: 32px;\n",
              "      padding: 0 0 0 0;\n",
              "      width: 32px;\n",
              "    }\n",
              "\n",
              "    .colab-df-convert:hover {\n",
              "      background-color: #E2EBFA;\n",
              "      box-shadow: 0px 1px 2px rgba(60, 64, 67, 0.3), 0px 1px 3px 1px rgba(60, 64, 67, 0.15);\n",
              "      fill: #174EA6;\n",
              "    }\n",
              "\n",
              "    [theme=dark] .colab-df-convert {\n",
              "      background-color: #3B4455;\n",
              "      fill: #D2E3FC;\n",
              "    }\n",
              "\n",
              "    [theme=dark] .colab-df-convert:hover {\n",
              "      background-color: #434B5C;\n",
              "      box-shadow: 0px 1px 3px 1px rgba(0, 0, 0, 0.15);\n",
              "      filter: drop-shadow(0px 1px 2px rgba(0, 0, 0, 0.3));\n",
              "      fill: #FFFFFF;\n",
              "    }\n",
              "  </style>\n",
              "\n",
              "      <script>\n",
              "        const buttonEl =\n",
              "          document.querySelector('#df-8820eab8-9810-4fa2-b8b5-b3c821e86e58 button.colab-df-convert');\n",
              "        buttonEl.style.display =\n",
              "          google.colab.kernel.accessAllowed ? 'block' : 'none';\n",
              "\n",
              "        async function convertToInteractive(key) {\n",
              "          const element = document.querySelector('#df-8820eab8-9810-4fa2-b8b5-b3c821e86e58');\n",
              "          const dataTable =\n",
              "            await google.colab.kernel.invokeFunction('convertToInteractive',\n",
              "                                                     [key], {});\n",
              "          if (!dataTable) return;\n",
              "\n",
              "          const docLinkHtml = 'Like what you see? Visit the ' +\n",
              "            '<a target=\"_blank\" href=https://colab.research.google.com/notebooks/data_table.ipynb>data table notebook</a>'\n",
              "            + ' to learn more about interactive tables.';\n",
              "          element.innerHTML = '';\n",
              "          dataTable['output_type'] = 'display_data';\n",
              "          await google.colab.output.renderOutput(dataTable, element);\n",
              "          const docLink = document.createElement('div');\n",
              "          docLink.innerHTML = docLinkHtml;\n",
              "          element.appendChild(docLink);\n",
              "        }\n",
              "      </script>\n",
              "    </div>\n",
              "  </div>\n",
              "  "
            ]
          },
          "metadata": {},
          "execution_count": 8
        }
      ]
    },
    {
      "cell_type": "markdown",
      "source": [
        "Взглянем на распределение по классам на всех данных"
      ],
      "metadata": {
        "id": "2ydSNyHaI9fF"
      }
    },
    {
      "cell_type": "code",
      "source": [
        "g = sns.catplot(x='label',\n",
        "                kind=\"count\",\n",
        "                data=data.sort_values(\"label\")[::-1]) #['blue','orange','green']\n",
        "plt.grid()\n",
        "plt.title(\"Class distribution in the data\");"
      ],
      "metadata": {
        "colab": {
          "base_uri": "https://localhost:8080/",
          "height": 385
        },
        "id": "IwAe3sg9JMsW",
        "outputId": "bb7d6596-6a30-4ee7-db93-9863744be345"
      },
      "execution_count": null,
      "outputs": [
        {
          "output_type": "display_data",
          "data": {
            "text/plain": [
              "<Figure size 360x360 with 1 Axes>"
            ],
            "image/png": "[encoded data removed]"
          },
          "metadata": {
            "needs_background": "light"
          }
        }
      ]
    },
    {
      "cell_type": "markdown",
      "source": [
        "Создание новой фичи"
      ],
      "metadata": {
        "id": "viqKksOBMr1y"
      }
    },
    {
      "cell_type": "code",
      "source": [
        "train['all_text'] = train['title']+train['content']\n",
        "val['all_text'] = val['title']+val['content']\n",
        "test['all_text'] = test['title']+test['content']"
      ],
      "metadata": {
        "id": "G5Xq6cwNM2sd"
      },
      "execution_count": null,
      "outputs": []
    },
    {
      "cell_type": "markdown",
      "source": [
        "#Лемматизация"
      ],
      "metadata": {
        "id": "8EFQV1TiM5hQ"
      }
    },
    {
      "cell_type": "code",
      "source": [
        "m = MorphAnalyzer()\n",
        "regex = re.compile(\"[A-Za-z]+\")\n",
        "\n",
        "def words_only(text, regex=regex):\n",
        "    try:\n",
        "        return regex.findall(text.lower())\n",
        "    except:\n",
        "        return []\n",
        "\n",
        "@lru_cache(maxsize=128)\n",
        "def lemmatize_word(token, pymorphy=m):\n",
        "    return pymorphy.parse(token)[0].normal_form\n",
        "\n",
        "def lemmatize_text(text):\n",
        "    return [lemmatize_word(w) for w in text]\n",
        "\n",
        "\n",
        "mystopwords = stopwords.words('english') \n",
        "def remove_stopwords(lemmas, stopwords = mystopwords):\n",
        "    return [w for w in lemmas if not w in stopwords and len(w) > 3]\n",
        "\n",
        "def clean_text(text):\n",
        "    tokens = words_only(text)\n",
        "    lemmas = lemmatize_text(tokens)\n",
        "    \n",
        "    return ' '.join(remove_stopwords(lemmas))"
      ],
      "metadata": {
        "id": "dCEiAgc7M53n"
      },
      "execution_count": null,
      "outputs": []
    },
    {
      "cell_type": "code",
      "source": [
        "from multiprocessing import Pool as PoolSklearn\n",
        "#train\n",
        "with PoolSklearn(4) as p:\n",
        "    lemmas = list(tqdm(p.imap(clean_text, train['all_text']), total=len(train)))\n",
        "    \n",
        "train['lemmas'] = lemmas\n",
        "train.sample(5)\n",
        "\n",
        "#val\n",
        "with PoolSklearn(4) as p:\n",
        "    lemmas = list(tqdm(p.imap(clean_text, val['all_text']), total=len(val)))  \n",
        "val['lemmas'] = lemmas\n",
        "val.sample(5)\n",
        "\n",
        "#test \n",
        "with PoolSklearn(4) as p:\n",
        "    lemmas = list(tqdm(p.imap(clean_text, test['all_text']), total=len(test)))\n",
        "    \n",
        "test['lemmas'] = lemmas\n",
        "test.sample(5)"
      ],
      "metadata": {
        "colab": {
          "base_uri": "https://localhost:8080/",
          "height": 545
        },
        "id": "rVYs2AK1NCCU",
        "outputId": "62d47794-2444-43ca-b51b-06e1feddd897"
      },
      "execution_count": null,
      "outputs": [
        {
          "output_type": "stream",
          "name": "stderr",
          "text": [
            "100%|██████████| 7043/7043 [01:08<00:00, 102.23it/s]\n",
            "100%|██████████| 874/874 [00:09<00:00, 91.99it/s] \n",
            "100%|██████████| 848/848 [00:07<00:00, 116.52it/s]\n"
          ]
        },
        {
          "output_type": "execute_result",
          "data": {
            "text/plain": [
              "                                                 title  \\\n",
              "713                Joe Biden’s Subversive War on Women   \n",
              "512       US, South Korea Seem to Scale Back War Games   \n",
              "581  Project PRIDE unveils ‘PrideWalk’ downtown Sar...   \n",
              "878  Green New Deal XI: Costa Rica Demonstrates One...   \n",
              "261  Q&A with the Scholars: From Nursing to Abortio...   \n",
              "\n",
              "                                               content   label  \\\n",
              "713  “The more people who are dependent on governme...   right   \n",
              "512  The U.S. and South Korea on Monday began 10 da...  center   \n",
              "581  Project PRIDE unveils ‘PrideWalk’ downtown Sar...  center   \n",
              "878  Green New Deal XI: Costa Rica Demonstrates One...    left   \n",
              "261  After 25+ years serving on the front lines of ...   right   \n",
              "\n",
              "                                              all_text  \\\n",
              "713  Joe Biden’s Subversive War on Women“The more p...   \n",
              "512  US, South Korea Seem to Scale Back War GamesTh...   \n",
              "581  Project PRIDE unveils ‘PrideWalk’ downtown Sar...   \n",
              "878  Green New Deal XI: Costa Rica Demonstrates One...   \n",
              "261  Q&A with the Scholars: From Nursing to Abortio...   \n",
              "\n",
              "                                                lemmas  \n",
              "713  biden subversive women people dependent govern...  \n",
              "512  south korea seem scale back gamesthe south kor...  \n",
              "581  project pride unveils pridewalk downtown saras...  \n",
              "878  green deal costa rica demonstrates pathway tow...  \n",
              "261  scholars nursing abortion researchafter years ...  "
            ],
            "text/html": [
              "\n",
              "  <div id=\"df-008c73a0-b045-41b2-814e-6aff047ed8df\">\n",
              "    <div class=\"colab-df-container\">\n",
              "      <div>\n",
              "<style scoped>\n",
              "    .dataframe tbody tr th:only-of-type {\n",
              "        vertical-align: middle;\n",
              "    }\n",
              "\n",
              "    .dataframe tbody tr th {\n",
              "        vertical-align: top;\n",
              "    }\n",
              "\n",
              "    .dataframe thead th {\n",
              "        text-align: right;\n",
              "    }\n",
              "</style>\n",
              "<table border=\"1\" class=\"dataframe\">\n",
              "  <thead>\n",
              "    <tr style=\"text-align: right;\">\n",
              "      <th></th>\n",
              "      <th>title</th>\n",
              "      <th>content</th>\n",
              "      <th>label</th>\n",
              "      <th>all_text</th>\n",
              "      <th>lemmas</th>\n",
              "    </tr>\n",
              "  </thead>\n",
              "  <tbody>\n",
              "    <tr>\n",
              "      <th>713</th>\n",
              "      <td>Joe Biden’s Subversive War on Women</td>\n",
              "      <td>“The more people who are dependent on governme...</td>\n",
              "      <td>right</td>\n",
              "      <td>Joe Biden’s Subversive War on Women“The more p...</td>\n",
              "      <td>biden subversive women people dependent govern...</td>\n",
              "    </tr>\n",
              "    <tr>\n",
              "      <th>512</th>\n",
              "      <td>US, South Korea Seem to Scale Back War Games</td>\n",
              "      <td>The U.S. and South Korea on Monday began 10 da...</td>\n",
              "      <td>center</td>\n",
              "      <td>US, South Korea Seem to Scale Back War GamesTh...</td>\n",
              "      <td>south korea seem scale back gamesthe south kor...</td>\n",
              "    </tr>\n",
              "    <tr>\n",
              "      <th>581</th>\n",
              "      <td>Project PRIDE unveils ‘PrideWalk’ downtown Sar...</td>\n",
              "      <td>Project PRIDE unveils ‘PrideWalk’ downtown Sar...</td>\n",
              "      <td>center</td>\n",
              "      <td>Project PRIDE unveils ‘PrideWalk’ downtown Sar...</td>\n",
              "      <td>project pride unveils pridewalk downtown saras...</td>\n",
              "    </tr>\n",
              "    <tr>\n",
              "      <th>878</th>\n",
              "      <td>Green New Deal XI: Costa Rica Demonstrates One...</td>\n",
              "      <td>Green New Deal XI: Costa Rica Demonstrates One...</td>\n",
              "      <td>left</td>\n",
              "      <td>Green New Deal XI: Costa Rica Demonstrates One...</td>\n",
              "      <td>green deal costa rica demonstrates pathway tow...</td>\n",
              "    </tr>\n",
              "    <tr>\n",
              "      <th>261</th>\n",
              "      <td>Q&amp;A with the Scholars: From Nursing to Abortio...</td>\n",
              "      <td>After 25+ years serving on the front lines of ...</td>\n",
              "      <td>right</td>\n",
              "      <td>Q&amp;A with the Scholars: From Nursing to Abortio...</td>\n",
              "      <td>scholars nursing abortion researchafter years ...</td>\n",
              "    </tr>\n",
              "  </tbody>\n",
              "</table>\n",
              "</div>\n",
              "      <button class=\"colab-df-convert\" onclick=\"convertToInteractive('df-008c73a0-b045-41b2-814e-6aff047ed8df')\"\n",
              "              title=\"Convert this dataframe to an interactive table.\"\n",
              "              style=\"display:none;\">\n",
              "        \n",
              "  <svg xmlns=\"http://www.w3.org/2000/svg\" height=\"24px\"viewBox=\"0 0 24 24\"\n",
              "       width=\"24px\">\n",
              "    <path d=\"M0 0h24v24H0V0z\" fill=\"none\"/>\n",
              "    <path d=\"M18.56 5.44l.94 2.06.94-2.06 2.06-.94-2.06-.94-.94-2.06-.94 2.06-2.06.94zm-11 1L8.5 8.5l.94-2.06 2.06-.94-2.06-.94L8.5 2.5l-.94 2.06-2.06.94zm10 10l.94 2.06.94-2.06 2.06-.94-2.06-.94-.94-2.06-.94 2.06-2.06.94z\"/><path d=\"M17.41 7.96l-1.37-1.37c-.4-.4-.92-.59-1.43-.59-.52 0-1.04.2-1.43.59L10.3 9.45l-7.72 7.72c-.78.78-.78 2.05 0 2.83L4 21.41c.39.39.9.59 1.41.59.51 0 1.02-.2 1.41-.59l7.78-7.78 2.81-2.81c.8-.78.8-2.07 0-2.86zM5.41 20L4 18.59l7.72-7.72 1.47 1.35L5.41 20z\"/>\n",
              "  </svg>\n",
              "      </button>\n",
              "      \n",
              "  <style>\n",
              "    .colab-df-container {\n",
              "      display:flex;\n",
              "      flex-wrap:wrap;\n",
              "      gap: 12px;\n",
              "    }\n",
              "\n",
              "    .colab-df-convert {\n",
              "      background-color: #E8F0FE;\n",
              "      border: none;\n",
              "      border-radius: 50%;\n",
              "      cursor: pointer;\n",
              "      display: none;\n",
              "      fill: #1967D2;\n",
              "      height: 32px;\n",
              "      padding: 0 0 0 0;\n",
              "      width: 32px;\n",
              "    }\n",
              "\n",
              "    .colab-df-convert:hover {\n",
              "      background-color: #E2EBFA;\n",
              "      box-shadow: 0px 1px 2px rgba(60, 64, 67, 0.3), 0px 1px 3px 1px rgba(60, 64, 67, 0.15);\n",
              "      fill: #174EA6;\n",
              "    }\n",
              "\n",
              "    [theme=dark] .colab-df-convert {\n",
              "      background-color: #3B4455;\n",
              "      fill: #D2E3FC;\n",
              "    }\n",
              "\n",
              "    [theme=dark] .colab-df-convert:hover {\n",
              "      background-color: #434B5C;\n",
              "      box-shadow: 0px 1px 3px 1px rgba(0, 0, 0, 0.15);\n",
              "      filter: drop-shadow(0px 1px 2px rgba(0, 0, 0, 0.3));\n",
              "      fill: #FFFFFF;\n",
              "    }\n",
              "  </style>\n",
              "\n",
              "      <script>\n",
              "        const buttonEl =\n",
              "          document.querySelector('#df-008c73a0-b045-41b2-814e-6aff047ed8df button.colab-df-convert');\n",
              "        buttonEl.style.display =\n",
              "          google.colab.kernel.accessAllowed ? 'block' : 'none';\n",
              "\n",
              "        async function convertToInteractive(key) {\n",
              "          const element = document.querySelector('#df-008c73a0-b045-41b2-814e-6aff047ed8df');\n",
              "          const dataTable =\n",
              "            await google.colab.kernel.invokeFunction('convertToInteractive',\n",
              "                                                     [key], {});\n",
              "          if (!dataTable) return;\n",
              "\n",
              "          const docLinkHtml = 'Like what you see? Visit the ' +\n",
              "            '<a target=\"_blank\" href=https://colab.research.google.com/notebooks/data_table.ipynb>data table notebook</a>'\n",
              "            + ' to learn more about interactive tables.';\n",
              "          element.innerHTML = '';\n",
              "          dataTable['output_type'] = 'display_data';\n",
              "          await google.colab.output.renderOutput(dataTable, element);\n",
              "          const docLink = document.createElement('div');\n",
              "          docLink.innerHTML = docLinkHtml;\n",
              "          element.appendChild(docLink);\n",
              "        }\n",
              "      </script>\n",
              "    </div>\n",
              "  </div>\n",
              "  "
            ]
          },
          "metadata": {},
          "execution_count": 27
        }
      ]
    },
    {
      "cell_type": "code",
      "source": [
        "from sklearn.preprocessing import LabelEncoder\n",
        "labelencoder = LabelEncoder()\n",
        "train['label_enc'] = labelencoder.fit_transform(train['label'])\n",
        "val['label_enc'] = labelencoder.transform(val['label'])\n",
        "test['label_enc'] = labelencoder.transform(test['label'])\n",
        "train"
      ],
      "metadata": {
        "colab": {
          "base_uri": "https://localhost:8080/",
          "height": 1000
        },
        "id": "hMfBR6XRNqJ_",
        "outputId": "7592f6c2-be10-4273-a4b0-503b59381e62"
      },
      "execution_count": null,
      "outputs": [
        {
          "output_type": "execute_result",
          "data": {
            "text/plain": [
              "                                                  title  \\\n",
              "0                                    Election Integrity   \n",
              "1                    It's Time to Junk \"Junk Insurance\"   \n",
              "2     Republicans Want to Steal This Election for Tr...   \n",
              "3     Mitch McConnell’s True Colors May Finally Sink...   \n",
              "4     Trump Gone, But the Right-Wing Leadership Inst...   \n",
              "...                                                 ...   \n",
              "7327  10 Best Snack Subscription Boxes 2021 — Monthl...   \n",
              "7328  Stylist Says Justin Timberlake Set Up Janet Ja...   \n",
              "7329  47 Luxury Gift Ideas — Expensive and Designer ...   \n",
              "7330  50 Famous Actors You Probably Forgot Were on G...   \n",
              "7331  Best playsuits: 27 women's playsuits to shop f...   \n",
              "\n",
              "                                                content label  \\\n",
              "0     Some academics and pundits have been postulati...  left   \n",
              "1     About four years ago, I was a 40 year old heal...  left   \n",
              "2     — from Salon\\n\\nDonald Trump is still trying t...  left   \n",
              "3     If you’re listening to politicians, you hear t...  left   \n",
              "4     We’re familiar with Fox, the TV propaganda arm...  left   \n",
              "...                                                 ...   ...   \n",
              "7327  Where do I begin? Snacks are amazing. How does...  left   \n",
              "7328  Update:\\n\\nFYI: A source close to Justin Timbe...  left   \n",
              "7329  Sure, there are gifts under $5, under $20, and...  left   \n",
              "7330  Jennifer Westfeldt\\n\\nAfter accidentally runni...  left   \n",
              "7331  You heard it here first: playsuits are making ...  left   \n",
              "\n",
              "                                               all_text  \\\n",
              "0     Election IntegritySome academics and pundits h...   \n",
              "1     It's Time to Junk \"Junk Insurance\"About four y...   \n",
              "2     Republicans Want to Steal This Election for Tr...   \n",
              "3     Mitch McConnell’s True Colors May Finally Sink...   \n",
              "4     Trump Gone, But the Right-Wing Leadership Inst...   \n",
              "...                                                 ...   \n",
              "7327  10 Best Snack Subscription Boxes 2021 — Monthl...   \n",
              "7328  Stylist Says Justin Timberlake Set Up Janet Ja...   \n",
              "7329  47 Luxury Gift Ideas — Expensive and Designer ...   \n",
              "7330  50 Famous Actors You Probably Forgot Were on G...   \n",
              "7331  Best playsuits: 27 women's playsuits to shop f...   \n",
              "\n",
              "                                                 lemmas  label_enc  \n",
              "0     election integritysome academics pundits postu...          1  \n",
              "1     time junk junk insurance four years year healt...          1  \n",
              "2     republicans want steal election trump know sal...          1  \n",
              "3     mitch mcconnell true colors finally sink himif...          1  \n",
              "4     trump gone right wing leadership institute pro...          1  \n",
              "...                                                 ...        ...  \n",
              "7327  best snack subscription boxes monthly food dri...          1  \n",
              "7328  stylist says justin timberlake janet jackson w...          1  \n",
              "7329  luxury gift ideas expensive designer gifts sur...          1  \n",
              "7330  famous actors probably forgot grey anatomyjenn...          1  \n",
              "7331  best playsuits women playsuits shop summeryou ...          1  \n",
              "\n",
              "[7043 rows x 6 columns]"
            ],
            "text/html": [
              "\n",
              "  <div id=\"df-cf4535ce-1525-414c-9ca1-af6cf93cc3f2\">\n",
              "    <div class=\"colab-df-container\">\n",
              "      <div>\n",
              "<style scoped>\n",
              "    .dataframe tbody tr th:only-of-type {\n",
              "        vertical-align: middle;\n",
              "    }\n",
              "\n",
              "    .dataframe tbody tr th {\n",
              "        vertical-align: top;\n",
              "    }\n",
              "\n",
              "    .dataframe thead th {\n",
              "        text-align: right;\n",
              "    }\n",
              "</style>\n",
              "<table border=\"1\" class=\"dataframe\">\n",
              "  <thead>\n",
              "    <tr style=\"text-align: right;\">\n",
              "      <th></th>\n",
              "      <th>title</th>\n",
              "      <th>content</th>\n",
              "      <th>label</th>\n",
              "      <th>all_text</th>\n",
              "      <th>lemmas</th>\n",
              "      <th>label_enc</th>\n",
              "    </tr>\n",
              "  </thead>\n",
              "  <tbody>\n",
              "    <tr>\n",
              "      <th>0</th>\n",
              "      <td>Election Integrity</td>\n",
              "      <td>Some academics and pundits have been postulati...</td>\n",
              "      <td>left</td>\n",
              "      <td>Election IntegritySome academics and pundits h...</td>\n",
              "      <td>election integritysome academics pundits postu...</td>\n",
              "      <td>1</td>\n",
              "    </tr>\n",
              "    <tr>\n",
              "      <th>1</th>\n",
              "      <td>It's Time to Junk \"Junk Insurance\"</td>\n",
              "      <td>About four years ago, I was a 40 year old heal...</td>\n",
              "      <td>left</td>\n",
              "      <td>It's Time to Junk \"Junk Insurance\"About four y...</td>\n",
              "      <td>time junk junk insurance four years year healt...</td>\n",
              "      <td>1</td>\n",
              "    </tr>\n",
              "    <tr>\n",
              "      <th>2</th>\n",
              "      <td>Republicans Want to Steal This Election for Tr...</td>\n",
              "      <td>— from Salon\\n\\nDonald Trump is still trying t...</td>\n",
              "      <td>left</td>\n",
              "      <td>Republicans Want to Steal This Election for Tr...</td>\n",
              "      <td>republicans want steal election trump know sal...</td>\n",
              "      <td>1</td>\n",
              "    </tr>\n",
              "    <tr>\n",
              "      <th>3</th>\n",
              "      <td>Mitch McConnell’s True Colors May Finally Sink...</td>\n",
              "      <td>If you’re listening to politicians, you hear t...</td>\n",
              "      <td>left</td>\n",
              "      <td>Mitch McConnell’s True Colors May Finally Sink...</td>\n",
              "      <td>mitch mcconnell true colors finally sink himif...</td>\n",
              "      <td>1</td>\n",
              "    </tr>\n",
              "    <tr>\n",
              "      <th>4</th>\n",
              "      <td>Trump Gone, But the Right-Wing Leadership Inst...</td>\n",
              "      <td>We’re familiar with Fox, the TV propaganda arm...</td>\n",
              "      <td>left</td>\n",
              "      <td>Trump Gone, But the Right-Wing Leadership Inst...</td>\n",
              "      <td>trump gone right wing leadership institute pro...</td>\n",
              "      <td>1</td>\n",
              "    </tr>\n",
              "    <tr>\n",
              "      <th>...</th>\n",
              "      <td>...</td>\n",
              "      <td>...</td>\n",
              "      <td>...</td>\n",
              "      <td>...</td>\n",
              "      <td>...</td>\n",
              "      <td>...</td>\n",
              "    </tr>\n",
              "    <tr>\n",
              "      <th>7327</th>\n",
              "      <td>10 Best Snack Subscription Boxes 2021 — Monthl...</td>\n",
              "      <td>Where do I begin? Snacks are amazing. How does...</td>\n",
              "      <td>left</td>\n",
              "      <td>10 Best Snack Subscription Boxes 2021 — Monthl...</td>\n",
              "      <td>best snack subscription boxes monthly food dri...</td>\n",
              "      <td>1</td>\n",
              "    </tr>\n",
              "    <tr>\n",
              "      <th>7328</th>\n",
              "      <td>Stylist Says Justin Timberlake Set Up Janet Ja...</td>\n",
              "      <td>Update:\\n\\nFYI: A source close to Justin Timbe...</td>\n",
              "      <td>left</td>\n",
              "      <td>Stylist Says Justin Timberlake Set Up Janet Ja...</td>\n",
              "      <td>stylist says justin timberlake janet jackson w...</td>\n",
              "      <td>1</td>\n",
              "    </tr>\n",
              "    <tr>\n",
              "      <th>7329</th>\n",
              "      <td>47 Luxury Gift Ideas — Expensive and Designer ...</td>\n",
              "      <td>Sure, there are gifts under $5, under $20, and...</td>\n",
              "      <td>left</td>\n",
              "      <td>47 Luxury Gift Ideas — Expensive and Designer ...</td>\n",
              "      <td>luxury gift ideas expensive designer gifts sur...</td>\n",
              "      <td>1</td>\n",
              "    </tr>\n",
              "    <tr>\n",
              "      <th>7330</th>\n",
              "      <td>50 Famous Actors You Probably Forgot Were on G...</td>\n",
              "      <td>Jennifer Westfeldt\\n\\nAfter accidentally runni...</td>\n",
              "      <td>left</td>\n",
              "      <td>50 Famous Actors You Probably Forgot Were on G...</td>\n",
              "      <td>famous actors probably forgot grey anatomyjenn...</td>\n",
              "      <td>1</td>\n",
              "    </tr>\n",
              "    <tr>\n",
              "      <th>7331</th>\n",
              "      <td>Best playsuits: 27 women's playsuits to shop f...</td>\n",
              "      <td>You heard it here first: playsuits are making ...</td>\n",
              "      <td>left</td>\n",
              "      <td>Best playsuits: 27 women's playsuits to shop f...</td>\n",
              "      <td>best playsuits women playsuits shop summeryou ...</td>\n",
              "      <td>1</td>\n",
              "    </tr>\n",
              "  </tbody>\n",
              "</table>\n",
              "<p>7043 rows × 6 columns</p>\n",
              "</div>\n",
              "      <button class=\"colab-df-convert\" onclick=\"convertToInteractive('df-cf4535ce-1525-414c-9ca1-af6cf93cc3f2')\"\n",
              "              title=\"Convert this dataframe to an interactive table.\"\n",
              "              style=\"display:none;\">\n",
              "        \n",
              "  <svg xmlns=\"http://www.w3.org/2000/svg\" height=\"24px\"viewBox=\"0 0 24 24\"\n",
              "       width=\"24px\">\n",
              "    <path d=\"M0 0h24v24H0V0z\" fill=\"none\"/>\n",
              "    <path d=\"M18.56 5.44l.94 2.06.94-2.06 2.06-.94-2.06-.94-.94-2.06-.94 2.06-2.06.94zm-11 1L8.5 8.5l.94-2.06 2.06-.94-2.06-.94L8.5 2.5l-.94 2.06-2.06.94zm10 10l.94 2.06.94-2.06 2.06-.94-2.06-.94-.94-2.06-.94 2.06-2.06.94z\"/><path d=\"M17.41 7.96l-1.37-1.37c-.4-.4-.92-.59-1.43-.59-.52 0-1.04.2-1.43.59L10.3 9.45l-7.72 7.72c-.78.78-.78 2.05 0 2.83L4 21.41c.39.39.9.59 1.41.59.51 0 1.02-.2 1.41-.59l7.78-7.78 2.81-2.81c.8-.78.8-2.07 0-2.86zM5.41 20L4 18.59l7.72-7.72 1.47 1.35L5.41 20z\"/>\n",
              "  </svg>\n",
              "      </button>\n",
              "      \n",
              "  <style>\n",
              "    .colab-df-container {\n",
              "      display:flex;\n",
              "      flex-wrap:wrap;\n",
              "      gap: 12px;\n",
              "    }\n",
              "\n",
              "    .colab-df-convert {\n",
              "      background-color: #E8F0FE;\n",
              "      border: none;\n",
              "      border-radius: 50%;\n",
              "      cursor: pointer;\n",
              "      display: none;\n",
              "      fill: #1967D2;\n",
              "      height: 32px;\n",
              "      padding: 0 0 0 0;\n",
              "      width: 32px;\n",
              "    }\n",
              "\n",
              "    .colab-df-convert:hover {\n",
              "      background-color: #E2EBFA;\n",
              "      box-shadow: 0px 1px 2px rgba(60, 64, 67, 0.3), 0px 1px 3px 1px rgba(60, 64, 67, 0.15);\n",
              "      fill: #174EA6;\n",
              "    }\n",
              "\n",
              "    [theme=dark] .colab-df-convert {\n",
              "      background-color: #3B4455;\n",
              "      fill: #D2E3FC;\n",
              "    }\n",
              "\n",
              "    [theme=dark] .colab-df-convert:hover {\n",
              "      background-color: #434B5C;\n",
              "      box-shadow: 0px 1px 3px 1px rgba(0, 0, 0, 0.15);\n",
              "      filter: drop-shadow(0px 1px 2px rgba(0, 0, 0, 0.3));\n",
              "      fill: #FFFFFF;\n",
              "    }\n",
              "  </style>\n",
              "\n",
              "      <script>\n",
              "        const buttonEl =\n",
              "          document.querySelector('#df-cf4535ce-1525-414c-9ca1-af6cf93cc3f2 button.colab-df-convert');\n",
              "        buttonEl.style.display =\n",
              "          google.colab.kernel.accessAllowed ? 'block' : 'none';\n",
              "\n",
              "        async function convertToInteractive(key) {\n",
              "          const element = document.querySelector('#df-cf4535ce-1525-414c-9ca1-af6cf93cc3f2');\n",
              "          const dataTable =\n",
              "            await google.colab.kernel.invokeFunction('convertToInteractive',\n",
              "                                                     [key], {});\n",
              "          if (!dataTable) return;\n",
              "\n",
              "          const docLinkHtml = 'Like what you see? Visit the ' +\n",
              "            '<a target=\"_blank\" href=https://colab.research.google.com/notebooks/data_table.ipynb>data table notebook</a>'\n",
              "            + ' to learn more about interactive tables.';\n",
              "          element.innerHTML = '';\n",
              "          dataTable['output_type'] = 'display_data';\n",
              "          await google.colab.output.renderOutput(dataTable, element);\n",
              "          const docLink = document.createElement('div');\n",
              "          docLink.innerHTML = docLinkHtml;\n",
              "          element.appendChild(docLink);\n",
              "        }\n",
              "      </script>\n",
              "    </div>\n",
              "  </div>\n",
              "  "
            ]
          },
          "metadata": {},
          "execution_count": 28
        }
      ]
    },
    {
      "cell_type": "code",
      "source": [
        "data = train.append(val)\n",
        "data = data.append(test)\n",
        "data.shape"
      ],
      "metadata": {
        "colab": {
          "base_uri": "https://localhost:8080/"
        },
        "id": "Eb6Lk6fjyXTn",
        "outputId": "987dd10c-7f03-4f32-bd58-ab138ada7177"
      },
      "execution_count": null,
      "outputs": [
        {
          "output_type": "execute_result",
          "data": {
            "text/plain": [
              "(8765, 6)"
            ]
          },
          "metadata": {},
          "execution_count": 29
        }
      ]
    },
    {
      "cell_type": "markdown",
      "source": [
        "# Tf-Idf для кластеризации"
      ],
      "metadata": {
        "id": "faaTXtZCyetc"
      }
    },
    {
      "cell_type": "code",
      "source": [
        "from sklearn.feature_extraction.text import TfidfVectorizer\n",
        "vec = TfidfVectorizer(ngram_range=(1, 2))\n",
        "data_vec = vec.fit_transform(data['lemmas'])\n"
      ],
      "metadata": {
        "id": "Cn7eEUSzyj90"
      },
      "execution_count": null,
      "outputs": []
    },
    {
      "cell_type": "code",
      "source": [
        "data_vec.shape"
      ],
      "metadata": {
        "colab": {
          "base_uri": "https://localhost:8080/"
        },
        "id": "64eJDnoyEwRZ",
        "outputId": "6e55cbde-2731-4bd1-e169-7da8d89cc928"
      },
      "execution_count": null,
      "outputs": [
        {
          "output_type": "execute_result",
          "data": {
            "text/plain": [
              "(8765, 2385696)"
            ]
          },
          "metadata": {},
          "execution_count": 31
        }
      ]
    },
    {
      "cell_type": "markdown",
      "source": [
        "# Tf-Idf"
      ],
      "metadata": {
        "id": "5Of9qaVXNaqK"
      }
    },
    {
      "cell_type": "code",
      "source": [
        "from sklearn.feature_extraction.text import TfidfVectorizer"
      ],
      "metadata": {
        "id": "gkyapNbTNjyu"
      },
      "execution_count": null,
      "outputs": []
    },
    {
      "cell_type": "code",
      "source": [
        "vec = TfidfVectorizer(ngram_range=(1, 3))\n",
        "train_vec = vec.fit_transform(train['lemmas'])\n",
        "test_vec = vec.transform(test['lemmas'])\n",
        "val_vec = vec.transform(val['lemmas'])"
      ],
      "metadata": {
        "id": "cSlRkD8TNj1f"
      },
      "execution_count": null,
      "outputs": []
    },
    {
      "cell_type": "code",
      "source": [
        "y_train = train['label_enc']\n",
        "y_test = test['label_enc']\n",
        "y_val = val['label_enc']"
      ],
      "metadata": {
        "id": "VK0cY_CINj4X"
      },
      "execution_count": null,
      "outputs": []
    },
    {
      "cell_type": "markdown",
      "source": [
        "# Кластеризация"
      ],
      "metadata": {
        "id": "uGvVpMXxpSF9"
      }
    },
    {
      "cell_type": "markdown",
      "source": [
        "Метод к-средних - KMeans"
      ],
      "metadata": {
        "id": "-EWyxYsZph6t"
      }
    },
    {
      "cell_type": "code",
      "source": [
        "num_clusters = 5\n",
        "from sklearn.cluster import KMeans\n",
        "\n",
        "km = KMeans(n_clusters=num_clusters)\n",
        "idx = km.fit(data_vec)"
      ],
      "metadata": {
        "id": "9OoM3Z7ypRaJ"
      },
      "execution_count": null,
      "outputs": []
    },
    {
      "cell_type": "code",
      "source": [
        "clusterkm  = km.labels_.tolist()"
      ],
      "metadata": {
        "id": "FlCcst3DrDFJ"
      },
      "execution_count": null,
      "outputs": []
    },
    {
      "cell_type": "code",
      "source": [
        "clusterkm = km.labels_.tolist()\n",
        "out = { 'title': data['title'].tolist(), 'cluster': clusterkm, 'text': data['content'].tolist() }\n",
        "frame1 = pd.DataFrame(out, index = np.arange(len(clusterkm)), columns = ['title', 'cluster','text'])"
      ],
      "metadata": {
        "id": "tc17CFzyrUVy"
      },
      "execution_count": null,
      "outputs": []
    },
    {
      "cell_type": "code",
      "source": [
        "frame1['cluster'].value_counts()"
      ],
      "metadata": {
        "colab": {
          "base_uri": "https://localhost:8080/"
        },
        "id": "pcxNcRuVrlT0",
        "outputId": "df7a4dc1-45aa-461c-b14d-a6ce8686e1a2"
      },
      "execution_count": null,
      "outputs": [
        {
          "output_type": "execute_result",
          "data": {
            "text/plain": [
              "3    4739\n",
              "2    2030\n",
              "4     962\n",
              "1     596\n",
              "0     438\n",
              "Name: cluster, dtype: int64"
            ]
          },
          "metadata": {},
          "execution_count": 35
        }
      ]
    },
    {
      "cell_type": "markdown",
      "source": [
        "Применим PCA для возможности отобразить результату кластеризации"
      ],
      "metadata": {
        "id": "_xtyFAo4bGNc"
      }
    },
    {
      "cell_type": "code",
      "source": [
        "from sklearn.decomposition import TruncatedSVD\n",
        "pca = TruncatedSVD(n_components=2)"
      ],
      "metadata": {
        "id": "c3zcwIXNOk3s"
      },
      "execution_count": null,
      "outputs": []
    },
    {
      "cell_type": "code",
      "source": [
        "pca.fit(data_vec)"
      ],
      "metadata": {
        "colab": {
          "base_uri": "https://localhost:8080/",
          "height": 75
        },
        "id": "WLj9p69_ThAK",
        "outputId": "0fb636b5-5b2e-4e3e-c373-40f1f809ab0b"
      },
      "execution_count": null,
      "outputs": [
        {
          "output_type": "execute_result",
          "data": {
            "text/plain": [
              "TruncatedSVD()"
            ],
            "text/html": [
              "<style>#sk-container-id-1 {color: black;background-color: white;}#sk-container-id-1 pre{padding: 0;}#sk-container-id-1 div.sk-toggleable {background-color: white;}#sk-container-id-1 label.sk-toggleable__label {cursor: pointer;display: block;width: 100%;margin-bottom: 0;padding: 0.3em;box-sizing: border-box;text-align: center;}#sk-container-id-1 label.sk-toggleable__label-arrow:before {content: \"▸\";float: left;margin-right: 0.25em;color: #696969;}#sk-container-id-1 label.sk-toggleable__label-arrow:hover:before {color: black;}#sk-container-id-1 div.sk-estimator:hover label.sk-toggleable__label-arrow:before {color: black;}#sk-container-id-1 div.sk-toggleable__content {max-height: 0;max-width: 0;overflow: hidden;text-align: left;background-color: #f0f8ff;}#sk-container-id-1 div.sk-toggleable__content pre {margin: 0.2em;color: black;border-radius: 0.25em;background-color: #f0f8ff;}#sk-container-id-1 input.sk-toggleable__control:checked~div.sk-toggleable__content {max-height: 200px;max-width: 100%;overflow: auto;}#sk-container-id-1 input.sk-toggleable__control:checked~label.sk-toggleable__label-arrow:before {content: \"▾\";}#sk-container-id-1 div.sk-estimator input.sk-toggleable__control:checked~label.sk-toggleable__label {background-color: #d4ebff;}#sk-container-id-1 div.sk-label input.sk-toggleable__control:checked~label.sk-toggleable__label {background-color: #d4ebff;}#sk-container-id-1 input.sk-hidden--visually {border: 0;clip: rect(1px 1px 1px 1px);clip: rect(1px, 1px, 1px, 1px);height: 1px;margin: -1px;overflow: hidden;padding: 0;position: absolute;width: 1px;}#sk-container-id-1 div.sk-estimator {font-family: monospace;background-color: #f0f8ff;border: 1px dotted black;border-radius: 0.25em;box-sizing: border-box;margin-bottom: 0.5em;}#sk-container-id-1 div.sk-estimator:hover {background-color: #d4ebff;}#sk-container-id-1 div.sk-parallel-item::after {content: \"\";width: 100%;border-bottom: 1px solid gray;flex-grow: 1;}#sk-container-id-1 div.sk-label:hover label.sk-toggleable__label {background-color: #d4ebff;}#sk-container-id-1 div.sk-serial::before {content: \"\";position: absolute;border-left: 1px solid gray;box-sizing: border-box;top: 0;bottom: 0;left: 50%;z-index: 0;}#sk-container-id-1 div.sk-serial {display: flex;flex-direction: column;align-items: center;background-color: white;padding-right: 0.2em;padding-left: 0.2em;position: relative;}#sk-container-id-1 div.sk-item {position: relative;z-index: 1;}#sk-container-id-1 div.sk-parallel {display: flex;align-items: stretch;justify-content: center;background-color: white;position: relative;}#sk-container-id-1 div.sk-item::before, #sk-container-id-1 div.sk-parallel-item::before {content: \"\";position: absolute;border-left: 1px solid gray;box-sizing: border-box;top: 0;bottom: 0;left: 50%;z-index: -1;}#sk-container-id-1 div.sk-parallel-item {display: flex;flex-direction: column;z-index: 1;position: relative;background-color: white;}#sk-container-id-1 div.sk-parallel-item:first-child::after {align-self: flex-end;width: 50%;}#sk-container-id-1 div.sk-parallel-item:last-child::after {align-self: flex-start;width: 50%;}#sk-container-id-1 div.sk-parallel-item:only-child::after {width: 0;}#sk-container-id-1 div.sk-dashed-wrapped {border: 1px dashed gray;margin: 0 0.4em 0.5em 0.4em;box-sizing: border-box;padding-bottom: 0.4em;background-color: white;}#sk-container-id-1 div.sk-label label {font-family: monospace;font-weight: bold;display: inline-block;line-height: 1.2em;}#sk-container-id-1 div.sk-label-container {text-align: center;}#sk-container-id-1 div.sk-container {/* jupyter's `normalize.less` sets `[hidden] { display: none; }` but bootstrap.min.css set `[hidden] { display: none !important; }` so we also need the `!important` here to be able to override the default hidden behavior on the sphinx rendered scikit-learn.org. See: https://github.com/scikit-learn/scikit-learn/issues/21755 */display: inline-block !important;position: relative;}#sk-container-id-1 div.sk-text-repr-fallback {display: none;}</style><div id=\"sk-container-id-1\" class=\"sk-top-container\"><div class=\"sk-text-repr-fallback\"><pre>TruncatedSVD()</pre><b>In a Jupyter environment, please rerun this cell to show the HTML representation or trust the notebook. <br />On GitHub, the HTML representation is unable to render, please try loading this page with nbviewer.org.</b></div><div class=\"sk-container\" hidden><div class=\"sk-item\"><div class=\"sk-estimator sk-toggleable\"><input class=\"sk-toggleable__control sk-hidden--visually\" id=\"sk-estimator-id-1\" type=\"checkbox\" checked><label for=\"sk-estimator-id-1\" class=\"sk-toggleable__label sk-toggleable__label-arrow\">TruncatedSVD</label><div class=\"sk-toggleable__content\"><pre>TruncatedSVD()</pre></div></div></div></div></div>"
            ]
          },
          "metadata": {},
          "execution_count": 37
        }
      ]
    },
    {
      "cell_type": "code",
      "source": [
        "data_2  = pca.transform(data_vec)"
      ],
      "metadata": {
        "id": "CdG2JcAyOuGL"
      },
      "execution_count": null,
      "outputs": []
    },
    {
      "cell_type": "code",
      "source": [
        "#создаем data frame, который содержит координаты (из PCA) + номера кластеров и сами запросы\n",
        "df = pd.DataFrame(dict(x=data_2[:,0], y=data_2[:,1], label=clusterkm, title=data['title'].tolist())) \n",
        "#группируем по кластерам\n",
        "groups = df.groupby('label',sort=False)"
      ],
      "metadata": {
        "id": "fSUUpHY9Oxnc"
      },
      "execution_count": null,
      "outputs": []
    },
    {
      "cell_type": "code",
      "source": [
        "cluster_colors = {0: 'red',1: '#FFA812', 2: 'green',  3: 'magenta', 4: 'blue'}\n",
        "cluster_names = {0: 'Crime', 1: 'COVID-19', 2: 'Recommendations',  3: 'Culture', 4: 'Policy'}"
      ],
      "metadata": {
        "id": "IrvEN9OCO1pH"
      },
      "execution_count": null,
      "outputs": []
    },
    {
      "cell_type": "code",
      "source": [
        "fig, ax = plt.subplots(figsize=(12,8))\n",
        "for name, group in groups:\n",
        "    ax.plot(group.x, group.y, marker='o', linestyle='', ms=4, label=cluster_names[name], color=cluster_colors[name], mec='none')\n",
        "    ax.set_aspect('auto')\n",
        "    ax.tick_params(        axis= 'x',          \n",
        "        which='both',      \n",
        "        bottom='off',      \n",
        "        top='off',         \n",
        "        labelbottom='off')\n",
        "    ax.tick_params(        axis= 'y',         \n",
        "        which='both',     \n",
        "        left='off',      \n",
        "        top='off',       \n",
        "        labelleft='off')\n",
        "    \n",
        "ax.legend(numpoints=1)\n",
        "plt.show() "
      ],
      "metadata": {
        "colab": {
          "base_uri": "https://localhost:8080/",
          "height": 436
        },
        "id": "iDj2GqxY9RM7",
        "outputId": "363319ec-a011-4c21-8593-82459a168f1b"
      },
      "execution_count": null,
      "outputs": [
        {
          "output_type": "display_data",
          "data": {
            "text/plain": [
              "<Figure size 864x576 with 1 Axes>"
            ],
            "image/png": "[encoded data removed]"
          },
          "metadata": {
            "needs_background": "light"
          }
        }
      ]
    },
    {
      "cell_type": "code",
      "source": [
        "def alert(row):\n",
        "  if row['cluster'] == 0:\n",
        "    return 'Crime'\n",
        "  elif row['cluster'] == 1:\n",
        "    return 'COVID-19'\n",
        "  elif row['cluster'] == 2:\n",
        "    return 'Recommendations'\n",
        "  elif row['cluster'] == 3:\n",
        "    return 'Culture'\n",
        "  else:\n",
        "    return 'Policy'\n",
        "\n",
        "\n",
        "frame1['news_cluster'] = frame1.apply(alert, axis=1)"
      ],
      "metadata": {
        "id": "lgGhbqf60GsN"
      },
      "execution_count": null,
      "outputs": []
    },
    {
      "cell_type": "markdown",
      "source": [
        "Взглянем на распределение тем в новостях"
      ],
      "metadata": {
        "id": "oST4Yvy20xBI"
      }
    },
    {
      "cell_type": "code",
      "source": [
        "g = sns.catplot(x='news_cluster',\n",
        "                kind=\"count\",\n",
        "                data=frame1, height = 4, aspect = 2,)\n",
        "plt.grid(which='both')\n",
        "plt.title(\"Splitting by topic\");"
      ],
      "metadata": {
        "colab": {
          "base_uri": "https://localhost:8080/",
          "height": 313
        },
        "id": "9jxj5uNc-gDH",
        "outputId": "7340cb85-1202-4c80-ef28-a8c45bd612ef"
      },
      "execution_count": null,
      "outputs": [
        {
          "output_type": "display_data",
          "data": {
            "text/plain": [
              "<Figure size 576x288 with 1 Axes>"
            ],
            "image/png": "[encoded data removed]"
          },
          "metadata": {
            "needs_background": "light"
          }
        }
      ]
    },
    {
      "cell_type": "markdown",
      "source": [
        "# Классификация"
      ],
      "metadata": {
        "id": "Dq5EV9kqXGcg"
      }
    },
    {
      "cell_type": "markdown",
      "source": [
        "## Baseline"
      ],
      "metadata": {
        "id": "uh-n-5PCS-cM"
      }
    },
    {
      "cell_type": "code",
      "source": [
        "from sklearn.svm import LinearSVC\n",
        "clf_1 = LinearSVC()\n",
        "clf_1.fit(train_vec, y_train)"
      ],
      "metadata": {
        "id": "602tV02LTFii",
        "colab": {
          "base_uri": "https://localhost:8080/",
          "height": 75
        },
        "outputId": "3c13e624-f87c-4aad-8f37-11cddb14b3a0"
      },
      "execution_count": null,
      "outputs": [
        {
          "output_type": "execute_result",
          "data": {
            "text/plain": [
              "LinearSVC()"
            ],
            "text/html": [
              "<style>#sk-container-id-2 {color: black;background-color: white;}#sk-container-id-2 pre{padding: 0;}#sk-container-id-2 div.sk-toggleable {background-color: white;}#sk-container-id-2 label.sk-toggleable__label {cursor: pointer;display: block;width: 100%;margin-bottom: 0;padding: 0.3em;box-sizing: border-box;text-align: center;}#sk-container-id-2 label.sk-toggleable__label-arrow:before {content: \"▸\";float: left;margin-right: 0.25em;color: #696969;}#sk-container-id-2 label.sk-toggleable__label-arrow:hover:before {color: black;}#sk-container-id-2 div.sk-estimator:hover label.sk-toggleable__label-arrow:before {color: black;}#sk-container-id-2 div.sk-toggleable__content {max-height: 0;max-width: 0;overflow: hidden;text-align: left;background-color: #f0f8ff;}#sk-container-id-2 div.sk-toggleable__content pre {margin: 0.2em;color: black;border-radius: 0.25em;background-color: #f0f8ff;}#sk-container-id-2 input.sk-toggleable__control:checked~div.sk-toggleable__content {max-height: 200px;max-width: 100%;overflow: auto;}#sk-container-id-2 input.sk-toggleable__control:checked~label.sk-toggleable__label-arrow:before {content: \"▾\";}#sk-container-id-2 div.sk-estimator input.sk-toggleable__control:checked~label.sk-toggleable__label {background-color: #d4ebff;}#sk-container-id-2 div.sk-label input.sk-toggleable__control:checked~label.sk-toggleable__label {background-color: #d4ebff;}#sk-container-id-2 input.sk-hidden--visually {border: 0;clip: rect(1px 1px 1px 1px);clip: rect(1px, 1px, 1px, 1px);height: 1px;margin: -1px;overflow: hidden;padding: 0;position: absolute;width: 1px;}#sk-container-id-2 div.sk-estimator {font-family: monospace;background-color: #f0f8ff;border: 1px dotted black;border-radius: 0.25em;box-sizing: border-box;margin-bottom: 0.5em;}#sk-container-id-2 div.sk-estimator:hover {background-color: #d4ebff;}#sk-container-id-2 div.sk-parallel-item::after {content: \"\";width: 100%;border-bottom: 1px solid gray;flex-grow: 1;}#sk-container-id-2 div.sk-label:hover label.sk-toggleable__label {background-color: #d4ebff;}#sk-container-id-2 div.sk-serial::before {content: \"\";position: absolute;border-left: 1px solid gray;box-sizing: border-box;top: 0;bottom: 0;left: 50%;z-index: 0;}#sk-container-id-2 div.sk-serial {display: flex;flex-direction: column;align-items: center;background-color: white;padding-right: 0.2em;padding-left: 0.2em;position: relative;}#sk-container-id-2 div.sk-item {position: relative;z-index: 1;}#sk-container-id-2 div.sk-parallel {display: flex;align-items: stretch;justify-content: center;background-color: white;position: relative;}#sk-container-id-2 div.sk-item::before, #sk-container-id-2 div.sk-parallel-item::before {content: \"\";position: absolute;border-left: 1px solid gray;box-sizing: border-box;top: 0;bottom: 0;left: 50%;z-index: -1;}#sk-container-id-2 div.sk-parallel-item {display: flex;flex-direction: column;z-index: 1;position: relative;background-color: white;}#sk-container-id-2 div.sk-parallel-item:first-child::after {align-self: flex-end;width: 50%;}#sk-container-id-2 div.sk-parallel-item:last-child::after {align-self: flex-start;width: 50%;}#sk-container-id-2 div.sk-parallel-item:only-child::after {width: 0;}#sk-container-id-2 div.sk-dashed-wrapped {border: 1px dashed gray;margin: 0 0.4em 0.5em 0.4em;box-sizing: border-box;padding-bottom: 0.4em;background-color: white;}#sk-container-id-2 div.sk-label label {font-family: monospace;font-weight: bold;display: inline-block;line-height: 1.2em;}#sk-container-id-2 div.sk-label-container {text-align: center;}#sk-container-id-2 div.sk-container {/* jupyter's `normalize.less` sets `[hidden] { display: none; }` but bootstrap.min.css set `[hidden] { display: none !important; }` so we also need the `!important` here to be able to override the default hidden behavior on the sphinx rendered scikit-learn.org. See: https://github.com/scikit-learn/scikit-learn/issues/21755 */display: inline-block !important;position: relative;}#sk-container-id-2 div.sk-text-repr-fallback {display: none;}</style><div id=\"sk-container-id-2\" class=\"sk-top-container\"><div class=\"sk-text-repr-fallback\"><pre>LinearSVC()</pre><b>In a Jupyter environment, please rerun this cell to show the HTML representation or trust the notebook. <br />On GitHub, the HTML representation is unable to render, please try loading this page with nbviewer.org.</b></div><div class=\"sk-container\" hidden><div class=\"sk-item\"><div class=\"sk-estimator sk-toggleable\"><input class=\"sk-toggleable__control sk-hidden--visually\" id=\"sk-estimator-id-2\" type=\"checkbox\" checked><label for=\"sk-estimator-id-2\" class=\"sk-toggleable__label sk-toggleable__label-arrow\">LinearSVC</label><div class=\"sk-toggleable__content\"><pre>LinearSVC()</pre></div></div></div></div></div>"
            ]
          },
          "metadata": {},
          "execution_count": 52
        }
      ]
    },
    {
      "cell_type": "code",
      "source": [
        "scores_F1 ={}\n",
        "scores_MAE ={}\n",
        "scores_Accuracy = {}"
      ],
      "metadata": {
        "id": "vmmEeFAsTlAH"
      },
      "execution_count": null,
      "outputs": []
    },
    {
      "cell_type": "code",
      "source": [
        "import tensorflow as tf\n",
        "\n",
        "y_pred = clf_1.predict(test_vec)\n",
        "test_y = tf.keras.utils.to_categorical(\n",
        "    test['label_enc'], num_classes=3)\n",
        "y_proba_cb = clf_1._predict_proba_lr(test_vec)"
      ],
      "metadata": {
        "id": "7ADMc1mOTqLO"
      },
      "execution_count": null,
      "outputs": []
    },
    {
      "cell_type": "code",
      "source": [
        "from sklearn.metrics import f1_score ,mean_absolute_error, accuracy_score\n",
        "\n",
        "print('F1:',f1_score(y_pred, y_test, average='macro'))\n",
        "scores_F1['Baseline'] = f1_score(y_pred, y_test, average='macro')\n",
        "print('Accuracy:',accuracy_score(y_pred, y_test))\n",
        "scores_Accuracy['Baseline'] = accuracy_score(y_pred, y_test)\n",
        "print('MAE:',mean_absolute_error(y_proba_cb, test_y))\n",
        "scores_MAE['Baseline'] = mean_absolute_error(y_proba_cb,test_y)"
      ],
      "metadata": {
        "id": "NBbpjzL4TtY5",
        "colab": {
          "base_uri": "https://localhost:8080/"
        },
        "outputId": "5461f2ab-0786-4f75-dc17-939ea8c9f3d3"
      },
      "execution_count": null,
      "outputs": [
        {
          "output_type": "stream",
          "name": "stdout",
          "text": [
            "F1: 0.665101191370682\n",
            "Accuracy: 0.6674528301886793\n",
            "MAE: 0.39469228196036793\n"
          ]
        }
      ]
    },
    {
      "cell_type": "markdown",
      "source": [
        "## LightGBM"
      ],
      "metadata": {
        "id": "LMv7IiMVOKEP"
      }
    },
    {
      "cell_type": "code",
      "source": [
        "import lightgbm as lgb\n",
        "clf = lgb.LGBMClassifier()"
      ],
      "metadata": {
        "id": "jlPouxfINj62"
      },
      "execution_count": null,
      "outputs": []
    },
    {
      "cell_type": "code",
      "source": [
        "clf.fit(train_vec, y_train)"
      ],
      "metadata": {
        "colab": {
          "base_uri": "https://localhost:8080/",
          "height": 75
        },
        "id": "rof6AfNaNj9O",
        "outputId": "2e9fef9b-490a-4b71-fce9-31bb8c065272"
      },
      "execution_count": null,
      "outputs": [
        {
          "output_type": "execute_result",
          "data": {
            "text/plain": [
              "LGBMClassifier()"
            ],
            "text/html": [
              "<style>#sk-container-id-3 {color: black;background-color: white;}#sk-container-id-3 pre{padding: 0;}#sk-container-id-3 div.sk-toggleable {background-color: white;}#sk-container-id-3 label.sk-toggleable__label {cursor: pointer;display: block;width: 100%;margin-bottom: 0;padding: 0.3em;box-sizing: border-box;text-align: center;}#sk-container-id-3 label.sk-toggleable__label-arrow:before {content: \"▸\";float: left;margin-right: 0.25em;color: #696969;}#sk-container-id-3 label.sk-toggleable__label-arrow:hover:before {color: black;}#sk-container-id-3 div.sk-estimator:hover label.sk-toggleable__label-arrow:before {color: black;}#sk-container-id-3 div.sk-toggleable__content {max-height: 0;max-width: 0;overflow: hidden;text-align: left;background-color: #f0f8ff;}#sk-container-id-3 div.sk-toggleable__content pre {margin: 0.2em;color: black;border-radius: 0.25em;background-color: #f0f8ff;}#sk-container-id-3 input.sk-toggleable__control:checked~div.sk-toggleable__content {max-height: 200px;max-width: 100%;overflow: auto;}#sk-container-id-3 input.sk-toggleable__control:checked~label.sk-toggleable__label-arrow:before {content: \"▾\";}#sk-container-id-3 div.sk-estimator input.sk-toggleable__control:checked~label.sk-toggleable__label {background-color: #d4ebff;}#sk-container-id-3 div.sk-label input.sk-toggleable__control:checked~label.sk-toggleable__label {background-color: #d4ebff;}#sk-container-id-3 input.sk-hidden--visually {border: 0;clip: rect(1px 1px 1px 1px);clip: rect(1px, 1px, 1px, 1px);height: 1px;margin: -1px;overflow: hidden;padding: 0;position: absolute;width: 1px;}#sk-container-id-3 div.sk-estimator {font-family: monospace;background-color: #f0f8ff;border: 1px dotted black;border-radius: 0.25em;box-sizing: border-box;margin-bottom: 0.5em;}#sk-container-id-3 div.sk-estimator:hover {background-color: #d4ebff;}#sk-container-id-3 div.sk-parallel-item::after {content: \"\";width: 100%;border-bottom: 1px solid gray;flex-grow: 1;}#sk-container-id-3 div.sk-label:hover label.sk-toggleable__label {background-color: #d4ebff;}#sk-container-id-3 div.sk-serial::before {content: \"\";position: absolute;border-left: 1px solid gray;box-sizing: border-box;top: 0;bottom: 0;left: 50%;z-index: 0;}#sk-container-id-3 div.sk-serial {display: flex;flex-direction: column;align-items: center;background-color: white;padding-right: 0.2em;padding-left: 0.2em;position: relative;}#sk-container-id-3 div.sk-item {position: relative;z-index: 1;}#sk-container-id-3 div.sk-parallel {display: flex;align-items: stretch;justify-content: center;background-color: white;position: relative;}#sk-container-id-3 div.sk-item::before, #sk-container-id-3 div.sk-parallel-item::before {content: \"\";position: absolute;border-left: 1px solid gray;box-sizing: border-box;top: 0;bottom: 0;left: 50%;z-index: -1;}#sk-container-id-3 div.sk-parallel-item {display: flex;flex-direction: column;z-index: 1;position: relative;background-color: white;}#sk-container-id-3 div.sk-parallel-item:first-child::after {align-self: flex-end;width: 50%;}#sk-container-id-3 div.sk-parallel-item:last-child::after {align-self: flex-start;width: 50%;}#sk-container-id-3 div.sk-parallel-item:only-child::after {width: 0;}#sk-container-id-3 div.sk-dashed-wrapped {border: 1px dashed gray;margin: 0 0.4em 0.5em 0.4em;box-sizing: border-box;padding-bottom: 0.4em;background-color: white;}#sk-container-id-3 div.sk-label label {font-family: monospace;font-weight: bold;display: inline-block;line-height: 1.2em;}#sk-container-id-3 div.sk-label-container {text-align: center;}#sk-container-id-3 div.sk-container {/* jupyter's `normalize.less` sets `[hidden] { display: none; }` but bootstrap.min.css set `[hidden] { display: none !important; }` so we also need the `!important` here to be able to override the default hidden behavior on the sphinx rendered scikit-learn.org. See: https://github.com/scikit-learn/scikit-learn/issues/21755 */display: inline-block !important;position: relative;}#sk-container-id-3 div.sk-text-repr-fallback {display: none;}</style><div id=\"sk-container-id-3\" class=\"sk-top-container\"><div class=\"sk-text-repr-fallback\"><pre>LGBMClassifier()</pre><b>In a Jupyter environment, please rerun this cell to show the HTML representation or trust the notebook. <br />On GitHub, the HTML representation is unable to render, please try loading this page with nbviewer.org.</b></div><div class=\"sk-container\" hidden><div class=\"sk-item\"><div class=\"sk-estimator sk-toggleable\"><input class=\"sk-toggleable__control sk-hidden--visually\" id=\"sk-estimator-id-3\" type=\"checkbox\" checked><label for=\"sk-estimator-id-3\" class=\"sk-toggleable__label sk-toggleable__label-arrow\">LGBMClassifier</label><div class=\"sk-toggleable__content\"><pre>LGBMClassifier()</pre></div></div></div></div></div>"
            ]
          },
          "metadata": {},
          "execution_count": 57
        }
      ]
    },
    {
      "cell_type": "code",
      "source": [
        "import tensorflow as tf\n",
        "\n",
        "y_pred = clf.predict(test_vec)\n",
        "test_y = tf.keras.utils.to_categorical(\n",
        "    test['label_enc'], num_classes=3)\n",
        "y_proba_cb = clf.predict_proba(test_vec)"
      ],
      "metadata": {
        "id": "F3Jt-QDgNw6N"
      },
      "execution_count": null,
      "outputs": []
    },
    {
      "cell_type": "code",
      "source": [
        "from sklearn.metrics import f1_score ,mean_absolute_error, accuracy_score\n",
        "\n",
        "print('F1:',f1_score(y_pred, y_test, average='macro'))\n",
        "scores_F1['LightGBM'] = f1_score(y_pred, y_test, average='macro')\n",
        "print('Accuracy:',accuracy_score(y_pred, y_test))\n",
        "scores_Accuracy['LightGBM'] = accuracy_score(y_pred, y_test)\n",
        "print('MAE:',mean_absolute_error(y_proba_cb, test_y))\n",
        "scores_MAE['LightGBM'] = mean_absolute_error(y_proba_cb,test_y)"
      ],
      "metadata": {
        "colab": {
          "base_uri": "https://localhost:8080/"
        },
        "id": "rlySMRPQNw8o",
        "outputId": "7557f8ae-a556-4257-85cf-4efeae161a06"
      },
      "execution_count": null,
      "outputs": [
        {
          "output_type": "stream",
          "name": "stdout",
          "text": [
            "F1: 0.6100847746134974\n",
            "Accuracy: 0.6155660377358491\n",
            "MAE: 0.3117394867162399\n"
          ]
        }
      ]
    },
    {
      "cell_type": "markdown",
      "source": [
        "## BERT"
      ],
      "metadata": {
        "id": "MVVtJtrvPuO4"
      }
    },
    {
      "cell_type": "code",
      "source": [
        "train.loc[train[\"lemmas\"] == \"\", \"lemmas\"] = np.nan\n",
        "test.loc[test[\"lemmas\"] == \"\", \"lemmas\"] = np.nan\n",
        "val.loc[val[\"lemmas\"] == \"\", \"lemmas\"] = np.nan"
      ],
      "metadata": {
        "id": "40dEeO6FcjCN"
      },
      "execution_count": null,
      "outputs": []
    },
    {
      "cell_type": "code",
      "source": [
        "train.info()"
      ],
      "metadata": {
        "colab": {
          "base_uri": "https://localhost:8080/"
        },
        "id": "fhJk-nWOdk1k",
        "outputId": "da16020b-3b04-4cc3-853c-8b67fbff6090"
      },
      "execution_count": null,
      "outputs": [
        {
          "output_type": "stream",
          "name": "stdout",
          "text": [
            "<class 'pandas.core.frame.DataFrame'>\n",
            "Int64Index: 7043 entries, 0 to 7331\n",
            "Data columns (total 6 columns):\n",
            " #   Column     Non-Null Count  Dtype \n",
            "---  ------     --------------  ----- \n",
            " 0   title      7043 non-null   object\n",
            " 1   content    7043 non-null   object\n",
            " 2   label      7043 non-null   object\n",
            " 3   all_text   7043 non-null   object\n",
            " 4   lemmas     7029 non-null   object\n",
            " 5   label_enc  7043 non-null   int64 \n",
            "dtypes: int64(1), object(5)\n",
            "memory usage: 385.2+ KB\n"
          ]
        }
      ]
    },
    {
      "cell_type": "code",
      "source": [
        "train = train.dropna()\n",
        "val = val.dropna()\n",
        "test = test.dropna()"
      ],
      "metadata": {
        "id": "QXMyLDrbBpfp"
      },
      "execution_count": null,
      "outputs": []
    },
    {
      "cell_type": "code",
      "source": [
        "train.info()"
      ],
      "metadata": {
        "colab": {
          "base_uri": "https://localhost:8080/"
        },
        "id": "4Xslj0cFBrbu",
        "outputId": "306cb8c5-7908-4677-9abf-839dc4865d3a"
      },
      "execution_count": null,
      "outputs": [
        {
          "output_type": "stream",
          "name": "stdout",
          "text": [
            "<class 'pandas.core.frame.DataFrame'>\n",
            "Int64Index: 7029 entries, 0 to 7331\n",
            "Data columns (total 6 columns):\n",
            " #   Column     Non-Null Count  Dtype \n",
            "---  ------     --------------  ----- \n",
            " 0   title      7029 non-null   object\n",
            " 1   content    7029 non-null   object\n",
            " 2   label      7029 non-null   object\n",
            " 3   all_text   7029 non-null   object\n",
            " 4   lemmas     7029 non-null   object\n",
            " 5   label_enc  7029 non-null   int64 \n",
            "dtypes: int64(1), object(5)\n",
            "memory usage: 384.4+ KB\n"
          ]
        }
      ]
    },
    {
      "cell_type": "code",
      "source": [
        "y_train = train['label_enc']\n",
        "y_test = test['label_enc']\n",
        "y_val = val['label_enc']"
      ],
      "metadata": {
        "id": "zg5t-s-de-rx"
      },
      "execution_count": null,
      "outputs": []
    },
    {
      "cell_type": "code",
      "source": [
        "!pip install tensorflow_hub\n",
        "!pip install tensorflow_text"
      ],
      "metadata": {
        "colab": {
          "base_uri": "https://localhost:8080/"
        },
        "id": "8wQXOplom7xh",
        "outputId": "a4129e21-b784-459b-ed8c-ad75166fee6c"
      },
      "execution_count": null,
      "outputs": [
        {
          "output_type": "stream",
          "name": "stdout",
          "text": [
            "Looking in indexes: https://pypi.org/simple, https://us-python.pkg.dev/colab-wheels/public/simple/\n",
            "Requirement already satisfied: tensorflow_hub in /usr/local/lib/python3.9/dist-packages (0.13.0)\n",
            "Requirement already satisfied: protobuf>=3.19.6 in /usr/local/lib/python3.9/dist-packages (from tensorflow_hub) (3.19.6)\n",
            "Requirement already satisfied: numpy>=1.12.0 in /usr/local/lib/python3.9/dist-packages (from tensorflow_hub) (1.22.4)\n",
            "Looking in indexes: https://pypi.org/simple, https://us-python.pkg.dev/colab-wheels/public/simple/\n",
            "Collecting tensorflow_text\n",
            "  Downloading tensorflow_text-2.11.0-cp39-cp39-manylinux_2_17_x86_64.manylinux2014_x86_64.whl (5.8 MB)\n",
            "\u001b[2K     \u001b[90m━━━━━━━━━━━━━━━━━━━━━━━━━━━━━━━━━━━━━━━━\u001b[0m \u001b[32m5.8/5.8 MB\u001b[0m \u001b[31m61.0 MB/s\u001b[0m eta \u001b[36m0:00:00\u001b[0m\n",
            "\u001b[?25hRequirement already satisfied: tensorflow<2.12,>=2.11.0 in /usr/local/lib/python3.9/dist-packages (from tensorflow_text) (2.11.0)\n",
            "Requirement already satisfied: tensorflow-hub>=0.8.0 in /usr/local/lib/python3.9/dist-packages (from tensorflow_text) (0.13.0)\n",
            "Requirement already satisfied: setuptools in /usr/local/lib/python3.9/dist-packages (from tensorflow<2.12,>=2.11.0->tensorflow_text) (63.4.3)\n",
            "Requirement already satisfied: termcolor>=1.1.0 in /usr/local/lib/python3.9/dist-packages (from tensorflow<2.12,>=2.11.0->tensorflow_text) (2.2.0)\n",
            "Requirement already satisfied: keras<2.12,>=2.11.0 in /usr/local/lib/python3.9/dist-packages (from tensorflow<2.12,>=2.11.0->tensorflow_text) (2.11.0)\n",
            "Requirement already satisfied: tensorflow-estimator<2.12,>=2.11.0 in /usr/local/lib/python3.9/dist-packages (from tensorflow<2.12,>=2.11.0->tensorflow_text) (2.11.0)\n",
            "Requirement already satisfied: tensorboard<2.12,>=2.11 in /usr/local/lib/python3.9/dist-packages (from tensorflow<2.12,>=2.11.0->tensorflow_text) (2.11.2)\n",
            "Requirement already satisfied: astunparse>=1.6.0 in /usr/local/lib/python3.9/dist-packages (from tensorflow<2.12,>=2.11.0->tensorflow_text) (1.6.3)\n",
            "Requirement already satisfied: packaging in /usr/local/lib/python3.9/dist-packages (from tensorflow<2.12,>=2.11.0->tensorflow_text) (23.0)\n",
            "Requirement already satisfied: typing-extensions>=3.6.6 in /usr/local/lib/python3.9/dist-packages (from tensorflow<2.12,>=2.11.0->tensorflow_text) (4.5.0)\n",
            "Requirement already satisfied: flatbuffers>=2.0 in /usr/local/lib/python3.9/dist-packages (from tensorflow<2.12,>=2.11.0->tensorflow_text) (23.3.3)\n",
            "Requirement already satisfied: absl-py>=1.0.0 in /usr/local/lib/python3.9/dist-packages (from tensorflow<2.12,>=2.11.0->tensorflow_text) (1.4.0)\n",
            "Requirement already satisfied: opt-einsum>=2.3.2 in /usr/local/lib/python3.9/dist-packages (from tensorflow<2.12,>=2.11.0->tensorflow_text) (3.3.0)\n",
            "Requirement already satisfied: six>=1.12.0 in /usr/local/lib/python3.9/dist-packages (from tensorflow<2.12,>=2.11.0->tensorflow_text) (1.15.0)\n",
            "Requirement already satisfied: google-pasta>=0.1.1 in /usr/local/lib/python3.9/dist-packages (from tensorflow<2.12,>=2.11.0->tensorflow_text) (0.2.0)\n",
            "Requirement already satisfied: libclang>=13.0.0 in /usr/local/lib/python3.9/dist-packages (from tensorflow<2.12,>=2.11.0->tensorflow_text) (15.0.6.1)\n",
            "Requirement already satisfied: numpy>=1.20 in /usr/local/lib/python3.9/dist-packages (from tensorflow<2.12,>=2.11.0->tensorflow_text) (1.22.4)\n",
            "Requirement already satisfied: protobuf<3.20,>=3.9.2 in /usr/local/lib/python3.9/dist-packages (from tensorflow<2.12,>=2.11.0->tensorflow_text) (3.19.6)\n",
            "Requirement already satisfied: tensorflow-io-gcs-filesystem>=0.23.1 in /usr/local/lib/python3.9/dist-packages (from tensorflow<2.12,>=2.11.0->tensorflow_text) (0.31.0)\n",
            "Requirement already satisfied: grpcio<2.0,>=1.24.3 in /usr/local/lib/python3.9/dist-packages (from tensorflow<2.12,>=2.11.0->tensorflow_text) (1.51.3)\n",
            "Requirement already satisfied: wrapt>=1.11.0 in /usr/local/lib/python3.9/dist-packages (from tensorflow<2.12,>=2.11.0->tensorflow_text) (1.15.0)\n",
            "Requirement already satisfied: h5py>=2.9.0 in /usr/local/lib/python3.9/dist-packages (from tensorflow<2.12,>=2.11.0->tensorflow_text) (3.8.0)\n",
            "Requirement already satisfied: gast<=0.4.0,>=0.2.1 in /usr/local/lib/python3.9/dist-packages (from tensorflow<2.12,>=2.11.0->tensorflow_text) (0.4.0)\n",
            "Requirement already satisfied: wheel<1.0,>=0.23.0 in /usr/local/lib/python3.9/dist-packages (from astunparse>=1.6.0->tensorflow<2.12,>=2.11.0->tensorflow_text) (0.40.0)\n",
            "Requirement already satisfied: requests<3,>=2.21.0 in /usr/local/lib/python3.9/dist-packages (from tensorboard<2.12,>=2.11->tensorflow<2.12,>=2.11.0->tensorflow_text) (2.27.1)\n",
            "Requirement already satisfied: markdown>=2.6.8 in /usr/local/lib/python3.9/dist-packages (from tensorboard<2.12,>=2.11->tensorflow<2.12,>=2.11.0->tensorflow_text) (3.4.1)\n",
            "Requirement already satisfied: tensorboard-plugin-wit>=1.6.0 in /usr/local/lib/python3.9/dist-packages (from tensorboard<2.12,>=2.11->tensorflow<2.12,>=2.11.0->tensorflow_text) (1.8.1)\n",
            "Requirement already satisfied: google-auth<3,>=1.6.3 in /usr/local/lib/python3.9/dist-packages (from tensorboard<2.12,>=2.11->tensorflow<2.12,>=2.11.0->tensorflow_text) (2.16.2)\n",
            "Requirement already satisfied: tensorboard-data-server<0.7.0,>=0.6.0 in /usr/local/lib/python3.9/dist-packages (from tensorboard<2.12,>=2.11->tensorflow<2.12,>=2.11.0->tensorflow_text) (0.6.1)\n",
            "Requirement already satisfied: werkzeug>=1.0.1 in /usr/local/lib/python3.9/dist-packages (from tensorboard<2.12,>=2.11->tensorflow<2.12,>=2.11.0->tensorflow_text) (2.2.3)\n",
            "Requirement already satisfied: google-auth-oauthlib<0.5,>=0.4.1 in /usr/local/lib/python3.9/dist-packages (from tensorboard<2.12,>=2.11->tensorflow<2.12,>=2.11.0->tensorflow_text) (0.4.6)\n",
            "Requirement already satisfied: rsa<5,>=3.1.4 in /usr/local/lib/python3.9/dist-packages (from google-auth<3,>=1.6.3->tensorboard<2.12,>=2.11->tensorflow<2.12,>=2.11.0->tensorflow_text) (4.9)\n",
            "Requirement already satisfied: cachetools<6.0,>=2.0.0 in /usr/local/lib/python3.9/dist-packages (from google-auth<3,>=1.6.3->tensorboard<2.12,>=2.11->tensorflow<2.12,>=2.11.0->tensorflow_text) (5.3.0)\n",
            "Requirement already satisfied: pyasn1-modules>=0.2.1 in /usr/local/lib/python3.9/dist-packages (from google-auth<3,>=1.6.3->tensorboard<2.12,>=2.11->tensorflow<2.12,>=2.11.0->tensorflow_text) (0.2.8)\n",
            "Requirement already satisfied: requests-oauthlib>=0.7.0 in /usr/local/lib/python3.9/dist-packages (from google-auth-oauthlib<0.5,>=0.4.1->tensorboard<2.12,>=2.11->tensorflow<2.12,>=2.11.0->tensorflow_text) (1.3.1)\n",
            "Requirement already satisfied: importlib-metadata>=4.4 in /usr/local/lib/python3.9/dist-packages (from markdown>=2.6.8->tensorboard<2.12,>=2.11->tensorflow<2.12,>=2.11.0->tensorflow_text) (6.0.0)\n",
            "Requirement already satisfied: charset-normalizer~=2.0.0 in /usr/local/lib/python3.9/dist-packages (from requests<3,>=2.21.0->tensorboard<2.12,>=2.11->tensorflow<2.12,>=2.11.0->tensorflow_text) (2.0.12)\n",
            "Requirement already satisfied: idna<4,>=2.5 in /usr/local/lib/python3.9/dist-packages (from requests<3,>=2.21.0->tensorboard<2.12,>=2.11->tensorflow<2.12,>=2.11.0->tensorflow_text) (3.4)\n",
            "Requirement already satisfied: certifi>=2017.4.17 in /usr/local/lib/python3.9/dist-packages (from requests<3,>=2.21.0->tensorboard<2.12,>=2.11->tensorflow<2.12,>=2.11.0->tensorflow_text) (2022.12.7)\n",
            "Requirement already satisfied: urllib3<1.27,>=1.21.1 in /usr/local/lib/python3.9/dist-packages (from requests<3,>=2.21.0->tensorboard<2.12,>=2.11->tensorflow<2.12,>=2.11.0->tensorflow_text) (1.26.15)\n",
            "Requirement already satisfied: MarkupSafe>=2.1.1 in /usr/local/lib/python3.9/dist-packages (from werkzeug>=1.0.1->tensorboard<2.12,>=2.11->tensorflow<2.12,>=2.11.0->tensorflow_text) (2.1.2)\n",
            "Requirement already satisfied: zipp>=0.5 in /usr/local/lib/python3.9/dist-packages (from importlib-metadata>=4.4->markdown>=2.6.8->tensorboard<2.12,>=2.11->tensorflow<2.12,>=2.11.0->tensorflow_text) (3.15.0)\n",
            "Requirement already satisfied: pyasn1<0.5.0,>=0.4.6 in /usr/local/lib/python3.9/dist-packages (from pyasn1-modules>=0.2.1->google-auth<3,>=1.6.3->tensorboard<2.12,>=2.11->tensorflow<2.12,>=2.11.0->tensorflow_text) (0.4.8)\n",
            "Requirement already satisfied: oauthlib>=3.0.0 in /usr/local/lib/python3.9/dist-packages (from requests-oauthlib>=0.7.0->google-auth-oauthlib<0.5,>=0.4.1->tensorboard<2.12,>=2.11->tensorflow<2.12,>=2.11.0->tensorflow_text) (3.2.2)\n",
            "Installing collected packages: tensorflow_text\n",
            "Successfully installed tensorflow_text-2.11.0\n"
          ]
        }
      ]
    },
    {
      "cell_type": "code",
      "source": [
        "import tensorflow as tf\n",
        "import tensorflow_hub as hub\n",
        "import tensorflow_text as text\n",
        "from tensorflow.keras.optimizers.legacy import Adam"
      ],
      "metadata": {
        "id": "bsrlzHV5nLxJ"
      },
      "execution_count": null,
      "outputs": []
    },
    {
      "cell_type": "code",
      "source": [
        "def build_classifier_model():\n",
        "    \n",
        "    text_input = tf.keras.layers.Input(shape=(), dtype=tf.string, name='text')\n",
        "    \n",
        "    preprocessing_layer = hub.KerasLayer(\n",
        "        tfhub_handle_preprocess, name='preprocessing')\n",
        "    \n",
        "    encoder_inputs = preprocessing_layer(text_input)\n",
        "    encoder = hub.KerasLayer(\n",
        "        tfhub_handle_encoder, trainable=True, name='BERT_encoder')\n",
        "    \n",
        "    outputs = encoder(encoder_inputs)\n",
        "    net = outputs['pooled_output']\n",
        "    net = tf.keras.layers.Dropout(0.1)(net)\n",
        "    net = tf.keras.layers.Dense(\n",
        "        3, activation='softmax', name='classifier')(net)\n",
        "    model = tf.keras.Model(text_input, net)\n",
        "    \n",
        "    loss = tf.keras.losses.SquaredHinge(name='squared_hinge')\n",
        "    metric = tf.metrics.CategoricalAccuracy('accuracy')\n",
        "    optimizer = Adam(\n",
        "        learning_rate=4e-05, epsilon=1e-08, decay=0.01, clipnorm=1.0)\n",
        "    model.compile(\n",
        "        optimizer=optimizer, loss=loss, metrics=metric)\n",
        "    model.summary()\n",
        "    return model"
      ],
      "metadata": {
        "id": "wAqgjDERfLWR"
      },
      "execution_count": null,
      "outputs": []
    },
    {
      "cell_type": "code",
      "source": [
        "tfhub_handle_encoder = \\\n",
        "    \"https://tfhub.dev/tensorflow/small_bert/bert_en_uncased_L-4_H-512_A-8/1\"\n",
        "tfhub_handle_preprocess = \\\n",
        "    \"https://tfhub.dev/tensorflow/bert_en_uncased_preprocess/3\""
      ],
      "metadata": {
        "id": "fqW44Tn7nXV5"
      },
      "execution_count": null,
      "outputs": []
    },
    {
      "cell_type": "code",
      "source": [
        "classifier_model = build_classifier_model()"
      ],
      "metadata": {
        "colab": {
          "base_uri": "https://localhost:8080/"
        },
        "id": "NMuAt_2cjUS5",
        "outputId": "c780b37f-c20a-4fa2-d279-f60baf474d13"
      },
      "execution_count": null,
      "outputs": [
        {
          "output_type": "stream",
          "name": "stderr",
          "text": [
            "WARNING:tensorflow:From /usr/local/lib/python3.9/dist-packages/tensorflow/python/autograph/pyct/static_analysis/liveness.py:83: Analyzer.lamba_check (from tensorflow.python.autograph.pyct.static_analysis.liveness) is deprecated and will be removed after 2023-09-23.\n",
            "Instructions for updating:\n",
            "Lambda fuctions will be no more assumed to be used in the statement where they are used, or at least in the same block. https://github.com/tensorflow/tensorflow/issues/56089\n"
          ]
        },
        {
          "output_type": "stream",
          "name": "stdout",
          "text": [
            "Model: \"model\"\n",
            "__________________________________________________________________________________________________\n",
            " Layer (type)                   Output Shape         Param #     Connected to                     \n",
            "==================================================================================================\n",
            " text (InputLayer)              [(None,)]            0           []                               \n",
            "                                                                                                  \n",
            " preprocessing (KerasLayer)     {'input_mask': (Non  0           ['text[0][0]']                   \n",
            "                                e, 128),                                                          \n",
            "                                 'input_word_ids':                                                \n",
            "                                (None, 128),                                                      \n",
            "                                 'input_type_ids':                                                \n",
            "                                (None, 128)}                                                      \n",
            "                                                                                                  \n",
            " BERT_encoder (KerasLayer)      {'default': (None,   28763649    ['preprocessing[0][0]',          \n",
            "                                512),                             'preprocessing[0][1]',          \n",
            "                                 'pooled_output': (               'preprocessing[0][2]']          \n",
            "                                None, 512),                                                       \n",
            "                                 'sequence_output':                                               \n",
            "                                 (None, 128, 512),                                                \n",
            "                                 'encoder_outputs':                                               \n",
            "                                 [(None, 128, 512),                                               \n",
            "                                 (None, 128, 512),                                                \n",
            "                                 (None, 128, 512),                                                \n",
            "                                 (None, 128, 512)]}                                               \n",
            "                                                                                                  \n",
            " dropout (Dropout)              (None, 512)          0           ['BERT_encoder[0][5]']           \n",
            "                                                                                                  \n",
            " classifier (Dense)             (None, 3)            1539        ['dropout[0][0]']                \n",
            "                                                                                                  \n",
            "==================================================================================================\n",
            "Total params: 28,765,188\n",
            "Trainable params: 28,765,187\n",
            "Non-trainable params: 1\n",
            "__________________________________________________________________________________________________\n"
          ]
        }
      ]
    },
    {
      "cell_type": "code",
      "source": [
        "y_train = tf.keras.utils.to_categorical(\n",
        "    train['label_enc'], num_classes=3)\n",
        "y_val = tf.keras.utils.to_categorical(\n",
        "    val['label_enc'], num_classes=3)\n",
        "\n",
        "history = classifier_model.fit(\n",
        "    x = train['lemmas'].values,\n",
        "    y = y_train,\n",
        "    validation_data=(val['lemmas'].values, y_val),\n",
        "    epochs=10)"
      ],
      "metadata": {
        "colab": {
          "base_uri": "https://localhost:8080/"
        },
        "id": "xufKi64cnb5B",
        "outputId": "dcce4f5f-5b98-447d-a255-a0d1b6cf212d"
      },
      "execution_count": null,
      "outputs": [
        {
          "output_type": "stream",
          "name": "stdout",
          "text": [
            "Epoch 1/10\n",
            "220/220 [==============================] - 66s 256ms/step - loss: 1.2671 - accuracy: 0.4897 - val_loss: 1.2794 - val_accuracy: 0.4657\n",
            "Epoch 2/10\n",
            "220/220 [==============================] - 57s 259ms/step - loss: 1.1801 - accuracy: 0.5766 - val_loss: 1.2602 - val_accuracy: 0.4874\n",
            "Epoch 3/10\n",
            "220/220 [==============================] - 59s 266ms/step - loss: 1.1304 - accuracy: 0.6264 - val_loss: 1.2538 - val_accuracy: 0.5114\n",
            "Epoch 4/10\n",
            "220/220 [==============================] - 56s 257ms/step - loss: 1.0919 - accuracy: 0.6667 - val_loss: 1.2519 - val_accuracy: 0.5137\n",
            "Epoch 5/10\n",
            "220/220 [==============================] - 57s 259ms/step - loss: 1.0623 - accuracy: 0.6953 - val_loss: 1.2593 - val_accuracy: 0.5046\n",
            "Epoch 6/10\n",
            "220/220 [==============================] - 58s 264ms/step - loss: 1.0404 - accuracy: 0.7128 - val_loss: 1.2576 - val_accuracy: 0.5126\n",
            "Epoch 7/10\n",
            "220/220 [==============================] - 57s 257ms/step - loss: 1.0256 - accuracy: 0.7244 - val_loss: 1.2533 - val_accuracy: 0.5149\n",
            "Epoch 8/10\n",
            "220/220 [==============================] - 57s 259ms/step - loss: 1.0120 - accuracy: 0.7369 - val_loss: 1.2542 - val_accuracy: 0.5240\n",
            "Epoch 9/10\n",
            "220/220 [==============================] - 59s 266ms/step - loss: 0.9980 - accuracy: 0.7488 - val_loss: 1.2513 - val_accuracy: 0.5240\n",
            "Epoch 10/10\n",
            "220/220 [==============================] - 59s 267ms/step - loss: 0.9890 - accuracy: 0.7547 - val_loss: 1.2501 - val_accuracy: 0.5229\n"
          ]
        }
      ]
    },
    {
      "cell_type": "code",
      "source": [
        "sns.set()\n",
        "sns.set_context(\"paper\", font_scale=2) \n",
        "\n",
        "fig = plt.figure(figsize=(20,10))\n",
        "ax1 = fig.add_subplot(121)\n",
        "sns.lineplot(ax=ax1, data=history.history['accuracy'])\n",
        "sns.lineplot(ax=ax1, data=history.history['val_accuracy'])\n",
        "ax1.set(\n",
        "    title=f\"Model accuracy\",\n",
        "    xlabel=\"epoch\",\n",
        "    ylabel=\"accuracy\"\n",
        ")\n",
        "ax1.legend(['train', 'test'], loc='upper left')\n",
        "ax2 = fig.add_subplot(122)\n",
        "sns.lineplot(ax=ax2, data=history.history['loss'])\n",
        "sns.lineplot(ax=ax2, data=history.history['val_loss'])\n",
        "ax2.set(\n",
        "    title=f\"Model loss\",\n",
        "    xlabel=\"epoch\",\n",
        "    ylabel=\"loss\"\n",
        ")\n",
        "ax2.legend(['train', 'test'], loc='upper left')\n",
        "\n",
        "fig.tight_layout()\n",
        "plt.show(fig) "
      ],
      "metadata": {
        "colab": {
          "base_uri": "https://localhost:8080/",
          "height": 330
        },
        "id": "oaRUqssDj0Ov",
        "outputId": "74e97987-4fc6-45c6-c1fa-c43b7b6a5d28"
      },
      "execution_count": null,
      "outputs": [
        {
          "output_type": "display_data",
          "data": {
            "text/plain": [
              "<Figure size 1440x720 with 2 Axes>"
            ],
            "image/png": "[encoded data removed]"
          },
          "metadata": {}
        }
      ]
    },
    {
      "cell_type": "code",
      "source": [
        "y_test = tf.keras.utils.to_categorical(\n",
        "    test['label_enc'].astype('category'), num_classes=3)"
      ],
      "metadata": {
        "id": "DkqCnUgSj0Th"
      },
      "execution_count": null,
      "outputs": []
    },
    {
      "cell_type": "code",
      "source": [
        "y_proba_cb  = classifier_model.predict(test['lemmas'].values)\n",
        "y_pred = np.argmax(y_proba_cb, axis=1)\n",
        "test_y = tf.keras.utils.to_categorical(\n",
        "    test['label_enc'], num_classes=3)"
      ],
      "metadata": {
        "colab": {
          "base_uri": "https://localhost:8080/"
        },
        "id": "T_GDgjcJpZU_",
        "outputId": "9fcc6036-eefa-4e6f-c0fa-95e9b29a5fec"
      },
      "execution_count": null,
      "outputs": [
        {
          "output_type": "stream",
          "name": "stdout",
          "text": [
            "27/27 [==============================] - 5s 146ms/step\n"
          ]
        }
      ]
    },
    {
      "cell_type": "code",
      "source": [
        "from sklearn.metrics import f1_score ,mean_absolute_error, accuracy_score\n",
        "\n",
        "print('F1:',f1_score(y_pred, np.argmax(y_test,axis = 1), average='macro'))\n",
        "scores_F1['BERT'] = f1_score(y_pred, np.argmax(y_test,axis = 1), average='macro')\n",
        "print('Accuracy:',accuracy_score(y_pred, np.argmax(y_test,axis = 1)))\n",
        "scores_Accuracy['BERT'] = accuracy_score(y_pred, np.argmax(y_test,axis = 1))\n",
        "print('MAE:',mean_absolute_error(y_proba_cb, test_y))\n",
        "scores_MAE['BERT'] = mean_absolute_error(y_proba_cb,test_y)"
      ],
      "metadata": {
        "colab": {
          "base_uri": "https://localhost:8080/"
        },
        "id": "15_sTGo7QHnY",
        "outputId": "034e44ff-4599-4795-cd42-e1c8301d85ed"
      },
      "execution_count": null,
      "outputs": [
        {
          "output_type": "stream",
          "name": "stdout",
          "text": [
            "F1: 0.5992522323713589\n",
            "Accuracy: 0.6009445100354192\n",
            "MAE: 0.28186452\n"
          ]
        }
      ]
    },
    {
      "cell_type": "markdown",
      "source": [
        "# Catboost\n"
      ],
      "metadata": {
        "id": "lu-8IBBdQ-VZ"
      }
    },
    {
      "cell_type": "code",
      "source": [
        "!pip install catboost"
      ],
      "metadata": {
        "colab": {
          "base_uri": "https://localhost:8080/"
        },
        "id": "9QkpkBqBw7_Q",
        "outputId": "16e16a65-7ece-4454-987f-8611e93cb39f"
      },
      "execution_count": null,
      "outputs": [
        {
          "output_type": "stream",
          "name": "stdout",
          "text": [
            "Looking in indexes: https://pypi.org/simple, https://us-python.pkg.dev/colab-wheels/public/simple/\n",
            "Collecting catboost\n",
            "  Downloading catboost-1.1.1-cp39-none-manylinux1_x86_64.whl (76.6 MB)\n",
            "\u001b[2K     \u001b[90m━━━━━━━━━━━━━━━━━━━━━━━━━━━━━━━━━━━━━━━━\u001b[0m \u001b[32m76.6/76.6 MB\u001b[0m \u001b[31m15.6 MB/s\u001b[0m eta \u001b[36m0:00:00\u001b[0m\n",
            "\u001b[?25hRequirement already satisfied: graphviz in /usr/local/lib/python3.9/dist-packages (from catboost) (0.10.1)\n",
            "Requirement already satisfied: numpy>=1.16.0 in /usr/local/lib/python3.9/dist-packages (from catboost) (1.22.4)\n",
            "Requirement already satisfied: matplotlib in /usr/local/lib/python3.9/dist-packages (from catboost) (3.7.1)\n",
            "Requirement already satisfied: plotly in /usr/local/lib/python3.9/dist-packages (from catboost) (5.5.0)\n",
            "Requirement already satisfied: six in /usr/local/lib/python3.9/dist-packages (from catboost) (1.15.0)\n",
            "Requirement already satisfied: scipy in /usr/local/lib/python3.9/dist-packages (from catboost) (1.10.1)\n",
            "Requirement already satisfied: pandas>=0.24.0 in /usr/local/lib/python3.9/dist-packages (from catboost) (1.4.4)\n",
            "Requirement already satisfied: pytz>=2020.1 in /usr/local/lib/python3.9/dist-packages (from pandas>=0.24.0->catboost) (2022.7.1)\n",
            "Requirement already satisfied: python-dateutil>=2.8.1 in /usr/local/lib/python3.9/dist-packages (from pandas>=0.24.0->catboost) (2.8.2)\n",
            "Requirement already satisfied: kiwisolver>=1.0.1 in /usr/local/lib/python3.9/dist-packages (from matplotlib->catboost) (1.4.4)\n",
            "Requirement already satisfied: cycler>=0.10 in /usr/local/lib/python3.9/dist-packages (from matplotlib->catboost) (0.11.0)\n",
            "Requirement already satisfied: fonttools>=4.22.0 in /usr/local/lib/python3.9/dist-packages (from matplotlib->catboost) (4.39.0)\n",
            "Requirement already satisfied: importlib-resources>=3.2.0 in /usr/local/lib/python3.9/dist-packages (from matplotlib->catboost) (5.12.0)\n",
            "Requirement already satisfied: packaging>=20.0 in /usr/local/lib/python3.9/dist-packages (from matplotlib->catboost) (23.0)\n",
            "Requirement already satisfied: pillow>=6.2.0 in /usr/local/lib/python3.9/dist-packages (from matplotlib->catboost) (8.4.0)\n",
            "Requirement already satisfied: pyparsing>=2.3.1 in /usr/local/lib/python3.9/dist-packages (from matplotlib->catboost) (3.0.9)\n",
            "Requirement already satisfied: contourpy>=1.0.1 in /usr/local/lib/python3.9/dist-packages (from matplotlib->catboost) (1.0.7)\n",
            "Requirement already satisfied: tenacity>=6.2.0 in /usr/local/lib/python3.9/dist-packages (from plotly->catboost) (8.2.2)\n",
            "Requirement already satisfied: zipp>=3.1.0 in /usr/local/lib/python3.9/dist-packages (from importlib-resources>=3.2.0->matplotlib->catboost) (3.15.0)\n",
            "Installing collected packages: catboost\n",
            "Successfully installed catboost-1.1.1\n"
          ]
        }
      ]
    },
    {
      "cell_type": "code",
      "source": [
        "train"
      ],
      "metadata": {
        "colab": {
          "base_uri": "https://localhost:8080/",
          "height": 1000
        },
        "id": "5oTeKZNZw04a",
        "outputId": "d4e84687-9f52-448b-8ade-131fbf3030bd"
      },
      "execution_count": null,
      "outputs": [
        {
          "output_type": "execute_result",
          "data": {
            "text/plain": [
              "                                                  title  \\\n",
              "0                                    Election Integrity   \n",
              "1                    It's Time to Junk \"Junk Insurance\"   \n",
              "2     Republicans Want to Steal This Election for Tr...   \n",
              "3     Mitch McConnell’s True Colors May Finally Sink...   \n",
              "4     Trump Gone, But the Right-Wing Leadership Inst...   \n",
              "...                                                 ...   \n",
              "7327  10 Best Snack Subscription Boxes 2021 — Monthl...   \n",
              "7328  Stylist Says Justin Timberlake Set Up Janet Ja...   \n",
              "7329  47 Luxury Gift Ideas — Expensive and Designer ...   \n",
              "7330  50 Famous Actors You Probably Forgot Were on G...   \n",
              "7331  Best playsuits: 27 women's playsuits to shop f...   \n",
              "\n",
              "                                                content label  \\\n",
              "0     Some academics and pundits have been postulati...  left   \n",
              "1     About four years ago, I was a 40 year old heal...  left   \n",
              "2     — from Salon\\n\\nDonald Trump is still trying t...  left   \n",
              "3     If you’re listening to politicians, you hear t...  left   \n",
              "4     We’re familiar with Fox, the TV propaganda arm...  left   \n",
              "...                                                 ...   ...   \n",
              "7327  Where do I begin? Snacks are amazing. How does...  left   \n",
              "7328  Update:\\n\\nFYI: A source close to Justin Timbe...  left   \n",
              "7329  Sure, there are gifts under $5, under $20, and...  left   \n",
              "7330  Jennifer Westfeldt\\n\\nAfter accidentally runni...  left   \n",
              "7331  You heard it here first: playsuits are making ...  left   \n",
              "\n",
              "                                               all_text  \\\n",
              "0     Election IntegritySome academics and pundits h...   \n",
              "1     It's Time to Junk \"Junk Insurance\"About four y...   \n",
              "2     Republicans Want to Steal This Election for Tr...   \n",
              "3     Mitch McConnell’s True Colors May Finally Sink...   \n",
              "4     Trump Gone, But the Right-Wing Leadership Inst...   \n",
              "...                                                 ...   \n",
              "7327  10 Best Snack Subscription Boxes 2021 — Monthl...   \n",
              "7328  Stylist Says Justin Timberlake Set Up Janet Ja...   \n",
              "7329  47 Luxury Gift Ideas — Expensive and Designer ...   \n",
              "7330  50 Famous Actors You Probably Forgot Were on G...   \n",
              "7331  Best playsuits: 27 women's playsuits to shop f...   \n",
              "\n",
              "                                                 lemmas  label_enc  \n",
              "0     election integritysome academics pundits postu...          1  \n",
              "1     time junk junk insurance four years year healt...          1  \n",
              "2     republicans want steal election trump know sal...          1  \n",
              "3     mitch mcconnell true colors finally sink himif...          1  \n",
              "4     trump gone right wing leadership institute pro...          1  \n",
              "...                                                 ...        ...  \n",
              "7327  best snack subscription boxes monthly food dri...          1  \n",
              "7328  stylist says justin timberlake janet jackson w...          1  \n",
              "7329  luxury gift ideas expensive designer gifts sur...          1  \n",
              "7330  famous actors probably forgot grey anatomyjenn...          1  \n",
              "7331  best playsuits women playsuits shop summeryou ...          1  \n",
              "\n",
              "[7029 rows x 6 columns]"
            ],
            "text/html": [
              "\n",
              "  <div id=\"df-152641c0-bcdd-41c4-9dab-63d980818264\">\n",
              "    <div class=\"colab-df-container\">\n",
              "      <div>\n",
              "<style scoped>\n",
              "    .dataframe tbody tr th:only-of-type {\n",
              "        vertical-align: middle;\n",
              "    }\n",
              "\n",
              "    .dataframe tbody tr th {\n",
              "        vertical-align: top;\n",
              "    }\n",
              "\n",
              "    .dataframe thead th {\n",
              "        text-align: right;\n",
              "    }\n",
              "</style>\n",
              "<table border=\"1\" class=\"dataframe\">\n",
              "  <thead>\n",
              "    <tr style=\"text-align: right;\">\n",
              "      <th></th>\n",
              "      <th>title</th>\n",
              "      <th>content</th>\n",
              "      <th>label</th>\n",
              "      <th>all_text</th>\n",
              "      <th>lemmas</th>\n",
              "      <th>label_enc</th>\n",
              "    </tr>\n",
              "  </thead>\n",
              "  <tbody>\n",
              "    <tr>\n",
              "      <th>0</th>\n",
              "      <td>Election Integrity</td>\n",
              "      <td>Some academics and pundits have been postulati...</td>\n",
              "      <td>left</td>\n",
              "      <td>Election IntegritySome academics and pundits h...</td>\n",
              "      <td>election integritysome academics pundits postu...</td>\n",
              "      <td>1</td>\n",
              "    </tr>\n",
              "    <tr>\n",
              "      <th>1</th>\n",
              "      <td>It's Time to Junk \"Junk Insurance\"</td>\n",
              "      <td>About four years ago, I was a 40 year old heal...</td>\n",
              "      <td>left</td>\n",
              "      <td>It's Time to Junk \"Junk Insurance\"About four y...</td>\n",
              "      <td>time junk junk insurance four years year healt...</td>\n",
              "      <td>1</td>\n",
              "    </tr>\n",
              "    <tr>\n",
              "      <th>2</th>\n",
              "      <td>Republicans Want to Steal This Election for Tr...</td>\n",
              "      <td>— from Salon\\n\\nDonald Trump is still trying t...</td>\n",
              "      <td>left</td>\n",
              "      <td>Republicans Want to Steal This Election for Tr...</td>\n",
              "      <td>republicans want steal election trump know sal...</td>\n",
              "      <td>1</td>\n",
              "    </tr>\n",
              "    <tr>\n",
              "      <th>3</th>\n",
              "      <td>Mitch McConnell’s True Colors May Finally Sink...</td>\n",
              "      <td>If you’re listening to politicians, you hear t...</td>\n",
              "      <td>left</td>\n",
              "      <td>Mitch McConnell’s True Colors May Finally Sink...</td>\n",
              "      <td>mitch mcconnell true colors finally sink himif...</td>\n",
              "      <td>1</td>\n",
              "    </tr>\n",
              "    <tr>\n",
              "      <th>4</th>\n",
              "      <td>Trump Gone, But the Right-Wing Leadership Inst...</td>\n",
              "      <td>We’re familiar with Fox, the TV propaganda arm...</td>\n",
              "      <td>left</td>\n",
              "      <td>Trump Gone, But the Right-Wing Leadership Inst...</td>\n",
              "      <td>trump gone right wing leadership institute pro...</td>\n",
              "      <td>1</td>\n",
              "    </tr>\n",
              "    <tr>\n",
              "      <th>...</th>\n",
              "      <td>...</td>\n",
              "      <td>...</td>\n",
              "      <td>...</td>\n",
              "      <td>...</td>\n",
              "      <td>...</td>\n",
              "      <td>...</td>\n",
              "    </tr>\n",
              "    <tr>\n",
              "      <th>7327</th>\n",
              "      <td>10 Best Snack Subscription Boxes 2021 — Monthl...</td>\n",
              "      <td>Where do I begin? Snacks are amazing. How does...</td>\n",
              "      <td>left</td>\n",
              "      <td>10 Best Snack Subscription Boxes 2021 — Monthl...</td>\n",
              "      <td>best snack subscription boxes monthly food dri...</td>\n",
              "      <td>1</td>\n",
              "    </tr>\n",
              "    <tr>\n",
              "      <th>7328</th>\n",
              "      <td>Stylist Says Justin Timberlake Set Up Janet Ja...</td>\n",
              "      <td>Update:\\n\\nFYI: A source close to Justin Timbe...</td>\n",
              "      <td>left</td>\n",
              "      <td>Stylist Says Justin Timberlake Set Up Janet Ja...</td>\n",
              "      <td>stylist says justin timberlake janet jackson w...</td>\n",
              "      <td>1</td>\n",
              "    </tr>\n",
              "    <tr>\n",
              "      <th>7329</th>\n",
              "      <td>47 Luxury Gift Ideas — Expensive and Designer ...</td>\n",
              "      <td>Sure, there are gifts under $5, under $20, and...</td>\n",
              "      <td>left</td>\n",
              "      <td>47 Luxury Gift Ideas — Expensive and Designer ...</td>\n",
              "      <td>luxury gift ideas expensive designer gifts sur...</td>\n",
              "      <td>1</td>\n",
              "    </tr>\n",
              "    <tr>\n",
              "      <th>7330</th>\n",
              "      <td>50 Famous Actors You Probably Forgot Were on G...</td>\n",
              "      <td>Jennifer Westfeldt\\n\\nAfter accidentally runni...</td>\n",
              "      <td>left</td>\n",
              "      <td>50 Famous Actors You Probably Forgot Were on G...</td>\n",
              "      <td>famous actors probably forgot grey anatomyjenn...</td>\n",
              "      <td>1</td>\n",
              "    </tr>\n",
              "    <tr>\n",
              "      <th>7331</th>\n",
              "      <td>Best playsuits: 27 women's playsuits to shop f...</td>\n",
              "      <td>You heard it here first: playsuits are making ...</td>\n",
              "      <td>left</td>\n",
              "      <td>Best playsuits: 27 women's playsuits to shop f...</td>\n",
              "      <td>best playsuits women playsuits shop summeryou ...</td>\n",
              "      <td>1</td>\n",
              "    </tr>\n",
              "  </tbody>\n",
              "</table>\n",
              "<p>7029 rows × 6 columns</p>\n",
              "</div>\n",
              "      <button class=\"colab-df-convert\" onclick=\"convertToInteractive('df-152641c0-bcdd-41c4-9dab-63d980818264')\"\n",
              "              title=\"Convert this dataframe to an interactive table.\"\n",
              "              style=\"display:none;\">\n",
              "        \n",
              "  <svg xmlns=\"http://www.w3.org/2000/svg\" height=\"24px\"viewBox=\"0 0 24 24\"\n",
              "       width=\"24px\">\n",
              "    <path d=\"M0 0h24v24H0V0z\" fill=\"none\"/>\n",
              "    <path d=\"M18.56 5.44l.94 2.06.94-2.06 2.06-.94-2.06-.94-.94-2.06-.94 2.06-2.06.94zm-11 1L8.5 8.5l.94-2.06 2.06-.94-2.06-.94L8.5 2.5l-.94 2.06-2.06.94zm10 10l.94 2.06.94-2.06 2.06-.94-2.06-.94-.94-2.06-.94 2.06-2.06.94z\"/><path d=\"M17.41 7.96l-1.37-1.37c-.4-.4-.92-.59-1.43-.59-.52 0-1.04.2-1.43.59L10.3 9.45l-7.72 7.72c-.78.78-.78 2.05 0 2.83L4 21.41c.39.39.9.59 1.41.59.51 0 1.02-.2 1.41-.59l7.78-7.78 2.81-2.81c.8-.78.8-2.07 0-2.86zM5.41 20L4 18.59l7.72-7.72 1.47 1.35L5.41 20z\"/>\n",
              "  </svg>\n",
              "      </button>\n",
              "      \n",
              "  <style>\n",
              "    .colab-df-container {\n",
              "      display:flex;\n",
              "      flex-wrap:wrap;\n",
              "      gap: 12px;\n",
              "    }\n",
              "\n",
              "    .colab-df-convert {\n",
              "      background-color: #E8F0FE;\n",
              "      border: none;\n",
              "      border-radius: 50%;\n",
              "      cursor: pointer;\n",
              "      display: none;\n",
              "      fill: #1967D2;\n",
              "      height: 32px;\n",
              "      padding: 0 0 0 0;\n",
              "      width: 32px;\n",
              "    }\n",
              "\n",
              "    .colab-df-convert:hover {\n",
              "      background-color: #E2EBFA;\n",
              "      box-shadow: 0px 1px 2px rgba(60, 64, 67, 0.3), 0px 1px 3px 1px rgba(60, 64, 67, 0.15);\n",
              "      fill: #174EA6;\n",
              "    }\n",
              "\n",
              "    [theme=dark] .colab-df-convert {\n",
              "      background-color: #3B4455;\n",
              "      fill: #D2E3FC;\n",
              "    }\n",
              "\n",
              "    [theme=dark] .colab-df-convert:hover {\n",
              "      background-color: #434B5C;\n",
              "      box-shadow: 0px 1px 3px 1px rgba(0, 0, 0, 0.15);\n",
              "      filter: drop-shadow(0px 1px 2px rgba(0, 0, 0, 0.3));\n",
              "      fill: #FFFFFF;\n",
              "    }\n",
              "  </style>\n",
              "\n",
              "      <script>\n",
              "        const buttonEl =\n",
              "          document.querySelector('#df-152641c0-bcdd-41c4-9dab-63d980818264 button.colab-df-convert');\n",
              "        buttonEl.style.display =\n",
              "          google.colab.kernel.accessAllowed ? 'block' : 'none';\n",
              "\n",
              "        async function convertToInteractive(key) {\n",
              "          const element = document.querySelector('#df-152641c0-bcdd-41c4-9dab-63d980818264');\n",
              "          const dataTable =\n",
              "            await google.colab.kernel.invokeFunction('convertToInteractive',\n",
              "                                                     [key], {});\n",
              "          if (!dataTable) return;\n",
              "\n",
              "          const docLinkHtml = 'Like what you see? Visit the ' +\n",
              "            '<a target=\"_blank\" href=https://colab.research.google.com/notebooks/data_table.ipynb>data table notebook</a>'\n",
              "            + ' to learn more about interactive tables.';\n",
              "          element.innerHTML = '';\n",
              "          dataTable['output_type'] = 'display_data';\n",
              "          await google.colab.output.renderOutput(dataTable, element);\n",
              "          const docLink = document.createElement('div');\n",
              "          docLink.innerHTML = docLinkHtml;\n",
              "          element.appendChild(docLink);\n",
              "        }\n",
              "      </script>\n",
              "    </div>\n",
              "  </div>\n",
              "  "
            ]
          },
          "metadata": {},
          "execution_count": 77
        }
      ]
    },
    {
      "cell_type": "markdown",
      "source": [
        "Добавим переменную длинна всего текста\n"
      ],
      "metadata": {
        "id": "CqsJn7JpO7n8"
      }
    },
    {
      "cell_type": "code",
      "source": [
        "train['sym_len'] = train.lemmas.apply(len)\n",
        "train['word_len'] = train.lemmas.apply(lambda x: len(x.split()))\n",
        "\n",
        "val['sym_len'] = val.lemmas.apply(len)\n",
        "val['word_len'] = val.lemmas.apply(lambda x: len(x.split()))\n",
        "\n",
        "test['sym_len'] = test.lemmas.apply(len)\n",
        "test['word_len'] = test.lemmas.apply(lambda x: len(x.split()))"
      ],
      "metadata": {
        "id": "PHJQOHlRO1nM"
      },
      "execution_count": null,
      "outputs": []
    },
    {
      "cell_type": "code",
      "source": [
        "plt.figure(figsize=(15, 10))\n",
        "sns.histplot(data=train.sym_len)\n",
        "plt.show()"
      ],
      "metadata": {
        "colab": {
          "base_uri": "https://localhost:8080/",
          "height": 436
        },
        "id": "aKmN5GKiPCVt",
        "outputId": "b90d49e2-0675-46d9-c99d-7b79ab300afb"
      },
      "execution_count": null,
      "outputs": [
        {
          "output_type": "display_data",
          "data": {
            "text/plain": [
              "<Figure size 1080x720 with 1 Axes>"
            ],
            "image/png": "[encoded data removed]"
          },
          "metadata": {}
        }
      ]
    },
    {
      "cell_type": "code",
      "source": [
        "plt.figure(figsize=(15, 10))\n",
        "sns.histplot(data=train.word_len)\n",
        "plt.show()"
      ],
      "metadata": {
        "colab": {
          "base_uri": "https://localhost:8080/",
          "height": 436
        },
        "id": "vZiwM2pkPC80",
        "outputId": "c29deb8f-68c9-499c-c0aa-0b39722b7e7c"
      },
      "execution_count": null,
      "outputs": [
        {
          "output_type": "display_data",
          "data": {
            "text/plain": [
              "<Figure size 1080x720 with 1 Axes>"
            ],
            "image/png": "[encoded data removed]"
          },
          "metadata": {}
        }
      ]
    },
    {
      "cell_type": "markdown",
      "source": [
        "Вимдим, что распредление с длинным хвостом, поэтому логорифмируем эти фичи"
      ],
      "metadata": {
        "id": "t7lUDZ5yPGBs"
      }
    },
    {
      "cell_type": "code",
      "source": [
        "train['sym_len'] = np.log(train['sym_len'])\n",
        "train['word_len'] = np.log(train['word_len'])\n",
        "test['sym_len'] = np.log(test['sym_len'])\n",
        "test['word_len'] = np.log(test['word_len'])\n",
        "val['sym_len'] = np.log(val['sym_len'])\n",
        "val['word_len'] = np.log(val['word_len'])"
      ],
      "metadata": {
        "id": "UobQjTPePFN6"
      },
      "execution_count": null,
      "outputs": []
    },
    {
      "cell_type": "code",
      "source": [
        "val['sym_len'].hist()"
      ],
      "metadata": {
        "colab": {
          "base_uri": "https://localhost:8080/",
          "height": 292
        },
        "id": "gqvS_VDDPiwr",
        "outputId": "bafbe848-809d-44a1-f236-eea0207b5411"
      },
      "execution_count": null,
      "outputs": [
        {
          "output_type": "execute_result",
          "data": {
            "text/plain": [
              "<Axes: >"
            ]
          },
          "metadata": {},
          "execution_count": 82
        },
        {
          "output_type": "display_data",
          "data": {
            "text/plain": [
              "<Figure size 432x288 with 1 Axes>"
            ],
            "image/png": "[encoded data removed]"
          },
          "metadata": {}
        }
      ]
    },
    {
      "cell_type": "code",
      "source": [
        "df_train = train[['title','all_text','lemmas','content','sym_len', 'word_len']]\n",
        "y_train = train['label_enc']\n",
        "df_val = val[['title','all_text','lemmas','content','sym_len', 'word_len']]\n",
        "y_val = val['label_enc']\n",
        "df_test = test[['title','all_text','lemmas','content','sym_len', 'word_len']]\n",
        "y_test = test['label_enc']"
      ],
      "metadata": {
        "id": "K8JXKIkEwc4S"
      },
      "execution_count": null,
      "outputs": []
    },
    {
      "cell_type": "code",
      "source": [
        "from catboost import CatBoostClassifier\n",
        "from catboost import Pool\n",
        "\n",
        "\n",
        "def fit_model(train_pool, validation_pool, **kwargs):\n",
        "    model = CatBoostClassifier(\n",
        "        iterations=1000,\n",
        "        learning_rate=0.1,\n",
        "        use_best_model= True,\n",
        "        task_type='GPU',\n",
        "        **kwargs\n",
        "    )\n",
        "\n",
        "    return model.fit(\n",
        "        train_pool,\n",
        "        eval_set=validation_pool,\n",
        "        verbose=100,\n",
        "    )"
      ],
      "metadata": {
        "id": "_MJ68Jjux1uH"
      },
      "execution_count": null,
      "outputs": []
    },
    {
      "cell_type": "code",
      "source": [
        "train_pool = Pool(\n",
        "    df_train, y_train, \n",
        "    text_features=['title','all_text','lemmas','content'],\n",
        ")\n",
        "\n",
        "validation_pool = Pool(\n",
        "    df_val, y_val, \n",
        "    text_features=['title','all_text','lemmas','content'],\n",
        ")\n",
        "\n",
        "test_pool = Pool(\n",
        "    df_test, y_test, \n",
        "    text_features=['title','all_text','lemmas','content'],\n",
        ")\n",
        "\n",
        "print('Train dataset shape: {}\\n'.format(train_pool.shape))\n",
        "\n",
        "model = fit_model(train_pool, validation_pool)"
      ],
      "metadata": {
        "colab": {
          "base_uri": "https://localhost:8080/"
        },
        "id": "YQhzzjRkwc7C",
        "outputId": "f4495902-5673-4e64-db05-8055efc0036e"
      },
      "execution_count": null,
      "outputs": [
        {
          "output_type": "stream",
          "name": "stdout",
          "text": [
            "Train dataset shape: (7029, 6)\n",
            "\n",
            "0:\tlearn: 1.0521432\ttest: 1.0730683\tbest: 1.0730683 (0)\ttotal: 37.5ms\tremaining: 37.5s\n",
            "100:\tlearn: 0.7085378\ttest: 0.9716432\tbest: 0.9716432 (100)\ttotal: 1.49s\tremaining: 13.3s\n",
            "200:\tlearn: 0.6466000\ttest: 0.9617769\tbest: 0.9617769 (200)\ttotal: 2.68s\tremaining: 10.6s\n",
            "300:\tlearn: 0.6029864\ttest: 0.9591149\tbest: 0.9582796 (238)\ttotal: 3.83s\tremaining: 8.89s\n",
            "400:\tlearn: 0.5690270\ttest: 0.9610632\tbest: 0.9581757 (308)\ttotal: 4.97s\tremaining: 7.42s\n",
            "500:\tlearn: 0.5422061\ttest: 0.9571519\tbest: 0.9548162 (487)\ttotal: 6.14s\tremaining: 6.11s\n",
            "600:\tlearn: 0.5211026\ttest: 0.9584656\tbest: 0.9548162 (487)\ttotal: 7.3s\tremaining: 4.85s\n",
            "700:\tlearn: 0.5011263\ttest: 0.9578940\tbest: 0.9548162 (487)\ttotal: 10.5s\tremaining: 4.46s\n",
            "800:\tlearn: 0.4815629\ttest: 0.9580707\tbest: 0.9548162 (487)\ttotal: 11.6s\tremaining: 2.88s\n",
            "900:\tlearn: 0.4634898\ttest: 0.9606277\tbest: 0.9548162 (487)\ttotal: 12.7s\tremaining: 1.4s\n",
            "999:\tlearn: 0.4484449\ttest: 0.9625962\tbest: 0.9548162 (487)\ttotal: 13.8s\tremaining: 0us\n",
            "bestTest = 0.9548162465\n",
            "bestIteration = 487\n",
            "Shrink model to first 488 iterations.\n"
          ]
        }
      ]
    },
    {
      "cell_type": "code",
      "source": [
        "!pip install numba\n",
        "\n",
        "from numba import cuda \n",
        "device = cuda.get_current_device()\n",
        "device.reset()"
      ],
      "metadata": {
        "colab": {
          "base_uri": "https://localhost:8080/"
        },
        "id": "1lDx3I10x_4V",
        "outputId": "5024e041-6ead-48bb-850c-e6780c04d6eb"
      },
      "execution_count": null,
      "outputs": [
        {
          "output_type": "stream",
          "name": "stdout",
          "text": [
            "Looking in indexes: https://pypi.org/simple, https://us-python.pkg.dev/colab-wheels/public/simple/\n",
            "Requirement already satisfied: numba in /usr/local/lib/python3.9/dist-packages (0.56.4)\n",
            "Requirement already satisfied: setuptools in /usr/local/lib/python3.9/dist-packages (from numba) (63.4.3)\n",
            "Requirement already satisfied: llvmlite<0.40,>=0.39.0dev0 in /usr/local/lib/python3.9/dist-packages (from numba) (0.39.1)\n",
            "Requirement already satisfied: numpy<1.24,>=1.18 in /usr/local/lib/python3.9/dist-packages (from numba) (1.22.4)\n"
          ]
        }
      ]
    },
    {
      "cell_type": "code",
      "source": [
        "def plot_feature_importance(importance,names,model_type):\n",
        "    \n",
        "    #Create arrays from feature importance and feature names\n",
        "    feature_importance = np.array(importance)\n",
        "    feature_names = np.array(names)\n",
        "    \n",
        "    #Create a DataFrame using a Dictionary\n",
        "    data={'feature_names':feature_names,'feature_importance':feature_importance}\n",
        "    fi_df = pd.DataFrame(data)\n",
        "    \n",
        "    #Sort the DataFrame in order decreasing feature importance\n",
        "    fi_df.sort_values(by=['feature_importance'], ascending=False,inplace=True)\n",
        "    \n",
        "    #Define size of bar plot\n",
        "    plt.figure(figsize=(10,8))\n",
        "    #Plot Searborn bar chart\n",
        "    sns.barplot(x=fi_df['feature_importance'], y=fi_df['feature_names'])\n",
        "    #Add chart labels\n",
        "    plt.title(model_type + 'FEATURE IMPORTANCE')\n",
        "    plt.xlabel('FEATURE IMPORTANCE')\n",
        "    plt.ylabel('FEATURE NAMES')\n",
        "#plot the catboost result\n",
        "plot_feature_importance(model.get_feature_importance(),df_train.columns,'CATBOOST ')"
      ],
      "metadata": {
        "colab": {
          "base_uri": "https://localhost:8080/",
          "height": 503
        },
        "id": "LhwHZzaOwc9z",
        "outputId": "1d9861a7-1d5d-4dc7-91d0-6ac41034ff29"
      },
      "execution_count": null,
      "outputs": [
        {
          "output_type": "display_data",
          "data": {
            "text/plain": [
              "<Figure size 720x576 with 1 Axes>"
            ],
            "image/png": "[encoded data removed]"
          },
          "metadata": {}
        }
      ]
    },
    {
      "cell_type": "code",
      "source": [
        "y_proba_cb = model.predict_proba(test_pool)\n",
        "y_pred = np.argmax(y_proba_cb, axis=1)"
      ],
      "metadata": {
        "id": "kT45HkunwdAd"
      },
      "execution_count": null,
      "outputs": []
    },
    {
      "cell_type": "code",
      "source": [
        "test_y = tf.keras.utils.to_categorical(\n",
        "    test['label_enc'], num_classes=3)"
      ],
      "metadata": {
        "id": "_64IOy0HwdC-"
      },
      "execution_count": null,
      "outputs": []
    },
    {
      "cell_type": "code",
      "source": [
        "print('F1:',f1_score(y_pred, y_test, average='macro'))\n",
        "scores_F1['Catboost'] = f1_score(y_pred, y_test, average='macro')\n",
        "print('Accuracy:',accuracy_score(y_pred, y_test))\n",
        "scores_Accuracy['Catboost'] = accuracy_score(y_pred, y_test)\n",
        "print('MAE:',mean_absolute_error(y_proba_cb, test_y))\n",
        "scores_MAE['Catboost'] = mean_absolute_error(y_proba_cb,test_y)"
      ],
      "metadata": {
        "colab": {
          "base_uri": "https://localhost:8080/"
        },
        "id": "ppf-QMsLwdFk",
        "outputId": "ec22c08c-31e7-41cb-9f9b-43083e9a60b0"
      },
      "execution_count": null,
      "outputs": [
        {
          "output_type": "stream",
          "name": "stdout",
          "text": [
            "F1: 0.6909185898432583\n",
            "Accuracy: 0.6942148760330579\n",
            "MAE: 0.29494498252307294\n"
          ]
        }
      ]
    },
    {
      "cell_type": "markdown",
      "source": [
        "## XGBoost"
      ],
      "metadata": {
        "id": "S-dW-h879PZb"
      }
    },
    {
      "cell_type": "code",
      "source": [
        "from xgboost import XGBClassifier"
      ],
      "metadata": {
        "id": "AZplGyjOC-MT"
      },
      "execution_count": null,
      "outputs": []
    },
    {
      "cell_type": "code",
      "source": [
        "clf_3 = XGBClassifier(tree_method='gpu_hist')"
      ],
      "metadata": {
        "id": "VfxwfGyA9XcC"
      },
      "execution_count": null,
      "outputs": []
    },
    {
      "cell_type": "code",
      "source": [
        "y_train = train[['label_enc']]"
      ],
      "metadata": {
        "id": "95jPnhLhFksc"
      },
      "execution_count": null,
      "outputs": []
    },
    {
      "cell_type": "code",
      "source": [
        "train_vec = vec.fit_transform(train['lemmas'])"
      ],
      "metadata": {
        "id": "dsEWxAUhGIjw"
      },
      "execution_count": null,
      "outputs": []
    },
    {
      "cell_type": "code",
      "source": [
        "y_train.shape"
      ],
      "metadata": {
        "colab": {
          "base_uri": "https://localhost:8080/"
        },
        "id": "W-bHm-KSF7dB",
        "outputId": "7665bbac-ca2c-4cb5-b80f-0ca2fea1290a"
      },
      "execution_count": null,
      "outputs": [
        {
          "output_type": "execute_result",
          "data": {
            "text/plain": [
              "(7029, 1)"
            ]
          },
          "metadata": {},
          "execution_count": 95
        }
      ]
    },
    {
      "cell_type": "code",
      "source": [
        "train_vec.shape"
      ],
      "metadata": {
        "colab": {
          "base_uri": "https://localhost:8080/"
        },
        "id": "dDMKbZkvF2Mv",
        "outputId": "369c9a6e-1c24-4d7e-f416-994fab931ef7"
      },
      "execution_count": null,
      "outputs": [
        {
          "output_type": "execute_result",
          "data": {
            "text/plain": [
              "(7029, 4589795)"
            ]
          },
          "metadata": {},
          "execution_count": 96
        }
      ]
    },
    {
      "cell_type": "code",
      "source": [
        "clf_3.fit(train_vec, y_train)"
      ],
      "metadata": {
        "colab": {
          "base_uri": "https://localhost:8080/",
          "height": 248
        },
        "id": "Ut8uh5THEAJd",
        "outputId": "77c5b44f-3eeb-4716-8bbc-a704c73abb8f"
      },
      "execution_count": null,
      "outputs": [
        {
          "output_type": "execute_result",
          "data": {
            "text/plain": [
              "XGBClassifier(base_score=None, booster=None, callbacks=None,\n",
              "              colsample_bylevel=None, colsample_bynode=None,\n",
              "              colsample_bytree=None, early_stopping_rounds=None,\n",
              "              enable_categorical=False, eval_metric=None, feature_types=None,\n",
              "              gamma=None, gpu_id=None, grow_policy=None, importance_type=None,\n",
              "              interaction_constraints=None, learning_rate=None, max_bin=None,\n",
              "              max_cat_threshold=None, max_cat_to_onehot=None,\n",
              "              max_delta_step=None, max_depth=None, max_leaves=None,\n",
              "              min_child_weight=None, missing=nan, monotone_constraints=None,\n",
              "              n_estimators=100, n_jobs=None, num_parallel_tree=None,\n",
              "              objective='multi:softprob', predictor=None, ...)"
            ],
            "text/html": [
              "<style>#sk-container-id-4 {color: black;background-color: white;}#sk-container-id-4 pre{padding: 0;}#sk-container-id-4 div.sk-toggleable {background-color: white;}#sk-container-id-4 label.sk-toggleable__label {cursor: pointer;display: block;width: 100%;margin-bottom: 0;padding: 0.3em;box-sizing: border-box;text-align: center;}#sk-container-id-4 label.sk-toggleable__label-arrow:before {content: \"▸\";float: left;margin-right: 0.25em;color: #696969;}#sk-container-id-4 label.sk-toggleable__label-arrow:hover:before {color: black;}#sk-container-id-4 div.sk-estimator:hover label.sk-toggleable__label-arrow:before {color: black;}#sk-container-id-4 div.sk-toggleable__content {max-height: 0;max-width: 0;overflow: hidden;text-align: left;background-color: #f0f8ff;}#sk-container-id-4 div.sk-toggleable__content pre {margin: 0.2em;color: black;border-radius: 0.25em;background-color: #f0f8ff;}#sk-container-id-4 input.sk-toggleable__control:checked~div.sk-toggleable__content {max-height: 200px;max-width: 100%;overflow: auto;}#sk-container-id-4 input.sk-toggleable__control:checked~label.sk-toggleable__label-arrow:before {content: \"▾\";}#sk-container-id-4 div.sk-estimator input.sk-toggleable__control:checked~label.sk-toggleable__label {background-color: #d4ebff;}#sk-container-id-4 div.sk-label input.sk-toggleable__control:checked~label.sk-toggleable__label {background-color: #d4ebff;}#sk-container-id-4 input.sk-hidden--visually {border: 0;clip: rect(1px 1px 1px 1px);clip: rect(1px, 1px, 1px, 1px);height: 1px;margin: -1px;overflow: hidden;padding: 0;position: absolute;width: 1px;}#sk-container-id-4 div.sk-estimator {font-family: monospace;background-color: #f0f8ff;border: 1px dotted black;border-radius: 0.25em;box-sizing: border-box;margin-bottom: 0.5em;}#sk-container-id-4 div.sk-estimator:hover {background-color: #d4ebff;}#sk-container-id-4 div.sk-parallel-item::after {content: \"\";width: 100%;border-bottom: 1px solid gray;flex-grow: 1;}#sk-container-id-4 div.sk-label:hover label.sk-toggleable__label {background-color: #d4ebff;}#sk-container-id-4 div.sk-serial::before {content: \"\";position: absolute;border-left: 1px solid gray;box-sizing: border-box;top: 0;bottom: 0;left: 50%;z-index: 0;}#sk-container-id-4 div.sk-serial {display: flex;flex-direction: column;align-items: center;background-color: white;padding-right: 0.2em;padding-left: 0.2em;position: relative;}#sk-container-id-4 div.sk-item {position: relative;z-index: 1;}#sk-container-id-4 div.sk-parallel {display: flex;align-items: stretch;justify-content: center;background-color: white;position: relative;}#sk-container-id-4 div.sk-item::before, #sk-container-id-4 div.sk-parallel-item::before {content: \"\";position: absolute;border-left: 1px solid gray;box-sizing: border-box;top: 0;bottom: 0;left: 50%;z-index: -1;}#sk-container-id-4 div.sk-parallel-item {display: flex;flex-direction: column;z-index: 1;position: relative;background-color: white;}#sk-container-id-4 div.sk-parallel-item:first-child::after {align-self: flex-end;width: 50%;}#sk-container-id-4 div.sk-parallel-item:last-child::after {align-self: flex-start;width: 50%;}#sk-container-id-4 div.sk-parallel-item:only-child::after {width: 0;}#sk-container-id-4 div.sk-dashed-wrapped {border: 1px dashed gray;margin: 0 0.4em 0.5em 0.4em;box-sizing: border-box;padding-bottom: 0.4em;background-color: white;}#sk-container-id-4 div.sk-label label {font-family: monospace;font-weight: bold;display: inline-block;line-height: 1.2em;}#sk-container-id-4 div.sk-label-container {text-align: center;}#sk-container-id-4 div.sk-container {/* jupyter's `normalize.less` sets `[hidden] { display: none; }` but bootstrap.min.css set `[hidden] { display: none !important; }` so we also need the `!important` here to be able to override the default hidden behavior on the sphinx rendered scikit-learn.org. See: https://github.com/scikit-learn/scikit-learn/issues/21755 */display: inline-block !important;position: relative;}#sk-container-id-4 div.sk-text-repr-fallback {display: none;}</style><div id=\"sk-container-id-4\" class=\"sk-top-container\"><div class=\"sk-text-repr-fallback\"><pre>XGBClassifier(base_score=None, booster=None, callbacks=None,\n",
              "              colsample_bylevel=None, colsample_bynode=None,\n",
              "              colsample_bytree=None, early_stopping_rounds=None,\n",
              "              enable_categorical=False, eval_metric=None, feature_types=None,\n",
              "              gamma=None, gpu_id=None, grow_policy=None, importance_type=None,\n",
              "              interaction_constraints=None, learning_rate=None, max_bin=None,\n",
              "              max_cat_threshold=None, max_cat_to_onehot=None,\n",
              "              max_delta_step=None, max_depth=None, max_leaves=None,\n",
              "              min_child_weight=None, missing=nan, monotone_constraints=None,\n",
              "              n_estimators=100, n_jobs=None, num_parallel_tree=None,\n",
              "              objective=&#x27;multi:softprob&#x27;, predictor=None, ...)</pre><b>In a Jupyter environment, please rerun this cell to show the HTML representation or trust the notebook. <br />On GitHub, the HTML representation is unable to render, please try loading this page with nbviewer.org.</b></div><div class=\"sk-container\" hidden><div class=\"sk-item\"><div class=\"sk-estimator sk-toggleable\"><input class=\"sk-toggleable__control sk-hidden--visually\" id=\"sk-estimator-id-4\" type=\"checkbox\" checked><label for=\"sk-estimator-id-4\" class=\"sk-toggleable__label sk-toggleable__label-arrow\">XGBClassifier</label><div class=\"sk-toggleable__content\"><pre>XGBClassifier(base_score=None, booster=None, callbacks=None,\n",
              "              colsample_bylevel=None, colsample_bynode=None,\n",
              "              colsample_bytree=None, early_stopping_rounds=None,\n",
              "              enable_categorical=False, eval_metric=None, feature_types=None,\n",
              "              gamma=None, gpu_id=None, grow_policy=None, importance_type=None,\n",
              "              interaction_constraints=None, learning_rate=None, max_bin=None,\n",
              "              max_cat_threshold=None, max_cat_to_onehot=None,\n",
              "              max_delta_step=None, max_depth=None, max_leaves=None,\n",
              "              min_child_weight=None, missing=nan, monotone_constraints=None,\n",
              "              n_estimators=100, n_jobs=None, num_parallel_tree=None,\n",
              "              objective=&#x27;multi:softprob&#x27;, predictor=None, ...)</pre></div></div></div></div></div>"
            ]
          },
          "metadata": {},
          "execution_count": 97
        }
      ]
    },
    {
      "cell_type": "code",
      "source": [
        "test_vec = vec.transform(test['lemmas'])"
      ],
      "metadata": {
        "id": "9TQO8hPhGoWr"
      },
      "execution_count": null,
      "outputs": []
    },
    {
      "cell_type": "code",
      "source": [
        "y_proba_cb = clf_3.predict_proba(test_vec)\n",
        "y_pred = np.argmax(y_proba_cb, axis=1)"
      ],
      "metadata": {
        "id": "RsfGBiSaEdoj"
      },
      "execution_count": null,
      "outputs": []
    },
    {
      "cell_type": "code",
      "source": [
        "test_y = tf.keras.utils.to_categorical(\n",
        "    test['label_enc'], num_classes=3)"
      ],
      "metadata": {
        "id": "Sh0zA4MyE5vw"
      },
      "execution_count": null,
      "outputs": []
    },
    {
      "cell_type": "code",
      "source": [
        "print('F1:',f1_score(y_pred, y_test, average='macro'))\n",
        "scores_F1['XGBoost'] = f1_score(y_pred, y_test, average='macro')\n",
        "print('Accuracy:',accuracy_score(y_pred, y_test))\n",
        "scores_Accuracy['XGBoost'] = accuracy_score(y_pred, y_test)\n",
        "print('MAE:',mean_absolute_error(y_proba_cb, test_y))\n",
        "scores_MAE['XGBoost'] = mean_absolute_error(y_proba_cb,test_y)"
      ],
      "metadata": {
        "colab": {
          "base_uri": "https://localhost:8080/"
        },
        "id": "6bKyvaVhE7aR",
        "outputId": "021a078c-b08a-4a3d-fe11-7985838f3529"
      },
      "execution_count": null,
      "outputs": [
        {
          "output_type": "stream",
          "name": "stdout",
          "text": [
            "F1: 0.17413399454987358\n",
            "Accuracy: 0.2975206611570248\n",
            "MAE: 0.46820655\n"
          ]
        }
      ]
    },
    {
      "cell_type": "markdown",
      "source": [
        "#Результаты"
      ],
      "metadata": {
        "id": "_Xknl_1oW9aq"
      }
    },
    {
      "cell_type": "code",
      "source": [
        "fig, ax = plt.subplots(figsize =(10, 7))\n",
        "for i in scores_F1.keys():\n",
        "  ax.bar(i,scores_F1[i], label=i)\n",
        "  plt.text(i,scores_F1[i],round(scores_F1[i],3), ha = 'center')\n",
        "ax.legend(loc='lower left')\n",
        "plt.title(\"Comparison of F1 models\")\n",
        "plt.show()"
      ],
      "metadata": {
        "colab": {
          "base_uri": "https://localhost:8080/",
          "height": 459
        },
        "id": "oXrjMSQZUCbP",
        "outputId": "d63bb0d5-f372-4635-92ee-de2e0bdb6c0e"
      },
      "execution_count": null,
      "outputs": [
        {
          "output_type": "display_data",
          "data": {
            "text/plain": [
              "<Figure size 720x504 with 1 Axes>"
            ],
            "image/png": "[encoded data removed]"
          },
          "metadata": {}
        }
      ]
    },
    {
      "cell_type": "code",
      "source": [
        "fig, ax = plt.subplots(figsize =(10, 7))\n",
        "for i in scores_Accuracy.keys():\n",
        "  ax.bar(i,scores_Accuracy[i], label=i)\n",
        "  plt.text(i,scores_Accuracy[i],round(scores_Accuracy[i],3), ha = 'center')\n",
        "ax.legend(loc='lower left')\n",
        "plt.title(\"Comparison of Accuracy models\")\n",
        "plt.show()"
      ],
      "metadata": {
        "colab": {
          "base_uri": "https://localhost:8080/",
          "height": 459
        },
        "id": "4TFSIo62ynIN",
        "outputId": "6ee62274-d5cf-44a6-8e73-ad8ea258dc56"
      },
      "execution_count": null,
      "outputs": [
        {
          "output_type": "display_data",
          "data": {
            "text/plain": [
              "<Figure size 720x504 with 1 Axes>"
            ],
            "image/png": "[encoded data removed]"
          },
          "metadata": {}
        }
      ]
    },
    {
      "cell_type": "code",
      "source": [
        "fig, ax = plt.subplots(figsize =(10, 7))\n",
        "for i in scores_MAE.keys():\n",
        "  ax.bar(i,scores_MAE[i], label=i)\n",
        "  plt.text(i,scores_MAE[i],round(scores_MAE[i],3), ha = 'center')\n",
        "ax.legend(loc='lower left')\n",
        "plt.title(\"Comparison of MAE models\")\n",
        "plt.show()"
      ],
      "metadata": {
        "colab": {
          "base_uri": "https://localhost:8080/",
          "height": 459
        },
        "id": "PqYKVRhCysYQ",
        "outputId": "95ffb487-dbe4-464c-e30a-730f8efe5f2e"
      },
      "execution_count": null,
      "outputs": [
        {
          "output_type": "display_data",
          "data": {
            "text/plain": [
              "<Figure size 720x504 with 1 Axes>"
            ],
            "image/png": "[encoded data removed]"
          },
          "metadata": {}
        }
      ]
    }
  ]
}