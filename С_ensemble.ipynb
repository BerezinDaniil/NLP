{
  "nbformat": 4,
  "nbformat_minor": 0,
  "metadata": {
    "colab": {
      "provenance": [],
      "toc_visible": true
    },
    "kernelspec": {
      "name": "python3",
      "display_name": "Python 3"
    },
    "language_info": {
      "name": "python"
    },
    "gpuClass": "standard",
    "accelerator": "GPU"
  },
  "cells": [
    {
      "cell_type": "code",
      "execution_count": 1,
      "metadata": {
        "colab": {
          "base_uri": "https://localhost:8080/"
        },
        "id": "1E4UvR-eIuCb",
        "outputId": "7b035b2c-8b33-4dab-fa92-d501902c6e73"
      },
      "outputs": [
        {
          "output_type": "stream",
          "name": "stdout",
          "text": [
            "Looking in indexes: https://pypi.org/simple, https://us-python.pkg.dev/colab-wheels/public/simple/\n",
            "Collecting pymorphy2\n",
            "  Downloading pymorphy2-0.9.1-py3-none-any.whl (55 kB)\n",
            "\u001b[2K     \u001b[90m━━━━━━━━━━━━━━━━━━━━━━━━━━━━━━━━━━━━━━━━\u001b[0m \u001b[32m55.5/55.5 KB\u001b[0m \u001b[31m1.6 MB/s\u001b[0m eta \u001b[36m0:00:00\u001b[0m\n",
            "\u001b[?25hCollecting dawg-python>=0.7.1\n",
            "  Downloading DAWG_Python-0.7.2-py2.py3-none-any.whl (11 kB)\n",
            "Collecting pymorphy2-dicts-ru<3.0,>=2.4\n",
            "  Downloading pymorphy2_dicts_ru-2.4.417127.4579844-py2.py3-none-any.whl (8.2 MB)\n",
            "\u001b[2K     \u001b[90m━━━━━━━━━━━━━━━━━━━━━━━━━━━━━━━━━━━━━━━━\u001b[0m \u001b[32m8.2/8.2 MB\u001b[0m \u001b[31m50.5 MB/s\u001b[0m eta \u001b[36m0:00:00\u001b[0m\n",
            "\u001b[?25hCollecting docopt>=0.6\n",
            "  Downloading docopt-0.6.2.tar.gz (25 kB)\n",
            "  Preparing metadata (setup.py) ... \u001b[?25l\u001b[?25hdone\n",
            "Building wheels for collected packages: docopt\n",
            "  Building wheel for docopt (setup.py) ... \u001b[?25l\u001b[?25hdone\n",
            "  Created wheel for docopt: filename=docopt-0.6.2-py2.py3-none-any.whl size=13721 sha256=69ff632c7b857f11881881587028ef6b991e13038b78952df180a012bc1c7969\n",
            "  Stored in directory: /root/.cache/pip/wheels/70/4a/46/1309fc853b8d395e60bafaf1b6df7845bdd82c95fd59dd8d2b\n",
            "Successfully built docopt\n",
            "Installing collected packages: pymorphy2-dicts-ru, docopt, dawg-python, pymorphy2\n",
            "Successfully installed dawg-python-0.7.2 docopt-0.6.2 pymorphy2-0.9.1 pymorphy2-dicts-ru-2.4.417127.4579844\n"
          ]
        },
        {
          "output_type": "stream",
          "name": "stderr",
          "text": [
            "[nltk_data] Downloading package stopwords to /root/nltk_data...\n",
            "[nltk_data]   Unzipping corpora/stopwords.zip.\n"
          ]
        }
      ],
      "source": [
        "import pandas as pd\n",
        "import numpy as np\n",
        "import random\n",
        "import seaborn as sns\n",
        "import matplotlib.pyplot as plt\n",
        "%matplotlib inline\n",
        "\n",
        "!pip install pymorphy2\n",
        "import re\n",
        "from pymorphy2 import MorphAnalyzer\n",
        "from functools import lru_cache\n",
        "from nltk.corpus import stopwords\n",
        "\n",
        "from multiprocessing import Pool\n",
        "from tqdm import tqdm\n",
        "\n",
        "import nltk\n",
        "nltk.download('stopwords')\n",
        "\n",
        "np.random.seed(42)\n",
        "random.seed(42)"
      ]
    },
    {
      "cell_type": "code",
      "source": [
        "import warnings\n",
        "warnings.filterwarnings('ignore')"
      ],
      "metadata": {
        "id": "vSUK8Qs53JpK"
      },
      "execution_count": 2,
      "outputs": []
    },
    {
      "cell_type": "code",
      "source": [
        "from google.colab import drive\n",
        "drive.mount('/content/drive/')"
      ],
      "metadata": {
        "colab": {
          "base_uri": "https://localhost:8080/"
        },
        "id": "d6pRxprToBa9",
        "outputId": "7b06a734-a219-4e2f-e485-c3d211f9ffdd"
      },
      "execution_count": 3,
      "outputs": [
        {
          "output_type": "stream",
          "name": "stdout",
          "text": [
            "Mounted at /content/drive/\n"
          ]
        }
      ]
    },
    {
      "cell_type": "markdown",
      "source": [
        "# Работа с данными"
      ],
      "metadata": {
        "id": "bDLIOEPNI6tl"
      }
    },
    {
      "cell_type": "code",
      "source": [
        "#train\n",
        "train = pd.read_csv('/content/drive/MyDrive/B_l_train.csv')\n",
        "#test\n",
        "test = pd.read_csv('/content/drive/MyDrive/B_l_test.csv')"
      ],
      "metadata": {
        "id": "knJcUrVYI36r"
      },
      "execution_count": 4,
      "outputs": []
    },
    {
      "cell_type": "code",
      "source": [
        "data = train.append(test)\n",
        "data.shape"
      ],
      "metadata": {
        "colab": {
          "base_uri": "https://localhost:8080/"
        },
        "id": "lV-dEPcLzlJO",
        "outputId": "705fae81-56a6-4ad7-dd1e-18ec9c0a026f"
      },
      "execution_count": 5,
      "outputs": [
        {
          "output_type": "execute_result",
          "data": {
            "text/plain": [
              "(947, 4)"
            ]
          },
          "metadata": {},
          "execution_count": 5
        }
      ]
    },
    {
      "cell_type": "code",
      "source": [
        "data"
      ],
      "metadata": {
        "colab": {
          "base_uri": "https://localhost:8080/",
          "height": 710
        },
        "id": "awWx3Ph9zs0T",
        "outputId": "5e0a4544-86c3-45f4-a7d9-2c9594821390"
      },
      "execution_count": 6,
      "outputs": [
        {
          "output_type": "execute_result",
          "data": {
            "text/plain": [
              "                                                 title  \\\n",
              "0    An Independent Voter Guide to The Impeachment ...   \n",
              "1    An App Called Libby and the Surprisingly Big B...   \n",
              "2    Introducing the 2017 Cook Political Report Par...   \n",
              "3    Bad education A mathematician, astrophysicist,...   \n",
              "4    A Germantown elementary school has gone virtua...   \n",
              "..                                                 ...   \n",
              "100  WALLACE OUT AT FOXFOXNEWS requiring shots...Th...   \n",
              "101  Trump’s Justices Protect Worship Services From...   \n",
              "102  6 Ways to Make Sure Your Next Conference Runs ...   \n",
              "103  DRUDGE WEATHER REPORTÂ®DRUDGE EXCLUSIVE: BUSH ...   \n",
              "104  Hillary Clinton: Republicans Are Shameless Gun...   \n",
              "\n",
              "                                               content  label  \\\n",
              "0    The impeachment trial ofÂ President Donald J. ...      1   \n",
              "1    Steve Potash , the bearded and bespectacled pr...      0   \n",
              "2    Introducing the 2017 Cook Political Report Par...      1   \n",
              "3    Natalia Kolesnikova / AFP / Scanpix / LETA\\n\\n...      0   \n",
              "4    A Germantown elementary school has gone virtua...      1   \n",
              "..                                                 ...    ...   \n",
              "100  Chris Wallace is leaving Fox News .\\nHe is set...      0   \n",
              "101  Trump’s Justices Protect Worship Services From...      2   \n",
              "102  Are you the sole organizer of your next super ...      0   \n",
              "103  STREISAND CELEBRATES HILLARY VICTORY'HAPPY DAY...      2   \n",
              "104  You know, democracy is the balancing of intere...      2   \n",
              "\n",
              "                      link  \n",
              "0                   ivn.us  \n",
              "1            newyorker.com  \n",
              "2        cookpolitical.com  \n",
              "3                meduza.io  \n",
              "4              sctimes.com  \n",
              "..                     ...  \n",
              "100           mediaite.com  \n",
              "101     nationalcenter.org  \n",
              "102         the-daily.buzz  \n",
              "103       drudgereport.com  \n",
              "104  thetruthaboutguns.com  \n",
              "\n",
              "[947 rows x 4 columns]"
            ],
            "text/html": [
              "\n",
              "  <div id=\"df-04a0c61f-7ad7-4084-befa-85023e56efcf\">\n",
              "    <div class=\"colab-df-container\">\n",
              "      <div>\n",
              "<style scoped>\n",
              "    .dataframe tbody tr th:only-of-type {\n",
              "        vertical-align: middle;\n",
              "    }\n",
              "\n",
              "    .dataframe tbody tr th {\n",
              "        vertical-align: top;\n",
              "    }\n",
              "\n",
              "    .dataframe thead th {\n",
              "        text-align: right;\n",
              "    }\n",
              "</style>\n",
              "<table border=\"1\" class=\"dataframe\">\n",
              "  <thead>\n",
              "    <tr style=\"text-align: right;\">\n",
              "      <th></th>\n",
              "      <th>title</th>\n",
              "      <th>content</th>\n",
              "      <th>label</th>\n",
              "      <th>link</th>\n",
              "    </tr>\n",
              "  </thead>\n",
              "  <tbody>\n",
              "    <tr>\n",
              "      <th>0</th>\n",
              "      <td>An Independent Voter Guide to The Impeachment ...</td>\n",
              "      <td>The impeachment trial ofÂ President Donald J. ...</td>\n",
              "      <td>1</td>\n",
              "      <td>ivn.us</td>\n",
              "    </tr>\n",
              "    <tr>\n",
              "      <th>1</th>\n",
              "      <td>An App Called Libby and the Surprisingly Big B...</td>\n",
              "      <td>Steve Potash , the bearded and bespectacled pr...</td>\n",
              "      <td>0</td>\n",
              "      <td>newyorker.com</td>\n",
              "    </tr>\n",
              "    <tr>\n",
              "      <th>2</th>\n",
              "      <td>Introducing the 2017 Cook Political Report Par...</td>\n",
              "      <td>Introducing the 2017 Cook Political Report Par...</td>\n",
              "      <td>1</td>\n",
              "      <td>cookpolitical.com</td>\n",
              "    </tr>\n",
              "    <tr>\n",
              "      <th>3</th>\n",
              "      <td>Bad education A mathematician, astrophysicist,...</td>\n",
              "      <td>Natalia Kolesnikova / AFP / Scanpix / LETA\\n\\n...</td>\n",
              "      <td>0</td>\n",
              "      <td>meduza.io</td>\n",
              "    </tr>\n",
              "    <tr>\n",
              "      <th>4</th>\n",
              "      <td>A Germantown elementary school has gone virtua...</td>\n",
              "      <td>A Germantown elementary school has gone virtua...</td>\n",
              "      <td>1</td>\n",
              "      <td>sctimes.com</td>\n",
              "    </tr>\n",
              "    <tr>\n",
              "      <th>...</th>\n",
              "      <td>...</td>\n",
              "      <td>...</td>\n",
              "      <td>...</td>\n",
              "      <td>...</td>\n",
              "    </tr>\n",
              "    <tr>\n",
              "      <th>100</th>\n",
              "      <td>WALLACE OUT AT FOXFOXNEWS requiring shots...Th...</td>\n",
              "      <td>Chris Wallace is leaving Fox News .\\nHe is set...</td>\n",
              "      <td>0</td>\n",
              "      <td>mediaite.com</td>\n",
              "    </tr>\n",
              "    <tr>\n",
              "      <th>101</th>\n",
              "      <td>Trump’s Justices Protect Worship Services From...</td>\n",
              "      <td>Trump’s Justices Protect Worship Services From...</td>\n",
              "      <td>2</td>\n",
              "      <td>nationalcenter.org</td>\n",
              "    </tr>\n",
              "    <tr>\n",
              "      <th>102</th>\n",
              "      <td>6 Ways to Make Sure Your Next Conference Runs ...</td>\n",
              "      <td>Are you the sole organizer of your next super ...</td>\n",
              "      <td>0</td>\n",
              "      <td>the-daily.buzz</td>\n",
              "    </tr>\n",
              "    <tr>\n",
              "      <th>103</th>\n",
              "      <td>DRUDGE WEATHER REPORTÂ®DRUDGE EXCLUSIVE: BUSH ...</td>\n",
              "      <td>STREISAND CELEBRATES HILLARY VICTORY'HAPPY DAY...</td>\n",
              "      <td>2</td>\n",
              "      <td>drudgereport.com</td>\n",
              "    </tr>\n",
              "    <tr>\n",
              "      <th>104</th>\n",
              "      <td>Hillary Clinton: Republicans Are Shameless Gun...</td>\n",
              "      <td>You know, democracy is the balancing of intere...</td>\n",
              "      <td>2</td>\n",
              "      <td>thetruthaboutguns.com</td>\n",
              "    </tr>\n",
              "  </tbody>\n",
              "</table>\n",
              "<p>947 rows × 4 columns</p>\n",
              "</div>\n",
              "      <button class=\"colab-df-convert\" onclick=\"convertToInteractive('df-04a0c61f-7ad7-4084-befa-85023e56efcf')\"\n",
              "              title=\"Convert this dataframe to an interactive table.\"\n",
              "              style=\"display:none;\">\n",
              "        \n",
              "  <svg xmlns=\"http://www.w3.org/2000/svg\" height=\"24px\"viewBox=\"0 0 24 24\"\n",
              "       width=\"24px\">\n",
              "    <path d=\"M0 0h24v24H0V0z\" fill=\"none\"/>\n",
              "    <path d=\"M18.56 5.44l.94 2.06.94-2.06 2.06-.94-2.06-.94-.94-2.06-.94 2.06-2.06.94zm-11 1L8.5 8.5l.94-2.06 2.06-.94-2.06-.94L8.5 2.5l-.94 2.06-2.06.94zm10 10l.94 2.06.94-2.06 2.06-.94-2.06-.94-.94-2.06-.94 2.06-2.06.94z\"/><path d=\"M17.41 7.96l-1.37-1.37c-.4-.4-.92-.59-1.43-.59-.52 0-1.04.2-1.43.59L10.3 9.45l-7.72 7.72c-.78.78-.78 2.05 0 2.83L4 21.41c.39.39.9.59 1.41.59.51 0 1.02-.2 1.41-.59l7.78-7.78 2.81-2.81c.8-.78.8-2.07 0-2.86zM5.41 20L4 18.59l7.72-7.72 1.47 1.35L5.41 20z\"/>\n",
              "  </svg>\n",
              "      </button>\n",
              "      \n",
              "  <style>\n",
              "    .colab-df-container {\n",
              "      display:flex;\n",
              "      flex-wrap:wrap;\n",
              "      gap: 12px;\n",
              "    }\n",
              "\n",
              "    .colab-df-convert {\n",
              "      background-color: #E8F0FE;\n",
              "      border: none;\n",
              "      border-radius: 50%;\n",
              "      cursor: pointer;\n",
              "      display: none;\n",
              "      fill: #1967D2;\n",
              "      height: 32px;\n",
              "      padding: 0 0 0 0;\n",
              "      width: 32px;\n",
              "    }\n",
              "\n",
              "    .colab-df-convert:hover {\n",
              "      background-color: #E2EBFA;\n",
              "      box-shadow: 0px 1px 2px rgba(60, 64, 67, 0.3), 0px 1px 3px 1px rgba(60, 64, 67, 0.15);\n",
              "      fill: #174EA6;\n",
              "    }\n",
              "\n",
              "    [theme=dark] .colab-df-convert {\n",
              "      background-color: #3B4455;\n",
              "      fill: #D2E3FC;\n",
              "    }\n",
              "\n",
              "    [theme=dark] .colab-df-convert:hover {\n",
              "      background-color: #434B5C;\n",
              "      box-shadow: 0px 1px 3px 1px rgba(0, 0, 0, 0.15);\n",
              "      filter: drop-shadow(0px 1px 2px rgba(0, 0, 0, 0.3));\n",
              "      fill: #FFFFFF;\n",
              "    }\n",
              "  </style>\n",
              "\n",
              "      <script>\n",
              "        const buttonEl =\n",
              "          document.querySelector('#df-04a0c61f-7ad7-4084-befa-85023e56efcf button.colab-df-convert');\n",
              "        buttonEl.style.display =\n",
              "          google.colab.kernel.accessAllowed ? 'block' : 'none';\n",
              "\n",
              "        async function convertToInteractive(key) {\n",
              "          const element = document.querySelector('#df-04a0c61f-7ad7-4084-befa-85023e56efcf');\n",
              "          const dataTable =\n",
              "            await google.colab.kernel.invokeFunction('convertToInteractive',\n",
              "                                                     [key], {});\n",
              "          if (!dataTable) return;\n",
              "\n",
              "          const docLinkHtml = 'Like what you see? Visit the ' +\n",
              "            '<a target=\"_blank\" href=https://colab.research.google.com/notebooks/data_table.ipynb>data table notebook</a>'\n",
              "            + ' to learn more about interactive tables.';\n",
              "          element.innerHTML = '';\n",
              "          dataTable['output_type'] = 'display_data';\n",
              "          await google.colab.output.renderOutput(dataTable, element);\n",
              "          const docLink = document.createElement('div');\n",
              "          docLink.innerHTML = docLinkHtml;\n",
              "          element.appendChild(docLink);\n",
              "        }\n",
              "      </script>\n",
              "    </div>\n",
              "  </div>\n",
              "  "
            ]
          },
          "metadata": {},
          "execution_count": 6
        }
      ]
    },
    {
      "cell_type": "markdown",
      "source": [
        "Удаление NaN"
      ],
      "metadata": {
        "id": "uBWrJk7c3NNs"
      }
    },
    {
      "cell_type": "code",
      "source": [
        "train = train.dropna()\n",
        "test = test.dropna()\n",
        "data = data.dropna()"
      ],
      "metadata": {
        "id": "eR7D_N_01kH3"
      },
      "execution_count": 7,
      "outputs": []
    },
    {
      "cell_type": "code",
      "source": [
        "data"
      ],
      "metadata": {
        "colab": {
          "base_uri": "https://localhost:8080/",
          "height": 710
        },
        "id": "Td8qb0W51qdQ",
        "outputId": "849539f8-c7f8-418c-ac86-38bd74c54756"
      },
      "execution_count": 8,
      "outputs": [
        {
          "output_type": "execute_result",
          "data": {
            "text/plain": [
              "                                                 title  \\\n",
              "0    An Independent Voter Guide to The Impeachment ...   \n",
              "1    An App Called Libby and the Surprisingly Big B...   \n",
              "2    Introducing the 2017 Cook Political Report Par...   \n",
              "3    Bad education A mathematician, astrophysicist,...   \n",
              "4    A Germantown elementary school has gone virtua...   \n",
              "..                                                 ...   \n",
              "100  WALLACE OUT AT FOXFOXNEWS requiring shots...Th...   \n",
              "101  Trump’s Justices Protect Worship Services From...   \n",
              "102  6 Ways to Make Sure Your Next Conference Runs ...   \n",
              "103  DRUDGE WEATHER REPORTÂ®DRUDGE EXCLUSIVE: BUSH ...   \n",
              "104  Hillary Clinton: Republicans Are Shameless Gun...   \n",
              "\n",
              "                                               content  label  \\\n",
              "0    The impeachment trial ofÂ President Donald J. ...      1   \n",
              "1    Steve Potash , the bearded and bespectacled pr...      0   \n",
              "2    Introducing the 2017 Cook Political Report Par...      1   \n",
              "3    Natalia Kolesnikova / AFP / Scanpix / LETA\\n\\n...      0   \n",
              "4    A Germantown elementary school has gone virtua...      1   \n",
              "..                                                 ...    ...   \n",
              "100  Chris Wallace is leaving Fox News .\\nHe is set...      0   \n",
              "101  Trump’s Justices Protect Worship Services From...      2   \n",
              "102  Are you the sole organizer of your next super ...      0   \n",
              "103  STREISAND CELEBRATES HILLARY VICTORY'HAPPY DAY...      2   \n",
              "104  You know, democracy is the balancing of intere...      2   \n",
              "\n",
              "                      link  \n",
              "0                   ivn.us  \n",
              "1            newyorker.com  \n",
              "2        cookpolitical.com  \n",
              "3                meduza.io  \n",
              "4              sctimes.com  \n",
              "..                     ...  \n",
              "100           mediaite.com  \n",
              "101     nationalcenter.org  \n",
              "102         the-daily.buzz  \n",
              "103       drudgereport.com  \n",
              "104  thetruthaboutguns.com  \n",
              "\n",
              "[932 rows x 4 columns]"
            ],
            "text/html": [
              "\n",
              "  <div id=\"df-a77847bc-3460-4afe-a45a-49905f970b85\">\n",
              "    <div class=\"colab-df-container\">\n",
              "      <div>\n",
              "<style scoped>\n",
              "    .dataframe tbody tr th:only-of-type {\n",
              "        vertical-align: middle;\n",
              "    }\n",
              "\n",
              "    .dataframe tbody tr th {\n",
              "        vertical-align: top;\n",
              "    }\n",
              "\n",
              "    .dataframe thead th {\n",
              "        text-align: right;\n",
              "    }\n",
              "</style>\n",
              "<table border=\"1\" class=\"dataframe\">\n",
              "  <thead>\n",
              "    <tr style=\"text-align: right;\">\n",
              "      <th></th>\n",
              "      <th>title</th>\n",
              "      <th>content</th>\n",
              "      <th>label</th>\n",
              "      <th>link</th>\n",
              "    </tr>\n",
              "  </thead>\n",
              "  <tbody>\n",
              "    <tr>\n",
              "      <th>0</th>\n",
              "      <td>An Independent Voter Guide to The Impeachment ...</td>\n",
              "      <td>The impeachment trial ofÂ President Donald J. ...</td>\n",
              "      <td>1</td>\n",
              "      <td>ivn.us</td>\n",
              "    </tr>\n",
              "    <tr>\n",
              "      <th>1</th>\n",
              "      <td>An App Called Libby and the Surprisingly Big B...</td>\n",
              "      <td>Steve Potash , the bearded and bespectacled pr...</td>\n",
              "      <td>0</td>\n",
              "      <td>newyorker.com</td>\n",
              "    </tr>\n",
              "    <tr>\n",
              "      <th>2</th>\n",
              "      <td>Introducing the 2017 Cook Political Report Par...</td>\n",
              "      <td>Introducing the 2017 Cook Political Report Par...</td>\n",
              "      <td>1</td>\n",
              "      <td>cookpolitical.com</td>\n",
              "    </tr>\n",
              "    <tr>\n",
              "      <th>3</th>\n",
              "      <td>Bad education A mathematician, astrophysicist,...</td>\n",
              "      <td>Natalia Kolesnikova / AFP / Scanpix / LETA\\n\\n...</td>\n",
              "      <td>0</td>\n",
              "      <td>meduza.io</td>\n",
              "    </tr>\n",
              "    <tr>\n",
              "      <th>4</th>\n",
              "      <td>A Germantown elementary school has gone virtua...</td>\n",
              "      <td>A Germantown elementary school has gone virtua...</td>\n",
              "      <td>1</td>\n",
              "      <td>sctimes.com</td>\n",
              "    </tr>\n",
              "    <tr>\n",
              "      <th>...</th>\n",
              "      <td>...</td>\n",
              "      <td>...</td>\n",
              "      <td>...</td>\n",
              "      <td>...</td>\n",
              "    </tr>\n",
              "    <tr>\n",
              "      <th>100</th>\n",
              "      <td>WALLACE OUT AT FOXFOXNEWS requiring shots...Th...</td>\n",
              "      <td>Chris Wallace is leaving Fox News .\\nHe is set...</td>\n",
              "      <td>0</td>\n",
              "      <td>mediaite.com</td>\n",
              "    </tr>\n",
              "    <tr>\n",
              "      <th>101</th>\n",
              "      <td>Trump’s Justices Protect Worship Services From...</td>\n",
              "      <td>Trump’s Justices Protect Worship Services From...</td>\n",
              "      <td>2</td>\n",
              "      <td>nationalcenter.org</td>\n",
              "    </tr>\n",
              "    <tr>\n",
              "      <th>102</th>\n",
              "      <td>6 Ways to Make Sure Your Next Conference Runs ...</td>\n",
              "      <td>Are you the sole organizer of your next super ...</td>\n",
              "      <td>0</td>\n",
              "      <td>the-daily.buzz</td>\n",
              "    </tr>\n",
              "    <tr>\n",
              "      <th>103</th>\n",
              "      <td>DRUDGE WEATHER REPORTÂ®DRUDGE EXCLUSIVE: BUSH ...</td>\n",
              "      <td>STREISAND CELEBRATES HILLARY VICTORY'HAPPY DAY...</td>\n",
              "      <td>2</td>\n",
              "      <td>drudgereport.com</td>\n",
              "    </tr>\n",
              "    <tr>\n",
              "      <th>104</th>\n",
              "      <td>Hillary Clinton: Republicans Are Shameless Gun...</td>\n",
              "      <td>You know, democracy is the balancing of intere...</td>\n",
              "      <td>2</td>\n",
              "      <td>thetruthaboutguns.com</td>\n",
              "    </tr>\n",
              "  </tbody>\n",
              "</table>\n",
              "<p>932 rows × 4 columns</p>\n",
              "</div>\n",
              "      <button class=\"colab-df-convert\" onclick=\"convertToInteractive('df-a77847bc-3460-4afe-a45a-49905f970b85')\"\n",
              "              title=\"Convert this dataframe to an interactive table.\"\n",
              "              style=\"display:none;\">\n",
              "        \n",
              "  <svg xmlns=\"http://www.w3.org/2000/svg\" height=\"24px\"viewBox=\"0 0 24 24\"\n",
              "       width=\"24px\">\n",
              "    <path d=\"M0 0h24v24H0V0z\" fill=\"none\"/>\n",
              "    <path d=\"M18.56 5.44l.94 2.06.94-2.06 2.06-.94-2.06-.94-.94-2.06-.94 2.06-2.06.94zm-11 1L8.5 8.5l.94-2.06 2.06-.94-2.06-.94L8.5 2.5l-.94 2.06-2.06.94zm10 10l.94 2.06.94-2.06 2.06-.94-2.06-.94-.94-2.06-.94 2.06-2.06.94z\"/><path d=\"M17.41 7.96l-1.37-1.37c-.4-.4-.92-.59-1.43-.59-.52 0-1.04.2-1.43.59L10.3 9.45l-7.72 7.72c-.78.78-.78 2.05 0 2.83L4 21.41c.39.39.9.59 1.41.59.51 0 1.02-.2 1.41-.59l7.78-7.78 2.81-2.81c.8-.78.8-2.07 0-2.86zM5.41 20L4 18.59l7.72-7.72 1.47 1.35L5.41 20z\"/>\n",
              "  </svg>\n",
              "      </button>\n",
              "      \n",
              "  <style>\n",
              "    .colab-df-container {\n",
              "      display:flex;\n",
              "      flex-wrap:wrap;\n",
              "      gap: 12px;\n",
              "    }\n",
              "\n",
              "    .colab-df-convert {\n",
              "      background-color: #E8F0FE;\n",
              "      border: none;\n",
              "      border-radius: 50%;\n",
              "      cursor: pointer;\n",
              "      display: none;\n",
              "      fill: #1967D2;\n",
              "      height: 32px;\n",
              "      padding: 0 0 0 0;\n",
              "      width: 32px;\n",
              "    }\n",
              "\n",
              "    .colab-df-convert:hover {\n",
              "      background-color: #E2EBFA;\n",
              "      box-shadow: 0px 1px 2px rgba(60, 64, 67, 0.3), 0px 1px 3px 1px rgba(60, 64, 67, 0.15);\n",
              "      fill: #174EA6;\n",
              "    }\n",
              "\n",
              "    [theme=dark] .colab-df-convert {\n",
              "      background-color: #3B4455;\n",
              "      fill: #D2E3FC;\n",
              "    }\n",
              "\n",
              "    [theme=dark] .colab-df-convert:hover {\n",
              "      background-color: #434B5C;\n",
              "      box-shadow: 0px 1px 3px 1px rgba(0, 0, 0, 0.15);\n",
              "      filter: drop-shadow(0px 1px 2px rgba(0, 0, 0, 0.3));\n",
              "      fill: #FFFFFF;\n",
              "    }\n",
              "  </style>\n",
              "\n",
              "      <script>\n",
              "        const buttonEl =\n",
              "          document.querySelector('#df-a77847bc-3460-4afe-a45a-49905f970b85 button.colab-df-convert');\n",
              "        buttonEl.style.display =\n",
              "          google.colab.kernel.accessAllowed ? 'block' : 'none';\n",
              "\n",
              "        async function convertToInteractive(key) {\n",
              "          const element = document.querySelector('#df-a77847bc-3460-4afe-a45a-49905f970b85');\n",
              "          const dataTable =\n",
              "            await google.colab.kernel.invokeFunction('convertToInteractive',\n",
              "                                                     [key], {});\n",
              "          if (!dataTable) return;\n",
              "\n",
              "          const docLinkHtml = 'Like what you see? Visit the ' +\n",
              "            '<a target=\"_blank\" href=https://colab.research.google.com/notebooks/data_table.ipynb>data table notebook</a>'\n",
              "            + ' to learn more about interactive tables.';\n",
              "          element.innerHTML = '';\n",
              "          dataTable['output_type'] = 'display_data';\n",
              "          await google.colab.output.renderOutput(dataTable, element);\n",
              "          const docLink = document.createElement('div');\n",
              "          docLink.innerHTML = docLinkHtml;\n",
              "          element.appendChild(docLink);\n",
              "        }\n",
              "      </script>\n",
              "    </div>\n",
              "  </div>\n",
              "  "
            ]
          },
          "metadata": {},
          "execution_count": 8
        }
      ]
    },
    {
      "cell_type": "markdown",
      "source": [
        "Взглянем на распределение по классам на всех данных"
      ],
      "metadata": {
        "id": "2ydSNyHaI9fF"
      }
    },
    {
      "cell_type": "code",
      "source": [
        "g = sns.catplot(x='label',\n",
        "                kind=\"count\",\n",
        "                data=data)\n",
        "plt.grid()\n",
        "plt.title(\"Class distribution in the data\");"
      ],
      "metadata": {
        "colab": {
          "base_uri": "https://localhost:8080/",
          "height": 529
        },
        "id": "IwAe3sg9JMsW",
        "outputId": "a05c4e54-fe7f-4589-9375-d3c8194714a0"
      },
      "execution_count": 9,
      "outputs": [
        {
          "output_type": "display_data",
          "data": {
            "text/plain": [
              "<Figure size 500x500 with 1 Axes>"
            ],
            "image/png": "[encoded data removed]"
          },
          "metadata": {}
        }
      ]
    },
    {
      "cell_type": "markdown",
      "source": [
        "Разобьем train на train и val"
      ],
      "metadata": {
        "id": "X9_qE6ZJ1dFr"
      }
    },
    {
      "cell_type": "code",
      "source": [
        "train"
      ],
      "metadata": {
        "colab": {
          "base_uri": "https://localhost:8080/",
          "height": 728
        },
        "id": "z5EzhQ4Gt_4G",
        "outputId": "fb8185e0-a1a9-4928-dddf-cac6023b137c"
      },
      "execution_count": 10,
      "outputs": [
        {
          "output_type": "execute_result",
          "data": {
            "text/plain": [
              "                                                 title  \\\n",
              "0    An Independent Voter Guide to The Impeachment ...   \n",
              "1    An App Called Libby and the Surprisingly Big B...   \n",
              "2    Introducing the 2017 Cook Political Report Par...   \n",
              "3    Bad education A mathematician, astrophysicist,...   \n",
              "4    A Germantown elementary school has gone virtua...   \n",
              "..                                                 ...   \n",
              "837  Fourth Circuit Wrongly Upholds Terrorist Scree...   \n",
              "838  Presidential Q&AScience DebatePresidential Q&A...   \n",
              "839  Paris police fire tear gas, water cannon at ba...   \n",
              "840  How to Update Your Amazon KindleHow to Preload...   \n",
              "841  Boston Mayor-elect Wu holds firm against polic...   \n",
              "\n",
              "                                               content  label  \\\n",
              "0    The impeachment trial ofÂ President Donald J. ...      1   \n",
              "1    Steve Potash , the bearded and bespectacled pr...      0   \n",
              "2    Introducing the 2017 Cook Political Report Par...      1   \n",
              "3    Natalia Kolesnikova / AFP / Scanpix / LETA\\n\\n...      0   \n",
              "4    A Germantown elementary school has gone virtua...      1   \n",
              "..                                                 ...    ...   \n",
              "837  U.S.A. –-(AmmoLand.com)- The Fourth Circuit Co...      2   \n",
              "838  \\n\\nScience and engineering have been responsi...      1   \n",
              "839  A demonstrator holding a Palesnian flag crosse...      1   \n",
              "840  Amazon regularly updates the Kindle software w...      1   \n",
              "841  BOSTON , MA- A brutal assault on a Boston Publ...      2   \n",
              "\n",
              "                        link  \n",
              "0                     ivn.us  \n",
              "1              newyorker.com  \n",
              "2          cookpolitical.com  \n",
              "3                  meduza.io  \n",
              "4                sctimes.com  \n",
              "..                       ...  \n",
              "837             ammoland.com  \n",
              "838        sciencedebate.org  \n",
              "839                   rfi.fr  \n",
              "840            howtogeek.com  \n",
              "841  lawenforcementtoday.com  \n",
              "\n",
              "[828 rows x 4 columns]"
            ],
            "text/html": [
              "\n",
              "  <div id=\"df-03e022a0-ae42-4289-9ddf-db1925cab0fd\">\n",
              "    <div class=\"colab-df-container\">\n",
              "      <div>\n",
              "<style scoped>\n",
              "    .dataframe tbody tr th:only-of-type {\n",
              "        vertical-align: middle;\n",
              "    }\n",
              "\n",
              "    .dataframe tbody tr th {\n",
              "        vertical-align: top;\n",
              "    }\n",
              "\n",
              "    .dataframe thead th {\n",
              "        text-align: right;\n",
              "    }\n",
              "</style>\n",
              "<table border=\"1\" class=\"dataframe\">\n",
              "  <thead>\n",
              "    <tr style=\"text-align: right;\">\n",
              "      <th></th>\n",
              "      <th>title</th>\n",
              "      <th>content</th>\n",
              "      <th>label</th>\n",
              "      <th>link</th>\n",
              "    </tr>\n",
              "  </thead>\n",
              "  <tbody>\n",
              "    <tr>\n",
              "      <th>0</th>\n",
              "      <td>An Independent Voter Guide to The Impeachment ...</td>\n",
              "      <td>The impeachment trial ofÂ President Donald J. ...</td>\n",
              "      <td>1</td>\n",
              "      <td>ivn.us</td>\n",
              "    </tr>\n",
              "    <tr>\n",
              "      <th>1</th>\n",
              "      <td>An App Called Libby and the Surprisingly Big B...</td>\n",
              "      <td>Steve Potash , the bearded and bespectacled pr...</td>\n",
              "      <td>0</td>\n",
              "      <td>newyorker.com</td>\n",
              "    </tr>\n",
              "    <tr>\n",
              "      <th>2</th>\n",
              "      <td>Introducing the 2017 Cook Political Report Par...</td>\n",
              "      <td>Introducing the 2017 Cook Political Report Par...</td>\n",
              "      <td>1</td>\n",
              "      <td>cookpolitical.com</td>\n",
              "    </tr>\n",
              "    <tr>\n",
              "      <th>3</th>\n",
              "      <td>Bad education A mathematician, astrophysicist,...</td>\n",
              "      <td>Natalia Kolesnikova / AFP / Scanpix / LETA\\n\\n...</td>\n",
              "      <td>0</td>\n",
              "      <td>meduza.io</td>\n",
              "    </tr>\n",
              "    <tr>\n",
              "      <th>4</th>\n",
              "      <td>A Germantown elementary school has gone virtua...</td>\n",
              "      <td>A Germantown elementary school has gone virtua...</td>\n",
              "      <td>1</td>\n",
              "      <td>sctimes.com</td>\n",
              "    </tr>\n",
              "    <tr>\n",
              "      <th>...</th>\n",
              "      <td>...</td>\n",
              "      <td>...</td>\n",
              "      <td>...</td>\n",
              "      <td>...</td>\n",
              "    </tr>\n",
              "    <tr>\n",
              "      <th>837</th>\n",
              "      <td>Fourth Circuit Wrongly Upholds Terrorist Scree...</td>\n",
              "      <td>U.S.A. –-(AmmoLand.com)- The Fourth Circuit Co...</td>\n",
              "      <td>2</td>\n",
              "      <td>ammoland.com</td>\n",
              "    </tr>\n",
              "    <tr>\n",
              "      <th>838</th>\n",
              "      <td>Presidential Q&amp;AScience DebatePresidential Q&amp;A...</td>\n",
              "      <td>\\n\\nScience and engineering have been responsi...</td>\n",
              "      <td>1</td>\n",
              "      <td>sciencedebate.org</td>\n",
              "    </tr>\n",
              "    <tr>\n",
              "      <th>839</th>\n",
              "      <td>Paris police fire tear gas, water cannon at ba...</td>\n",
              "      <td>A demonstrator holding a Palesnian flag crosse...</td>\n",
              "      <td>1</td>\n",
              "      <td>rfi.fr</td>\n",
              "    </tr>\n",
              "    <tr>\n",
              "      <th>840</th>\n",
              "      <td>How to Update Your Amazon KindleHow to Preload...</td>\n",
              "      <td>Amazon regularly updates the Kindle software w...</td>\n",
              "      <td>1</td>\n",
              "      <td>howtogeek.com</td>\n",
              "    </tr>\n",
              "    <tr>\n",
              "      <th>841</th>\n",
              "      <td>Boston Mayor-elect Wu holds firm against polic...</td>\n",
              "      <td>BOSTON , MA- A brutal assault on a Boston Publ...</td>\n",
              "      <td>2</td>\n",
              "      <td>lawenforcementtoday.com</td>\n",
              "    </tr>\n",
              "  </tbody>\n",
              "</table>\n",
              "<p>828 rows × 4 columns</p>\n",
              "</div>\n",
              "      <button class=\"colab-df-convert\" onclick=\"convertToInteractive('df-03e022a0-ae42-4289-9ddf-db1925cab0fd')\"\n",
              "              title=\"Convert this dataframe to an interactive table.\"\n",
              "              style=\"display:none;\">\n",
              "        \n",
              "  <svg xmlns=\"http://www.w3.org/2000/svg\" height=\"24px\"viewBox=\"0 0 24 24\"\n",
              "       width=\"24px\">\n",
              "    <path d=\"M0 0h24v24H0V0z\" fill=\"none\"/>\n",
              "    <path d=\"M18.56 5.44l.94 2.06.94-2.06 2.06-.94-2.06-.94-.94-2.06-.94 2.06-2.06.94zm-11 1L8.5 8.5l.94-2.06 2.06-.94-2.06-.94L8.5 2.5l-.94 2.06-2.06.94zm10 10l.94 2.06.94-2.06 2.06-.94-2.06-.94-.94-2.06-.94 2.06-2.06.94z\"/><path d=\"M17.41 7.96l-1.37-1.37c-.4-.4-.92-.59-1.43-.59-.52 0-1.04.2-1.43.59L10.3 9.45l-7.72 7.72c-.78.78-.78 2.05 0 2.83L4 21.41c.39.39.9.59 1.41.59.51 0 1.02-.2 1.41-.59l7.78-7.78 2.81-2.81c.8-.78.8-2.07 0-2.86zM5.41 20L4 18.59l7.72-7.72 1.47 1.35L5.41 20z\"/>\n",
              "  </svg>\n",
              "      </button>\n",
              "      \n",
              "  <style>\n",
              "    .colab-df-container {\n",
              "      display:flex;\n",
              "      flex-wrap:wrap;\n",
              "      gap: 12px;\n",
              "    }\n",
              "\n",
              "    .colab-df-convert {\n",
              "      background-color: #E8F0FE;\n",
              "      border: none;\n",
              "      border-radius: 50%;\n",
              "      cursor: pointer;\n",
              "      display: none;\n",
              "      fill: #1967D2;\n",
              "      height: 32px;\n",
              "      padding: 0 0 0 0;\n",
              "      width: 32px;\n",
              "    }\n",
              "\n",
              "    .colab-df-convert:hover {\n",
              "      background-color: #E2EBFA;\n",
              "      box-shadow: 0px 1px 2px rgba(60, 64, 67, 0.3), 0px 1px 3px 1px rgba(60, 64, 67, 0.15);\n",
              "      fill: #174EA6;\n",
              "    }\n",
              "\n",
              "    [theme=dark] .colab-df-convert {\n",
              "      background-color: #3B4455;\n",
              "      fill: #D2E3FC;\n",
              "    }\n",
              "\n",
              "    [theme=dark] .colab-df-convert:hover {\n",
              "      background-color: #434B5C;\n",
              "      box-shadow: 0px 1px 3px 1px rgba(0, 0, 0, 0.15);\n",
              "      filter: drop-shadow(0px 1px 2px rgba(0, 0, 0, 0.3));\n",
              "      fill: #FFFFFF;\n",
              "    }\n",
              "  </style>\n",
              "\n",
              "      <script>\n",
              "        const buttonEl =\n",
              "          document.querySelector('#df-03e022a0-ae42-4289-9ddf-db1925cab0fd button.colab-df-convert');\n",
              "        buttonEl.style.display =\n",
              "          google.colab.kernel.accessAllowed ? 'block' : 'none';\n",
              "\n",
              "        async function convertToInteractive(key) {\n",
              "          const element = document.querySelector('#df-03e022a0-ae42-4289-9ddf-db1925cab0fd');\n",
              "          const dataTable =\n",
              "            await google.colab.kernel.invokeFunction('convertToInteractive',\n",
              "                                                     [key], {});\n",
              "          if (!dataTable) return;\n",
              "\n",
              "          const docLinkHtml = 'Like what you see? Visit the ' +\n",
              "            '<a target=\"_blank\" href=https://colab.research.google.com/notebooks/data_table.ipynb>data table notebook</a>'\n",
              "            + ' to learn more about interactive tables.';\n",
              "          element.innerHTML = '';\n",
              "          dataTable['output_type'] = 'display_data';\n",
              "          await google.colab.output.renderOutput(dataTable, element);\n",
              "          const docLink = document.createElement('div');\n",
              "          docLink.innerHTML = docLinkHtml;\n",
              "          element.appendChild(docLink);\n",
              "        }\n",
              "      </script>\n",
              "    </div>\n",
              "  </div>\n",
              "  "
            ]
          },
          "metadata": {},
          "execution_count": 10
        }
      ]
    },
    {
      "cell_type": "code",
      "source": [
        "from sklearn.model_selection import train_test_split as tts\n",
        "\n",
        "df_train = train[['title','content','label','link']]\n",
        "y_train = train['label']\n",
        "train, val, y_train, y_val = tts(df_train, y_train, shuffle=True, stratify=y_train, train_size=0.815)  "
      ],
      "metadata": {
        "id": "FuMdYw_Z1WIO"
      },
      "execution_count": 11,
      "outputs": []
    },
    {
      "cell_type": "markdown",
      "source": [
        "Создание новой фичи"
      ],
      "metadata": {
        "id": "viqKksOBMr1y"
      }
    },
    {
      "cell_type": "code",
      "source": [
        "train['all_text'] = train['title']+train['content']\n",
        "val['all_text'] = val['title']+val['content']\n",
        "test['all_text'] = test['title']+test['content']"
      ],
      "metadata": {
        "id": "G5Xq6cwNM2sd"
      },
      "execution_count": 12,
      "outputs": []
    },
    {
      "cell_type": "code",
      "source": [
        "val.shape "
      ],
      "metadata": {
        "colab": {
          "base_uri": "https://localhost:8080/"
        },
        "id": "z04xl16s2vs8",
        "outputId": "bca02ab2-4051-419d-80ab-d6c3ae9d4305"
      },
      "execution_count": 13,
      "outputs": [
        {
          "output_type": "execute_result",
          "data": {
            "text/plain": [
              "(154, 5)"
            ]
          },
          "metadata": {},
          "execution_count": 13
        }
      ]
    },
    {
      "cell_type": "code",
      "source": [
        "test.shape"
      ],
      "metadata": {
        "colab": {
          "base_uri": "https://localhost:8080/"
        },
        "id": "GxJ_uSMF20zk",
        "outputId": "f6a7c8bf-7c0d-45a4-87aa-9df2cf280451"
      },
      "execution_count": 14,
      "outputs": [
        {
          "output_type": "execute_result",
          "data": {
            "text/plain": [
              "(104, 5)"
            ]
          },
          "metadata": {},
          "execution_count": 14
        }
      ]
    },
    {
      "cell_type": "code",
      "source": [
        "train.shape"
      ],
      "metadata": {
        "colab": {
          "base_uri": "https://localhost:8080/"
        },
        "id": "z6pl91Ae22-a",
        "outputId": "d34e7066-208b-4d6f-c3d5-1b6045d4c6c4"
      },
      "execution_count": 15,
      "outputs": [
        {
          "output_type": "execute_result",
          "data": {
            "text/plain": [
              "(674, 5)"
            ]
          },
          "metadata": {},
          "execution_count": 15
        }
      ]
    },
    {
      "cell_type": "markdown",
      "source": [
        "#Лемматизация"
      ],
      "metadata": {
        "id": "8EFQV1TiM5hQ"
      }
    },
    {
      "cell_type": "code",
      "source": [
        "m = MorphAnalyzer()\n",
        "regex = re.compile(\"[A-Za-z]+\")\n",
        "\n",
        "def words_only(text, regex=regex):\n",
        "    try:\n",
        "        return regex.findall(text.lower())\n",
        "    except:\n",
        "        return []\n",
        "\n",
        "@lru_cache(maxsize=128)\n",
        "def lemmatize_word(token, pymorphy=m):\n",
        "    return pymorphy.parse(token)[0].normal_form\n",
        "\n",
        "def lemmatize_text(text):\n",
        "    return [lemmatize_word(w) for w in text]\n",
        "\n",
        "\n",
        "mystopwords = stopwords.words('english') \n",
        "def remove_stopwords(lemmas, stopwords = mystopwords):\n",
        "    return [w for w in lemmas if not w in stopwords and len(w) > 3]\n",
        "\n",
        "def clean_text(text):\n",
        "    tokens = words_only(text)\n",
        "    lemmas = lemmatize_text(tokens)\n",
        "    \n",
        "    return ' '.join(remove_stopwords(lemmas))"
      ],
      "metadata": {
        "id": "dCEiAgc7M53n"
      },
      "execution_count": 16,
      "outputs": []
    },
    {
      "cell_type": "code",
      "source": [
        "from multiprocessing import Pool as PoolSklearn\n",
        "#train\n",
        "with PoolSklearn(4) as p:\n",
        "    lemmas = list(tqdm(p.imap(clean_text, train['all_text']), total=len(train)))\n",
        "    \n",
        "train['lemmas'] = lemmas\n",
        "train.sample(5)\n",
        "\n",
        "#val\n",
        "with PoolSklearn(4) as p:\n",
        "    lemmas = list(tqdm(p.imap(clean_text, val['all_text']), total=len(val)))  \n",
        "val['lemmas'] = lemmas\n",
        "val.sample(5)\n",
        "\n",
        "#test \n",
        "with PoolSklearn(4) as p:\n",
        "    lemmas = list(tqdm(p.imap(clean_text, test['all_text']), total=len(test)))\n",
        "    \n",
        "test['lemmas'] = lemmas\n",
        "test.sample(5)"
      ],
      "metadata": {
        "colab": {
          "base_uri": "https://localhost:8080/",
          "height": 632
        },
        "id": "rVYs2AK1NCCU",
        "outputId": "24477b26-9943-4223-8c9e-12fa7382198e"
      },
      "execution_count": 17,
      "outputs": [
        {
          "output_type": "stream",
          "name": "stderr",
          "text": [
            "100%|██████████| 674/674 [01:23<00:00,  8.03it/s]\n",
            "100%|██████████| 154/154 [00:21<00:00,  7.18it/s]\n",
            "100%|██████████| 104/104 [00:13<00:00,  7.89it/s]\n"
          ]
        },
        {
          "output_type": "execute_result",
          "data": {
            "text/plain": [
              "                                                title  \\\n",
              "13  Individual Rights and Their Role in the Revolu...   \n",
              "36  Southwest Florida still home to six of the wor...   \n",
              "8   Transgender Woman Ja’leyah-Jamar Murdered in K...   \n",
              "47  The FBI now functions entirely as a weapon aga...   \n",
              "5   From Crosley Field to TQL Stadium: 'It's a new...   \n",
              "\n",
              "                                              content  label  \\\n",
              "13  America’s Revolutionary Mind, by C. Bradley Th...      2   \n",
              "36  Southwest Florida still home to six of the wor...      1   \n",
              "8   The Advocate reports that the 19th reported mu...      0   \n",
              "47  The FBI now functions entirely as a weapon aga...      2   \n",
              "5   From Crosley Field to TQL Stadium: 'It's a new...      1   \n",
              "\n",
              "                       link  \\\n",
              "13  intellectualtakeout.org   \n",
              "36        heraldtribune.com   \n",
              "8      lavendermagazine.com   \n",
              "47               trump.news   \n",
              "5      greenvilleonline.com   \n",
              "\n",
              "                                             all_text  \\\n",
              "13  Individual Rights and Their Role in the Revolu...   \n",
              "36  Southwest Florida still home to six of the wor...   \n",
              "8   Transgender Woman Ja’leyah-Jamar Murdered in K...   \n",
              "47  The FBI now functions entirely as a weapon aga...   \n",
              "5   From Crosley Field to TQL Stadium: 'It's a new...   \n",
              "\n",
              "                                               lemmas  \n",
              "13  individual rights role revolutionthe media ope...  \n",
              "36  southwest florida still home world richest bil...  \n",
              "8   transgender woman leyah jamar murdered kansas ...  \n",
              "47  functions entirely weapon republicans protecti...  \n",
              "5   crosley field stadium west endsuny cuny switch...  "
            ],
            "text/html": [
              "\n",
              "  <div id=\"df-6283f5e3-6fc5-4ae6-9413-6a85342de18c\">\n",
              "    <div class=\"colab-df-container\">\n",
              "      <div>\n",
              "<style scoped>\n",
              "    .dataframe tbody tr th:only-of-type {\n",
              "        vertical-align: middle;\n",
              "    }\n",
              "\n",
              "    .dataframe tbody tr th {\n",
              "        vertical-align: top;\n",
              "    }\n",
              "\n",
              "    .dataframe thead th {\n",
              "        text-align: right;\n",
              "    }\n",
              "</style>\n",
              "<table border=\"1\" class=\"dataframe\">\n",
              "  <thead>\n",
              "    <tr style=\"text-align: right;\">\n",
              "      <th></th>\n",
              "      <th>title</th>\n",
              "      <th>content</th>\n",
              "      <th>label</th>\n",
              "      <th>link</th>\n",
              "      <th>all_text</th>\n",
              "      <th>lemmas</th>\n",
              "    </tr>\n",
              "  </thead>\n",
              "  <tbody>\n",
              "    <tr>\n",
              "      <th>13</th>\n",
              "      <td>Individual Rights and Their Role in the Revolu...</td>\n",
              "      <td>America’s Revolutionary Mind, by C. Bradley Th...</td>\n",
              "      <td>2</td>\n",
              "      <td>intellectualtakeout.org</td>\n",
              "      <td>Individual Rights and Their Role in the Revolu...</td>\n",
              "      <td>individual rights role revolutionthe media ope...</td>\n",
              "    </tr>\n",
              "    <tr>\n",
              "      <th>36</th>\n",
              "      <td>Southwest Florida still home to six of the wor...</td>\n",
              "      <td>Southwest Florida still home to six of the wor...</td>\n",
              "      <td>1</td>\n",
              "      <td>heraldtribune.com</td>\n",
              "      <td>Southwest Florida still home to six of the wor...</td>\n",
              "      <td>southwest florida still home world richest bil...</td>\n",
              "    </tr>\n",
              "    <tr>\n",
              "      <th>8</th>\n",
              "      <td>Transgender Woman Ja’leyah-Jamar Murdered in K...</td>\n",
              "      <td>The Advocate reports that the 19th reported mu...</td>\n",
              "      <td>0</td>\n",
              "      <td>lavendermagazine.com</td>\n",
              "      <td>Transgender Woman Ja’leyah-Jamar Murdered in K...</td>\n",
              "      <td>transgender woman leyah jamar murdered kansas ...</td>\n",
              "    </tr>\n",
              "    <tr>\n",
              "      <th>47</th>\n",
              "      <td>The FBI now functions entirely as a weapon aga...</td>\n",
              "      <td>The FBI now functions entirely as a weapon aga...</td>\n",
              "      <td>2</td>\n",
              "      <td>trump.news</td>\n",
              "      <td>The FBI now functions entirely as a weapon aga...</td>\n",
              "      <td>functions entirely weapon republicans protecti...</td>\n",
              "    </tr>\n",
              "    <tr>\n",
              "      <th>5</th>\n",
              "      <td>From Crosley Field to TQL Stadium: 'It's a new...</td>\n",
              "      <td>From Crosley Field to TQL Stadium: 'It's a new...</td>\n",
              "      <td>1</td>\n",
              "      <td>greenvilleonline.com</td>\n",
              "      <td>From Crosley Field to TQL Stadium: 'It's a new...</td>\n",
              "      <td>crosley field stadium west endsuny cuny switch...</td>\n",
              "    </tr>\n",
              "  </tbody>\n",
              "</table>\n",
              "</div>\n",
              "      <button class=\"colab-df-convert\" onclick=\"convertToInteractive('df-6283f5e3-6fc5-4ae6-9413-6a85342de18c')\"\n",
              "              title=\"Convert this dataframe to an interactive table.\"\n",
              "              style=\"display:none;\">\n",
              "        \n",
              "  <svg xmlns=\"http://www.w3.org/2000/svg\" height=\"24px\"viewBox=\"0 0 24 24\"\n",
              "       width=\"24px\">\n",
              "    <path d=\"M0 0h24v24H0V0z\" fill=\"none\"/>\n",
              "    <path d=\"M18.56 5.44l.94 2.06.94-2.06 2.06-.94-2.06-.94-.94-2.06-.94 2.06-2.06.94zm-11 1L8.5 8.5l.94-2.06 2.06-.94-2.06-.94L8.5 2.5l-.94 2.06-2.06.94zm10 10l.94 2.06.94-2.06 2.06-.94-2.06-.94-.94-2.06-.94 2.06-2.06.94z\"/><path d=\"M17.41 7.96l-1.37-1.37c-.4-.4-.92-.59-1.43-.59-.52 0-1.04.2-1.43.59L10.3 9.45l-7.72 7.72c-.78.78-.78 2.05 0 2.83L4 21.41c.39.39.9.59 1.41.59.51 0 1.02-.2 1.41-.59l7.78-7.78 2.81-2.81c.8-.78.8-2.07 0-2.86zM5.41 20L4 18.59l7.72-7.72 1.47 1.35L5.41 20z\"/>\n",
              "  </svg>\n",
              "      </button>\n",
              "      \n",
              "  <style>\n",
              "    .colab-df-container {\n",
              "      display:flex;\n",
              "      flex-wrap:wrap;\n",
              "      gap: 12px;\n",
              "    }\n",
              "\n",
              "    .colab-df-convert {\n",
              "      background-color: #E8F0FE;\n",
              "      border: none;\n",
              "      border-radius: 50%;\n",
              "      cursor: pointer;\n",
              "      display: none;\n",
              "      fill: #1967D2;\n",
              "      height: 32px;\n",
              "      padding: 0 0 0 0;\n",
              "      width: 32px;\n",
              "    }\n",
              "\n",
              "    .colab-df-convert:hover {\n",
              "      background-color: #E2EBFA;\n",
              "      box-shadow: 0px 1px 2px rgba(60, 64, 67, 0.3), 0px 1px 3px 1px rgba(60, 64, 67, 0.15);\n",
              "      fill: #174EA6;\n",
              "    }\n",
              "\n",
              "    [theme=dark] .colab-df-convert {\n",
              "      background-color: #3B4455;\n",
              "      fill: #D2E3FC;\n",
              "    }\n",
              "\n",
              "    [theme=dark] .colab-df-convert:hover {\n",
              "      background-color: #434B5C;\n",
              "      box-shadow: 0px 1px 3px 1px rgba(0, 0, 0, 0.15);\n",
              "      filter: drop-shadow(0px 1px 2px rgba(0, 0, 0, 0.3));\n",
              "      fill: #FFFFFF;\n",
              "    }\n",
              "  </style>\n",
              "\n",
              "      <script>\n",
              "        const buttonEl =\n",
              "          document.querySelector('#df-6283f5e3-6fc5-4ae6-9413-6a85342de18c button.colab-df-convert');\n",
              "        buttonEl.style.display =\n",
              "          google.colab.kernel.accessAllowed ? 'block' : 'none';\n",
              "\n",
              "        async function convertToInteractive(key) {\n",
              "          const element = document.querySelector('#df-6283f5e3-6fc5-4ae6-9413-6a85342de18c');\n",
              "          const dataTable =\n",
              "            await google.colab.kernel.invokeFunction('convertToInteractive',\n",
              "                                                     [key], {});\n",
              "          if (!dataTable) return;\n",
              "\n",
              "          const docLinkHtml = 'Like what you see? Visit the ' +\n",
              "            '<a target=\"_blank\" href=https://colab.research.google.com/notebooks/data_table.ipynb>data table notebook</a>'\n",
              "            + ' to learn more about interactive tables.';\n",
              "          element.innerHTML = '';\n",
              "          dataTable['output_type'] = 'display_data';\n",
              "          await google.colab.output.renderOutput(dataTable, element);\n",
              "          const docLink = document.createElement('div');\n",
              "          docLink.innerHTML = docLinkHtml;\n",
              "          element.appendChild(docLink);\n",
              "        }\n",
              "      </script>\n",
              "    </div>\n",
              "  </div>\n",
              "  "
            ]
          },
          "metadata": {},
          "execution_count": 17
        }
      ]
    },
    {
      "cell_type": "code",
      "source": [
        "train = train.dropna()\n",
        "test = test.dropna()\n",
        "val = val.dropna()"
      ],
      "metadata": {
        "id": "VWECqgci2flF"
      },
      "execution_count": 18,
      "outputs": []
    },
    {
      "cell_type": "code",
      "source": [
        "train"
      ],
      "metadata": {
        "colab": {
          "base_uri": "https://localhost:8080/",
          "height": 1000
        },
        "id": "m-yItmj3usoi",
        "outputId": "1d49eaa3-bf63-4618-c567-f4cbe63141ff"
      },
      "execution_count": 19,
      "outputs": [
        {
          "output_type": "execute_result",
          "data": {
            "text/plain": [
              "                                                 title  \\\n",
              "292  Ontario calls it quits on fighting climate cha...   \n",
              "212  South Africa newspaper plagiarized from Financ...   \n",
              "829  East Texas judge sets deadline for Pence in Go...   \n",
              "261             Why the NDP needs a new defence critic   \n",
              "577  Federal school safety panel, Parkland commissi...   \n",
              "..                                                 ...   \n",
              "84   Emails: Judicial Watch YouTube Video Censored ...   \n",
              "64   Latinos Vote! Releases Ad Featuring Latina Cel...   \n",
              "309  • Chart: The Largest Militaries in the World• ...   \n",
              "575  Interviews – Freedom NewsNews – Freedom NewsFr...   \n",
              "291  Not Political? Democrat Governors All Lift Sta...   \n",
              "\n",
              "                                               content  label  \\\n",
              "292  Doug Ford has cancelled Ontario’s cap and trad...      0   \n",
              "212  Sunday Times logo\\n\\nSouth Africa’s Sunday Tim...      1   \n",
              "829  Your notification has been saved .\\nThere was ...      1   \n",
              "261  CAF members along with American and Polish for...      0   \n",
              "577  The commission, led by Pinellas County Sheriff...      1   \n",
              "..                                                 ...    ...   \n",
              "84   CA Secretary of State ’ s Office Pressured Goo...      2   \n",
              "64   PFAW’s Latinos Vote! released an ad on Monday ...      0   \n",
              "309  The Statista \"Chart of the Day\", made availabl...      1   \n",
              "575  Our web store features hundreds of radical wor...      0   \n",
              "291  This week, Democrat California Governor Gavin ...      2   \n",
              "\n",
              "                      link                                           all_text  \\\n",
              "292     canadafactcheck.ca  Ontario calls it quits on fighting climate cha...   \n",
              "212       imediaethics.org  South Africa newspaper plagiarized from Financ...   \n",
              "829       news-journal.com  East Texas judge sets deadline for Pence in Go...   \n",
              "261  canadiandimension.com  Why the NDP needs a new defence criticCAF memb...   \n",
              "577       sayfiereview.com  Federal school safety panel, Parkland commissi...   \n",
              "..                     ...                                                ...   \n",
              "84       judicialwatch.org  Emails: Judicial Watch YouTube Video Censored ...   \n",
              "64                pfaw.org  Latinos Vote! Releases Ad Featuring Latina Cel...   \n",
              "309           statista.com  • Chart: The Largest Militaries in the World• ...   \n",
              "575     freedomnews.org.uk  Interviews – Freedom NewsNews – Freedom NewsFr...   \n",
              "291  freedomnewsreport.com  Not Political? Democrat Governors All Lift Sta...   \n",
              "\n",
              "                                                lemmas  \n",
              "292  ontario calls quits fighting climate change bu...  \n",
              "212  south africa newspaper plagiarized financial t...  \n",
              "829  east texas judge sets deadline pence gohmert l...  \n",
              "261  needs defence criticcaf members along american...  \n",
              "577  federal school safety panel parkland commissio...  \n",
              "..                                                 ...  \n",
              "84   emails judicial watch youtube video censored r...  \n",
              "64   latinos vote releases featuring latina celebri...  \n",
              "309  chart largest militaries world chart renewable...  \n",
              "575  interviews freedom newsnews freedom newsfreedo...  \n",
              "291  political democrat governors lift stay home or...  \n",
              "\n",
              "[674 rows x 6 columns]"
            ],
            "text/html": [
              "\n",
              "  <div id=\"df-a2183656-c71e-4168-8fff-3566dd2be961\">\n",
              "    <div class=\"colab-df-container\">\n",
              "      <div>\n",
              "<style scoped>\n",
              "    .dataframe tbody tr th:only-of-type {\n",
              "        vertical-align: middle;\n",
              "    }\n",
              "\n",
              "    .dataframe tbody tr th {\n",
              "        vertical-align: top;\n",
              "    }\n",
              "\n",
              "    .dataframe thead th {\n",
              "        text-align: right;\n",
              "    }\n",
              "</style>\n",
              "<table border=\"1\" class=\"dataframe\">\n",
              "  <thead>\n",
              "    <tr style=\"text-align: right;\">\n",
              "      <th></th>\n",
              "      <th>title</th>\n",
              "      <th>content</th>\n",
              "      <th>label</th>\n",
              "      <th>link</th>\n",
              "      <th>all_text</th>\n",
              "      <th>lemmas</th>\n",
              "    </tr>\n",
              "  </thead>\n",
              "  <tbody>\n",
              "    <tr>\n",
              "      <th>292</th>\n",
              "      <td>Ontario calls it quits on fighting climate cha...</td>\n",
              "      <td>Doug Ford has cancelled Ontario’s cap and trad...</td>\n",
              "      <td>0</td>\n",
              "      <td>canadafactcheck.ca</td>\n",
              "      <td>Ontario calls it quits on fighting climate cha...</td>\n",
              "      <td>ontario calls quits fighting climate change bu...</td>\n",
              "    </tr>\n",
              "    <tr>\n",
              "      <th>212</th>\n",
              "      <td>South Africa newspaper plagiarized from Financ...</td>\n",
              "      <td>Sunday Times logo\\n\\nSouth Africa’s Sunday Tim...</td>\n",
              "      <td>1</td>\n",
              "      <td>imediaethics.org</td>\n",
              "      <td>South Africa newspaper plagiarized from Financ...</td>\n",
              "      <td>south africa newspaper plagiarized financial t...</td>\n",
              "    </tr>\n",
              "    <tr>\n",
              "      <th>829</th>\n",
              "      <td>East Texas judge sets deadline for Pence in Go...</td>\n",
              "      <td>Your notification has been saved .\\nThere was ...</td>\n",
              "      <td>1</td>\n",
              "      <td>news-journal.com</td>\n",
              "      <td>East Texas judge sets deadline for Pence in Go...</td>\n",
              "      <td>east texas judge sets deadline pence gohmert l...</td>\n",
              "    </tr>\n",
              "    <tr>\n",
              "      <th>261</th>\n",
              "      <td>Why the NDP needs a new defence critic</td>\n",
              "      <td>CAF members along with American and Polish for...</td>\n",
              "      <td>0</td>\n",
              "      <td>canadiandimension.com</td>\n",
              "      <td>Why the NDP needs a new defence criticCAF memb...</td>\n",
              "      <td>needs defence criticcaf members along american...</td>\n",
              "    </tr>\n",
              "    <tr>\n",
              "      <th>577</th>\n",
              "      <td>Federal school safety panel, Parkland commissi...</td>\n",
              "      <td>The commission, led by Pinellas County Sheriff...</td>\n",
              "      <td>1</td>\n",
              "      <td>sayfiereview.com</td>\n",
              "      <td>Federal school safety panel, Parkland commissi...</td>\n",
              "      <td>federal school safety panel parkland commissio...</td>\n",
              "    </tr>\n",
              "    <tr>\n",
              "      <th>...</th>\n",
              "      <td>...</td>\n",
              "      <td>...</td>\n",
              "      <td>...</td>\n",
              "      <td>...</td>\n",
              "      <td>...</td>\n",
              "      <td>...</td>\n",
              "    </tr>\n",
              "    <tr>\n",
              "      <th>84</th>\n",
              "      <td>Emails: Judicial Watch YouTube Video Censored ...</td>\n",
              "      <td>CA Secretary of State ’ s Office Pressured Goo...</td>\n",
              "      <td>2</td>\n",
              "      <td>judicialwatch.org</td>\n",
              "      <td>Emails: Judicial Watch YouTube Video Censored ...</td>\n",
              "      <td>emails judicial watch youtube video censored r...</td>\n",
              "    </tr>\n",
              "    <tr>\n",
              "      <th>64</th>\n",
              "      <td>Latinos Vote! Releases Ad Featuring Latina Cel...</td>\n",
              "      <td>PFAW’s Latinos Vote! released an ad on Monday ...</td>\n",
              "      <td>0</td>\n",
              "      <td>pfaw.org</td>\n",
              "      <td>Latinos Vote! Releases Ad Featuring Latina Cel...</td>\n",
              "      <td>latinos vote releases featuring latina celebri...</td>\n",
              "    </tr>\n",
              "    <tr>\n",
              "      <th>309</th>\n",
              "      <td>• Chart: The Largest Militaries in the World• ...</td>\n",
              "      <td>The Statista \"Chart of the Day\", made availabl...</td>\n",
              "      <td>1</td>\n",
              "      <td>statista.com</td>\n",
              "      <td>• Chart: The Largest Militaries in the World• ...</td>\n",
              "      <td>chart largest militaries world chart renewable...</td>\n",
              "    </tr>\n",
              "    <tr>\n",
              "      <th>575</th>\n",
              "      <td>Interviews – Freedom NewsNews – Freedom NewsFr...</td>\n",
              "      <td>Our web store features hundreds of radical wor...</td>\n",
              "      <td>0</td>\n",
              "      <td>freedomnews.org.uk</td>\n",
              "      <td>Interviews – Freedom NewsNews – Freedom NewsFr...</td>\n",
              "      <td>interviews freedom newsnews freedom newsfreedo...</td>\n",
              "    </tr>\n",
              "    <tr>\n",
              "      <th>291</th>\n",
              "      <td>Not Political? Democrat Governors All Lift Sta...</td>\n",
              "      <td>This week, Democrat California Governor Gavin ...</td>\n",
              "      <td>2</td>\n",
              "      <td>freedomnewsreport.com</td>\n",
              "      <td>Not Political? Democrat Governors All Lift Sta...</td>\n",
              "      <td>political democrat governors lift stay home or...</td>\n",
              "    </tr>\n",
              "  </tbody>\n",
              "</table>\n",
              "<p>674 rows × 6 columns</p>\n",
              "</div>\n",
              "      <button class=\"colab-df-convert\" onclick=\"convertToInteractive('df-a2183656-c71e-4168-8fff-3566dd2be961')\"\n",
              "              title=\"Convert this dataframe to an interactive table.\"\n",
              "              style=\"display:none;\">\n",
              "        \n",
              "  <svg xmlns=\"http://www.w3.org/2000/svg\" height=\"24px\"viewBox=\"0 0 24 24\"\n",
              "       width=\"24px\">\n",
              "    <path d=\"M0 0h24v24H0V0z\" fill=\"none\"/>\n",
              "    <path d=\"M18.56 5.44l.94 2.06.94-2.06 2.06-.94-2.06-.94-.94-2.06-.94 2.06-2.06.94zm-11 1L8.5 8.5l.94-2.06 2.06-.94-2.06-.94L8.5 2.5l-.94 2.06-2.06.94zm10 10l.94 2.06.94-2.06 2.06-.94-2.06-.94-.94-2.06-.94 2.06-2.06.94z\"/><path d=\"M17.41 7.96l-1.37-1.37c-.4-.4-.92-.59-1.43-.59-.52 0-1.04.2-1.43.59L10.3 9.45l-7.72 7.72c-.78.78-.78 2.05 0 2.83L4 21.41c.39.39.9.59 1.41.59.51 0 1.02-.2 1.41-.59l7.78-7.78 2.81-2.81c.8-.78.8-2.07 0-2.86zM5.41 20L4 18.59l7.72-7.72 1.47 1.35L5.41 20z\"/>\n",
              "  </svg>\n",
              "      </button>\n",
              "      \n",
              "  <style>\n",
              "    .colab-df-container {\n",
              "      display:flex;\n",
              "      flex-wrap:wrap;\n",
              "      gap: 12px;\n",
              "    }\n",
              "\n",
              "    .colab-df-convert {\n",
              "      background-color: #E8F0FE;\n",
              "      border: none;\n",
              "      border-radius: 50%;\n",
              "      cursor: pointer;\n",
              "      display: none;\n",
              "      fill: #1967D2;\n",
              "      height: 32px;\n",
              "      padding: 0 0 0 0;\n",
              "      width: 32px;\n",
              "    }\n",
              "\n",
              "    .colab-df-convert:hover {\n",
              "      background-color: #E2EBFA;\n",
              "      box-shadow: 0px 1px 2px rgba(60, 64, 67, 0.3), 0px 1px 3px 1px rgba(60, 64, 67, 0.15);\n",
              "      fill: #174EA6;\n",
              "    }\n",
              "\n",
              "    [theme=dark] .colab-df-convert {\n",
              "      background-color: #3B4455;\n",
              "      fill: #D2E3FC;\n",
              "    }\n",
              "\n",
              "    [theme=dark] .colab-df-convert:hover {\n",
              "      background-color: #434B5C;\n",
              "      box-shadow: 0px 1px 3px 1px rgba(0, 0, 0, 0.15);\n",
              "      filter: drop-shadow(0px 1px 2px rgba(0, 0, 0, 0.3));\n",
              "      fill: #FFFFFF;\n",
              "    }\n",
              "  </style>\n",
              "\n",
              "      <script>\n",
              "        const buttonEl =\n",
              "          document.querySelector('#df-a2183656-c71e-4168-8fff-3566dd2be961 button.colab-df-convert');\n",
              "        buttonEl.style.display =\n",
              "          google.colab.kernel.accessAllowed ? 'block' : 'none';\n",
              "\n",
              "        async function convertToInteractive(key) {\n",
              "          const element = document.querySelector('#df-a2183656-c71e-4168-8fff-3566dd2be961');\n",
              "          const dataTable =\n",
              "            await google.colab.kernel.invokeFunction('convertToInteractive',\n",
              "                                                     [key], {});\n",
              "          if (!dataTable) return;\n",
              "\n",
              "          const docLinkHtml = 'Like what you see? Visit the ' +\n",
              "            '<a target=\"_blank\" href=https://colab.research.google.com/notebooks/data_table.ipynb>data table notebook</a>'\n",
              "            + ' to learn more about interactive tables.';\n",
              "          element.innerHTML = '';\n",
              "          dataTable['output_type'] = 'display_data';\n",
              "          await google.colab.output.renderOutput(dataTable, element);\n",
              "          const docLink = document.createElement('div');\n",
              "          docLink.innerHTML = docLinkHtml;\n",
              "          element.appendChild(docLink);\n",
              "        }\n",
              "      </script>\n",
              "    </div>\n",
              "  </div>\n",
              "  "
            ]
          },
          "metadata": {},
          "execution_count": 19
        }
      ]
    },
    {
      "cell_type": "code",
      "source": [
        "train.loc[train[\"label\"] == \"N\", \"label\"] = np.nan"
      ],
      "metadata": {
        "id": "liLIjxpULpwH"
      },
      "execution_count": 20,
      "outputs": []
    },
    {
      "cell_type": "code",
      "source": [
        "train.info()"
      ],
      "metadata": {
        "colab": {
          "base_uri": "https://localhost:8080/"
        },
        "id": "WlVXKBmwL8mQ",
        "outputId": "80fc735d-ecbb-4cf4-b294-34eed90f7d80"
      },
      "execution_count": 21,
      "outputs": [
        {
          "output_type": "stream",
          "name": "stdout",
          "text": [
            "<class 'pandas.core.frame.DataFrame'>\n",
            "Int64Index: 674 entries, 292 to 291\n",
            "Data columns (total 6 columns):\n",
            " #   Column    Non-Null Count  Dtype  \n",
            "---  ------    --------------  -----  \n",
            " 0   title     674 non-null    object \n",
            " 1   content   674 non-null    object \n",
            " 2   label     674 non-null    float64\n",
            " 3   link      674 non-null    object \n",
            " 4   all_text  674 non-null    object \n",
            " 5   lemmas    674 non-null    object \n",
            "dtypes: float64(1), object(5)\n",
            "memory usage: 36.9+ KB\n"
          ]
        }
      ]
    },
    {
      "cell_type": "markdown",
      "source": [
        "# Tf-Idf"
      ],
      "metadata": {
        "id": "5Of9qaVXNaqK"
      }
    },
    {
      "cell_type": "code",
      "source": [
        "from sklearn.feature_extraction.text import TfidfVectorizer"
      ],
      "metadata": {
        "id": "gkyapNbTNjyu"
      },
      "execution_count": 22,
      "outputs": []
    },
    {
      "cell_type": "code",
      "source": [
        "vec = TfidfVectorizer(ngram_range=(1, 2))\n",
        "train_vec = vec.fit_transform(train['lemmas'])\n",
        "test_vec = vec.transform(test['lemmas'])\n",
        "val_vec = vec.transform(val['lemmas'])"
      ],
      "metadata": {
        "id": "cSlRkD8TNj1f"
      },
      "execution_count": 23,
      "outputs": []
    },
    {
      "cell_type": "code",
      "source": [
        "y_train = train['label']\n",
        "y_test = test['label']\n",
        "y_val = val['label']"
      ],
      "metadata": {
        "id": "VK0cY_CINj4X"
      },
      "execution_count": 24,
      "outputs": []
    },
    {
      "cell_type": "markdown",
      "source": [
        "## Отбор фич"
      ],
      "metadata": {
        "id": "xkH3GHqGa0Hp"
      }
    },
    {
      "cell_type": "code",
      "source": [
        "from sklearn.feature_selection import SelectKBest, chi2,mutual_info_classif ,SelectPercentile"
      ],
      "metadata": {
        "id": "7rivwiyhNwHD"
      },
      "execution_count": 25,
      "outputs": []
    },
    {
      "cell_type": "code",
      "source": [
        "bestfeatures = SelectPercentile(score_func = chi2)\n",
        "fit = bestfeatures.fit(train_vec, y_train)"
      ],
      "metadata": {
        "id": "UI1aVV7eNwrm"
      },
      "execution_count": 26,
      "outputs": []
    },
    {
      "cell_type": "code",
      "source": [
        "dfscores = pd.DataFrame(fit.scores_)\n",
        "dfcolumns = pd.DataFrame(np.arange(train_vec.shape[1]))"
      ],
      "metadata": {
        "id": "TSNm4B0EN_Xg"
      },
      "execution_count": 27,
      "outputs": []
    },
    {
      "cell_type": "code",
      "source": [
        "featureScores = pd.concat([dfcolumns, dfscores], axis = 1)\n",
        "featureScores.columns = ['Specs', 'Score']"
      ],
      "metadata": {
        "id": "H6pHSQIxOM7T"
      },
      "execution_count": 28,
      "outputs": []
    },
    {
      "cell_type": "code",
      "source": [
        "n = featureScores.nlargest(300, 'Score')"
      ],
      "metadata": {
        "id": "pbZbfApyPHDB"
      },
      "execution_count": 29,
      "outputs": []
    },
    {
      "cell_type": "code",
      "source": [
        "print(featureScores.nlargest(300, 'Score'))"
      ],
      "metadata": {
        "colab": {
          "base_uri": "https://localhost:8080/"
        },
        "id": "JU7TXYQfOyKh",
        "outputId": "de8ba50c-1523-487f-a844-6a9d1bfac2e2"
      },
      "execution_count": 30,
      "outputs": [
        {
          "output_type": "stream",
          "name": "stdout",
          "text": [
            "           Specs     Score\n",
            "1489667  1489667  3.535704\n",
            "148859    148859  3.502908\n",
            "1501110  1501110  3.029813\n",
            "1240209  1240209  2.302931\n",
            "155727    155727  2.157091\n",
            "...          ...       ...\n",
            "849155    849155  0.654689\n",
            "267899    267899  0.654490\n",
            "788486    788486  0.653102\n",
            "770172    770172  0.652391\n",
            "189434    189434  0.650825\n",
            "\n",
            "[300 rows x 2 columns]\n"
          ]
        }
      ]
    },
    {
      "cell_type": "code",
      "source": [
        "arr = np.array(n['Specs'])"
      ],
      "metadata": {
        "id": "Vow4iwh-PCEM"
      },
      "execution_count": 31,
      "outputs": []
    },
    {
      "cell_type": "code",
      "source": [
        "arr_name = vec.get_feature_names_out()"
      ],
      "metadata": {
        "id": "nTunGuK5SV2S"
      },
      "execution_count": 32,
      "outputs": []
    },
    {
      "cell_type": "code",
      "source": [
        "for i in arr:\n",
        "  print(arr_name[i])"
      ],
      "metadata": {
        "colab": {
          "base_uri": "https://localhost:8080/"
        },
        "id": "EtnZFTHNSoxi",
        "outputId": "b199f95a-0fd7-44f1-eca3-1f636acc3936"
      },
      "execution_count": 33,
      "outputs": [
        {
          "output_type": "stream",
          "name": "stdout",
          "text": [
            "trans\n",
            "biden\n",
            "trump\n",
            "right wing\n",
            "black\n",
            "lgbtq\n",
            "cuba\n",
            "source getty\n",
            "manchin\n",
            "kronstadt\n",
            "abortion\n",
            "attempting access\n",
            "women\n",
            "gaetz\n",
            "capitalism\n",
            "unavailable\n",
            "said\n",
            "israel\n",
            "hamas\n",
            "unavailable legal\n",
            "like\n",
            "president trump\n",
            "brittany\n",
            "getty\n",
            "movement\n",
            "sponsored links\n",
            "veterans\n",
            "advertisement hide\n",
            "assange\n",
            "trans people\n",
            "cision\n",
            "borgerson\n",
            "legal reasons\n",
            "getty source\n",
            "popular information\n",
            "access website\n",
            "belonging european\n",
            "country belonging\n",
            "enforces general\n",
            "gdpr\n",
            "gdpr therefore\n",
            "including enforces\n",
            "protection regulation\n",
            "regulation gdpr\n",
            "website country\n",
            "wing\n",
            "data\n",
            "working class\n",
            "cuban\n",
            "obama\n",
            "people\n",
            "time issues\n",
            "economic area\n",
            "european economic\n",
            "kosher\n",
            "securedrop\n",
            "capitalist\n",
            "general data\n",
            "godzilla\n",
            "oppression\n",
            "democrat\n",
            "planned parenthood\n",
            "data protection\n",
            "beatles\n",
            "album\n",
            "mastercard\n",
            "justice party\n",
            "american bridge\n",
            "woodruff\n",
            "flynn\n",
            "goodman\n",
            "parenthood\n",
            "fifth estate\n",
            "revolutionary\n",
            "islamic\n",
            "indigenous\n",
            "cannot granted\n",
            "granted time\n",
            "reasons recognize\n",
            "recognize attempting\n",
            "therefore access\n",
            "rehnquist\n",
            "koch\n",
            "enforces\n",
            "democracy\n",
            "conservatives\n",
            "issues contact\n",
            "center stateless\n",
            "source source\n",
            "church\n",
            "keene\n",
            "breaking news\n",
            "illegal aliens\n",
            "access cannot\n",
            "aboriginal\n",
            "christian\n",
            "attribution international\n",
            "licensed creative\n",
            "work licensed\n",
            "climate\n",
            "antifa\n",
            "area including\n",
            "wuhan\n",
            "find information\n",
            "allah\n",
            "commons attribution\n",
            "anarchist\n",
            "workers\n",
            "kaufman\n",
            "transpartisan\n",
            "season\n",
            "able find\n",
            "meat\n",
            "christian news\n",
            "goldman\n",
            "bristol\n",
            "estonian\n",
            "definitely slowed\n",
            "health resourcethe\n",
            "resourcethe\n",
            "resourcethe pandemic\n",
            "slowed people\n",
            "anti\n",
            "inbox email\n",
            "sharing delivered\n",
            "stories worth\n",
            "worth sharing\n",
            "democrats\n",
            "aliens\n",
            "queer\n",
            "bridge century\n",
            "lula\n",
            "second amendment\n",
            "swann\n",
            "port angeles\n",
            "revolution\n",
            "freedom alliance\n",
            "ecuador\n",
            "international licensethis\n",
            "licensethis\n",
            "licensethis work\n",
            "right\n",
            "malcolm\n",
            "ransomware\n",
            "pages posting\n",
            "ajax happy\n",
            "backing ajax\n",
            "considered really\n",
            "crimeall\n",
            "crimeall things\n",
            "look backing\n",
            "photography crimeall\n",
            "resign term\n",
            "permalink\n",
            "issachar\n",
            "veteranos\n",
            "durant\n",
            "anti trans\n",
            "mins\n",
            "annotation\n",
            "homosexual\n",
            "thegrio\n",
            "premiere directed\n",
            "things considered\n",
            "quran\n",
            "credit\n",
            "biden forced\n",
            "illegal\n",
            "alec\n",
            "moyers\n",
            "black people\n",
            "films\n",
            "whitmer\n",
            "likeyou\n",
            "likeyou might\n",
            "might likeyou\n",
            "department https\n",
            "mastercard world\n",
            "stateless\n",
            "oneida\n",
            "imperialist\n",
            "assyrian\n",
            "pandemic definitely\n",
            "diet\n",
            "media matters\n",
            "itunes\n",
            "police\n",
            "conservative\n",
            "cloudflare\n",
            "chipman\n",
            "connor\n",
            "fancelli\n",
            "story continues\n",
            "credit card\n",
            "unborn\n",
            "hammon\n",
            "come long\n",
            "breaking christian\n",
            "liberty\n",
            "white\n",
            "incl\n",
            "dietrich\n",
            "trans women\n",
            "solidarity\n",
            "imperialism\n",
            "plant based\n",
            "aids\n",
            "like look\n",
            "tsukuba\n",
            "muslim brotherhood\n",
            "climate crisis\n",
            "racist\n",
            "islam\n",
            "emissions\n",
            "creative commons\n",
            "matt gaetz\n",
            "first nations\n",
            "curbside\n",
            "uber rich\n",
            "nvidia\n",
            "caption\n",
            "jakarta\n",
            "party\n",
            "illegal immigrants\n",
            "utica\n",
            "feminist\n",
            "violence\n",
            "charge anytime\n",
            "updates free\n",
            "feminists\n",
            "media\n",
            "romney\n",
            "like loading\n",
            "fstv\n",
            "finicum\n",
            "county health\n",
            "naya\n",
            "watches\n",
            "christians\n",
            "maxwell\n",
            "sallyport\n",
            "delivered inbox\n",
            "horner\n",
            "loudoun\n",
            "snyder\n",
            "fifthestate\n",
            "fifthestate archive\n",
            "garrison\n",
            "improper payments\n",
            "socialist\n",
            "tobin\n",
            "dolphins\n",
            "xinhua news\n",
            "martinez wright\n",
            "vivien\n",
            "vivien leigh\n",
            "incl deaths\n",
            "imported\n",
            "ncaa\n",
            "communities\n",
            "judicial watch\n",
            "caltrans\n",
            "rurales\n",
            "knox\n",
            "rights\n",
            "leftist\n",
            "judi\n",
            "blockade\n",
            "siwa\n",
            "chauvin\n",
            "conversation\n",
            "everard\n",
            "belabored\n",
            "smartnews\n",
            "brotherhood\n",
            "avakian\n",
            "intv\n",
            "chinese mainland\n",
            "fucking\n",
            "corporations\n",
            "voter\n",
            "girls\n",
            "lucci\n",
            "bored panda\n",
            "even\n",
            "chance rain\n",
            "winds chance\n",
            "algae\n",
            "racial capitalism\n",
            "health department\n",
            "loading\n",
            "hunter\n",
            "chief china\n",
            "swiggle\n",
            "swiggle pattern\n",
            "love\n",
            "color\n",
            "labour\n",
            "kant\n",
            "buttigieg\n"
          ]
        }
      ]
    },
    {
      "cell_type": "code",
      "source": [
        "for i in arr:\n",
        "  train[f'feature_{i}'] = train_vec[:, i].toarray()\n",
        "  val[f'feature_{i}'] = val_vec[:, i].toarray()\n",
        "  test[f'feature_{i}'] = test_vec[:, i].toarray()"
      ],
      "metadata": {
        "id": "5b7-hM48PUfr"
      },
      "execution_count": 34,
      "outputs": []
    },
    {
      "cell_type": "markdown",
      "source": [
        "# Классификация"
      ],
      "metadata": {
        "id": "Dq5EV9kqXGcg"
      }
    },
    {
      "cell_type": "markdown",
      "source": [
        "## Baseline"
      ],
      "metadata": {
        "id": "uh-n-5PCS-cM"
      }
    },
    {
      "cell_type": "code",
      "source": [
        "from sklearn.svm import LinearSVC\n",
        "Baseline = LinearSVC()\n",
        "Baseline.fit(train_vec, y_train)"
      ],
      "metadata": {
        "id": "602tV02LTFii",
        "colab": {
          "base_uri": "https://localhost:8080/",
          "height": 75
        },
        "outputId": "98fc8920-f3d4-4ded-c552-07b70433dc98"
      },
      "execution_count": 35,
      "outputs": [
        {
          "output_type": "execute_result",
          "data": {
            "text/plain": [
              "LinearSVC()"
            ],
            "text/html": [
              "<style>#sk-container-id-1 {color: black;background-color: white;}#sk-container-id-1 pre{padding: 0;}#sk-container-id-1 div.sk-toggleable {background-color: white;}#sk-container-id-1 label.sk-toggleable__label {cursor: pointer;display: block;width: 100%;margin-bottom: 0;padding: 0.3em;box-sizing: border-box;text-align: center;}#sk-container-id-1 label.sk-toggleable__label-arrow:before {content: \"▸\";float: left;margin-right: 0.25em;color: #696969;}#sk-container-id-1 label.sk-toggleable__label-arrow:hover:before {color: black;}#sk-container-id-1 div.sk-estimator:hover label.sk-toggleable__label-arrow:before {color: black;}#sk-container-id-1 div.sk-toggleable__content {max-height: 0;max-width: 0;overflow: hidden;text-align: left;background-color: #f0f8ff;}#sk-container-id-1 div.sk-toggleable__content pre {margin: 0.2em;color: black;border-radius: 0.25em;background-color: #f0f8ff;}#sk-container-id-1 input.sk-toggleable__control:checked~div.sk-toggleable__content {max-height: 200px;max-width: 100%;overflow: auto;}#sk-container-id-1 input.sk-toggleable__control:checked~label.sk-toggleable__label-arrow:before {content: \"▾\";}#sk-container-id-1 div.sk-estimator input.sk-toggleable__control:checked~label.sk-toggleable__label {background-color: #d4ebff;}#sk-container-id-1 div.sk-label input.sk-toggleable__control:checked~label.sk-toggleable__label {background-color: #d4ebff;}#sk-container-id-1 input.sk-hidden--visually {border: 0;clip: rect(1px 1px 1px 1px);clip: rect(1px, 1px, 1px, 1px);height: 1px;margin: -1px;overflow: hidden;padding: 0;position: absolute;width: 1px;}#sk-container-id-1 div.sk-estimator {font-family: monospace;background-color: #f0f8ff;border: 1px dotted black;border-radius: 0.25em;box-sizing: border-box;margin-bottom: 0.5em;}#sk-container-id-1 div.sk-estimator:hover {background-color: #d4ebff;}#sk-container-id-1 div.sk-parallel-item::after {content: \"\";width: 100%;border-bottom: 1px solid gray;flex-grow: 1;}#sk-container-id-1 div.sk-label:hover label.sk-toggleable__label {background-color: #d4ebff;}#sk-container-id-1 div.sk-serial::before {content: \"\";position: absolute;border-left: 1px solid gray;box-sizing: border-box;top: 0;bottom: 0;left: 50%;z-index: 0;}#sk-container-id-1 div.sk-serial {display: flex;flex-direction: column;align-items: center;background-color: white;padding-right: 0.2em;padding-left: 0.2em;position: relative;}#sk-container-id-1 div.sk-item {position: relative;z-index: 1;}#sk-container-id-1 div.sk-parallel {display: flex;align-items: stretch;justify-content: center;background-color: white;position: relative;}#sk-container-id-1 div.sk-item::before, #sk-container-id-1 div.sk-parallel-item::before {content: \"\";position: absolute;border-left: 1px solid gray;box-sizing: border-box;top: 0;bottom: 0;left: 50%;z-index: -1;}#sk-container-id-1 div.sk-parallel-item {display: flex;flex-direction: column;z-index: 1;position: relative;background-color: white;}#sk-container-id-1 div.sk-parallel-item:first-child::after {align-self: flex-end;width: 50%;}#sk-container-id-1 div.sk-parallel-item:last-child::after {align-self: flex-start;width: 50%;}#sk-container-id-1 div.sk-parallel-item:only-child::after {width: 0;}#sk-container-id-1 div.sk-dashed-wrapped {border: 1px dashed gray;margin: 0 0.4em 0.5em 0.4em;box-sizing: border-box;padding-bottom: 0.4em;background-color: white;}#sk-container-id-1 div.sk-label label {font-family: monospace;font-weight: bold;display: inline-block;line-height: 1.2em;}#sk-container-id-1 div.sk-label-container {text-align: center;}#sk-container-id-1 div.sk-container {/* jupyter's `normalize.less` sets `[hidden] { display: none; }` but bootstrap.min.css set `[hidden] { display: none !important; }` so we also need the `!important` here to be able to override the default hidden behavior on the sphinx rendered scikit-learn.org. See: https://github.com/scikit-learn/scikit-learn/issues/21755 */display: inline-block !important;position: relative;}#sk-container-id-1 div.sk-text-repr-fallback {display: none;}</style><div id=\"sk-container-id-1\" class=\"sk-top-container\"><div class=\"sk-text-repr-fallback\"><pre>LinearSVC()</pre><b>In a Jupyter environment, please rerun this cell to show the HTML representation or trust the notebook. <br />On GitHub, the HTML representation is unable to render, please try loading this page with nbviewer.org.</b></div><div class=\"sk-container\" hidden><div class=\"sk-item\"><div class=\"sk-estimator sk-toggleable\"><input class=\"sk-toggleable__control sk-hidden--visually\" id=\"sk-estimator-id-1\" type=\"checkbox\" checked><label for=\"sk-estimator-id-1\" class=\"sk-toggleable__label sk-toggleable__label-arrow\">LinearSVC</label><div class=\"sk-toggleable__content\"><pre>LinearSVC()</pre></div></div></div></div></div>"
            ]
          },
          "metadata": {},
          "execution_count": 35
        }
      ]
    },
    {
      "cell_type": "code",
      "source": [
        "scores_F1 ={}\n",
        "scores_MAE ={}\n",
        "scores_Accuracy = {}"
      ],
      "metadata": {
        "id": "vmmEeFAsTlAH"
      },
      "execution_count": 36,
      "outputs": []
    },
    {
      "cell_type": "code",
      "source": [
        "Baseline_test = test_vec"
      ],
      "metadata": {
        "id": "BKy5ukqUCOr6"
      },
      "execution_count": 37,
      "outputs": []
    },
    {
      "cell_type": "code",
      "source": [
        "import tensorflow as tf\n",
        "\n",
        "y_pred = Baseline.predict(Baseline_test)\n",
        "test_y = tf.keras.utils.to_categorical(\n",
        "    test['label'], num_classes=3)\n",
        "y_proba_cb = Baseline._predict_proba_lr(Baseline_test)"
      ],
      "metadata": {
        "id": "7ADMc1mOTqLO"
      },
      "execution_count": 38,
      "outputs": []
    },
    {
      "cell_type": "code",
      "source": [
        "from sklearn.metrics import f1_score ,mean_absolute_error, accuracy_score\n",
        "\n",
        "print('F1:',f1_score(y_pred, y_test, average='macro'))\n",
        "scores_F1['Baseline'] = f1_score(y_pred, y_test, average='macro')\n",
        "print('Accuracy:',accuracy_score(y_pred, y_test))\n",
        "scores_Accuracy['Baseline'] = accuracy_score(y_pred, y_test)\n",
        "print('MAE:',mean_absolute_error(y_proba_cb, test_y))\n",
        "scores_MAE['Baseline'] = mean_absolute_error(y_proba_cb,test_y)"
      ],
      "metadata": {
        "id": "NBbpjzL4TtY5",
        "colab": {
          "base_uri": "https://localhost:8080/"
        },
        "outputId": "ed6d7ca9-951f-4dbd-e3eb-a96ea2a6799c"
      },
      "execution_count": 39,
      "outputs": [
        {
          "output_type": "stream",
          "name": "stdout",
          "text": [
            "F1: 0.687251461988304\n",
            "Accuracy: 0.6923076923076923\n",
            "MAE: 0.40012929470473807\n"
          ]
        }
      ]
    },
    {
      "cell_type": "markdown",
      "source": [
        "## LightGBM"
      ],
      "metadata": {
        "id": "LMv7IiMVOKEP"
      }
    },
    {
      "cell_type": "code",
      "source": [
        "import lightgbm as lgb\n",
        "LightGBM = lgb.LGBMClassifier()"
      ],
      "metadata": {
        "id": "jlPouxfINj62"
      },
      "execution_count": 40,
      "outputs": []
    },
    {
      "cell_type": "code",
      "source": [
        "LightGBM_test = test_vec"
      ],
      "metadata": {
        "id": "Nr-jDIv0CjbO"
      },
      "execution_count": 41,
      "outputs": []
    },
    {
      "cell_type": "code",
      "source": [
        "LightGBM.fit(train_vec, y_train)"
      ],
      "metadata": {
        "colab": {
          "base_uri": "https://localhost:8080/",
          "height": 75
        },
        "id": "rof6AfNaNj9O",
        "outputId": "17ca35b5-7c8a-4936-ff42-128182ec595c"
      },
      "execution_count": 42,
      "outputs": [
        {
          "output_type": "execute_result",
          "data": {
            "text/plain": [
              "LGBMClassifier()"
            ],
            "text/html": [
              "<style>#sk-container-id-2 {color: black;background-color: white;}#sk-container-id-2 pre{padding: 0;}#sk-container-id-2 div.sk-toggleable {background-color: white;}#sk-container-id-2 label.sk-toggleable__label {cursor: pointer;display: block;width: 100%;margin-bottom: 0;padding: 0.3em;box-sizing: border-box;text-align: center;}#sk-container-id-2 label.sk-toggleable__label-arrow:before {content: \"▸\";float: left;margin-right: 0.25em;color: #696969;}#sk-container-id-2 label.sk-toggleable__label-arrow:hover:before {color: black;}#sk-container-id-2 div.sk-estimator:hover label.sk-toggleable__label-arrow:before {color: black;}#sk-container-id-2 div.sk-toggleable__content {max-height: 0;max-width: 0;overflow: hidden;text-align: left;background-color: #f0f8ff;}#sk-container-id-2 div.sk-toggleable__content pre {margin: 0.2em;color: black;border-radius: 0.25em;background-color: #f0f8ff;}#sk-container-id-2 input.sk-toggleable__control:checked~div.sk-toggleable__content {max-height: 200px;max-width: 100%;overflow: auto;}#sk-container-id-2 input.sk-toggleable__control:checked~label.sk-toggleable__label-arrow:before {content: \"▾\";}#sk-container-id-2 div.sk-estimator input.sk-toggleable__control:checked~label.sk-toggleable__label {background-color: #d4ebff;}#sk-container-id-2 div.sk-label input.sk-toggleable__control:checked~label.sk-toggleable__label {background-color: #d4ebff;}#sk-container-id-2 input.sk-hidden--visually {border: 0;clip: rect(1px 1px 1px 1px);clip: rect(1px, 1px, 1px, 1px);height: 1px;margin: -1px;overflow: hidden;padding: 0;position: absolute;width: 1px;}#sk-container-id-2 div.sk-estimator {font-family: monospace;background-color: #f0f8ff;border: 1px dotted black;border-radius: 0.25em;box-sizing: border-box;margin-bottom: 0.5em;}#sk-container-id-2 div.sk-estimator:hover {background-color: #d4ebff;}#sk-container-id-2 div.sk-parallel-item::after {content: \"\";width: 100%;border-bottom: 1px solid gray;flex-grow: 1;}#sk-container-id-2 div.sk-label:hover label.sk-toggleable__label {background-color: #d4ebff;}#sk-container-id-2 div.sk-serial::before {content: \"\";position: absolute;border-left: 1px solid gray;box-sizing: border-box;top: 0;bottom: 0;left: 50%;z-index: 0;}#sk-container-id-2 div.sk-serial {display: flex;flex-direction: column;align-items: center;background-color: white;padding-right: 0.2em;padding-left: 0.2em;position: relative;}#sk-container-id-2 div.sk-item {position: relative;z-index: 1;}#sk-container-id-2 div.sk-parallel {display: flex;align-items: stretch;justify-content: center;background-color: white;position: relative;}#sk-container-id-2 div.sk-item::before, #sk-container-id-2 div.sk-parallel-item::before {content: \"\";position: absolute;border-left: 1px solid gray;box-sizing: border-box;top: 0;bottom: 0;left: 50%;z-index: -1;}#sk-container-id-2 div.sk-parallel-item {display: flex;flex-direction: column;z-index: 1;position: relative;background-color: white;}#sk-container-id-2 div.sk-parallel-item:first-child::after {align-self: flex-end;width: 50%;}#sk-container-id-2 div.sk-parallel-item:last-child::after {align-self: flex-start;width: 50%;}#sk-container-id-2 div.sk-parallel-item:only-child::after {width: 0;}#sk-container-id-2 div.sk-dashed-wrapped {border: 1px dashed gray;margin: 0 0.4em 0.5em 0.4em;box-sizing: border-box;padding-bottom: 0.4em;background-color: white;}#sk-container-id-2 div.sk-label label {font-family: monospace;font-weight: bold;display: inline-block;line-height: 1.2em;}#sk-container-id-2 div.sk-label-container {text-align: center;}#sk-container-id-2 div.sk-container {/* jupyter's `normalize.less` sets `[hidden] { display: none; }` but bootstrap.min.css set `[hidden] { display: none !important; }` so we also need the `!important` here to be able to override the default hidden behavior on the sphinx rendered scikit-learn.org. See: https://github.com/scikit-learn/scikit-learn/issues/21755 */display: inline-block !important;position: relative;}#sk-container-id-2 div.sk-text-repr-fallback {display: none;}</style><div id=\"sk-container-id-2\" class=\"sk-top-container\"><div class=\"sk-text-repr-fallback\"><pre>LGBMClassifier()</pre><b>In a Jupyter environment, please rerun this cell to show the HTML representation or trust the notebook. <br />On GitHub, the HTML representation is unable to render, please try loading this page with nbviewer.org.</b></div><div class=\"sk-container\" hidden><div class=\"sk-item\"><div class=\"sk-estimator sk-toggleable\"><input class=\"sk-toggleable__control sk-hidden--visually\" id=\"sk-estimator-id-2\" type=\"checkbox\" checked><label for=\"sk-estimator-id-2\" class=\"sk-toggleable__label sk-toggleable__label-arrow\">LGBMClassifier</label><div class=\"sk-toggleable__content\"><pre>LGBMClassifier()</pre></div></div></div></div></div>"
            ]
          },
          "metadata": {},
          "execution_count": 42
        }
      ]
    },
    {
      "cell_type": "code",
      "source": [
        "import tensorflow as tf\n",
        "\n",
        "y_pred = LightGBM.predict(LightGBM_test)\n",
        "test_y = tf.keras.utils.to_categorical(\n",
        "    test['label'], num_classes=3)\n",
        "y_proba_cb = LightGBM.predict_proba(LightGBM_test)"
      ],
      "metadata": {
        "id": "F3Jt-QDgNw6N"
      },
      "execution_count": 43,
      "outputs": []
    },
    {
      "cell_type": "code",
      "source": [
        "from sklearn.metrics import f1_score ,mean_absolute_error, accuracy_score\n",
        "\n",
        "print('F1:',f1_score(y_pred, y_test, average='macro'))\n",
        "scores_F1['LightGBM'] = f1_score(y_pred, y_test, average='macro')\n",
        "print('Accuracy:',accuracy_score(y_pred, y_test))\n",
        "scores_Accuracy['LightGBM'] = accuracy_score(y_pred, y_test)\n",
        "print('MAE:',mean_absolute_error(y_proba_cb, test_y))\n",
        "scores_MAE['LightGBM'] = mean_absolute_error(y_proba_cb,test_y)"
      ],
      "metadata": {
        "colab": {
          "base_uri": "https://localhost:8080/"
        },
        "id": "rlySMRPQNw8o",
        "outputId": "b43be024-cb18-4f58-9efd-828b7a3e0acf"
      },
      "execution_count": 44,
      "outputs": [
        {
          "output_type": "stream",
          "name": "stdout",
          "text": [
            "F1: 0.6522737246524414\n",
            "Accuracy: 0.6538461538461539\n",
            "MAE: 0.2556914980627801\n"
          ]
        }
      ]
    },
    {
      "cell_type": "markdown",
      "source": [
        "## BERT"
      ],
      "metadata": {
        "id": "MVVtJtrvPuO4"
      }
    },
    {
      "cell_type": "code",
      "source": [
        "train.loc[train[\"lemmas\"] == \"\", \"lemmas\"] = np.nan\n",
        "test.loc[test[\"lemmas\"] == \"\", \"lemmas\"] = np.nan\n",
        "val.loc[val[\"lemmas\"] == \"\", \"lemmas\"] = np.nan"
      ],
      "metadata": {
        "id": "40dEeO6FcjCN"
      },
      "execution_count": 45,
      "outputs": []
    },
    {
      "cell_type": "code",
      "source": [
        "train.info()"
      ],
      "metadata": {
        "colab": {
          "base_uri": "https://localhost:8080/"
        },
        "id": "fhJk-nWOdk1k",
        "outputId": "a9cd8029-0d9e-49f9-fc2c-633c5bf43152"
      },
      "execution_count": 46,
      "outputs": [
        {
          "output_type": "stream",
          "name": "stdout",
          "text": [
            "<class 'pandas.core.frame.DataFrame'>\n",
            "Int64Index: 674 entries, 292 to 291\n",
            "Columns: 306 entries, title to feature_189434\n",
            "dtypes: float64(301), object(5)\n",
            "memory usage: 1.6+ MB\n"
          ]
        }
      ]
    },
    {
      "cell_type": "code",
      "source": [
        "train = train.dropna()\n",
        "val = val.dropna()\n",
        "test = test.dropna()"
      ],
      "metadata": {
        "id": "QXMyLDrbBpfp"
      },
      "execution_count": 47,
      "outputs": []
    },
    {
      "cell_type": "code",
      "source": [
        "train.info()"
      ],
      "metadata": {
        "colab": {
          "base_uri": "https://localhost:8080/"
        },
        "id": "4Xslj0cFBrbu",
        "outputId": "0d75b387-ae62-4748-96d7-7b4262520ee0"
      },
      "execution_count": 48,
      "outputs": [
        {
          "output_type": "stream",
          "name": "stdout",
          "text": [
            "<class 'pandas.core.frame.DataFrame'>\n",
            "Int64Index: 674 entries, 292 to 291\n",
            "Columns: 306 entries, title to feature_189434\n",
            "dtypes: float64(301), object(5)\n",
            "memory usage: 1.6+ MB\n"
          ]
        }
      ]
    },
    {
      "cell_type": "code",
      "source": [
        "y_train = train['label']\n",
        "y_test = test['label']\n",
        "y_val = val['label']"
      ],
      "metadata": {
        "id": "zg5t-s-de-rx"
      },
      "execution_count": 49,
      "outputs": []
    },
    {
      "cell_type": "code",
      "source": [
        "!pip install tensorflow_hub\n",
        "!pip install tensorflow_text"
      ],
      "metadata": {
        "colab": {
          "base_uri": "https://localhost:8080/"
        },
        "id": "8wQXOplom7xh",
        "outputId": "39f8f9e4-52bf-40e6-de27-6e30297fcd8b"
      },
      "execution_count": 50,
      "outputs": [
        {
          "output_type": "stream",
          "name": "stdout",
          "text": [
            "Looking in indexes: https://pypi.org/simple, https://us-python.pkg.dev/colab-wheels/public/simple/\n",
            "Requirement already satisfied: tensorflow_hub in /usr/local/lib/python3.9/dist-packages (0.13.0)\n",
            "Requirement already satisfied: numpy>=1.12.0 in /usr/local/lib/python3.9/dist-packages (from tensorflow_hub) (1.22.4)\n",
            "Requirement already satisfied: protobuf>=3.19.6 in /usr/local/lib/python3.9/dist-packages (from tensorflow_hub) (3.20.3)\n",
            "Looking in indexes: https://pypi.org/simple, https://us-python.pkg.dev/colab-wheels/public/simple/\n",
            "Collecting tensorflow_text\n",
            "  Downloading tensorflow_text-2.12.0-cp39-cp39-manylinux_2_17_x86_64.manylinux2014_x86_64.whl (6.0 MB)\n",
            "\u001b[2K     \u001b[90m━━━━━━━━━━━━━━━━━━━━━━━━━━━━━━━━━━━━━━━━\u001b[0m \u001b[32m6.0/6.0 MB\u001b[0m \u001b[31m90.1 MB/s\u001b[0m eta \u001b[36m0:00:00\u001b[0m\n",
            "\u001b[?25hRequirement already satisfied: tensorflow<2.13,>=2.12.0 in /usr/local/lib/python3.9/dist-packages (from tensorflow_text) (2.12.0)\n",
            "Requirement already satisfied: tensorflow-hub>=0.8.0 in /usr/local/lib/python3.9/dist-packages (from tensorflow_text) (0.13.0)\n",
            "Requirement already satisfied: tensorboard<2.13,>=2.12 in /usr/local/lib/python3.9/dist-packages (from tensorflow<2.13,>=2.12.0->tensorflow_text) (2.12.0)\n",
            "Requirement already satisfied: absl-py>=1.0.0 in /usr/local/lib/python3.9/dist-packages (from tensorflow<2.13,>=2.12.0->tensorflow_text) (1.4.0)\n",
            "Requirement already satisfied: flatbuffers>=2.0 in /usr/local/lib/python3.9/dist-packages (from tensorflow<2.13,>=2.12.0->tensorflow_text) (23.3.3)\n",
            "Requirement already satisfied: termcolor>=1.1.0 in /usr/local/lib/python3.9/dist-packages (from tensorflow<2.13,>=2.12.0->tensorflow_text) (2.2.0)\n",
            "Requirement already satisfied: packaging in /usr/local/lib/python3.9/dist-packages (from tensorflow<2.13,>=2.12.0->tensorflow_text) (23.0)\n",
            "Requirement already satisfied: libclang>=13.0.0 in /usr/local/lib/python3.9/dist-packages (from tensorflow<2.13,>=2.12.0->tensorflow_text) (16.0.0)\n",
            "Requirement already satisfied: opt-einsum>=2.3.2 in /usr/local/lib/python3.9/dist-packages (from tensorflow<2.13,>=2.12.0->tensorflow_text) (3.3.0)\n",
            "Requirement already satisfied: protobuf!=4.21.0,!=4.21.1,!=4.21.2,!=4.21.3,!=4.21.4,!=4.21.5,<5.0.0dev,>=3.20.3 in /usr/local/lib/python3.9/dist-packages (from tensorflow<2.13,>=2.12.0->tensorflow_text) (3.20.3)\n",
            "Requirement already satisfied: setuptools in /usr/local/lib/python3.9/dist-packages (from tensorflow<2.13,>=2.12.0->tensorflow_text) (67.6.1)\n",
            "Requirement already satisfied: google-pasta>=0.1.1 in /usr/local/lib/python3.9/dist-packages (from tensorflow<2.13,>=2.12.0->tensorflow_text) (0.2.0)\n",
            "Requirement already satisfied: gast<=0.4.0,>=0.2.1 in /usr/local/lib/python3.9/dist-packages (from tensorflow<2.13,>=2.12.0->tensorflow_text) (0.4.0)\n",
            "Requirement already satisfied: six>=1.12.0 in /usr/local/lib/python3.9/dist-packages (from tensorflow<2.13,>=2.12.0->tensorflow_text) (1.16.0)\n",
            "Requirement already satisfied: h5py>=2.9.0 in /usr/local/lib/python3.9/dist-packages (from tensorflow<2.13,>=2.12.0->tensorflow_text) (3.8.0)\n",
            "Requirement already satisfied: typing-extensions>=3.6.6 in /usr/local/lib/python3.9/dist-packages (from tensorflow<2.13,>=2.12.0->tensorflow_text) (4.5.0)\n",
            "Requirement already satisfied: tensorflow-io-gcs-filesystem>=0.23.1 in /usr/local/lib/python3.9/dist-packages (from tensorflow<2.13,>=2.12.0->tensorflow_text) (0.32.0)\n",
            "Requirement already satisfied: astunparse>=1.6.0 in /usr/local/lib/python3.9/dist-packages (from tensorflow<2.13,>=2.12.0->tensorflow_text) (1.6.3)\n",
            "Requirement already satisfied: tensorflow-estimator<2.13,>=2.12.0 in /usr/local/lib/python3.9/dist-packages (from tensorflow<2.13,>=2.12.0->tensorflow_text) (2.12.0)\n",
            "Requirement already satisfied: keras<2.13,>=2.12.0 in /usr/local/lib/python3.9/dist-packages (from tensorflow<2.13,>=2.12.0->tensorflow_text) (2.12.0)\n",
            "Requirement already satisfied: numpy<1.24,>=1.22 in /usr/local/lib/python3.9/dist-packages (from tensorflow<2.13,>=2.12.0->tensorflow_text) (1.22.4)\n",
            "Requirement already satisfied: jax>=0.3.15 in /usr/local/lib/python3.9/dist-packages (from tensorflow<2.13,>=2.12.0->tensorflow_text) (0.4.7)\n",
            "Requirement already satisfied: wrapt<1.15,>=1.11.0 in /usr/local/lib/python3.9/dist-packages (from tensorflow<2.13,>=2.12.0->tensorflow_text) (1.14.1)\n",
            "Requirement already satisfied: grpcio<2.0,>=1.24.3 in /usr/local/lib/python3.9/dist-packages (from tensorflow<2.13,>=2.12.0->tensorflow_text) (1.53.0)\n",
            "Requirement already satisfied: wheel<1.0,>=0.23.0 in /usr/local/lib/python3.9/dist-packages (from astunparse>=1.6.0->tensorflow<2.13,>=2.12.0->tensorflow_text) (0.40.0)\n",
            "Requirement already satisfied: scipy>=1.7 in /usr/local/lib/python3.9/dist-packages (from jax>=0.3.15->tensorflow<2.13,>=2.12.0->tensorflow_text) (1.10.1)\n",
            "Requirement already satisfied: ml-dtypes>=0.0.3 in /usr/local/lib/python3.9/dist-packages (from jax>=0.3.15->tensorflow<2.13,>=2.12.0->tensorflow_text) (0.0.4)\n",
            "Requirement already satisfied: werkzeug>=1.0.1 in /usr/local/lib/python3.9/dist-packages (from tensorboard<2.13,>=2.12->tensorflow<2.13,>=2.12.0->tensorflow_text) (2.2.3)\n",
            "Requirement already satisfied: tensorboard-plugin-wit>=1.6.0 in /usr/local/lib/python3.9/dist-packages (from tensorboard<2.13,>=2.12->tensorflow<2.13,>=2.12.0->tensorflow_text) (1.8.1)\n",
            "Requirement already satisfied: tensorboard-data-server<0.8.0,>=0.7.0 in /usr/local/lib/python3.9/dist-packages (from tensorboard<2.13,>=2.12->tensorflow<2.13,>=2.12.0->tensorflow_text) (0.7.0)\n",
            "Requirement already satisfied: markdown>=2.6.8 in /usr/local/lib/python3.9/dist-packages (from tensorboard<2.13,>=2.12->tensorflow<2.13,>=2.12.0->tensorflow_text) (3.4.3)\n",
            "Requirement already satisfied: requests<3,>=2.21.0 in /usr/local/lib/python3.9/dist-packages (from tensorboard<2.13,>=2.12->tensorflow<2.13,>=2.12.0->tensorflow_text) (2.27.1)\n",
            "Requirement already satisfied: google-auth<3,>=1.6.3 in /usr/local/lib/python3.9/dist-packages (from tensorboard<2.13,>=2.12->tensorflow<2.13,>=2.12.0->tensorflow_text) (2.17.0)\n",
            "Requirement already satisfied: google-auth-oauthlib<0.5,>=0.4.1 in /usr/local/lib/python3.9/dist-packages (from tensorboard<2.13,>=2.12->tensorflow<2.13,>=2.12.0->tensorflow_text) (0.4.6)\n",
            "Requirement already satisfied: pyasn1-modules>=0.2.1 in /usr/local/lib/python3.9/dist-packages (from google-auth<3,>=1.6.3->tensorboard<2.13,>=2.12->tensorflow<2.13,>=2.12.0->tensorflow_text) (0.2.8)\n",
            "Requirement already satisfied: rsa<5,>=3.1.4 in /usr/local/lib/python3.9/dist-packages (from google-auth<3,>=1.6.3->tensorboard<2.13,>=2.12->tensorflow<2.13,>=2.12.0->tensorflow_text) (4.9)\n",
            "Requirement already satisfied: cachetools<6.0,>=2.0.0 in /usr/local/lib/python3.9/dist-packages (from google-auth<3,>=1.6.3->tensorboard<2.13,>=2.12->tensorflow<2.13,>=2.12.0->tensorflow_text) (5.3.0)\n",
            "Requirement already satisfied: requests-oauthlib>=0.7.0 in /usr/local/lib/python3.9/dist-packages (from google-auth-oauthlib<0.5,>=0.4.1->tensorboard<2.13,>=2.12->tensorflow<2.13,>=2.12.0->tensorflow_text) (1.3.1)\n",
            "Requirement already satisfied: importlib-metadata>=4.4 in /usr/local/lib/python3.9/dist-packages (from markdown>=2.6.8->tensorboard<2.13,>=2.12->tensorflow<2.13,>=2.12.0->tensorflow_text) (6.1.0)\n",
            "Requirement already satisfied: urllib3<1.27,>=1.21.1 in /usr/local/lib/python3.9/dist-packages (from requests<3,>=2.21.0->tensorboard<2.13,>=2.12->tensorflow<2.13,>=2.12.0->tensorflow_text) (1.26.15)\n",
            "Requirement already satisfied: charset-normalizer~=2.0.0 in /usr/local/lib/python3.9/dist-packages (from requests<3,>=2.21.0->tensorboard<2.13,>=2.12->tensorflow<2.13,>=2.12.0->tensorflow_text) (2.0.12)\n",
            "Requirement already satisfied: idna<4,>=2.5 in /usr/local/lib/python3.9/dist-packages (from requests<3,>=2.21.0->tensorboard<2.13,>=2.12->tensorflow<2.13,>=2.12.0->tensorflow_text) (3.4)\n",
            "Requirement already satisfied: certifi>=2017.4.17 in /usr/local/lib/python3.9/dist-packages (from requests<3,>=2.21.0->tensorboard<2.13,>=2.12->tensorflow<2.13,>=2.12.0->tensorflow_text) (2022.12.7)\n",
            "Requirement already satisfied: MarkupSafe>=2.1.1 in /usr/local/lib/python3.9/dist-packages (from werkzeug>=1.0.1->tensorboard<2.13,>=2.12->tensorflow<2.13,>=2.12.0->tensorflow_text) (2.1.2)\n",
            "Requirement already satisfied: zipp>=0.5 in /usr/local/lib/python3.9/dist-packages (from importlib-metadata>=4.4->markdown>=2.6.8->tensorboard<2.13,>=2.12->tensorflow<2.13,>=2.12.0->tensorflow_text) (3.15.0)\n",
            "Requirement already satisfied: pyasn1<0.5.0,>=0.4.6 in /usr/local/lib/python3.9/dist-packages (from pyasn1-modules>=0.2.1->google-auth<3,>=1.6.3->tensorboard<2.13,>=2.12->tensorflow<2.13,>=2.12.0->tensorflow_text) (0.4.8)\n",
            "Requirement already satisfied: oauthlib>=3.0.0 in /usr/local/lib/python3.9/dist-packages (from requests-oauthlib>=0.7.0->google-auth-oauthlib<0.5,>=0.4.1->tensorboard<2.13,>=2.12->tensorflow<2.13,>=2.12.0->tensorflow_text) (3.2.2)\n",
            "Installing collected packages: tensorflow_text\n",
            "Successfully installed tensorflow_text-2.12.0\n"
          ]
        }
      ]
    },
    {
      "cell_type": "code",
      "source": [
        "import tensorflow as tf\n",
        "import tensorflow_hub as hub\n",
        "import tensorflow_text as text\n",
        "from tensorflow.keras.optimizers.legacy import Adam"
      ],
      "metadata": {
        "id": "bsrlzHV5nLxJ"
      },
      "execution_count": 51,
      "outputs": []
    },
    {
      "cell_type": "code",
      "source": [
        "def build_classifier_model():\n",
        "    \n",
        "    text_input = tf.keras.layers.Input(shape=(), dtype=tf.string, name='text')\n",
        "    \n",
        "    preprocessing_layer = hub.KerasLayer(\n",
        "        tfhub_handle_preprocess, name='preprocessing')\n",
        "    \n",
        "    encoder_inputs = preprocessing_layer(text_input)\n",
        "    encoder = hub.KerasLayer(\n",
        "        tfhub_handle_encoder, trainable=True, name='BERT_encoder')\n",
        "    \n",
        "    outputs = encoder(encoder_inputs)\n",
        "    net = outputs['pooled_output']\n",
        "    net = tf.keras.layers.Dropout(0.1)(net)\n",
        "    net = tf.keras.layers.BatchNormalization()(net)\n",
        "    net = tf.keras.layers.Dense(\n",
        "        3, activation='softmax', name='classifier')(net)\n",
        "    model = tf.keras.Model(text_input, net)\n",
        "    loss = tf.keras.losses.CategoricalCrossentropy(name='categorical_crossentropy')\n",
        "    metric = tf.metrics.CategoricalAccuracy('accuracy')\n",
        "    optimizer = Adam(\n",
        "        learning_rate=5e-05, epsilon=1e-08, decay=0.01, clipnorm=1.0)\n",
        "    model.compile(\n",
        "        optimizer=optimizer, loss=loss, metrics=metric)\n",
        "    model.summary()\n",
        "    return model"
      ],
      "metadata": {
        "id": "wAqgjDERfLWR"
      },
      "execution_count": 52,
      "outputs": []
    },
    {
      "cell_type": "code",
      "source": [
        "tfhub_handle_encoder = \\\n",
        "    'https://tfhub.dev/tensorflow/talkheads_ggelu_bert_en_base/1'#\"https://tfhub.dev/tensorflow/small_bert/bert_en_uncased_L-4_H-512_A-8/1\"\n",
        "tfhub_handle_preprocess = \\\n",
        "    \"https://tfhub.dev/tensorflow/bert_en_uncased_preprocess/3\""
      ],
      "metadata": {
        "id": "fqW44Tn7nXV5"
      },
      "execution_count": 53,
      "outputs": []
    },
    {
      "cell_type": "code",
      "source": [
        "BERT = build_classifier_model()"
      ],
      "metadata": {
        "colab": {
          "base_uri": "https://localhost:8080/"
        },
        "id": "NMuAt_2cjUS5",
        "outputId": "20eaae70-f549-49b0-d464-608cd1088772"
      },
      "execution_count": 54,
      "outputs": [
        {
          "output_type": "stream",
          "name": "stdout",
          "text": [
            "Model: \"model\"\n",
            "__________________________________________________________________________________________________\n",
            " Layer (type)                   Output Shape         Param #     Connected to                     \n",
            "==================================================================================================\n",
            " text (InputLayer)              [(None,)]            0           []                               \n",
            "                                                                                                  \n",
            " preprocessing (KerasLayer)     {'input_type_ids':   0           ['text[0][0]']                   \n",
            "                                (None, 128),                                                      \n",
            "                                 'input_word_ids':                                                \n",
            "                                (None, 128),                                                      \n",
            "                                 'input_mask': (Non                                               \n",
            "                                e, 128)}                                                          \n",
            "                                                                                                  \n",
            " BERT_encoder (KerasLayer)      {'pooled_output': (  137834113   ['preprocessing[0][0]',          \n",
            "                                None, 768),                       'preprocessing[0][1]',          \n",
            "                                 'sequence_output':               'preprocessing[0][2]']          \n",
            "                                 (None, 128, 768),                                                \n",
            "                                 'encoder_outputs':                                               \n",
            "                                 [(None, 128, 768),                                               \n",
            "                                 (None, 128, 768),                                                \n",
            "                                 (None, 128, 768),                                                \n",
            "                                 (None, 128, 768),                                                \n",
            "                                 (None, 128, 768),                                                \n",
            "                                 (None, 128, 768),                                                \n",
            "                                 (None, 128, 768),                                                \n",
            "                                 (None, 128, 768),                                                \n",
            "                                 (None, 128, 768),                                                \n",
            "                                 (None, 128, 768),                                                \n",
            "                                 (None, 128, 768),                                                \n",
            "                                 (None, 128, 768)],                                               \n",
            "                                 'default': (None,                                                \n",
            "                                768)}                                                             \n",
            "                                                                                                  \n",
            " dropout (Dropout)              (None, 768)          0           ['BERT_encoder[0][13]']          \n",
            "                                                                                                  \n",
            " batch_normalization (BatchNorm  (None, 768)         3072        ['dropout[0][0]']                \n",
            " alization)                                                                                       \n",
            "                                                                                                  \n",
            " classifier (Dense)             (None, 3)            2307        ['batch_normalization[0][0]']    \n",
            "                                                                                                  \n",
            "==================================================================================================\n",
            "Total params: 137,839,492\n",
            "Trainable params: 137,837,955\n",
            "Non-trainable params: 1,537\n",
            "__________________________________________________________________________________________________\n"
          ]
        }
      ]
    },
    {
      "cell_type": "code",
      "source": [
        "y_train = tf.keras.utils.to_categorical(\n",
        "    train['label'], num_classes=3)\n",
        "y_val = tf.keras.utils.to_categorical(\n",
        "    val['label'], num_classes=3)\n",
        "\n",
        "history = BERT.fit(\n",
        "    x = train['lemmas'].values,\n",
        "    y = y_train,\n",
        "    validation_data=(val['lemmas'].values, y_val),\n",
        "    epochs=8)"
      ],
      "metadata": {
        "colab": {
          "base_uri": "https://localhost:8080/"
        },
        "id": "xufKi64cnb5B",
        "outputId": "702fb44f-2783-4db8-a60e-0c1df281c228"
      },
      "execution_count": 55,
      "outputs": [
        {
          "output_type": "stream",
          "name": "stdout",
          "text": [
            "Epoch 1/8\n",
            "22/22 [==============================] - 96s 2s/step - loss: 1.3377 - accuracy: 0.4955 - val_loss: 1.0866 - val_accuracy: 0.3961\n",
            "Epoch 2/8\n",
            "22/22 [==============================] - 36s 2s/step - loss: 0.8709 - accuracy: 0.6469 - val_loss: 0.9536 - val_accuracy: 0.5649\n",
            "Epoch 3/8\n",
            "22/22 [==============================] - 42s 2s/step - loss: 0.3867 - accuracy: 0.8472 - val_loss: 0.8881 - val_accuracy: 0.5714\n",
            "Epoch 4/8\n",
            "22/22 [==============================] - 37s 2s/step - loss: 0.1553 - accuracy: 0.9436 - val_loss: 0.8325 - val_accuracy: 0.6234\n",
            "Epoch 5/8\n",
            "22/22 [==============================] - 39s 2s/step - loss: 0.0575 - accuracy: 0.9822 - val_loss: 0.9106 - val_accuracy: 0.6558\n",
            "Epoch 6/8\n",
            "22/22 [==============================] - 37s 2s/step - loss: 0.0194 - accuracy: 0.9955 - val_loss: 0.9133 - val_accuracy: 0.6623\n",
            "Epoch 7/8\n",
            "22/22 [==============================] - 35s 2s/step - loss: 0.0250 - accuracy: 0.9955 - val_loss: 1.0849 - val_accuracy: 0.5974\n",
            "Epoch 8/8\n",
            "22/22 [==============================] - 44s 2s/step - loss: 0.0110 - accuracy: 0.9985 - val_loss: 1.1539 - val_accuracy: 0.6429\n"
          ]
        }
      ]
    },
    {
      "cell_type": "code",
      "source": [
        "sns.set()\n",
        "sns.set_context(\"paper\", font_scale=2) \n",
        "\n",
        "fig = plt.figure(figsize=(20,10))\n",
        "ax1 = fig.add_subplot(121)\n",
        "sns.lineplot(ax=ax1, data=history.history['accuracy'])\n",
        "sns.lineplot(ax=ax1, data=history.history['val_accuracy'])\n",
        "ax1.set(\n",
        "    title=f\"Model accuracy\",\n",
        "    xlabel=\"epoch\",\n",
        "    ylabel=\"accuracy\"\n",
        ")\n",
        "ax1.legend(['train', 'test'], loc='upper left')\n",
        "ax2 = fig.add_subplot(122)\n",
        "sns.lineplot(ax=ax2, data=history.history['loss'])\n",
        "sns.lineplot(ax=ax2, data=history.history['val_loss'])\n",
        "ax2.set(\n",
        "    title=f\"Model loss\",\n",
        "    xlabel=\"epoch\",\n",
        "    ylabel=\"loss\"\n",
        ")\n",
        "ax2.legend(['train', 'test'], loc='upper left')\n",
        "\n",
        "fig.tight_layout()\n",
        "plt.show(fig) "
      ],
      "metadata": {
        "colab": {
          "base_uri": "https://localhost:8080/",
          "height": 330
        },
        "id": "oaRUqssDj0Ov",
        "outputId": "41d3e791-a48d-47ba-fc86-817770a4effc"
      },
      "execution_count": 56,
      "outputs": [
        {
          "output_type": "display_data",
          "data": {
            "text/plain": [
              "<Figure size 2000x1000 with 2 Axes>"
            ],
            "image/png": "[encoded data removed]"
          },
          "metadata": {}
        }
      ]
    },
    {
      "cell_type": "code",
      "source": [
        "y_test = tf.keras.utils.to_categorical(\n",
        "    test['label'].astype('category'), num_classes=3)"
      ],
      "metadata": {
        "id": "DkqCnUgSj0Th"
      },
      "execution_count": 57,
      "outputs": []
    },
    {
      "cell_type": "code",
      "source": [
        "BERT_test = test['lemmas'].values"
      ],
      "metadata": {
        "id": "lZaZ4Qs3Czkj"
      },
      "execution_count": 58,
      "outputs": []
    },
    {
      "cell_type": "code",
      "source": [
        "y_proba_cb = BERT.predict(BERT_test)\n",
        "y_pred = np.argmax(y_proba_cb, axis=1)\n",
        "test_y = tf.keras.utils.to_categorical(\n",
        "    test['label'], num_classes=3)"
      ],
      "metadata": {
        "colab": {
          "base_uri": "https://localhost:8080/"
        },
        "id": "T_GDgjcJpZU_",
        "outputId": "426d262e-1145-4f1f-f204-21f5125b9638"
      },
      "execution_count": 59,
      "outputs": [
        {
          "output_type": "stream",
          "name": "stdout",
          "text": [
            "4/4 [==============================] - 3s 616ms/step\n"
          ]
        }
      ]
    },
    {
      "cell_type": "code",
      "source": [
        "from sklearn.metrics import f1_score ,mean_absolute_error, accuracy_score\n",
        "\n",
        "print('F1:',f1_score(y_pred, np.argmax(y_test,axis = 1), average='macro'))\n",
        "scores_F1['BERT'] = f1_score(y_pred, np.argmax(y_test,axis = 1), average='macro')\n",
        "print('Accuracy:',accuracy_score(y_pred, np.argmax(y_test,axis = 1)))\n",
        "scores_Accuracy['BERT'] = accuracy_score(y_pred, np.argmax(y_test,axis = 1))\n",
        "print('MAE:',mean_absolute_error(y_proba_cb, test_y))\n",
        "scores_MAE['BERT'] = mean_absolute_error(y_proba_cb,test_y)"
      ],
      "metadata": {
        "colab": {
          "base_uri": "https://localhost:8080/"
        },
        "id": "15_sTGo7QHnY",
        "outputId": "e47cb267-5630-4f49-f627-de1eca9c8c84"
      },
      "execution_count": 61,
      "outputs": [
        {
          "output_type": "stream",
          "name": "stdout",
          "text": [
            "F1: 0.6428345317234205\n",
            "Accuracy: 0.6538461538461539\n",
            "MAE: 0.26243654\n"
          ]
        }
      ]
    },
    {
      "cell_type": "markdown",
      "source": [
        "## Catboost\n"
      ],
      "metadata": {
        "id": "lu-8IBBdQ-VZ"
      }
    },
    {
      "cell_type": "code",
      "source": [
        "!pip install catboost"
      ],
      "metadata": {
        "colab": {
          "base_uri": "https://localhost:8080/"
        },
        "id": "9QkpkBqBw7_Q",
        "outputId": "6ecaad18-6f46-4199-9bf3-1505c03f61bc"
      },
      "execution_count": 60,
      "outputs": [
        {
          "output_type": "stream",
          "name": "stdout",
          "text": [
            "Looking in indexes: https://pypi.org/simple, https://us-python.pkg.dev/colab-wheels/public/simple/\n",
            "Collecting catboost\n",
            "  Downloading catboost-1.1.1-cp39-none-manylinux1_x86_64.whl (76.6 MB)\n",
            "\u001b[2K     \u001b[90m━━━━━━━━━━━━━━━━━━━━━━━━━━━━━━━━━━━━━━━━\u001b[0m \u001b[32m76.6/76.6 MB\u001b[0m \u001b[31m7.4 MB/s\u001b[0m eta \u001b[36m0:00:00\u001b[0m\n",
            "\u001b[?25hRequirement already satisfied: numpy>=1.16.0 in /usr/local/lib/python3.9/dist-packages (from catboost) (1.22.4)\n",
            "Requirement already satisfied: pandas>=0.24.0 in /usr/local/lib/python3.9/dist-packages (from catboost) (1.4.4)\n",
            "Requirement already satisfied: scipy in /usr/local/lib/python3.9/dist-packages (from catboost) (1.10.1)\n",
            "Requirement already satisfied: matplotlib in /usr/local/lib/python3.9/dist-packages (from catboost) (3.7.1)\n",
            "Requirement already satisfied: six in /usr/local/lib/python3.9/dist-packages (from catboost) (1.16.0)\n",
            "Requirement already satisfied: graphviz in /usr/local/lib/python3.9/dist-packages (from catboost) (0.20.1)\n",
            "Requirement already satisfied: plotly in /usr/local/lib/python3.9/dist-packages (from catboost) (5.13.1)\n",
            "Requirement already satisfied: python-dateutil>=2.8.1 in /usr/local/lib/python3.9/dist-packages (from pandas>=0.24.0->catboost) (2.8.2)\n",
            "Requirement already satisfied: pytz>=2020.1 in /usr/local/lib/python3.9/dist-packages (from pandas>=0.24.0->catboost) (2022.7.1)\n",
            "Requirement already satisfied: pyparsing>=2.3.1 in /usr/local/lib/python3.9/dist-packages (from matplotlib->catboost) (3.0.9)\n",
            "Requirement already satisfied: cycler>=0.10 in /usr/local/lib/python3.9/dist-packages (from matplotlib->catboost) (0.11.0)\n",
            "Requirement already satisfied: contourpy>=1.0.1 in /usr/local/lib/python3.9/dist-packages (from matplotlib->catboost) (1.0.7)\n",
            "Requirement already satisfied: fonttools>=4.22.0 in /usr/local/lib/python3.9/dist-packages (from matplotlib->catboost) (4.39.3)\n",
            "Requirement already satisfied: packaging>=20.0 in /usr/local/lib/python3.9/dist-packages (from matplotlib->catboost) (23.0)\n",
            "Requirement already satisfied: kiwisolver>=1.0.1 in /usr/local/lib/python3.9/dist-packages (from matplotlib->catboost) (1.4.4)\n",
            "Requirement already satisfied: importlib-resources>=3.2.0 in /usr/local/lib/python3.9/dist-packages (from matplotlib->catboost) (5.12.0)\n",
            "Requirement already satisfied: pillow>=6.2.0 in /usr/local/lib/python3.9/dist-packages (from matplotlib->catboost) (8.4.0)\n",
            "Requirement already satisfied: tenacity>=6.2.0 in /usr/local/lib/python3.9/dist-packages (from plotly->catboost) (8.2.2)\n",
            "Requirement already satisfied: zipp>=3.1.0 in /usr/local/lib/python3.9/dist-packages (from importlib-resources>=3.2.0->matplotlib->catboost) (3.15.0)\n",
            "Installing collected packages: catboost\n",
            "Successfully installed catboost-1.1.1\n"
          ]
        }
      ]
    },
    {
      "cell_type": "code",
      "source": [
        "train"
      ],
      "metadata": {
        "colab": {
          "base_uri": "https://localhost:8080/",
          "height": 1000
        },
        "id": "5oTeKZNZw04a",
        "outputId": "22d7df66-fc58-4de2-ec11-7e944e71db17"
      },
      "execution_count": 62,
      "outputs": [
        {
          "output_type": "execute_result",
          "data": {
            "text/plain": [
              "                                                 title  \\\n",
              "292  Ontario calls it quits on fighting climate cha...   \n",
              "212  South Africa newspaper plagiarized from Financ...   \n",
              "829  East Texas judge sets deadline for Pence in Go...   \n",
              "261             Why the NDP needs a new defence critic   \n",
              "577  Federal school safety panel, Parkland commissi...   \n",
              "..                                                 ...   \n",
              "84   Emails: Judicial Watch YouTube Video Censored ...   \n",
              "64   Latinos Vote! Releases Ad Featuring Latina Cel...   \n",
              "309  • Chart: The Largest Militaries in the World• ...   \n",
              "575  Interviews – Freedom NewsNews – Freedom NewsFr...   \n",
              "291  Not Political? Democrat Governors All Lift Sta...   \n",
              "\n",
              "                                               content  label  \\\n",
              "292  Doug Ford has cancelled Ontario’s cap and trad...    0.0   \n",
              "212  Sunday Times logo\\n\\nSouth Africa’s Sunday Tim...    1.0   \n",
              "829  Your notification has been saved .\\nThere was ...    1.0   \n",
              "261  CAF members along with American and Polish for...    0.0   \n",
              "577  The commission, led by Pinellas County Sheriff...    1.0   \n",
              "..                                                 ...    ...   \n",
              "84   CA Secretary of State ’ s Office Pressured Goo...    2.0   \n",
              "64   PFAW’s Latinos Vote! released an ad on Monday ...    0.0   \n",
              "309  The Statista \"Chart of the Day\", made availabl...    1.0   \n",
              "575  Our web store features hundreds of radical wor...    0.0   \n",
              "291  This week, Democrat California Governor Gavin ...    2.0   \n",
              "\n",
              "                      link                                           all_text  \\\n",
              "292     canadafactcheck.ca  Ontario calls it quits on fighting climate cha...   \n",
              "212       imediaethics.org  South Africa newspaper plagiarized from Financ...   \n",
              "829       news-journal.com  East Texas judge sets deadline for Pence in Go...   \n",
              "261  canadiandimension.com  Why the NDP needs a new defence criticCAF memb...   \n",
              "577       sayfiereview.com  Federal school safety panel, Parkland commissi...   \n",
              "..                     ...                                                ...   \n",
              "84       judicialwatch.org  Emails: Judicial Watch YouTube Video Censored ...   \n",
              "64                pfaw.org  Latinos Vote! Releases Ad Featuring Latina Cel...   \n",
              "309           statista.com  • Chart: The Largest Militaries in the World• ...   \n",
              "575     freedomnews.org.uk  Interviews – Freedom NewsNews – Freedom NewsFr...   \n",
              "291  freedomnewsreport.com  Not Political? Democrat Governors All Lift Sta...   \n",
              "\n",
              "                                                lemmas  feature_1489667  \\\n",
              "292  ontario calls quits fighting climate change bu...         0.000000   \n",
              "212  south africa newspaper plagiarized financial t...         0.000000   \n",
              "829  east texas judge sets deadline pence gohmert l...         0.000000   \n",
              "261  needs defence criticcaf members along american...         0.000000   \n",
              "577  federal school safety panel parkland commissio...         0.000000   \n",
              "..                                                 ...              ...   \n",
              "84   emails judicial watch youtube video censored r...         0.000000   \n",
              "64   latinos vote releases featuring latina celebri...         0.000000   \n",
              "309  chart largest militaries world chart renewable...         0.000000   \n",
              "575  interviews freedom newsnews freedom newsfreedo...         0.013303   \n",
              "291  political democrat governors lift stay home or...         0.000000   \n",
              "\n",
              "     feature_148859  feature_1501110  feature_1240209  ...  feature_838345  \\\n",
              "292        0.000000         0.033663         0.057792  ...             0.0   \n",
              "212        0.005521         0.033452         0.000000  ...             0.0   \n",
              "829        0.000000         0.000000         0.000000  ...             0.0   \n",
              "261        0.000000         0.000000         0.000000  ...             0.0   \n",
              "577        0.000000         0.016403         0.000000  ...             0.0   \n",
              "..              ...              ...              ...  ...             ...   \n",
              "84         0.010422         0.036087         0.003462  ...             0.0   \n",
              "64         0.002634         0.029640         0.021874  ...             0.0   \n",
              "309        0.000000         0.000000         0.000000  ...             0.0   \n",
              "575        0.000000         0.000000         0.010867  ...             0.0   \n",
              "291        0.334552         0.083740         0.000000  ...             0.0   \n",
              "\n",
              "     feature_683512  feature_236446  feature_1422712  feature_1422713  \\\n",
              "292        0.000000             0.0              0.0              0.0   \n",
              "212        0.000000             0.0              0.0              0.0   \n",
              "829        0.000000             0.0              0.0              0.0   \n",
              "261        0.000000             0.0              0.0              0.0   \n",
              "577        0.000000             0.0              0.0              0.0   \n",
              "..              ...             ...              ...              ...   \n",
              "84         0.000000             0.0              0.0              0.0   \n",
              "64         0.000000             0.0              0.0              0.0   \n",
              "309        0.000000             0.0              0.0              0.0   \n",
              "575        0.012969             0.0              0.0              0.0   \n",
              "291        0.015980             0.0              0.0              0.0   \n",
              "\n",
              "     feature_849155  feature_267899  feature_788486  feature_770172  \\\n",
              "292        0.000000        0.000000        0.004458             0.0   \n",
              "212        0.000000        0.000000        0.000000             0.0   \n",
              "829        0.000000        0.000000        0.000000             0.0   \n",
              "261        0.000000        0.000000        0.000000             0.0   \n",
              "577        0.000000        0.000000        0.000000             0.0   \n",
              "..              ...             ...             ...             ...   \n",
              "84         0.000000        0.000000        0.000000             0.0   \n",
              "64         0.005936        0.018576        0.000000             0.0   \n",
              "309        0.000000        0.000000        0.000000             0.0   \n",
              "575        0.000000        0.000000        0.014251             0.0   \n",
              "291        0.004542        0.000000        0.000000             0.0   \n",
              "\n",
              "     feature_189434  \n",
              "292             0.0  \n",
              "212             0.0  \n",
              "829             0.0  \n",
              "261             0.0  \n",
              "577             0.0  \n",
              "..              ...  \n",
              "84              0.0  \n",
              "64              0.0  \n",
              "309             0.0  \n",
              "575             0.0  \n",
              "291             0.0  \n",
              "\n",
              "[674 rows x 306 columns]"
            ],
            "text/html": [
              "\n",
              "  <div id=\"df-d4c4486a-6c8d-4f34-a62c-79a9e4299e41\">\n",
              "    <div class=\"colab-df-container\">\n",
              "      <div>\n",
              "<style scoped>\n",
              "    .dataframe tbody tr th:only-of-type {\n",
              "        vertical-align: middle;\n",
              "    }\n",
              "\n",
              "    .dataframe tbody tr th {\n",
              "        vertical-align: top;\n",
              "    }\n",
              "\n",
              "    .dataframe thead th {\n",
              "        text-align: right;\n",
              "    }\n",
              "</style>\n",
              "<table border=\"1\" class=\"dataframe\">\n",
              "  <thead>\n",
              "    <tr style=\"text-align: right;\">\n",
              "      <th></th>\n",
              "      <th>title</th>\n",
              "      <th>content</th>\n",
              "      <th>label</th>\n",
              "      <th>link</th>\n",
              "      <th>all_text</th>\n",
              "      <th>lemmas</th>\n",
              "      <th>feature_1489667</th>\n",
              "      <th>feature_148859</th>\n",
              "      <th>feature_1501110</th>\n",
              "      <th>feature_1240209</th>\n",
              "      <th>...</th>\n",
              "      <th>feature_838345</th>\n",
              "      <th>feature_683512</th>\n",
              "      <th>feature_236446</th>\n",
              "      <th>feature_1422712</th>\n",
              "      <th>feature_1422713</th>\n",
              "      <th>feature_849155</th>\n",
              "      <th>feature_267899</th>\n",
              "      <th>feature_788486</th>\n",
              "      <th>feature_770172</th>\n",
              "      <th>feature_189434</th>\n",
              "    </tr>\n",
              "  </thead>\n",
              "  <tbody>\n",
              "    <tr>\n",
              "      <th>292</th>\n",
              "      <td>Ontario calls it quits on fighting climate cha...</td>\n",
              "      <td>Doug Ford has cancelled Ontario’s cap and trad...</td>\n",
              "      <td>0.0</td>\n",
              "      <td>canadafactcheck.ca</td>\n",
              "      <td>Ontario calls it quits on fighting climate cha...</td>\n",
              "      <td>ontario calls quits fighting climate change bu...</td>\n",
              "      <td>0.000000</td>\n",
              "      <td>0.000000</td>\n",
              "      <td>0.033663</td>\n",
              "      <td>0.057792</td>\n",
              "      <td>...</td>\n",
              "      <td>0.0</td>\n",
              "      <td>0.000000</td>\n",
              "      <td>0.0</td>\n",
              "      <td>0.0</td>\n",
              "      <td>0.0</td>\n",
              "      <td>0.000000</td>\n",
              "      <td>0.000000</td>\n",
              "      <td>0.004458</td>\n",
              "      <td>0.0</td>\n",
              "      <td>0.0</td>\n",
              "    </tr>\n",
              "    <tr>\n",
              "      <th>212</th>\n",
              "      <td>South Africa newspaper plagiarized from Financ...</td>\n",
              "      <td>Sunday Times logo\\n\\nSouth Africa’s Sunday Tim...</td>\n",
              "      <td>1.0</td>\n",
              "      <td>imediaethics.org</td>\n",
              "      <td>South Africa newspaper plagiarized from Financ...</td>\n",
              "      <td>south africa newspaper plagiarized financial t...</td>\n",
              "      <td>0.000000</td>\n",
              "      <td>0.005521</td>\n",
              "      <td>0.033452</td>\n",
              "      <td>0.000000</td>\n",
              "      <td>...</td>\n",
              "      <td>0.0</td>\n",
              "      <td>0.000000</td>\n",
              "      <td>0.0</td>\n",
              "      <td>0.0</td>\n",
              "      <td>0.0</td>\n",
              "      <td>0.000000</td>\n",
              "      <td>0.000000</td>\n",
              "      <td>0.000000</td>\n",
              "      <td>0.0</td>\n",
              "      <td>0.0</td>\n",
              "    </tr>\n",
              "    <tr>\n",
              "      <th>829</th>\n",
              "      <td>East Texas judge sets deadline for Pence in Go...</td>\n",
              "      <td>Your notification has been saved .\\nThere was ...</td>\n",
              "      <td>1.0</td>\n",
              "      <td>news-journal.com</td>\n",
              "      <td>East Texas judge sets deadline for Pence in Go...</td>\n",
              "      <td>east texas judge sets deadline pence gohmert l...</td>\n",
              "      <td>0.000000</td>\n",
              "      <td>0.000000</td>\n",
              "      <td>0.000000</td>\n",
              "      <td>0.000000</td>\n",
              "      <td>...</td>\n",
              "      <td>0.0</td>\n",
              "      <td>0.000000</td>\n",
              "      <td>0.0</td>\n",
              "      <td>0.0</td>\n",
              "      <td>0.0</td>\n",
              "      <td>0.000000</td>\n",
              "      <td>0.000000</td>\n",
              "      <td>0.000000</td>\n",
              "      <td>0.0</td>\n",
              "      <td>0.0</td>\n",
              "    </tr>\n",
              "    <tr>\n",
              "      <th>261</th>\n",
              "      <td>Why the NDP needs a new defence critic</td>\n",
              "      <td>CAF members along with American and Polish for...</td>\n",
              "      <td>0.0</td>\n",
              "      <td>canadiandimension.com</td>\n",
              "      <td>Why the NDP needs a new defence criticCAF memb...</td>\n",
              "      <td>needs defence criticcaf members along american...</td>\n",
              "      <td>0.000000</td>\n",
              "      <td>0.000000</td>\n",
              "      <td>0.000000</td>\n",
              "      <td>0.000000</td>\n",
              "      <td>...</td>\n",
              "      <td>0.0</td>\n",
              "      <td>0.000000</td>\n",
              "      <td>0.0</td>\n",
              "      <td>0.0</td>\n",
              "      <td>0.0</td>\n",
              "      <td>0.000000</td>\n",
              "      <td>0.000000</td>\n",
              "      <td>0.000000</td>\n",
              "      <td>0.0</td>\n",
              "      <td>0.0</td>\n",
              "    </tr>\n",
              "    <tr>\n",
              "      <th>577</th>\n",
              "      <td>Federal school safety panel, Parkland commissi...</td>\n",
              "      <td>The commission, led by Pinellas County Sheriff...</td>\n",
              "      <td>1.0</td>\n",
              "      <td>sayfiereview.com</td>\n",
              "      <td>Federal school safety panel, Parkland commissi...</td>\n",
              "      <td>federal school safety panel parkland commissio...</td>\n",
              "      <td>0.000000</td>\n",
              "      <td>0.000000</td>\n",
              "      <td>0.016403</td>\n",
              "      <td>0.000000</td>\n",
              "      <td>...</td>\n",
              "      <td>0.0</td>\n",
              "      <td>0.000000</td>\n",
              "      <td>0.0</td>\n",
              "      <td>0.0</td>\n",
              "      <td>0.0</td>\n",
              "      <td>0.000000</td>\n",
              "      <td>0.000000</td>\n",
              "      <td>0.000000</td>\n",
              "      <td>0.0</td>\n",
              "      <td>0.0</td>\n",
              "    </tr>\n",
              "    <tr>\n",
              "      <th>...</th>\n",
              "      <td>...</td>\n",
              "      <td>...</td>\n",
              "      <td>...</td>\n",
              "      <td>...</td>\n",
              "      <td>...</td>\n",
              "      <td>...</td>\n",
              "      <td>...</td>\n",
              "      <td>...</td>\n",
              "      <td>...</td>\n",
              "      <td>...</td>\n",
              "      <td>...</td>\n",
              "      <td>...</td>\n",
              "      <td>...</td>\n",
              "      <td>...</td>\n",
              "      <td>...</td>\n",
              "      <td>...</td>\n",
              "      <td>...</td>\n",
              "      <td>...</td>\n",
              "      <td>...</td>\n",
              "      <td>...</td>\n",
              "      <td>...</td>\n",
              "    </tr>\n",
              "    <tr>\n",
              "      <th>84</th>\n",
              "      <td>Emails: Judicial Watch YouTube Video Censored ...</td>\n",
              "      <td>CA Secretary of State ’ s Office Pressured Goo...</td>\n",
              "      <td>2.0</td>\n",
              "      <td>judicialwatch.org</td>\n",
              "      <td>Emails: Judicial Watch YouTube Video Censored ...</td>\n",
              "      <td>emails judicial watch youtube video censored r...</td>\n",
              "      <td>0.000000</td>\n",
              "      <td>0.010422</td>\n",
              "      <td>0.036087</td>\n",
              "      <td>0.003462</td>\n",
              "      <td>...</td>\n",
              "      <td>0.0</td>\n",
              "      <td>0.000000</td>\n",
              "      <td>0.0</td>\n",
              "      <td>0.0</td>\n",
              "      <td>0.0</td>\n",
              "      <td>0.000000</td>\n",
              "      <td>0.000000</td>\n",
              "      <td>0.000000</td>\n",
              "      <td>0.0</td>\n",
              "      <td>0.0</td>\n",
              "    </tr>\n",
              "    <tr>\n",
              "      <th>64</th>\n",
              "      <td>Latinos Vote! Releases Ad Featuring Latina Cel...</td>\n",
              "      <td>PFAW’s Latinos Vote! released an ad on Monday ...</td>\n",
              "      <td>0.0</td>\n",
              "      <td>pfaw.org</td>\n",
              "      <td>Latinos Vote! Releases Ad Featuring Latina Cel...</td>\n",
              "      <td>latinos vote releases featuring latina celebri...</td>\n",
              "      <td>0.000000</td>\n",
              "      <td>0.002634</td>\n",
              "      <td>0.029640</td>\n",
              "      <td>0.021874</td>\n",
              "      <td>...</td>\n",
              "      <td>0.0</td>\n",
              "      <td>0.000000</td>\n",
              "      <td>0.0</td>\n",
              "      <td>0.0</td>\n",
              "      <td>0.0</td>\n",
              "      <td>0.005936</td>\n",
              "      <td>0.018576</td>\n",
              "      <td>0.000000</td>\n",
              "      <td>0.0</td>\n",
              "      <td>0.0</td>\n",
              "    </tr>\n",
              "    <tr>\n",
              "      <th>309</th>\n",
              "      <td>• Chart: The Largest Militaries in the World• ...</td>\n",
              "      <td>The Statista \"Chart of the Day\", made availabl...</td>\n",
              "      <td>1.0</td>\n",
              "      <td>statista.com</td>\n",
              "      <td>• Chart: The Largest Militaries in the World• ...</td>\n",
              "      <td>chart largest militaries world chart renewable...</td>\n",
              "      <td>0.000000</td>\n",
              "      <td>0.000000</td>\n",
              "      <td>0.000000</td>\n",
              "      <td>0.000000</td>\n",
              "      <td>...</td>\n",
              "      <td>0.0</td>\n",
              "      <td>0.000000</td>\n",
              "      <td>0.0</td>\n",
              "      <td>0.0</td>\n",
              "      <td>0.0</td>\n",
              "      <td>0.000000</td>\n",
              "      <td>0.000000</td>\n",
              "      <td>0.000000</td>\n",
              "      <td>0.0</td>\n",
              "      <td>0.0</td>\n",
              "    </tr>\n",
              "    <tr>\n",
              "      <th>575</th>\n",
              "      <td>Interviews – Freedom NewsNews – Freedom NewsFr...</td>\n",
              "      <td>Our web store features hundreds of radical wor...</td>\n",
              "      <td>0.0</td>\n",
              "      <td>freedomnews.org.uk</td>\n",
              "      <td>Interviews – Freedom NewsNews – Freedom NewsFr...</td>\n",
              "      <td>interviews freedom newsnews freedom newsfreedo...</td>\n",
              "      <td>0.013303</td>\n",
              "      <td>0.000000</td>\n",
              "      <td>0.000000</td>\n",
              "      <td>0.010867</td>\n",
              "      <td>...</td>\n",
              "      <td>0.0</td>\n",
              "      <td>0.012969</td>\n",
              "      <td>0.0</td>\n",
              "      <td>0.0</td>\n",
              "      <td>0.0</td>\n",
              "      <td>0.000000</td>\n",
              "      <td>0.000000</td>\n",
              "      <td>0.014251</td>\n",
              "      <td>0.0</td>\n",
              "      <td>0.0</td>\n",
              "    </tr>\n",
              "    <tr>\n",
              "      <th>291</th>\n",
              "      <td>Not Political? Democrat Governors All Lift Sta...</td>\n",
              "      <td>This week, Democrat California Governor Gavin ...</td>\n",
              "      <td>2.0</td>\n",
              "      <td>freedomnewsreport.com</td>\n",
              "      <td>Not Political? Democrat Governors All Lift Sta...</td>\n",
              "      <td>political democrat governors lift stay home or...</td>\n",
              "      <td>0.000000</td>\n",
              "      <td>0.334552</td>\n",
              "      <td>0.083740</td>\n",
              "      <td>0.000000</td>\n",
              "      <td>...</td>\n",
              "      <td>0.0</td>\n",
              "      <td>0.015980</td>\n",
              "      <td>0.0</td>\n",
              "      <td>0.0</td>\n",
              "      <td>0.0</td>\n",
              "      <td>0.004542</td>\n",
              "      <td>0.000000</td>\n",
              "      <td>0.000000</td>\n",
              "      <td>0.0</td>\n",
              "      <td>0.0</td>\n",
              "    </tr>\n",
              "  </tbody>\n",
              "</table>\n",
              "<p>674 rows × 306 columns</p>\n",
              "</div>\n",
              "      <button class=\"colab-df-convert\" onclick=\"convertToInteractive('df-d4c4486a-6c8d-4f34-a62c-79a9e4299e41')\"\n",
              "              title=\"Convert this dataframe to an interactive table.\"\n",
              "              style=\"display:none;\">\n",
              "        \n",
              "  <svg xmlns=\"http://www.w3.org/2000/svg\" height=\"24px\"viewBox=\"0 0 24 24\"\n",
              "       width=\"24px\">\n",
              "    <path d=\"M0 0h24v24H0V0z\" fill=\"none\"/>\n",
              "    <path d=\"M18.56 5.44l.94 2.06.94-2.06 2.06-.94-2.06-.94-.94-2.06-.94 2.06-2.06.94zm-11 1L8.5 8.5l.94-2.06 2.06-.94-2.06-.94L8.5 2.5l-.94 2.06-2.06.94zm10 10l.94 2.06.94-2.06 2.06-.94-2.06-.94-.94-2.06-.94 2.06-2.06.94z\"/><path d=\"M17.41 7.96l-1.37-1.37c-.4-.4-.92-.59-1.43-.59-.52 0-1.04.2-1.43.59L10.3 9.45l-7.72 7.72c-.78.78-.78 2.05 0 2.83L4 21.41c.39.39.9.59 1.41.59.51 0 1.02-.2 1.41-.59l7.78-7.78 2.81-2.81c.8-.78.8-2.07 0-2.86zM5.41 20L4 18.59l7.72-7.72 1.47 1.35L5.41 20z\"/>\n",
              "  </svg>\n",
              "      </button>\n",
              "      \n",
              "  <style>\n",
              "    .colab-df-container {\n",
              "      display:flex;\n",
              "      flex-wrap:wrap;\n",
              "      gap: 12px;\n",
              "    }\n",
              "\n",
              "    .colab-df-convert {\n",
              "      background-color: #E8F0FE;\n",
              "      border: none;\n",
              "      border-radius: 50%;\n",
              "      cursor: pointer;\n",
              "      display: none;\n",
              "      fill: #1967D2;\n",
              "      height: 32px;\n",
              "      padding: 0 0 0 0;\n",
              "      width: 32px;\n",
              "    }\n",
              "\n",
              "    .colab-df-convert:hover {\n",
              "      background-color: #E2EBFA;\n",
              "      box-shadow: 0px 1px 2px rgba(60, 64, 67, 0.3), 0px 1px 3px 1px rgba(60, 64, 67, 0.15);\n",
              "      fill: #174EA6;\n",
              "    }\n",
              "\n",
              "    [theme=dark] .colab-df-convert {\n",
              "      background-color: #3B4455;\n",
              "      fill: #D2E3FC;\n",
              "    }\n",
              "\n",
              "    [theme=dark] .colab-df-convert:hover {\n",
              "      background-color: #434B5C;\n",
              "      box-shadow: 0px 1px 3px 1px rgba(0, 0, 0, 0.15);\n",
              "      filter: drop-shadow(0px 1px 2px rgba(0, 0, 0, 0.3));\n",
              "      fill: #FFFFFF;\n",
              "    }\n",
              "  </style>\n",
              "\n",
              "      <script>\n",
              "        const buttonEl =\n",
              "          document.querySelector('#df-d4c4486a-6c8d-4f34-a62c-79a9e4299e41 button.colab-df-convert');\n",
              "        buttonEl.style.display =\n",
              "          google.colab.kernel.accessAllowed ? 'block' : 'none';\n",
              "\n",
              "        async function convertToInteractive(key) {\n",
              "          const element = document.querySelector('#df-d4c4486a-6c8d-4f34-a62c-79a9e4299e41');\n",
              "          const dataTable =\n",
              "            await google.colab.kernel.invokeFunction('convertToInteractive',\n",
              "                                                     [key], {});\n",
              "          if (!dataTable) return;\n",
              "\n",
              "          const docLinkHtml = 'Like what you see? Visit the ' +\n",
              "            '<a target=\"_blank\" href=https://colab.research.google.com/notebooks/data_table.ipynb>data table notebook</a>'\n",
              "            + ' to learn more about interactive tables.';\n",
              "          element.innerHTML = '';\n",
              "          dataTable['output_type'] = 'display_data';\n",
              "          await google.colab.output.renderOutput(dataTable, element);\n",
              "          const docLink = document.createElement('div');\n",
              "          docLink.innerHTML = docLinkHtml;\n",
              "          element.appendChild(docLink);\n",
              "        }\n",
              "      </script>\n",
              "    </div>\n",
              "  </div>\n",
              "  "
            ]
          },
          "metadata": {},
          "execution_count": 62
        }
      ]
    },
    {
      "cell_type": "markdown",
      "source": [],
      "metadata": {
        "id": "fT_WFLYkrm4W"
      }
    },
    {
      "cell_type": "code",
      "source": [
        "np.array(train.columns)"
      ],
      "metadata": {
        "colab": {
          "base_uri": "https://localhost:8080/"
        },
        "id": "igr9N6cfQJLr",
        "outputId": "97e31c97-f1c2-40dd-b87d-105b36405bbf"
      },
      "execution_count": 63,
      "outputs": [
        {
          "output_type": "execute_result",
          "data": {
            "text/plain": [
              "array(['title', 'content', 'label', 'link', 'all_text', 'lemmas',\n",
              "       'feature_1489667', 'feature_148859', 'feature_1501110',\n",
              "       'feature_1240209', 'feature_155727', 'feature_817888',\n",
              "       'feature_348737', 'feature_1351979', 'feature_866035',\n",
              "       'feature_786582', 'feature_2567', 'feature_104703',\n",
              "       'feature_1599668', 'feature_589954', 'feature_203832',\n",
              "       'feature_1514541', 'feature_1259484', 'feature_747358',\n",
              "       'feature_637290', 'feature_1514550', 'feature_823600',\n",
              "       'feature_1109371', 'feature_177943', 'feature_602049',\n",
              "       'feature_931941', 'feature_1362708', 'feature_1545799',\n",
              "       'feature_28209', 'feature_96843', 'feature_1489743',\n",
              "       'feature_246346', 'feature_167424', 'feature_810733',\n",
              "       'feature_602102', 'feature_1089371', 'feature_7062',\n",
              "       'feature_141877', 'feature_328889', 'feature_469205',\n",
              "       'feature_595510', 'feature_595511', 'feature_704723',\n",
              "       'feature_1138055', 'feature_1193853', 'feature_1576490',\n",
              "       'feature_1593534', 'feature_358920', 'feature_1607304',\n",
              "       'feature_348889', 'feature_979435', 'feature_1047016',\n",
              "       'feature_1469914', 'feature_443069', 'feature_486683',\n",
              "       'feature_785787', 'feature_1287155', 'feature_204116',\n",
              "       'feature_596516', 'feature_609686', 'feature_1002190',\n",
              "       'feature_383305', 'feature_1071899', 'feature_359714',\n",
              "       'feature_132801', 'feature_40902', 'feature_879412',\n",
              "       'feature_768310', 'feature_58734', 'feature_1601770',\n",
              "       'feature_558545', 'feature_613799', 'feature_1027962',\n",
              "       'feature_539947', 'feature_1235482', 'feature_746262',\n",
              "       'feature_712465', 'feature_202011', 'feature_620901',\n",
              "       'feature_1176893', 'feature_1181634', 'feature_1454264',\n",
              "       'feature_1194429', 'feature_784552', 'feature_469202',\n",
              "       'feature_382795', 'feature_300837', 'feature_750201',\n",
              "       'feature_220579', 'feature_1352206', 'feature_244360',\n",
              "       'feature_771746', 'feature_173593', 'feature_690222',\n",
              "       'feature_6518', 'feature_2501', 'feature_242911', 'feature_107205',\n",
              "       'feature_819998', 'feature_1604188', 'feature_257556',\n",
              "       'feature_72293', 'feature_84807', 'feature_1619374',\n",
              "       'feature_546359', 'feature_43098', 'feature_277811',\n",
              "       'feature_64522', 'feature_1605956', 'feature_771190',\n",
              "       'feature_1492073', 'feature_1282894', 'feature_1713',\n",
              "       'feature_888977', 'feature_243124', 'feature_611908',\n",
              "       'feature_177263', 'feature_485102', 'feature_378018',\n",
              "       'feature_649658', 'feature_1222628', 'feature_1222629',\n",
              "       'feature_1337626', 'feature_71560', 'feature_701022',\n",
              "       'feature_1310602', 'feature_1389790', 'feature_1612624',\n",
              "       'feature_384133', 'feature_42390', 'feature_1154402',\n",
              "       'feature_175163', 'feature_851811', 'feature_1284367',\n",
              "       'feature_1421745', 'feature_1090968', 'feature_1235027',\n",
              "       'feature_578670', 'feature_445098', 'feature_735549',\n",
              "       'feature_820096', 'feature_820097', 'feature_1238575',\n",
              "       'feature_863605', 'feature_1164796', 'feature_1020915',\n",
              "       'feature_39737', 'feature_120127', 'feature_302196',\n",
              "       'feature_342886', 'feature_342887', 'feature_844473',\n",
              "       'feature_1063026', 'feature_1220721', 'feature_1055095',\n",
              "       'feature_748767', 'feature_1545720', 'feature_436858',\n",
              "       'feature_71911', 'feature_912646', 'feature_67649',\n",
              "       'feature_670054', 'feature_1452854', 'feature_1104885',\n",
              "       'feature_1455990', 'feature_1158186', 'feature_341246',\n",
              "       'feature_149405', 'feature_690210', 'feature_41277',\n",
              "       'feature_933732', 'feature_156280', 'feature_543830',\n",
              "       'feature_1588722', 'feature_828462', 'feature_828463',\n",
              "       'feature_904737', 'feature_387843', 'feature_879420',\n",
              "       'feature_1376296', 'feature_994389', 'feature_695997',\n",
              "       'feature_100966', 'feature_1024150', 'feature_402662',\n",
              "       'feature_890305', 'feature_751652', 'feature_1081235',\n",
              "       'feature_300427', 'feature_261009', 'feature_240570',\n",
              "       'feature_298957', 'feature_526604', 'feature_1390282',\n",
              "       'feature_341296', 'feature_1514731', 'feature_637741',\n",
              "       'feature_270601', 'feature_173512', 'feature_819227',\n",
              "       'feature_1587751', 'feature_702357', 'feature_402796',\n",
              "       'feature_1489787', 'feature_1345060', 'feature_695931',\n",
              "       'feature_1072868', 'feature_38280', 'feature_825467',\n",
              "       'feature_1505582', 'feature_939094', 'feature_257647',\n",
              "       'feature_1159898', 'feature_746085', 'feature_461039',\n",
              "       'feature_340644', 'feature_880929', 'feature_551410',\n",
              "       'feature_350942', 'feature_1512629', 'feature_978994',\n",
              "       'feature_204986', 'feature_753049', 'feature_1035360',\n",
              "       'feature_690307', 'feature_1535370', 'feature_537174',\n",
              "       'feature_1551966', 'feature_230878', 'feature_1528594',\n",
              "       'feature_537288', 'feature_889492', 'feature_1248903',\n",
              "       'feature_825456', 'feature_583644', 'feature_547929',\n",
              "       'feature_330867', 'feature_949541', 'feature_1571850',\n",
              "       'feature_243374', 'feature_882720', 'feature_1265265',\n",
              "       'feature_380713', 'feature_672893', 'feature_848788',\n",
              "       'feature_1340999', 'feature_540037', 'feature_540038',\n",
              "       'feature_593520', 'feature_699565', 'feature_1342025',\n",
              "       'feature_1474607', 'feature_424538', 'feature_1619920',\n",
              "       'feature_876640', 'feature_1556844', 'feature_1556845',\n",
              "       'feature_702360', 'feature_698342', 'feature_949823',\n",
              "       'feature_278920', 'feature_765198', 'feature_195865',\n",
              "       'feature_1255531', 'feature_784409', 'feature_1240386',\n",
              "       'feature_810042', 'feature_765112', 'feature_159006',\n",
              "       'feature_1333514', 'feature_233016', 'feature_315257',\n",
              "       'feature_492616', 'feature_139401', 'feature_1339059',\n",
              "       'feature_179881', 'feature_112918', 'feature_739087',\n",
              "       'feature_240303', 'feature_583763', 'feature_320367',\n",
              "       'feature_1559689', 'feature_604021', 'feature_851194',\n",
              "       'feature_167391', 'feature_487623', 'feature_226807',\n",
              "       'feature_1593363', 'feature_41946', 'feature_1159262',\n",
              "       'feature_649125', 'feature_838345', 'feature_683512',\n",
              "       'feature_236446', 'feature_1422712', 'feature_1422713',\n",
              "       'feature_849155', 'feature_267899', 'feature_788486',\n",
              "       'feature_770172', 'feature_189434'], dtype=object)"
            ]
          },
          "metadata": {},
          "execution_count": 63
        }
      ]
    },
    {
      "cell_type": "markdown",
      "source": [
        "### Только на фичах"
      ],
      "metadata": {
        "id": "CQAd4loCUdnv"
      }
    },
    {
      "cell_type": "code",
      "source": [
        "df_train = train[np.array(train.columns)[6:]]\n",
        "y_train = train['label']\n",
        "df_val = val[np.array(train.columns)[6:]]\n",
        "y_val = val['label']\n",
        "df_test = test[np.array(train.columns)[6:]]\n",
        "y_test = test['label']"
      ],
      "metadata": {
        "id": "dxtM2TVxUYFJ"
      },
      "execution_count": 64,
      "outputs": []
    },
    {
      "cell_type": "code",
      "source": [
        "from sklearn.utils.class_weight import compute_class_weight\n",
        " \n",
        "classes = np.unique(y_train)\n",
        "weights = compute_class_weight(class_weight='balanced', classes=classes, y=y_train)\n",
        "class_weights = dict(zip(classes, weights))"
      ],
      "metadata": {
        "id": "IxD3LDGNUhMn"
      },
      "execution_count": 65,
      "outputs": []
    },
    {
      "cell_type": "code",
      "source": [
        "from catboost import CatBoostClassifier\n",
        "from catboost import Pool\n",
        "\n",
        "\n",
        "def fit_model(train_pool, validation_pool, **kwargs):\n",
        "    model = CatBoostClassifier(\n",
        "        loss_function='MultiClass',\n",
        "        class_weights=class_weights,\n",
        "        iterations=6000,\n",
        "        learning_rate=0.01,\n",
        "        eval_metric='MultiClass',\n",
        "        use_best_model= True,\n",
        "        task_type='GPU',\n",
        "        **kwargs\n",
        "    )\n",
        "\n",
        "    return model.fit(\n",
        "        train_pool,\n",
        "        eval_set=validation_pool,\n",
        "        verbose=100,\n",
        "    )"
      ],
      "metadata": {
        "id": "CLUptuN3Uc5l"
      },
      "execution_count": 66,
      "outputs": []
    },
    {
      "cell_type": "code",
      "source": [
        "train_pool = Pool(\n",
        "    df_train, y_train, \n",
        ")\n",
        "\n",
        "validation_pool = Pool(\n",
        "    df_val, y_val, \n",
        ")\n",
        "\n",
        "test_pool = Pool(\n",
        "    df_test, y_test, \n",
        ")\n",
        "\n",
        "print('Train dataset shape: {}\\n'.format(train_pool.shape))\n",
        "\n",
        "Catboost_fit = fit_model(train_pool, validation_pool)"
      ],
      "metadata": {
        "colab": {
          "base_uri": "https://localhost:8080/"
        },
        "id": "6vyD83vZUlLY",
        "outputId": "612e6d19-50ec-4c36-e8aa-68620eadae3f"
      },
      "execution_count": 67,
      "outputs": [
        {
          "output_type": "stream",
          "name": "stdout",
          "text": [
            "Train dataset shape: (674, 300)\n",
            "\n"
          ]
        },
        {
          "output_type": "stream",
          "name": "stderr",
          "text": [
            "Warning: less than 75% gpu memory available for training. Free: 830.8125 Total: 15101.8125\n"
          ]
        },
        {
          "output_type": "stream",
          "name": "stdout",
          "text": [
            "0:\tlearn: 1.0955149\ttest: 1.0970415\tbest: 1.0970415 (0)\ttotal: 33.4ms\tremaining: 3m 20s\n",
            "100:\tlearn: 0.8700205\ttest: 0.9628831\tbest: 0.9628831 (100)\ttotal: 2.02s\tremaining: 1m 58s\n",
            "200:\tlearn: 0.7483149\ttest: 0.9039073\tbest: 0.9039073 (200)\ttotal: 2.72s\tremaining: 1m 18s\n",
            "300:\tlearn: 0.6668466\ttest: 0.8713250\tbest: 0.8713250 (300)\ttotal: 3.72s\tremaining: 1m 10s\n",
            "400:\tlearn: 0.6084887\ttest: 0.8474683\tbest: 0.8474683 (400)\ttotal: 6.93s\tremaining: 1m 36s\n",
            "500:\tlearn: 0.5639235\ttest: 0.8333260\tbest: 0.8332348 (499)\ttotal: 7.71s\tremaining: 1m 24s\n",
            "600:\tlearn: 0.5299235\ttest: 0.8242308\tbest: 0.8242308 (600)\ttotal: 8.33s\tremaining: 1m 14s\n",
            "700:\tlearn: 0.5024167\ttest: 0.8170241\tbest: 0.8170241 (700)\ttotal: 8.94s\tremaining: 1m 7s\n",
            "800:\tlearn: 0.4788817\ttest: 0.8109070\tbest: 0.8109070 (800)\ttotal: 9.51s\tremaining: 1m 1s\n",
            "900:\tlearn: 0.4610164\ttest: 0.8067965\tbest: 0.8067965 (900)\ttotal: 10.1s\tremaining: 57.1s\n",
            "1000:\tlearn: 0.4446813\ttest: 0.8037569\tbest: 0.8037569 (1000)\ttotal: 10.7s\tremaining: 53.3s\n",
            "1100:\tlearn: 0.4304407\ttest: 0.8011249\tbest: 0.8010581 (1098)\ttotal: 11.5s\tremaining: 51.1s\n",
            "1200:\tlearn: 0.4170963\ttest: 0.8000555\tbest: 0.8000555 (1200)\ttotal: 13.4s\tremaining: 53.6s\n",
            "1300:\tlearn: 0.4062993\ttest: 0.7984250\tbest: 0.7982676 (1291)\ttotal: 15.1s\tremaining: 54.5s\n",
            "1400:\tlearn: 0.3956019\ttest: 0.7972609\tbest: 0.7972393 (1397)\ttotal: 19.1s\tremaining: 1m 2s\n",
            "1500:\tlearn: 0.3854475\ttest: 0.7960484\tbest: 0.7959434 (1497)\ttotal: 22.3s\tremaining: 1m 6s\n",
            "1600:\tlearn: 0.3755428\ttest: 0.7959274\tbest: 0.7952803 (1550)\ttotal: 24.8s\tremaining: 1m 8s\n",
            "1700:\tlearn: 0.3658581\ttest: 0.7951205\tbest: 0.7949000 (1662)\ttotal: 27.9s\tremaining: 1m 10s\n",
            "1800:\tlearn: 0.3559859\ttest: 0.7945147\tbest: 0.7944433 (1799)\ttotal: 30.8s\tremaining: 1m 11s\n",
            "1900:\tlearn: 0.3471560\ttest: 0.7937589\tbest: 0.7934066 (1860)\ttotal: 35.6s\tremaining: 1m 16s\n",
            "2000:\tlearn: 0.3400732\ttest: 0.7932080\tbest: 0.7932080 (2000)\ttotal: 38.3s\tremaining: 1m 16s\n",
            "2100:\tlearn: 0.3317571\ttest: 0.7929637\tbest: 0.7926492 (2052)\ttotal: 40.6s\tremaining: 1m 15s\n",
            "2200:\tlearn: 0.3238201\ttest: 0.7926759\tbest: 0.7924207 (2172)\ttotal: 43.5s\tremaining: 1m 15s\n",
            "2300:\tlearn: 0.3170154\ttest: 0.7923213\tbest: 0.7922697 (2299)\ttotal: 48.2s\tremaining: 1m 17s\n",
            "2400:\tlearn: 0.3105388\ttest: 0.7927379\tbest: 0.7920930 (2305)\ttotal: 50.5s\tremaining: 1m 15s\n",
            "2500:\tlearn: 0.3045865\ttest: 0.7930196\tbest: 0.7920930 (2305)\ttotal: 52.6s\tremaining: 1m 13s\n",
            "2600:\tlearn: 0.2986307\ttest: 0.7935934\tbest: 0.7920930 (2305)\ttotal: 53.5s\tremaining: 1m 9s\n",
            "2700:\tlearn: 0.2922538\ttest: 0.7950490\tbest: 0.7920930 (2305)\ttotal: 54.1s\tremaining: 1m 6s\n",
            "2800:\tlearn: 0.2857405\ttest: 0.7944583\tbest: 0.7920930 (2305)\ttotal: 54.7s\tremaining: 1m 2s\n",
            "2900:\tlearn: 0.2798518\ttest: 0.7956360\tbest: 0.7920930 (2305)\ttotal: 55.3s\tremaining: 59.1s\n",
            "3000:\tlearn: 0.2736152\ttest: 0.7953673\tbest: 0.7920930 (2305)\ttotal: 55.9s\tremaining: 55.8s\n",
            "3100:\tlearn: 0.2683797\ttest: 0.7953428\tbest: 0.7920930 (2305)\ttotal: 56.5s\tremaining: 52.8s\n",
            "3200:\tlearn: 0.2630584\ttest: 0.7956308\tbest: 0.7920930 (2305)\ttotal: 57.1s\tremaining: 49.9s\n",
            "3300:\tlearn: 0.2579096\ttest: 0.7958704\tbest: 0.7920930 (2305)\ttotal: 57.6s\tremaining: 47.1s\n",
            "3400:\tlearn: 0.2530839\ttest: 0.7968949\tbest: 0.7920930 (2305)\ttotal: 58.2s\tremaining: 44.5s\n",
            "3500:\tlearn: 0.2481299\ttest: 0.7974107\tbest: 0.7920930 (2305)\ttotal: 1m\tremaining: 42.9s\n",
            "3600:\tlearn: 0.2434906\ttest: 0.7970497\tbest: 0.7920930 (2305)\ttotal: 1m 2s\tremaining: 41.6s\n",
            "3700:\tlearn: 0.2386013\ttest: 0.7971657\tbest: 0.7920930 (2305)\ttotal: 1m 3s\tremaining: 39.2s\n",
            "3800:\tlearn: 0.2340741\ttest: 0.7983896\tbest: 0.7920930 (2305)\ttotal: 1m 3s\tremaining: 36.9s\n",
            "3900:\tlearn: 0.2303618\ttest: 0.7991838\tbest: 0.7920930 (2305)\ttotal: 1m 4s\tremaining: 34.6s\n",
            "4000:\tlearn: 0.2258597\ttest: 0.7994542\tbest: 0.7920930 (2305)\ttotal: 1m 4s\tremaining: 32.4s\n",
            "4100:\tlearn: 0.2217121\ttest: 0.7990874\tbest: 0.7920930 (2305)\ttotal: 1m 5s\tremaining: 30.3s\n",
            "4200:\tlearn: 0.2175488\ttest: 0.7997141\tbest: 0.7920930 (2305)\ttotal: 1m 6s\tremaining: 28.3s\n",
            "4300:\tlearn: 0.2138731\ttest: 0.8015287\tbest: 0.7920930 (2305)\ttotal: 1m 6s\tremaining: 26.3s\n",
            "4400:\tlearn: 0.2098956\ttest: 0.8023242\tbest: 0.7920930 (2305)\ttotal: 1m 7s\tremaining: 24.4s\n",
            "4500:\tlearn: 0.2062335\ttest: 0.8033246\tbest: 0.7920930 (2305)\ttotal: 1m 7s\tremaining: 22.6s\n",
            "4600:\tlearn: 0.2026074\ttest: 0.8041396\tbest: 0.7920930 (2305)\ttotal: 1m 8s\tremaining: 20.8s\n",
            "4700:\tlearn: 0.1993608\ttest: 0.8056744\tbest: 0.7920930 (2305)\ttotal: 1m 8s\tremaining: 19s\n",
            "4800:\tlearn: 0.1959005\ttest: 0.8063602\tbest: 0.7920930 (2305)\ttotal: 1m 9s\tremaining: 17.3s\n",
            "4900:\tlearn: 0.1927692\ttest: 0.8075838\tbest: 0.7920930 (2305)\ttotal: 1m 10s\tremaining: 15.7s\n",
            "5000:\tlearn: 0.1895438\ttest: 0.8079699\tbest: 0.7920930 (2305)\ttotal: 1m 10s\tremaining: 14.1s\n",
            "5100:\tlearn: 0.1860846\ttest: 0.8085748\tbest: 0.7920930 (2305)\ttotal: 1m 11s\tremaining: 12.5s\n",
            "5200:\tlearn: 0.1833004\ttest: 0.8090516\tbest: 0.7920930 (2305)\ttotal: 1m 11s\tremaining: 11s\n",
            "5300:\tlearn: 0.1800739\ttest: 0.8099522\tbest: 0.7920930 (2305)\ttotal: 1m 12s\tremaining: 9.6s\n",
            "5400:\tlearn: 0.1768630\ttest: 0.8108978\tbest: 0.7920930 (2305)\ttotal: 1m 16s\tremaining: 8.43s\n",
            "5500:\tlearn: 0.1742654\ttest: 0.8116898\tbest: 0.7920930 (2305)\ttotal: 1m 16s\tremaining: 6.96s\n",
            "5600:\tlearn: 0.1713339\ttest: 0.8124382\tbest: 0.7920930 (2305)\ttotal: 1m 17s\tremaining: 5.51s\n",
            "5700:\tlearn: 0.1684247\ttest: 0.8128430\tbest: 0.7920930 (2305)\ttotal: 1m 17s\tremaining: 4.09s\n",
            "5800:\tlearn: 0.1657667\ttest: 0.8140439\tbest: 0.7920930 (2305)\ttotal: 1m 18s\tremaining: 2.69s\n",
            "5900:\tlearn: 0.1633011\ttest: 0.8151117\tbest: 0.7920930 (2305)\ttotal: 1m 19s\tremaining: 1.33s\n",
            "5999:\tlearn: 0.1607690\ttest: 0.8158300\tbest: 0.7920930 (2305)\ttotal: 1m 19s\tremaining: 0us\n",
            "bestTest = 0.7920930091\n",
            "bestIteration = 2305\n",
            "Shrink model to first 2306 iterations.\n"
          ]
        }
      ]
    },
    {
      "cell_type": "code",
      "source": [
        "Catboost_fit_test = test_pool"
      ],
      "metadata": {
        "id": "ZjeXfYLeD1zA"
      },
      "execution_count": 68,
      "outputs": []
    },
    {
      "cell_type": "code",
      "source": [
        "y_proba_cb = Catboost_fit.predict_proba(Catboost_fit_test)\n",
        "y_pred = np.argmax(y_proba_cb, axis=1)"
      ],
      "metadata": {
        "id": "0OeGTCzqif5r"
      },
      "execution_count": 69,
      "outputs": []
    },
    {
      "cell_type": "code",
      "source": [
        "import tensorflow as tf\n",
        "test_y = tf.keras.utils.to_categorical(\n",
        "    test['label'], num_classes=3)"
      ],
      "metadata": {
        "id": "ljlu2VwKif8n"
      },
      "execution_count": 70,
      "outputs": []
    },
    {
      "cell_type": "code",
      "source": [
        "from sklearn.metrics import f1_score ,mean_absolute_error, accuracy_score\n",
        "\n",
        "print('F1:',f1_score(y_pred, y_test, average='macro'))\n",
        "scores_F1['Catboost_only_features'] = f1_score(y_pred, y_test, average='macro')\n",
        "print('Accuracy:',accuracy_score(y_pred, y_test))\n",
        "scores_Accuracy['Catboost_only_features'] = accuracy_score(y_pred, y_test)\n",
        "print('MAE:',mean_absolute_error(y_proba_cb, test_y))\n",
        "scores_MAE['Catboost_only_features'] = mean_absolute_error(y_proba_cb,test_y)"
      ],
      "metadata": {
        "colab": {
          "base_uri": "https://localhost:8080/"
        },
        "id": "uQQ_C-R5if_N",
        "outputId": "379d9ccb-a6f4-4f93-d268-04a8094ead31"
      },
      "execution_count": 71,
      "outputs": [
        {
          "output_type": "stream",
          "name": "stdout",
          "text": [
            "F1: 0.6684897238436259\n",
            "Accuracy: 0.6730769230769231\n",
            "MAE: 0.30328907093953744\n"
          ]
        }
      ]
    },
    {
      "cell_type": "markdown",
      "source": [
        "### Леммы+фичи"
      ],
      "metadata": {
        "id": "jAX0HxhCig30"
      }
    },
    {
      "cell_type": "code",
      "source": [
        "np.array(train.columns)[6:22]"
      ],
      "metadata": {
        "colab": {
          "base_uri": "https://localhost:8080/"
        },
        "id": "QYjoEJSuimZo",
        "outputId": "febec6ff-49f2-41d3-9259-ae1f87a3da79"
      },
      "execution_count": 72,
      "outputs": [
        {
          "output_type": "execute_result",
          "data": {
            "text/plain": [
              "array(['feature_1489667', 'feature_148859', 'feature_1501110',\n",
              "       'feature_1240209', 'feature_155727', 'feature_817888',\n",
              "       'feature_348737', 'feature_1351979', 'feature_866035',\n",
              "       'feature_786582', 'feature_2567', 'feature_104703',\n",
              "       'feature_1599668', 'feature_589954', 'feature_203832',\n",
              "       'feature_1514541'], dtype=object)"
            ]
          },
          "metadata": {},
          "execution_count": 72
        }
      ]
    },
    {
      "cell_type": "code",
      "source": [
        "col = ['title', 'content','all_text', 'lemmas','feature_1489667', 'feature_148859', 'feature_1501110',\n",
        "       'feature_1240209', 'feature_155727', 'feature_817888',\n",
        "       'feature_348737', 'feature_1351979', 'feature_866035',\n",
        "       'feature_786582', 'feature_2567', 'feature_104703',\n",
        "       'feature_1599668', 'feature_589954', 'feature_203832',\n",
        "       'feature_1514541']"
      ],
      "metadata": {
        "id": "0ClN7HwBUdDv"
      },
      "execution_count": 73,
      "outputs": []
    },
    {
      "cell_type": "code",
      "source": [
        "df_train = train[col]\n",
        "y_train = train['label']\n",
        "df_val = val[col]\n",
        "y_val = val['label']\n",
        "df_test = test[col]\n",
        "y_test = test['label']"
      ],
      "metadata": {
        "id": "K8JXKIkEwc4S"
      },
      "execution_count": 74,
      "outputs": []
    },
    {
      "cell_type": "code",
      "source": [
        "from sklearn.utils.class_weight import compute_class_weight\n",
        " \n",
        "classes = np.unique(y_train)\n",
        "weights = compute_class_weight(class_weight='balanced', classes=classes, y=y_train)\n",
        "class_weights = dict(zip(classes, weights))"
      ],
      "metadata": {
        "id": "0Ldfl_9RIClo"
      },
      "execution_count": 75,
      "outputs": []
    },
    {
      "cell_type": "code",
      "source": [
        "from catboost import CatBoostClassifier\n",
        "from catboost import Pool\n",
        "\n",
        "\n",
        "def fit_model(train_pool, validation_pool, **kwargs):\n",
        "    model = CatBoostClassifier(\n",
        "        loss_function='MultiClass',\n",
        "        class_weights=class_weights,\n",
        "        iterations=6000,\n",
        "        learning_rate=0.01,\n",
        "        eval_metric='MultiClass',\n",
        "        use_best_model= True,\n",
        "        task_type='GPU',\n",
        "        **kwargs\n",
        "    )\n",
        "\n",
        "    return model.fit(\n",
        "        train_pool,\n",
        "        eval_set=validation_pool,\n",
        "        verbose=100,\n",
        "    )"
      ],
      "metadata": {
        "id": "_MJ68Jjux1uH"
      },
      "execution_count": 76,
      "outputs": []
    },
    {
      "cell_type": "code",
      "source": [
        "train_pool = Pool(\n",
        "    df_train, y_train, \n",
        "    text_features=['title','all_text','lemmas','content'],\n",
        ")\n",
        "\n",
        "validation_pool = Pool(\n",
        "    df_val, y_val, \n",
        "    text_features=['title','all_text','lemmas','content'],\n",
        ")\n",
        "\n",
        "test_pool = Pool(\n",
        "    df_test, y_test, \n",
        "    text_features=['title','all_text','lemmas','content'],\n",
        ")\n",
        "\n",
        "print('Train dataset shape: {}\\n'.format(train_pool.shape))\n",
        "\n",
        "Catboost = fit_model(train_pool, validation_pool)"
      ],
      "metadata": {
        "colab": {
          "base_uri": "https://localhost:8080/"
        },
        "id": "YQhzzjRkwc7C",
        "outputId": "4329f55e-81e1-42c5-a20e-bdec3aae2062"
      },
      "execution_count": 77,
      "outputs": [
        {
          "output_type": "stream",
          "name": "stdout",
          "text": [
            "Train dataset shape: (674, 20)\n",
            "\n"
          ]
        },
        {
          "output_type": "stream",
          "name": "stderr",
          "text": [
            "Warning: less than 75% gpu memory available for training. Free: 830.8125 Total: 15101.8125\n"
          ]
        },
        {
          "output_type": "stream",
          "name": "stdout",
          "text": [
            "0:\tlearn: 1.0952203\ttest: 1.0955465\tbest: 1.0955465 (0)\ttotal: 44.2ms\tremaining: 4m 25s\n",
            "100:\tlearn: 0.8560237\ttest: 0.8869163\tbest: 0.8869163 (100)\ttotal: 2.49s\tremaining: 2m 25s\n",
            "200:\tlearn: 0.7416495\ttest: 0.8182240\tbest: 0.8182240 (200)\ttotal: 6.1s\tremaining: 2m 56s\n",
            "300:\tlearn: 0.6623570\ttest: 0.7832958\tbest: 0.7832958 (300)\ttotal: 7.45s\tremaining: 2m 21s\n",
            "400:\tlearn: 0.5988313\ttest: 0.7652687\tbest: 0.7652687 (400)\ttotal: 8.75s\tremaining: 2m 2s\n",
            "500:\tlearn: 0.5471960\ttest: 0.7538511\tbest: 0.7538511 (500)\ttotal: 10s\tremaining: 1m 50s\n",
            "600:\tlearn: 0.5034886\ttest: 0.7441434\tbest: 0.7441016 (599)\ttotal: 11.3s\tremaining: 1m 41s\n",
            "700:\tlearn: 0.4664988\ttest: 0.7353859\tbest: 0.7353859 (700)\ttotal: 12.6s\tremaining: 1m 34s\n",
            "800:\tlearn: 0.4357321\ttest: 0.7278044\tbest: 0.7277135 (799)\ttotal: 13.7s\tremaining: 1m 29s\n",
            "900:\tlearn: 0.4092522\ttest: 0.7225743\tbest: 0.7223410 (895)\ttotal: 15.3s\tremaining: 1m 26s\n",
            "1000:\tlearn: 0.3849265\ttest: 0.7175424\tbest: 0.7174692 (997)\ttotal: 19.3s\tremaining: 1m 36s\n",
            "1100:\tlearn: 0.3623341\ttest: 0.7136618\tbest: 0.7136618 (1100)\ttotal: 20.4s\tremaining: 1m 30s\n",
            "1200:\tlearn: 0.3433711\ttest: 0.7111100\tbest: 0.7111100 (1200)\ttotal: 21.6s\tremaining: 1m 26s\n",
            "1300:\tlearn: 0.3256968\ttest: 0.7082586\tbest: 0.7080805 (1296)\ttotal: 22.7s\tremaining: 1m 22s\n",
            "1400:\tlearn: 0.3095693\ttest: 0.7058513\tbest: 0.7054620 (1383)\ttotal: 23.8s\tremaining: 1m 18s\n",
            "1500:\tlearn: 0.2951088\ttest: 0.7030079\tbest: 0.7029391 (1499)\ttotal: 24.9s\tremaining: 1m 14s\n",
            "1600:\tlearn: 0.2815402\ttest: 0.7012603\tbest: 0.7012603 (1600)\ttotal: 26.1s\tremaining: 1m 11s\n",
            "1700:\tlearn: 0.2681774\ttest: 0.6988740\tbest: 0.6988057 (1698)\ttotal: 27.2s\tremaining: 1m 8s\n",
            "1800:\tlearn: 0.2552751\ttest: 0.6974339\tbest: 0.6974339 (1800)\ttotal: 28.3s\tremaining: 1m 6s\n",
            "1900:\tlearn: 0.2440594\ttest: 0.6953326\tbest: 0.6952494 (1898)\ttotal: 32.5s\tremaining: 1m 10s\n",
            "2000:\tlearn: 0.2335039\ttest: 0.6937604\tbest: 0.6937485 (1999)\ttotal: 33.7s\tremaining: 1m 7s\n",
            "2100:\tlearn: 0.2232956\ttest: 0.6929917\tbest: 0.6929917 (2100)\ttotal: 34.8s\tremaining: 1m 4s\n",
            "2200:\tlearn: 0.2140125\ttest: 0.6915319\tbest: 0.6914665 (2190)\ttotal: 36s\tremaining: 1m 2s\n",
            "2300:\tlearn: 0.2059079\ttest: 0.6904109\tbest: 0.6901774 (2284)\ttotal: 37s\tremaining: 59.6s\n",
            "2400:\tlearn: 0.1977438\ttest: 0.6897420\tbest: 0.6895788 (2393)\ttotal: 38.2s\tremaining: 57.2s\n",
            "2500:\tlearn: 0.1896354\ttest: 0.6886836\tbest: 0.6885686 (2498)\ttotal: 39.3s\tremaining: 55s\n",
            "2600:\tlearn: 0.1820724\ttest: 0.6883097\tbest: 0.6882319 (2510)\ttotal: 40.4s\tremaining: 52.8s\n",
            "2700:\tlearn: 0.1750944\ttest: 0.6876389\tbest: 0.6876389 (2700)\ttotal: 41.5s\tremaining: 50.7s\n",
            "2800:\tlearn: 0.1689974\ttest: 0.6867597\tbest: 0.6866895 (2795)\ttotal: 44.4s\tremaining: 50.7s\n",
            "2900:\tlearn: 0.1630228\ttest: 0.6869960\tbest: 0.6862538 (2873)\ttotal: 50.6s\tremaining: 54s\n",
            "3000:\tlearn: 0.1572030\ttest: 0.6866748\tbest: 0.6862538 (2873)\ttotal: 58s\tremaining: 57.9s\n",
            "3100:\tlearn: 0.1520861\ttest: 0.6864556\tbest: 0.6862538 (2873)\ttotal: 1m 3s\tremaining: 59.5s\n",
            "3200:\tlearn: 0.1468103\ttest: 0.6859137\tbest: 0.6857058 (3185)\ttotal: 1m 8s\tremaining: 59.6s\n",
            "3300:\tlearn: 0.1420393\ttest: 0.6867577\tbest: 0.6857058 (3185)\ttotal: 1m 15s\tremaining: 1m 2s\n",
            "3400:\tlearn: 0.1374582\ttest: 0.6866668\tbest: 0.6857058 (3185)\ttotal: 1m 21s\tremaining: 1m 2s\n",
            "3500:\tlearn: 0.1326281\ttest: 0.6862890\tbest: 0.6857058 (3185)\ttotal: 1m 22s\tremaining: 59.1s\n",
            "3600:\tlearn: 0.1283608\ttest: 0.6860171\tbest: 0.6857058 (3185)\ttotal: 1m 27s\tremaining: 58.4s\n",
            "3700:\tlearn: 0.1242078\ttest: 0.6860038\tbest: 0.6857058 (3185)\ttotal: 1m 28s\tremaining: 55.2s\n",
            "3800:\tlearn: 0.1202118\ttest: 0.6863722\tbest: 0.6856239 (3729)\ttotal: 1m 30s\tremaining: 52.1s\n",
            "3900:\tlearn: 0.1164861\ttest: 0.6865335\tbest: 0.6856239 (3729)\ttotal: 1m 31s\tremaining: 49s\n",
            "4000:\tlearn: 0.1130689\ttest: 0.6866623\tbest: 0.6856239 (3729)\ttotal: 1m 32s\tremaining: 46.1s\n",
            "4100:\tlearn: 0.1096785\ttest: 0.6865494\tbest: 0.6856239 (3729)\ttotal: 1m 33s\tremaining: 43.3s\n",
            "4200:\tlearn: 0.1066505\ttest: 0.6864397\tbest: 0.6856239 (3729)\ttotal: 1m 34s\tremaining: 40.5s\n",
            "4300:\tlearn: 0.1035119\ttest: 0.6860350\tbest: 0.6856239 (3729)\ttotal: 1m 35s\tremaining: 37.8s\n",
            "4400:\tlearn: 0.1006896\ttest: 0.6868774\tbest: 0.6856239 (3729)\ttotal: 1m 36s\tremaining: 35.2s\n",
            "4500:\tlearn: 0.0978073\ttest: 0.6874013\tbest: 0.6856239 (3729)\ttotal: 1m 39s\tremaining: 33.1s\n",
            "4600:\tlearn: 0.0949278\ttest: 0.6875083\tbest: 0.6856239 (3729)\ttotal: 1m 42s\tremaining: 31.1s\n",
            "4700:\tlearn: 0.0922511\ttest: 0.6882444\tbest: 0.6856239 (3729)\ttotal: 1m 43s\tremaining: 28.5s\n",
            "4800:\tlearn: 0.0896350\ttest: 0.6887928\tbest: 0.6856239 (3729)\ttotal: 1m 44s\tremaining: 26.1s\n",
            "4900:\tlearn: 0.0872270\ttest: 0.6895384\tbest: 0.6856239 (3729)\ttotal: 1m 45s\tremaining: 23.7s\n",
            "5000:\tlearn: 0.0849189\ttest: 0.6897465\tbest: 0.6856239 (3729)\ttotal: 1m 46s\tremaining: 21.3s\n",
            "5100:\tlearn: 0.0826581\ttest: 0.6905752\tbest: 0.6856239 (3729)\ttotal: 1m 50s\tremaining: 19.5s\n",
            "5200:\tlearn: 0.0805616\ttest: 0.6905685\tbest: 0.6856239 (3729)\ttotal: 2m 2s\tremaining: 18.7s\n",
            "5300:\tlearn: 0.0786412\ttest: 0.6914563\tbest: 0.6856239 (3729)\ttotal: 2m 10s\tremaining: 17.2s\n",
            "5400:\tlearn: 0.0766782\ttest: 0.6913592\tbest: 0.6856239 (3729)\ttotal: 2m 15s\tremaining: 15s\n",
            "5500:\tlearn: 0.0748464\ttest: 0.6915065\tbest: 0.6856239 (3729)\ttotal: 2m 20s\tremaining: 12.7s\n",
            "5600:\tlearn: 0.0730122\ttest: 0.6923757\tbest: 0.6856239 (3729)\ttotal: 2m 26s\tremaining: 10.5s\n",
            "5700:\tlearn: 0.0712857\ttest: 0.6923963\tbest: 0.6856239 (3729)\ttotal: 2m 28s\tremaining: 7.77s\n",
            "5800:\tlearn: 0.0695977\ttest: 0.6929489\tbest: 0.6856239 (3729)\ttotal: 2m 29s\tremaining: 5.12s\n",
            "5900:\tlearn: 0.0679398\ttest: 0.6935022\tbest: 0.6856239 (3729)\ttotal: 2m 30s\tremaining: 2.52s\n",
            "5999:\tlearn: 0.0664274\ttest: 0.6942889\tbest: 0.6856239 (3729)\ttotal: 2m 31s\tremaining: 0us\n",
            "bestTest = 0.6856239343\n",
            "bestIteration = 3729\n",
            "Shrink model to first 3730 iterations.\n"
          ]
        }
      ]
    },
    {
      "cell_type": "code",
      "source": [
        "Catboost_test = test_pool"
      ],
      "metadata": {
        "id": "HBAba4CaEFyu"
      },
      "execution_count": 78,
      "outputs": []
    },
    {
      "cell_type": "code",
      "source": [
        "def plot_feature_importance(importance,names,model_type):\n",
        "    \n",
        "    #Create arrays from feature importance and feature names\n",
        "    feature_importance = np.array(importance)\n",
        "    feature_names = np.array(names)\n",
        "    \n",
        "    #Create a DataFrame using a Dictionary\n",
        "    data={'feature_names':feature_names,'feature_importance':feature_importance}\n",
        "    fi_df = pd.DataFrame(data)\n",
        "    \n",
        "    #Sort the DataFrame in order decreasing feature importance\n",
        "    fi_df.sort_values(by=['feature_importance'], ascending=False,inplace=True)\n",
        "    #Define size of bar plot\n",
        "    plt.figure(figsize=(10,8))\n",
        "    #Plot Searborn bar chart\n",
        "    sns.barplot(x=fi_df['feature_importance'], y=fi_df['feature_names'])\n",
        "    #Add chart labels\n",
        "    plt.title(model_type + 'FEATURE IMPORTANCE')\n",
        "    plt.xlabel('FEATURE IMPORTANCE')\n",
        "    plt.ylabel('FEATURE NAMES')\n",
        "#plot the catboost result\n",
        "plot_feature_importance(Catboost.get_feature_importance(),df_train.columns,'CATBOOST ')"
      ],
      "metadata": {
        "colab": {
          "base_uri": "https://localhost:8080/",
          "height": 463
        },
        "id": "DjLWdQaRYfla",
        "outputId": "5e959acd-ccde-40e5-af59-82a27c85ab71"
      },
      "execution_count": 79,
      "outputs": [
        {
          "output_type": "display_data",
          "data": {
            "text/plain": [
              "<Figure size 1000x800 with 1 Axes>"
            ],
            "image/png": "[encoded data removed]"
          },
          "metadata": {}
        }
      ]
    },
    {
      "cell_type": "code",
      "source": [
        "y_proba_cb = Catboost.predict_proba(Catboost_test)\n",
        "y_pred = np.argmax(y_proba_cb, axis=1)"
      ],
      "metadata": {
        "id": "kT45HkunwdAd"
      },
      "execution_count": 80,
      "outputs": []
    },
    {
      "cell_type": "code",
      "source": [
        "import tensorflow as tf\n",
        "test_y = tf.keras.utils.to_categorical(\n",
        "    test['label'], num_classes=3)"
      ],
      "metadata": {
        "id": "_64IOy0HwdC-"
      },
      "execution_count": 81,
      "outputs": []
    },
    {
      "cell_type": "code",
      "source": [
        "from sklearn.metrics import f1_score ,mean_absolute_error, accuracy_score\n",
        "\n",
        "print('F1:',f1_score(y_pred, y_test, average='macro'))\n",
        "scores_F1['Catboost'] = f1_score(y_pred, y_test, average='macro')\n",
        "print('Accuracy:',accuracy_score(y_pred, y_test))\n",
        "scores_Accuracy['Catboost'] = accuracy_score(y_pred, y_test)\n",
        "print('MAE:',mean_absolute_error(y_proba_cb, test_y))\n",
        "scores_MAE['Catboost'] = mean_absolute_error(y_proba_cb,test_y)"
      ],
      "metadata": {
        "colab": {
          "base_uri": "https://localhost:8080/"
        },
        "id": "ppf-QMsLwdFk",
        "outputId": "131e2ea0-245b-45ab-ec7c-7f35555664fc"
      },
      "execution_count": 82,
      "outputs": [
        {
          "output_type": "stream",
          "name": "stdout",
          "text": [
            "F1: 0.6983908045977012\n",
            "Accuracy: 0.7019230769230769\n",
            "MAE: 0.2690818786492542\n"
          ]
        }
      ]
    },
    {
      "cell_type": "code",
      "source": [
        "from sklearn.datasets import make_classification\n",
        "from sklearn.metrics import confusion_matrix, ConfusionMatrixDisplay\n",
        "\n",
        "cm = confusion_matrix(y_test, y_pred)\n",
        "disp = ConfusionMatrixDisplay(confusion_matrix=cm)\n",
        "disp.plot() "
      ],
      "metadata": {
        "colab": {
          "base_uri": "https://localhost:8080/",
          "height": 490
        },
        "id": "lG-uO7nSA5Ws",
        "outputId": "cc4344aa-7f69-4306-9bf0-a2b30f639360"
      },
      "execution_count": 83,
      "outputs": [
        {
          "output_type": "execute_result",
          "data": {
            "text/plain": [
              "<sklearn.metrics._plot.confusion_matrix.ConfusionMatrixDisplay at 0x7f66d85c9df0>"
            ]
          },
          "metadata": {},
          "execution_count": 83
        },
        {
          "output_type": "display_data",
          "data": {
            "text/plain": [
              "<Figure size 640x480 with 2 Axes>"
            ],
            "image/png": "[encoded data removed]"
          },
          "metadata": {}
        }
      ]
    },
    {
      "cell_type": "code",
      "source": [
        "target_names = [\"0\", \"1\", \"2\"]"
      ],
      "metadata": {
        "id": "PKGlLu0S-X-q"
      },
      "execution_count": 84,
      "outputs": []
    },
    {
      "cell_type": "code",
      "source": [
        "from sklearn.metrics import classification_report, confusion_matrix\n",
        "print(classification_report(y_test, y_pred, target_names=target_names))"
      ],
      "metadata": {
        "colab": {
          "base_uri": "https://localhost:8080/"
        },
        "id": "vDPoX5Ed-VGy",
        "outputId": "1d53a8ff-ece2-4843-d04d-cd06d4f4b171"
      },
      "execution_count": 85,
      "outputs": [
        {
          "output_type": "stream",
          "name": "stdout",
          "text": [
            "              precision    recall  f1-score   support\n",
            "\n",
            "           0       0.70      0.61      0.66        31\n",
            "           1       0.71      0.85      0.77        34\n",
            "           2       0.69      0.64      0.67        39\n",
            "\n",
            "    accuracy                           0.70       104\n",
            "   macro avg       0.70      0.70      0.70       104\n",
            "weighted avg       0.70      0.70      0.70       104\n",
            "\n"
          ]
        }
      ]
    },
    {
      "cell_type": "markdown",
      "source": [
        "## XGBoost"
      ],
      "metadata": {
        "id": "S-dW-h879PZb"
      }
    },
    {
      "cell_type": "code",
      "source": [
        "from xgboost import XGBClassifier"
      ],
      "metadata": {
        "id": "AZplGyjOC-MT"
      },
      "execution_count": 86,
      "outputs": []
    },
    {
      "cell_type": "code",
      "source": [
        "XGBoost = XGBClassifier(tree_method='gpu_hist',max_depth=10,n_estimators=128)"
      ],
      "metadata": {
        "id": "VfxwfGyA9XcC"
      },
      "execution_count": 87,
      "outputs": []
    },
    {
      "cell_type": "code",
      "source": [
        "y_train = train[['label']]"
      ],
      "metadata": {
        "id": "95jPnhLhFksc"
      },
      "execution_count": 88,
      "outputs": []
    },
    {
      "cell_type": "code",
      "source": [
        "train_vec_1 = np.array(train[np.array(train.columns)[6:]])"
      ],
      "metadata": {
        "id": "dsEWxAUhGIjw"
      },
      "execution_count": 89,
      "outputs": []
    },
    {
      "cell_type": "code",
      "source": [
        "y_train.shape"
      ],
      "metadata": {
        "colab": {
          "base_uri": "https://localhost:8080/"
        },
        "id": "W-bHm-KSF7dB",
        "outputId": "6586d7b2-f480-4590-bcd4-d9cde3afbc85"
      },
      "execution_count": 90,
      "outputs": [
        {
          "output_type": "execute_result",
          "data": {
            "text/plain": [
              "(674, 1)"
            ]
          },
          "metadata": {},
          "execution_count": 90
        }
      ]
    },
    {
      "cell_type": "code",
      "source": [
        "train_vec_1.shape"
      ],
      "metadata": {
        "colab": {
          "base_uri": "https://localhost:8080/"
        },
        "id": "dDMKbZkvF2Mv",
        "outputId": "2606dc09-51c9-4849-d385-28ea7a0d62c7"
      },
      "execution_count": 91,
      "outputs": [
        {
          "output_type": "execute_result",
          "data": {
            "text/plain": [
              "(674, 300)"
            ]
          },
          "metadata": {},
          "execution_count": 91
        }
      ]
    },
    {
      "cell_type": "code",
      "source": [
        "XGBoost.fit(train_vec_1, y_train)"
      ],
      "metadata": {
        "colab": {
          "base_uri": "https://localhost:8080/",
          "height": 248
        },
        "id": "Ut8uh5THEAJd",
        "outputId": "d56e1d3f-adb6-4dd8-fdd0-3e6dffb19b09"
      },
      "execution_count": 92,
      "outputs": [
        {
          "output_type": "execute_result",
          "data": {
            "text/plain": [
              "XGBClassifier(base_score=None, booster=None, callbacks=None,\n",
              "              colsample_bylevel=None, colsample_bynode=None,\n",
              "              colsample_bytree=None, early_stopping_rounds=None,\n",
              "              enable_categorical=False, eval_metric=None, feature_types=None,\n",
              "              gamma=None, gpu_id=None, grow_policy=None, importance_type=None,\n",
              "              interaction_constraints=None, learning_rate=None, max_bin=None,\n",
              "              max_cat_threshold=None, max_cat_to_onehot=None,\n",
              "              max_delta_step=None, max_depth=10, max_leaves=None,\n",
              "              min_child_weight=None, missing=nan, monotone_constraints=None,\n",
              "              n_estimators=128, n_jobs=None, num_parallel_tree=None,\n",
              "              objective='multi:softprob', predictor=None, ...)"
            ],
            "text/html": [
              "<style>#sk-container-id-3 {color: black;background-color: white;}#sk-container-id-3 pre{padding: 0;}#sk-container-id-3 div.sk-toggleable {background-color: white;}#sk-container-id-3 label.sk-toggleable__label {cursor: pointer;display: block;width: 100%;margin-bottom: 0;padding: 0.3em;box-sizing: border-box;text-align: center;}#sk-container-id-3 label.sk-toggleable__label-arrow:before {content: \"▸\";float: left;margin-right: 0.25em;color: #696969;}#sk-container-id-3 label.sk-toggleable__label-arrow:hover:before {color: black;}#sk-container-id-3 div.sk-estimator:hover label.sk-toggleable__label-arrow:before {color: black;}#sk-container-id-3 div.sk-toggleable__content {max-height: 0;max-width: 0;overflow: hidden;text-align: left;background-color: #f0f8ff;}#sk-container-id-3 div.sk-toggleable__content pre {margin: 0.2em;color: black;border-radius: 0.25em;background-color: #f0f8ff;}#sk-container-id-3 input.sk-toggleable__control:checked~div.sk-toggleable__content {max-height: 200px;max-width: 100%;overflow: auto;}#sk-container-id-3 input.sk-toggleable__control:checked~label.sk-toggleable__label-arrow:before {content: \"▾\";}#sk-container-id-3 div.sk-estimator input.sk-toggleable__control:checked~label.sk-toggleable__label {background-color: #d4ebff;}#sk-container-id-3 div.sk-label input.sk-toggleable__control:checked~label.sk-toggleable__label {background-color: #d4ebff;}#sk-container-id-3 input.sk-hidden--visually {border: 0;clip: rect(1px 1px 1px 1px);clip: rect(1px, 1px, 1px, 1px);height: 1px;margin: -1px;overflow: hidden;padding: 0;position: absolute;width: 1px;}#sk-container-id-3 div.sk-estimator {font-family: monospace;background-color: #f0f8ff;border: 1px dotted black;border-radius: 0.25em;box-sizing: border-box;margin-bottom: 0.5em;}#sk-container-id-3 div.sk-estimator:hover {background-color: #d4ebff;}#sk-container-id-3 div.sk-parallel-item::after {content: \"\";width: 100%;border-bottom: 1px solid gray;flex-grow: 1;}#sk-container-id-3 div.sk-label:hover label.sk-toggleable__label {background-color: #d4ebff;}#sk-container-id-3 div.sk-serial::before {content: \"\";position: absolute;border-left: 1px solid gray;box-sizing: border-box;top: 0;bottom: 0;left: 50%;z-index: 0;}#sk-container-id-3 div.sk-serial {display: flex;flex-direction: column;align-items: center;background-color: white;padding-right: 0.2em;padding-left: 0.2em;position: relative;}#sk-container-id-3 div.sk-item {position: relative;z-index: 1;}#sk-container-id-3 div.sk-parallel {display: flex;align-items: stretch;justify-content: center;background-color: white;position: relative;}#sk-container-id-3 div.sk-item::before, #sk-container-id-3 div.sk-parallel-item::before {content: \"\";position: absolute;border-left: 1px solid gray;box-sizing: border-box;top: 0;bottom: 0;left: 50%;z-index: -1;}#sk-container-id-3 div.sk-parallel-item {display: flex;flex-direction: column;z-index: 1;position: relative;background-color: white;}#sk-container-id-3 div.sk-parallel-item:first-child::after {align-self: flex-end;width: 50%;}#sk-container-id-3 div.sk-parallel-item:last-child::after {align-self: flex-start;width: 50%;}#sk-container-id-3 div.sk-parallel-item:only-child::after {width: 0;}#sk-container-id-3 div.sk-dashed-wrapped {border: 1px dashed gray;margin: 0 0.4em 0.5em 0.4em;box-sizing: border-box;padding-bottom: 0.4em;background-color: white;}#sk-container-id-3 div.sk-label label {font-family: monospace;font-weight: bold;display: inline-block;line-height: 1.2em;}#sk-container-id-3 div.sk-label-container {text-align: center;}#sk-container-id-3 div.sk-container {/* jupyter's `normalize.less` sets `[hidden] { display: none; }` but bootstrap.min.css set `[hidden] { display: none !important; }` so we also need the `!important` here to be able to override the default hidden behavior on the sphinx rendered scikit-learn.org. See: https://github.com/scikit-learn/scikit-learn/issues/21755 */display: inline-block !important;position: relative;}#sk-container-id-3 div.sk-text-repr-fallback {display: none;}</style><div id=\"sk-container-id-3\" class=\"sk-top-container\"><div class=\"sk-text-repr-fallback\"><pre>XGBClassifier(base_score=None, booster=None, callbacks=None,\n",
              "              colsample_bylevel=None, colsample_bynode=None,\n",
              "              colsample_bytree=None, early_stopping_rounds=None,\n",
              "              enable_categorical=False, eval_metric=None, feature_types=None,\n",
              "              gamma=None, gpu_id=None, grow_policy=None, importance_type=None,\n",
              "              interaction_constraints=None, learning_rate=None, max_bin=None,\n",
              "              max_cat_threshold=None, max_cat_to_onehot=None,\n",
              "              max_delta_step=None, max_depth=10, max_leaves=None,\n",
              "              min_child_weight=None, missing=nan, monotone_constraints=None,\n",
              "              n_estimators=128, n_jobs=None, num_parallel_tree=None,\n",
              "              objective=&#x27;multi:softprob&#x27;, predictor=None, ...)</pre><b>In a Jupyter environment, please rerun this cell to show the HTML representation or trust the notebook. <br />On GitHub, the HTML representation is unable to render, please try loading this page with nbviewer.org.</b></div><div class=\"sk-container\" hidden><div class=\"sk-item\"><div class=\"sk-estimator sk-toggleable\"><input class=\"sk-toggleable__control sk-hidden--visually\" id=\"sk-estimator-id-3\" type=\"checkbox\" checked><label for=\"sk-estimator-id-3\" class=\"sk-toggleable__label sk-toggleable__label-arrow\">XGBClassifier</label><div class=\"sk-toggleable__content\"><pre>XGBClassifier(base_score=None, booster=None, callbacks=None,\n",
              "              colsample_bylevel=None, colsample_bynode=None,\n",
              "              colsample_bytree=None, early_stopping_rounds=None,\n",
              "              enable_categorical=False, eval_metric=None, feature_types=None,\n",
              "              gamma=None, gpu_id=None, grow_policy=None, importance_type=None,\n",
              "              interaction_constraints=None, learning_rate=None, max_bin=None,\n",
              "              max_cat_threshold=None, max_cat_to_onehot=None,\n",
              "              max_delta_step=None, max_depth=10, max_leaves=None,\n",
              "              min_child_weight=None, missing=nan, monotone_constraints=None,\n",
              "              n_estimators=128, n_jobs=None, num_parallel_tree=None,\n",
              "              objective=&#x27;multi:softprob&#x27;, predictor=None, ...)</pre></div></div></div></div></div>"
            ]
          },
          "metadata": {},
          "execution_count": 92
        }
      ]
    },
    {
      "cell_type": "code",
      "source": [
        "test_vec_1 = np.array(test[np.array(test.columns)[6:]])"
      ],
      "metadata": {
        "id": "9TQO8hPhGoWr"
      },
      "execution_count": 93,
      "outputs": []
    },
    {
      "cell_type": "code",
      "source": [
        "XGBoost_test = test_vec_1"
      ],
      "metadata": {
        "id": "1ENsk9ZtEmhi"
      },
      "execution_count": 94,
      "outputs": []
    },
    {
      "cell_type": "code",
      "source": [
        "y_proba_cb = XGBoost.predict_proba(XGBoost_test)\n",
        "y_pred = np.argmax(y_proba_cb, axis=1)"
      ],
      "metadata": {
        "id": "RsfGBiSaEdoj"
      },
      "execution_count": 95,
      "outputs": []
    },
    {
      "cell_type": "code",
      "source": [
        "test_y = tf.keras.utils.to_categorical(\n",
        "    test['label'], num_classes=3)"
      ],
      "metadata": {
        "id": "Sh0zA4MyE5vw"
      },
      "execution_count": 96,
      "outputs": []
    },
    {
      "cell_type": "code",
      "source": [
        "print('F1:',f1_score(y_pred, y_test, average='macro'))\n",
        "scores_F1['XGBoost'] = f1_score(y_pred, y_test, average='macro')\n",
        "print('Accuracy:',accuracy_score(y_pred, y_test))\n",
        "scores_Accuracy['XGBoost'] = accuracy_score(y_pred, y_test)\n",
        "print('MAE:',mean_absolute_error(y_proba_cb, test_y))\n",
        "scores_MAE['XGBoost'] = mean_absolute_error(y_proba_cb,test_y)"
      ],
      "metadata": {
        "colab": {
          "base_uri": "https://localhost:8080/"
        },
        "id": "6bKyvaVhE7aR",
        "outputId": "78166c72-6ae2-4bbf-968c-8c423bf6ac45"
      },
      "execution_count": 97,
      "outputs": [
        {
          "output_type": "stream",
          "name": "stdout",
          "text": [
            "F1: 0.6342310051987471\n",
            "Accuracy: 0.6346153846153846\n",
            "MAE: 0.2698784\n"
          ]
        }
      ]
    },
    {
      "cell_type": "markdown",
      "source": [
        "## Ансамбль"
      ],
      "metadata": {
        "id": "8j5daezUAWv5"
      }
    },
    {
      "cell_type": "code",
      "source": [
        "models = [\n",
        "  Baseline,\n",
        "  LightGBM,\n",
        "  BERT,\n",
        "  Catboost_fit,\n",
        "  Catboost,\n",
        "  XGBoost\n",
        "]"
      ],
      "metadata": {
        "id": "t7R_S2zjAY5q"
      },
      "execution_count": 98,
      "outputs": []
    },
    {
      "cell_type": "code",
      "source": [
        "tests = [\n",
        "  Baseline_test,\n",
        "  LightGBM_test,\n",
        "  BERT_test,\n",
        "  Catboost_fit_test,\n",
        "  Catboost_test,\n",
        "  XGBoost_test\n",
        "]"
      ],
      "metadata": {
        "id": "U-19OzAjBbLy"
      },
      "execution_count": 99,
      "outputs": []
    },
    {
      "cell_type": "code",
      "source": [
        "def ensemble_pred(models,tests):\n",
        "  predictions = []\n",
        "  for i in range(len(models)):\n",
        "    if i == 2:#BERT\n",
        "      y_proba_cb = models[i].predict(tests[i])\n",
        "      predictions.append(np.argmax(y_proba_cb, axis=1))\n",
        "    elif i == 3 or i == 4:#CatBoost\n",
        "      pred_1 = models[i].predict(tests[i])\n",
        "      pred = []\n",
        "      for k in pred_1:\n",
        "        pred.append(k[0])\n",
        "      predictions.append(pred)\n",
        "    else:\n",
        "      pred = models[i].predict(tests[i])\n",
        "      predictions.append(pred)\n",
        "  predictions = np.array(predictions).T\n",
        "  pred_final = []\n",
        "  for pred in predictions:\n",
        "    pred_final.append(np.bincount(pred.astype('int64')).argmax())\n",
        "  return pred_final"
      ],
      "metadata": {
        "id": "RUXgMVxSA57u"
      },
      "execution_count": 133,
      "outputs": []
    },
    {
      "cell_type": "code",
      "source": [
        "ans = ensemble_pred(models,tests)"
      ],
      "metadata": {
        "colab": {
          "base_uri": "https://localhost:8080/"
        },
        "id": "QvYuETfsB7Y6",
        "outputId": "212a7e2f-db87-4e90-dcad-ce3ad13f9b02"
      },
      "execution_count": 131,
      "outputs": [
        {
          "output_type": "stream",
          "name": "stdout",
          "text": [
            "4/4 [==============================] - 2s 603ms/step\n"
          ]
        }
      ]
    },
    {
      "cell_type": "code",
      "source": [
        "print('F1:',f1_score(ans, y_test, average='macro'))\n",
        "scores_F1['Ensemble'] = f1_score(ans, y_test, average='macro')\n",
        "print('Accuracy:',accuracy_score(ans, y_test))\n",
        "scores_Accuracy['Ensemble'] = accuracy_score(ans, y_test)"
      ],
      "metadata": {
        "colab": {
          "base_uri": "https://localhost:8080/"
        },
        "id": "p2bK0EIAFsLR",
        "outputId": "f5edb040-a8fa-4688-ea04-7cd858be964f"
      },
      "execution_count": 132,
      "outputs": [
        {
          "output_type": "stream",
          "name": "stdout",
          "text": [
            "F1: 0.7157829335687774\n",
            "Accuracy: 0.7211538461538461\n"
          ]
        }
      ]
    },
    {
      "cell_type": "code",
      "source": [
        "cm = confusion_matrix(y_test, ans)\n",
        "disp = ConfusionMatrixDisplay(confusion_matrix=cm)\n",
        "disp.plot() "
      ],
      "metadata": {
        "colab": {
          "base_uri": "https://localhost:8080/",
          "height": 500
        },
        "id": "BLW8ivIIJw0k",
        "outputId": "e9d91f26-22f3-4d5b-ab71-a72a481b9e87"
      },
      "execution_count": 134,
      "outputs": [
        {
          "output_type": "execute_result",
          "data": {
            "text/plain": [
              "<sklearn.metrics._plot.confusion_matrix.ConfusionMatrixDisplay at 0x7f66fdbae550>"
            ]
          },
          "metadata": {},
          "execution_count": 134
        },
        {
          "output_type": "display_data",
          "data": {
            "text/plain": [
              "<Figure size 640x480 with 2 Axes>"
            ],
            "image/png": "[encoded data removed]"
          },
          "metadata": {}
        }
      ]
    },
    {
      "cell_type": "code",
      "source": [
        "from sklearn.metrics import classification_report, confusion_matrix\n",
        "print(classification_report(y_test, ans, target_names=target_names))"
      ],
      "metadata": {
        "colab": {
          "base_uri": "https://localhost:8080/"
        },
        "id": "XrZniSntJ5c_",
        "outputId": "8c1ff10a-f46b-44d6-d6fd-f89902053f49"
      },
      "execution_count": 135,
      "outputs": [
        {
          "output_type": "stream",
          "name": "stdout",
          "text": [
            "              precision    recall  f1-score   support\n",
            "\n",
            "           0       0.70      0.61      0.66        31\n",
            "           1       0.71      0.88      0.79        34\n",
            "           2       0.74      0.67      0.70        39\n",
            "\n",
            "    accuracy                           0.72       104\n",
            "   macro avg       0.72      0.72      0.72       104\n",
            "weighted avg       0.72      0.72      0.72       104\n",
            "\n"
          ]
        }
      ]
    },
    {
      "cell_type": "markdown",
      "source": [
        "#Результаты"
      ],
      "metadata": {
        "id": "_Xknl_1oW9aq"
      }
    },
    {
      "cell_type": "code",
      "source": [
        "fig, ax = plt.subplots(figsize =(20, 10))\n",
        "for i in scores_F1.keys():\n",
        "  ax.bar(i,scores_F1[i], label=i)\n",
        "  plt.text(i,scores_F1[i],round(scores_F1[i],3), ha = 'center')\n",
        "ax.legend(loc='lower left')\n",
        "plt.title(\"Comparison of F1 models\")\n",
        "plt.show()"
      ],
      "metadata": {
        "colab": {
          "base_uri": "https://localhost:8080/",
          "height": 354
        },
        "id": "oXrjMSQZUCbP",
        "outputId": "6dea0408-fcdd-4d6b-d5fb-b9789f431a2d"
      },
      "execution_count": 128,
      "outputs": [
        {
          "output_type": "display_data",
          "data": {
            "text/plain": [
              "<Figure size 2000x1000 with 1 Axes>"
            ],
            "image/png": "[encoded data removed]"
          },
          "metadata": {}
        }
      ]
    },
    {
      "cell_type": "code",
      "source": [
        "fig, ax = plt.subplots(figsize =(20, 10))\n",
        "for i in scores_Accuracy.keys():\n",
        "  ax.bar(i,scores_Accuracy[i], label=i)\n",
        "  plt.text(i,scores_Accuracy[i],round(scores_Accuracy[i],3), ha = 'center')\n",
        "ax.legend(loc='lower left')\n",
        "plt.title(\"Comparison of Accuracy models\")\n",
        "plt.show()"
      ],
      "metadata": {
        "colab": {
          "base_uri": "https://localhost:8080/",
          "height": 354
        },
        "id": "4TFSIo62ynIN",
        "outputId": "4b9a759d-b0a7-40c6-c87f-09c23cdc4c20"
      },
      "execution_count": 129,
      "outputs": [
        {
          "output_type": "display_data",
          "data": {
            "text/plain": [
              "<Figure size 2000x1000 with 1 Axes>"
            ],
            "image/png": "[encoded data removed]"
          },
          "metadata": {}
        }
      ]
    },
    {
      "cell_type": "code",
      "source": [
        "fig, ax = plt.subplots(figsize =(18, 10))\n",
        "for i in scores_MAE.keys():\n",
        "  ax.bar(i,scores_MAE[i], label=i)\n",
        "  plt.text(i,scores_MAE[i],round(scores_MAE[i],3), ha = 'center')\n",
        "ax.legend(loc='lower left')\n",
        "plt.title(\"Comparison of MAE models\")\n",
        "plt.show()"
      ],
      "metadata": {
        "colab": {
          "base_uri": "https://localhost:8080/",
          "height": 386
        },
        "id": "PqYKVRhCysYQ",
        "outputId": "01982b14-7a7c-4cfc-ecfa-8161fab9fcfc"
      },
      "execution_count": 125,
      "outputs": [
        {
          "output_type": "display_data",
          "data": {
            "text/plain": [
              "<Figure size 1800x1000 with 1 Axes>"
            ],
            "image/png": "[encoded data removed]"
          },
          "metadata": {}
        }
      ]
    }
  ]
}